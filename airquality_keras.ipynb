{
  "nbformat": 4,
  "nbformat_minor": 0,
  "metadata": {
    "colab": {
      "name": "airquality_keras.ipynb",
      "provenance": [],
      "collapsed_sections": []
    },
    "kernelspec": {
      "name": "python3",
      "display_name": "Python 3"
    }
  },
  "cells": [
    {
      "cell_type": "code",
      "metadata": {
        "id": "60KhEEcmKe6c",
        "outputId": "14fde8b2-50d6-4936-b0df-916605121400",
        "colab": {
          "base_uri": "https://localhost:8080/"
        }
      },
      "source": [
        "!pip install scikit-plot"
      ],
      "execution_count": 3,
      "outputs": [
        {
          "output_type": "stream",
          "text": [
            "Collecting scikit-plot\n",
            "  Downloading https://files.pythonhosted.org/packages/7c/47/32520e259340c140a4ad27c1b97050dd3254fdc517b1d59974d47037510e/scikit_plot-0.3.7-py3-none-any.whl\n",
            "Requirement already satisfied: scikit-learn>=0.18 in /usr/local/lib/python3.6/dist-packages (from scikit-plot) (0.22.2.post1)\n",
            "Requirement already satisfied: scipy>=0.9 in /usr/local/lib/python3.6/dist-packages (from scikit-plot) (1.4.1)\n",
            "Requirement already satisfied: matplotlib>=1.4.0 in /usr/local/lib/python3.6/dist-packages (from scikit-plot) (3.2.2)\n",
            "Requirement already satisfied: joblib>=0.10 in /usr/local/lib/python3.6/dist-packages (from scikit-plot) (0.17.0)\n",
            "Requirement already satisfied: numpy>=1.11.0 in /usr/local/lib/python3.6/dist-packages (from scikit-learn>=0.18->scikit-plot) (1.18.5)\n",
            "Requirement already satisfied: python-dateutil>=2.1 in /usr/local/lib/python3.6/dist-packages (from matplotlib>=1.4.0->scikit-plot) (2.8.1)\n",
            "Requirement already satisfied: cycler>=0.10 in /usr/local/lib/python3.6/dist-packages (from matplotlib>=1.4.0->scikit-plot) (0.10.0)\n",
            "Requirement already satisfied: pyparsing!=2.0.4,!=2.1.2,!=2.1.6,>=2.0.1 in /usr/local/lib/python3.6/dist-packages (from matplotlib>=1.4.0->scikit-plot) (2.4.7)\n",
            "Requirement already satisfied: kiwisolver>=1.0.1 in /usr/local/lib/python3.6/dist-packages (from matplotlib>=1.4.0->scikit-plot) (1.3.1)\n",
            "Requirement already satisfied: six>=1.5 in /usr/local/lib/python3.6/dist-packages (from python-dateutil>=2.1->matplotlib>=1.4.0->scikit-plot) (1.15.0)\n",
            "Installing collected packages: scikit-plot\n",
            "Successfully installed scikit-plot-0.3.7\n"
          ],
          "name": "stdout"
        }
      ]
    },
    {
      "cell_type": "code",
      "metadata": {
        "id": "knNDNZgzPZbW",
        "outputId": "fbcae634-1fe3-41d4-9bf6-26948c5f4443",
        "colab": {
          "base_uri": "https://localhost:8080/"
        }
      },
      "source": [
        "!pip install pandas"
      ],
      "execution_count": 4,
      "outputs": [
        {
          "output_type": "stream",
          "text": [
            "Requirement already satisfied: pandas in /usr/local/lib/python3.6/dist-packages (1.1.4)\n",
            "Requirement already satisfied: numpy>=1.15.4 in /usr/local/lib/python3.6/dist-packages (from pandas) (1.18.5)\n",
            "Requirement already satisfied: pytz>=2017.2 in /usr/local/lib/python3.6/dist-packages (from pandas) (2018.9)\n",
            "Requirement already satisfied: python-dateutil>=2.7.3 in /usr/local/lib/python3.6/dist-packages (from pandas) (2.8.1)\n",
            "Requirement already satisfied: six>=1.5 in /usr/local/lib/python3.6/dist-packages (from python-dateutil>=2.7.3->pandas) (1.15.0)\n"
          ],
          "name": "stdout"
        }
      ]
    },
    {
      "cell_type": "code",
      "metadata": {
        "id": "7DMPCPo8N8aa"
      },
      "source": [
        "%matplotlib inline\n",
        "\n",
        "import numpy as np\n",
        "import pandas as pd\n",
        "import matplotlib.pyplot as plt\n",
        "\n",
        "from collections import defaultdict\n",
        "from sklearn.metrics import confusion_matrix\n",
        "import scikitplot as skplt"
      ],
      "execution_count": 5,
      "outputs": []
    },
    {
      "cell_type": "code",
      "metadata": {
        "id": "vZqJC5PGKi2x",
        "outputId": "617ac941-fb0b-4a97-b02a-9959e6da6ff3",
        "colab": {
          "resources": {
            "http://localhost:8080/nbextensions/google.colab/files.js": {
              "data": "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",
              "ok": true,
              "headers": [
                [
                  "content-type",
                  "application/javascript"
                ]
              ],
              "status": 200,
              "status_text": ""
            }
          },
          "base_uri": "https://localhost:8080/",
          "height": 254
        }
      },
      "source": [
        "from google.colab import files\n",
        "uploaded = files.upload()\n",
        "df = uploaded\n",
        "df = pd.read_csv('air_dataset.csv')\n",
        "df.drop(columns='Unnamed: 0',inplace=True)\n",
        "class_name = 'weekend'\n",
        "df.head()"
      ],
      "execution_count": 6,
      "outputs": [
        {
          "output_type": "display_data",
          "data": {
            "text/html": [
              "\n",
              "     <input type=\"file\" id=\"files-c4e2e0ae-bd94-42f3-8d58-60126092b7ff\" name=\"files[]\" multiple disabled\n",
              "        style=\"border:none\" />\n",
              "     <output id=\"result-c4e2e0ae-bd94-42f3-8d58-60126092b7ff\">\n",
              "      Upload widget is only available when the cell has been executed in the\n",
              "      current browser session. Please rerun this cell to enable.\n",
              "      </output>\n",
              "      <script src=\"/nbextensions/google.colab/files.js\"></script> "
            ],
            "text/plain": [
              "<IPython.core.display.HTML object>"
            ]
          },
          "metadata": {
            "tags": []
          }
        },
        {
          "output_type": "stream",
          "text": [
            "Saving air_dataset.csv to air_dataset.csv\n"
          ],
          "name": "stdout"
        },
        {
          "output_type": "execute_result",
          "data": {
            "text/html": [
              "<div>\n",
              "<style scoped>\n",
              "    .dataframe tbody tr th:only-of-type {\n",
              "        vertical-align: middle;\n",
              "    }\n",
              "\n",
              "    .dataframe tbody tr th {\n",
              "        vertical-align: top;\n",
              "    }\n",
              "\n",
              "    .dataframe thead th {\n",
              "        text-align: right;\n",
              "    }\n",
              "</style>\n",
              "<table border=\"1\" class=\"dataframe\">\n",
              "  <thead>\n",
              "    <tr style=\"text-align: right;\">\n",
              "      <th></th>\n",
              "      <th>CO(GT)</th>\n",
              "      <th>C6H6(GT)</th>\n",
              "      <th>NOx(GT)</th>\n",
              "      <th>PT08.S3(NOx)</th>\n",
              "      <th>NO2(GT)</th>\n",
              "      <th>T</th>\n",
              "      <th>RH</th>\n",
              "      <th>weekend</th>\n",
              "      <th>PT08_feat</th>\n",
              "    </tr>\n",
              "  </thead>\n",
              "  <tbody>\n",
              "    <tr>\n",
              "      <th>0</th>\n",
              "      <td>1.5</td>\n",
              "      <td>11.3</td>\n",
              "      <td>180.0</td>\n",
              "      <td>831.0</td>\n",
              "      <td>111.0</td>\n",
              "      <td>27.4</td>\n",
              "      <td>31.5</td>\n",
              "      <td>0</td>\n",
              "      <td>1186.50</td>\n",
              "    </tr>\n",
              "    <tr>\n",
              "      <th>1</th>\n",
              "      <td>2.0</td>\n",
              "      <td>13.0</td>\n",
              "      <td>310.0</td>\n",
              "      <td>971.0</td>\n",
              "      <td>129.0</td>\n",
              "      <td>35.0</td>\n",
              "      <td>17.3</td>\n",
              "      <td>0</td>\n",
              "      <td>1148.75</td>\n",
              "    </tr>\n",
              "    <tr>\n",
              "      <th>2</th>\n",
              "      <td>1.4</td>\n",
              "      <td>7.5</td>\n",
              "      <td>180.0</td>\n",
              "      <td>1114.0</td>\n",
              "      <td>119.0</td>\n",
              "      <td>24.9</td>\n",
              "      <td>28.3</td>\n",
              "      <td>0</td>\n",
              "      <td>1024.50</td>\n",
              "    </tr>\n",
              "    <tr>\n",
              "      <th>3</th>\n",
              "      <td>1.2</td>\n",
              "      <td>7.4</td>\n",
              "      <td>141.0</td>\n",
              "      <td>1088.0</td>\n",
              "      <td>98.0</td>\n",
              "      <td>23.2</td>\n",
              "      <td>30.5</td>\n",
              "      <td>0</td>\n",
              "      <td>1015.00</td>\n",
              "    </tr>\n",
              "    <tr>\n",
              "      <th>4</th>\n",
              "      <td>0.6</td>\n",
              "      <td>3.8</td>\n",
              "      <td>105.0</td>\n",
              "      <td>1254.0</td>\n",
              "      <td>89.0</td>\n",
              "      <td>22.3</td>\n",
              "      <td>33.6</td>\n",
              "      <td>0</td>\n",
              "      <td>883.25</td>\n",
              "    </tr>\n",
              "  </tbody>\n",
              "</table>\n",
              "</div>"
            ],
            "text/plain": [
              "   CO(GT)  C6H6(GT)  NOx(GT)  PT08.S3(NOx)  ...     T    RH  weekend  PT08_feat\n",
              "0     1.5      11.3    180.0         831.0  ...  27.4  31.5        0    1186.50\n",
              "1     2.0      13.0    310.0         971.0  ...  35.0  17.3        0    1148.75\n",
              "2     1.4       7.5    180.0        1114.0  ...  24.9  28.3        0    1024.50\n",
              "3     1.2       7.4    141.0        1088.0  ...  23.2  30.5        0    1015.00\n",
              "4     0.6       3.8    105.0        1254.0  ...  22.3  33.6        0     883.25\n",
              "\n",
              "[5 rows x 9 columns]"
            ]
          },
          "metadata": {
            "tags": []
          },
          "execution_count": 6
        }
      ]
    },
    {
      "cell_type": "code",
      "metadata": {
        "id": "eQ0_6TpIykgh"
      },
      "source": [
        "def prepare_dataset(df, class_name):\n",
        "    df = remove_missing_values(df)\n",
        "    numeric_columns = get_numeric_columns(df)\n",
        "    rdf = df.copy(deep=True)\n",
        "    df, feature_names, class_values = one_hot_encoding(df, class_name)\n",
        "    real_feature_names = get_real_feature_names(rdf, numeric_columns, class_name)\n",
        "    rdf = rdf[real_feature_names + (class_values if isinstance(class_name, list) else [class_name])]\n",
        "    features_map = get_features_map(feature_names, real_feature_names)\n",
        "\n",
        "    return df, feature_names, class_values, numeric_columns, rdf, real_feature_names, features_map\n",
        "\n",
        "def remove_missing_values(df):\n",
        "    for column_name, nbr_missing in df.isna().sum().to_dict().items():\n",
        "        if nbr_missing > 0:\n",
        "            if column_name in df._get_numeric_data().columns:\n",
        "                mean = df[column_name].mean()\n",
        "                df[column_name].fillna(mean, inplace=True)\n",
        "            else:\n",
        "                mode = df[column_name].mode().values[0]\n",
        "                df[column_name].fillna(mode, inplace=True)\n",
        "    return df\n",
        "\n",
        "def get_numeric_columns(df):\n",
        "    numeric_columns = list(df._get_numeric_data().columns)\n",
        "    return numeric_columns\n",
        "\n",
        "def get_real_feature_names(rdf, numeric_columns, class_name):\n",
        "    real_feature_names = [c for c in rdf.columns if c in numeric_columns and c != class_name]\n",
        "    real_feature_names += [c for c in rdf.columns if c not in numeric_columns and c != class_name]\n",
        "    return real_feature_names\n",
        "\n",
        "def one_hot_encoding(df, class_name):\n",
        "    dfX = pd.get_dummies(df[[c for c in df.columns if c != class_name]], prefix_sep='=')\n",
        "    class_name_map = {v: k for k, v in enumerate(sorted(df[class_name].unique()))}\n",
        "    dfY = df[class_name].map(class_name_map)\n",
        "    df = pd.concat([dfX, dfY], axis=1)\n",
        "    df = df.reindex(dfX.index)\n",
        "    feature_names = list(dfX.columns)\n",
        "    class_values = sorted(class_name_map)\n",
        "    return df, feature_names, class_values\n",
        "\n",
        "def get_features_map(feature_names, real_feature_names):\n",
        "    features_map = defaultdict(dict)\n",
        "    i = 0\n",
        "    j = 0\n",
        "\n",
        "    while i < len(feature_names) and j < len(real_feature_names):\n",
        "        if feature_names[i] == real_feature_names[j]:\n",
        "            features_map[j][feature_names[i]] = j\n",
        "            i += 1\n",
        "            j += 1\n",
        "        elif feature_names[i].startswith(real_feature_names[j]):\n",
        "            features_map[j][feature_names[i]] = j\n",
        "            i += 1\n",
        "        else:\n",
        "            j += 1\n",
        "    return features_map"
      ],
      "execution_count": 7,
      "outputs": []
    },
    {
      "cell_type": "code",
      "metadata": {
        "id": "lQxLcC60O_nc"
      },
      "source": [
        "def report(results, n_top=3):\n",
        "    for i in range(1, n_top + 1):\n",
        "        candidates = np.flatnonzero(results['rank_test_score'] == i)\n",
        "        for candidate in candidates:\n",
        "            print(\"Model with rank: {0}\".format(i))\n",
        "            print(\"Mean validation score: {0:.3f} (std: {1:.3f})\".format(\n",
        "                  results['mean_test_score'][candidate],\n",
        "                  results['std_test_score'][candidate]))\n",
        "            print(\"Parameters: {0}\".format(results['params'][candidate]))\n",
        "            print(\"\")"
      ],
      "execution_count": 8,
      "outputs": []
    },
    {
      "cell_type": "code",
      "metadata": {
        "id": "D8fnOWpkPBdr",
        "outputId": "8729f22c-a085-4414-c32f-c9e1551fab1a",
        "colab": {
          "base_uri": "https://localhost:8080/",
          "height": 198
        }
      },
      "source": [
        "res = prepare_dataset(df, class_name)\n",
        "df.head()"
      ],
      "execution_count": 9,
      "outputs": [
        {
          "output_type": "execute_result",
          "data": {
            "text/html": [
              "<div>\n",
              "<style scoped>\n",
              "    .dataframe tbody tr th:only-of-type {\n",
              "        vertical-align: middle;\n",
              "    }\n",
              "\n",
              "    .dataframe tbody tr th {\n",
              "        vertical-align: top;\n",
              "    }\n",
              "\n",
              "    .dataframe thead th {\n",
              "        text-align: right;\n",
              "    }\n",
              "</style>\n",
              "<table border=\"1\" class=\"dataframe\">\n",
              "  <thead>\n",
              "    <tr style=\"text-align: right;\">\n",
              "      <th></th>\n",
              "      <th>CO(GT)</th>\n",
              "      <th>C6H6(GT)</th>\n",
              "      <th>NOx(GT)</th>\n",
              "      <th>PT08.S3(NOx)</th>\n",
              "      <th>NO2(GT)</th>\n",
              "      <th>T</th>\n",
              "      <th>RH</th>\n",
              "      <th>weekend</th>\n",
              "      <th>PT08_feat</th>\n",
              "    </tr>\n",
              "  </thead>\n",
              "  <tbody>\n",
              "    <tr>\n",
              "      <th>0</th>\n",
              "      <td>1.5</td>\n",
              "      <td>11.3</td>\n",
              "      <td>180.0</td>\n",
              "      <td>831.0</td>\n",
              "      <td>111.0</td>\n",
              "      <td>27.4</td>\n",
              "      <td>31.5</td>\n",
              "      <td>0</td>\n",
              "      <td>1186.50</td>\n",
              "    </tr>\n",
              "    <tr>\n",
              "      <th>1</th>\n",
              "      <td>2.0</td>\n",
              "      <td>13.0</td>\n",
              "      <td>310.0</td>\n",
              "      <td>971.0</td>\n",
              "      <td>129.0</td>\n",
              "      <td>35.0</td>\n",
              "      <td>17.3</td>\n",
              "      <td>0</td>\n",
              "      <td>1148.75</td>\n",
              "    </tr>\n",
              "    <tr>\n",
              "      <th>2</th>\n",
              "      <td>1.4</td>\n",
              "      <td>7.5</td>\n",
              "      <td>180.0</td>\n",
              "      <td>1114.0</td>\n",
              "      <td>119.0</td>\n",
              "      <td>24.9</td>\n",
              "      <td>28.3</td>\n",
              "      <td>0</td>\n",
              "      <td>1024.50</td>\n",
              "    </tr>\n",
              "    <tr>\n",
              "      <th>3</th>\n",
              "      <td>1.2</td>\n",
              "      <td>7.4</td>\n",
              "      <td>141.0</td>\n",
              "      <td>1088.0</td>\n",
              "      <td>98.0</td>\n",
              "      <td>23.2</td>\n",
              "      <td>30.5</td>\n",
              "      <td>0</td>\n",
              "      <td>1015.00</td>\n",
              "    </tr>\n",
              "    <tr>\n",
              "      <th>4</th>\n",
              "      <td>0.6</td>\n",
              "      <td>3.8</td>\n",
              "      <td>105.0</td>\n",
              "      <td>1254.0</td>\n",
              "      <td>89.0</td>\n",
              "      <td>22.3</td>\n",
              "      <td>33.6</td>\n",
              "      <td>0</td>\n",
              "      <td>883.25</td>\n",
              "    </tr>\n",
              "  </tbody>\n",
              "</table>\n",
              "</div>"
            ],
            "text/plain": [
              "   CO(GT)  C6H6(GT)  NOx(GT)  PT08.S3(NOx)  ...     T    RH  weekend  PT08_feat\n",
              "0     1.5      11.3    180.0         831.0  ...  27.4  31.5        0    1186.50\n",
              "1     2.0      13.0    310.0         971.0  ...  35.0  17.3        0    1148.75\n",
              "2     1.4       7.5    180.0        1114.0  ...  24.9  28.3        0    1024.50\n",
              "3     1.2       7.4    141.0        1088.0  ...  23.2  30.5        0    1015.00\n",
              "4     0.6       3.8    105.0        1254.0  ...  22.3  33.6        0     883.25\n",
              "\n",
              "[5 rows x 9 columns]"
            ]
          },
          "metadata": {
            "tags": []
          },
          "execution_count": 9
        }
      ]
    },
    {
      "cell_type": "code",
      "metadata": {
        "id": "3z6U79DJPC7y"
      },
      "source": [
        "from sklearn.model_selection import train_test_split, cross_val_score \n",
        "\n",
        "from sklearn.metrics import accuracy_score, f1_score, classification_report\n",
        "from sklearn.metrics import roc_curve, auc, roc_auc_score, recall_score, precision_score"
      ],
      "execution_count": 10,
      "outputs": []
    },
    {
      "cell_type": "code",
      "metadata": {
        "id": "FsqEgH65QdvY"
      },
      "source": [
        "attributes = [col for col in df.columns if col != class_name]\n",
        "X = df[attributes].values\n",
        "y = df[class_name]\n",
        "\n",
        "from sklearn.preprocessing import StandardScaler, MinMaxScaler\n",
        "scaler = StandardScaler()\n",
        "scaler.fit(X)\n",
        "X = scaler.transform(X)\n",
        "\n",
        "\n",
        "X_train, X_test, y_train, y_test = train_test_split(X, y, test_size=0.2, random_state=100, stratify=y)"
      ],
      "execution_count": 11,
      "outputs": []
    },
    {
      "cell_type": "markdown",
      "metadata": {
        "id": "3H85TORfQtJD"
      },
      "source": [
        "# Base"
      ]
    },
    {
      "cell_type": "code",
      "metadata": {
        "id": "VVh81Z_HQtvO"
      },
      "source": [
        "import tensorflow as tf\n",
        "import keras\n",
        "from keras.models import Sequential\n",
        "from keras.layers import Dense"
      ],
      "execution_count": 12,
      "outputs": []
    },
    {
      "cell_type": "code",
      "metadata": {
        "id": "dR8uz7O2Qq4N"
      },
      "source": [
        "def build_model1():\n",
        "    \n",
        "    n_feature = X_train.shape[1]\n",
        "    model = Sequential()\n",
        "    model.add(Dense(128, input_dim=n_feature, activation='relu'))\n",
        "    model.add(Dense(64, activation='relu'))\n",
        "    model.add(Dense(1, activation='sigmoid'))\n",
        "\n",
        "    model.compile(loss='binary_crossentropy', optimizer='adam', metrics=['accuracy',keras.metrics.Precision(), keras.metrics.Recall()])\n",
        "    return model"
      ],
      "execution_count": 13,
      "outputs": []
    },
    {
      "cell_type": "code",
      "metadata": {
        "id": "yTbyRr33RPZx",
        "outputId": "721cce34-4753-4e2d-e576-eabbb607493a",
        "colab": {
          "base_uri": "https://localhost:8080/"
        }
      },
      "source": [
        "model1 = build_model1()\n",
        "\n",
        "history1 = model1.fit(X_train, y_train, epochs=50, batch_size=10).history"
      ],
      "execution_count": null,
      "outputs": [
        {
          "output_type": "stream",
          "text": [
            "Epoch 1/50\n",
            "749/749 [==============================] - 1s 1ms/step - loss: 0.5426 - accuracy: 0.7210 - precision: 0.5628 - recall: 0.1293\n",
            "Epoch 2/50\n",
            "749/749 [==============================] - 1s 1ms/step - loss: 0.5231 - accuracy: 0.7315 - precision: 0.6129 - recall: 0.1767\n",
            "Epoch 3/50\n",
            "749/749 [==============================] - 1s 1ms/step - loss: 0.5068 - accuracy: 0.7361 - precision: 0.6178 - recall: 0.2135\n",
            "Epoch 4/50\n",
            "749/749 [==============================] - 1s 1ms/step - loss: 0.4965 - accuracy: 0.7424 - precision: 0.6256 - recall: 0.2572\n",
            "Epoch 5/50\n",
            "749/749 [==============================] - 1s 1ms/step - loss: 0.4877 - accuracy: 0.7476 - precision: 0.6328 - recall: 0.2893\n",
            "Epoch 6/50\n",
            "749/749 [==============================] - 1s 1ms/step - loss: 0.4808 - accuracy: 0.7536 - precision: 0.6466 - recall: 0.3140\n",
            "Epoch 7/50\n",
            "749/749 [==============================] - 1s 1ms/step - loss: 0.4742 - accuracy: 0.7548 - precision: 0.6468 - recall: 0.3228\n",
            "Epoch 8/50\n",
            "749/749 [==============================] - 1s 1ms/step - loss: 0.4686 - accuracy: 0.7579 - precision: 0.6435 - recall: 0.3526\n",
            "Epoch 9/50\n",
            "749/749 [==============================] - 1s 1ms/step - loss: 0.4636 - accuracy: 0.7617 - precision: 0.6535 - recall: 0.3623\n",
            "Epoch 10/50\n",
            "749/749 [==============================] - 1s 1ms/step - loss: 0.4590 - accuracy: 0.7627 - precision: 0.6463 - recall: 0.3842\n",
            "Epoch 11/50\n",
            "749/749 [==============================] - 1s 1ms/step - loss: 0.4525 - accuracy: 0.7709 - precision: 0.6682 - recall: 0.4019\n",
            "Epoch 12/50\n",
            "749/749 [==============================] - 1s 1ms/step - loss: 0.4503 - accuracy: 0.7738 - precision: 0.6746 - recall: 0.4107\n",
            "Epoch 13/50\n",
            "749/749 [==============================] - 1s 1ms/step - loss: 0.4488 - accuracy: 0.7715 - precision: 0.6620 - recall: 0.4181\n",
            "Epoch 14/50\n",
            "749/749 [==============================] - 1s 1ms/step - loss: 0.4463 - accuracy: 0.7738 - precision: 0.6696 - recall: 0.4195\n",
            "Epoch 15/50\n",
            "749/749 [==============================] - 1s 1ms/step - loss: 0.4414 - accuracy: 0.7774 - precision: 0.6719 - recall: 0.4400\n",
            "Epoch 16/50\n",
            "749/749 [==============================] - 1s 1ms/step - loss: 0.4345 - accuracy: 0.7838 - precision: 0.6868 - recall: 0.4549\n",
            "Epoch 17/50\n",
            "749/749 [==============================] - 1s 1ms/step - loss: 0.4325 - accuracy: 0.7808 - precision: 0.6742 - recall: 0.4581\n",
            "Epoch 18/50\n",
            "749/749 [==============================] - 1s 1ms/step - loss: 0.4268 - accuracy: 0.7893 - precision: 0.6942 - recall: 0.4763\n",
            "Epoch 19/50\n",
            "749/749 [==============================] - 1s 1ms/step - loss: 0.4283 - accuracy: 0.7888 - precision: 0.6890 - recall: 0.4823\n",
            "Epoch 20/50\n",
            "749/749 [==============================] - 1s 1ms/step - loss: 0.4228 - accuracy: 0.7941 - precision: 0.6991 - recall: 0.4972\n",
            "Epoch 21/50\n",
            "749/749 [==============================] - 1s 1ms/step - loss: 0.4189 - accuracy: 0.7953 - precision: 0.7004 - recall: 0.5023\n",
            "Epoch 22/50\n",
            "749/749 [==============================] - 1s 1ms/step - loss: 0.4153 - accuracy: 0.7939 - precision: 0.6962 - recall: 0.5009\n",
            "Epoch 23/50\n",
            "749/749 [==============================] - 1s 1ms/step - loss: 0.4152 - accuracy: 0.8005 - precision: 0.7096 - recall: 0.5172\n",
            "Epoch 24/50\n",
            "749/749 [==============================] - 1s 1ms/step - loss: 0.4091 - accuracy: 0.8013 - precision: 0.7073 - recall: 0.5260\n",
            "Epoch 25/50\n",
            "749/749 [==============================] - 1s 1ms/step - loss: 0.4070 - accuracy: 0.8012 - precision: 0.7021 - recall: 0.5349\n",
            "Epoch 26/50\n",
            "749/749 [==============================] - 1s 1ms/step - loss: 0.4047 - accuracy: 0.8023 - precision: 0.7104 - recall: 0.5260\n",
            "Epoch 27/50\n",
            "749/749 [==============================] - 1s 1ms/step - loss: 0.3985 - accuracy: 0.8057 - precision: 0.7101 - recall: 0.5470\n",
            "Epoch 28/50\n",
            "749/749 [==============================] - 1s 1ms/step - loss: 0.3974 - accuracy: 0.8088 - precision: 0.7141 - recall: 0.5577\n",
            "Epoch 29/50\n",
            "749/749 [==============================] - 1s 1ms/step - loss: 0.3943 - accuracy: 0.8118 - precision: 0.7274 - recall: 0.5512\n",
            "Epoch 30/50\n",
            "749/749 [==============================] - 1s 1ms/step - loss: 0.3917 - accuracy: 0.8086 - precision: 0.7098 - recall: 0.5642\n",
            "Epoch 31/50\n",
            "749/749 [==============================] - 1s 1ms/step - loss: 0.3893 - accuracy: 0.8100 - precision: 0.7151 - recall: 0.5628\n",
            "Epoch 32/50\n",
            "749/749 [==============================] - 1s 1ms/step - loss: 0.3854 - accuracy: 0.8160 - precision: 0.7259 - recall: 0.5777\n",
            "Epoch 33/50\n",
            "749/749 [==============================] - 1s 1ms/step - loss: 0.3851 - accuracy: 0.8147 - precision: 0.7224 - recall: 0.5763\n",
            "Epoch 34/50\n",
            "749/749 [==============================] - 1s 1ms/step - loss: 0.3819 - accuracy: 0.8147 - precision: 0.7186 - recall: 0.5833\n",
            "Epoch 35/50\n",
            "749/749 [==============================] - 1s 1ms/step - loss: 0.3806 - accuracy: 0.8175 - precision: 0.7248 - recall: 0.5879\n",
            "Epoch 36/50\n",
            "749/749 [==============================] - 1s 1ms/step - loss: 0.3761 - accuracy: 0.8208 - precision: 0.7300 - recall: 0.5972\n",
            "Epoch 37/50\n",
            "749/749 [==============================] - 1s 1ms/step - loss: 0.3729 - accuracy: 0.8212 - precision: 0.7281 - recall: 0.6028\n",
            "Epoch 38/50\n",
            "749/749 [==============================] - 1s 1ms/step - loss: 0.3709 - accuracy: 0.8248 - precision: 0.7396 - recall: 0.6023\n",
            "Epoch 39/50\n",
            "749/749 [==============================] - 1s 1ms/step - loss: 0.3685 - accuracy: 0.8281 - precision: 0.7450 - recall: 0.6102\n",
            "Epoch 40/50\n",
            "749/749 [==============================] - 1s 1ms/step - loss: 0.3662 - accuracy: 0.8254 - precision: 0.7338 - recall: 0.6153\n",
            "Epoch 41/50\n",
            "749/749 [==============================] - 1s 1ms/step - loss: 0.3656 - accuracy: 0.8287 - precision: 0.7425 - recall: 0.6181\n",
            "Epoch 42/50\n",
            "749/749 [==============================] - 1s 1ms/step - loss: 0.3610 - accuracy: 0.8298 - precision: 0.7455 - recall: 0.6186\n",
            "Epoch 43/50\n",
            "749/749 [==============================] - 1s 1ms/step - loss: 0.3603 - accuracy: 0.8333 - precision: 0.7464 - recall: 0.6353\n",
            "Epoch 44/50\n",
            "749/749 [==============================] - 1s 1ms/step - loss: 0.3558 - accuracy: 0.8321 - precision: 0.7436 - recall: 0.6340\n",
            "Epoch 45/50\n",
            "749/749 [==============================] - 1s 1ms/step - loss: 0.3571 - accuracy: 0.8307 - precision: 0.7449 - recall: 0.6247\n",
            "Epoch 46/50\n",
            "749/749 [==============================] - 1s 1ms/step - loss: 0.3539 - accuracy: 0.8359 - precision: 0.7527 - recall: 0.6386\n",
            "Epoch 47/50\n",
            "749/749 [==============================] - 1s 1ms/step - loss: 0.3523 - accuracy: 0.8358 - precision: 0.7537 - recall: 0.6363\n",
            "Epoch 48/50\n",
            "749/749 [==============================] - 1s 1ms/step - loss: 0.3525 - accuracy: 0.8358 - precision: 0.7543 - recall: 0.6353\n",
            "Epoch 49/50\n",
            "749/749 [==============================] - 1s 1ms/step - loss: 0.3473 - accuracy: 0.8359 - precision: 0.7497 - recall: 0.6437\n",
            "Epoch 50/50\n",
            "749/749 [==============================] - 1s 1ms/step - loss: 0.3493 - accuracy: 0.8374 - precision: 0.7567 - recall: 0.6395\n"
          ],
          "name": "stdout"
        }
      ]
    },
    {
      "cell_type": "code",
      "metadata": {
        "id": "W7T3l_1xRSQL",
        "outputId": "3b0e32c0-e8b0-476a-e8f6-931951742cd8",
        "colab": {
          "base_uri": "https://localhost:8080/"
        }
      },
      "source": [
        "model2 = build_model1()\n",
        "\n",
        "history2 = model2.fit(X_train, y_train, epochs=50, batch_size=50).history"
      ],
      "execution_count": null,
      "outputs": [
        {
          "output_type": "stream",
          "text": [
            "Epoch 1/50\n",
            "150/150 [==============================] - 0s 1ms/step - loss: 0.5473 - accuracy: 0.7230\n",
            "Epoch 2/50\n",
            "150/150 [==============================] - 0s 1ms/step - loss: 0.5302 - accuracy: 0.7263\n",
            "Epoch 3/50\n",
            "150/150 [==============================] - 0s 1ms/step - loss: 0.5219 - accuracy: 0.7284\n",
            "Epoch 4/50\n",
            "150/150 [==============================] - 0s 1ms/step - loss: 0.5140 - accuracy: 0.7320\n",
            "Epoch 5/50\n",
            "150/150 [==============================] - 0s 1ms/step - loss: 0.5040 - accuracy: 0.7377\n",
            "Epoch 6/50\n",
            "150/150 [==============================] - 0s 2ms/step - loss: 0.4991 - accuracy: 0.7397\n",
            "Epoch 7/50\n",
            "150/150 [==============================] - 0s 1ms/step - loss: 0.4903 - accuracy: 0.7439\n",
            "Epoch 8/50\n",
            "150/150 [==============================] - 0s 1ms/step - loss: 0.4836 - accuracy: 0.7491\n",
            "Epoch 9/50\n",
            "150/150 [==============================] - 0s 1ms/step - loss: 0.4788 - accuracy: 0.7524\n",
            "Epoch 10/50\n",
            "150/150 [==============================] - 0s 1ms/step - loss: 0.4725 - accuracy: 0.7606\n",
            "Epoch 11/50\n",
            "150/150 [==============================] - 0s 1ms/step - loss: 0.4714 - accuracy: 0.7572\n",
            "Epoch 12/50\n",
            "150/150 [==============================] - 0s 1ms/step - loss: 0.4660 - accuracy: 0.7587\n",
            "Epoch 13/50\n",
            "150/150 [==============================] - 0s 1ms/step - loss: 0.4621 - accuracy: 0.7637\n",
            "Epoch 14/50\n",
            "150/150 [==============================] - 0s 1ms/step - loss: 0.4582 - accuracy: 0.7661\n",
            "Epoch 15/50\n",
            "150/150 [==============================] - 0s 1ms/step - loss: 0.4535 - accuracy: 0.7717\n",
            "Epoch 16/50\n",
            "150/150 [==============================] - 0s 1ms/step - loss: 0.4512 - accuracy: 0.7725\n",
            "Epoch 17/50\n",
            "150/150 [==============================] - 0s 1ms/step - loss: 0.4492 - accuracy: 0.7758\n",
            "Epoch 18/50\n",
            "150/150 [==============================] - 0s 1ms/step - loss: 0.4471 - accuracy: 0.7737\n",
            "Epoch 19/50\n",
            "150/150 [==============================] - 0s 1ms/step - loss: 0.4424 - accuracy: 0.7770\n",
            "Epoch 20/50\n",
            "150/150 [==============================] - 0s 1ms/step - loss: 0.4412 - accuracy: 0.7796\n",
            "Epoch 21/50\n",
            "150/150 [==============================] - 0s 1ms/step - loss: 0.4358 - accuracy: 0.7836\n",
            "Epoch 22/50\n",
            "150/150 [==============================] - 0s 1ms/step - loss: 0.4350 - accuracy: 0.7856\n",
            "Epoch 23/50\n",
            "150/150 [==============================] - 0s 1ms/step - loss: 0.4334 - accuracy: 0.7837\n",
            "Epoch 24/50\n",
            "150/150 [==============================] - 0s 2ms/step - loss: 0.4290 - accuracy: 0.7848\n",
            "Epoch 25/50\n",
            "150/150 [==============================] - 0s 2ms/step - loss: 0.4275 - accuracy: 0.7877\n",
            "Epoch 26/50\n",
            "150/150 [==============================] - 0s 1ms/step - loss: 0.4265 - accuracy: 0.7893\n",
            "Epoch 27/50\n",
            "150/150 [==============================] - 0s 1ms/step - loss: 0.4239 - accuracy: 0.7921\n",
            "Epoch 28/50\n",
            "150/150 [==============================] - 0s 1ms/step - loss: 0.4196 - accuracy: 0.7920\n",
            "Epoch 29/50\n",
            "150/150 [==============================] - 0s 1ms/step - loss: 0.4223 - accuracy: 0.7902\n",
            "Epoch 30/50\n",
            "150/150 [==============================] - 0s 1ms/step - loss: 0.4163 - accuracy: 0.7932\n",
            "Epoch 31/50\n",
            "150/150 [==============================] - 0s 1ms/step - loss: 0.4135 - accuracy: 0.7989\n",
            "Epoch 32/50\n",
            "150/150 [==============================] - 0s 1ms/step - loss: 0.4136 - accuracy: 0.7937\n",
            "Epoch 33/50\n",
            "150/150 [==============================] - 0s 1ms/step - loss: 0.4136 - accuracy: 0.7980\n",
            "Epoch 34/50\n",
            "150/150 [==============================] - 0s 2ms/step - loss: 0.4077 - accuracy: 0.8032\n",
            "Epoch 35/50\n",
            "150/150 [==============================] - 0s 1ms/step - loss: 0.4077 - accuracy: 0.7996\n",
            "Epoch 36/50\n",
            "150/150 [==============================] - 0s 2ms/step - loss: 0.4053 - accuracy: 0.8044\n",
            "Epoch 37/50\n",
            "150/150 [==============================] - 0s 1ms/step - loss: 0.4031 - accuracy: 0.8056\n",
            "Epoch 38/50\n",
            "150/150 [==============================] - 0s 2ms/step - loss: 0.4012 - accuracy: 0.8072\n",
            "Epoch 39/50\n",
            "150/150 [==============================] - 0s 1ms/step - loss: 0.3987 - accuracy: 0.8069\n",
            "Epoch 40/50\n",
            "150/150 [==============================] - 0s 1ms/step - loss: 0.3983 - accuracy: 0.8081\n",
            "Epoch 41/50\n",
            "150/150 [==============================] - 0s 1ms/step - loss: 0.3989 - accuracy: 0.8071\n",
            "Epoch 42/50\n",
            "150/150 [==============================] - 0s 1ms/step - loss: 0.3984 - accuracy: 0.8076\n",
            "Epoch 43/50\n",
            "150/150 [==============================] - 0s 1ms/step - loss: 0.3928 - accuracy: 0.8112\n",
            "Epoch 44/50\n",
            "150/150 [==============================] - 0s 1ms/step - loss: 0.3918 - accuracy: 0.8102\n",
            "Epoch 45/50\n",
            "150/150 [==============================] - 0s 1ms/step - loss: 0.3940 - accuracy: 0.8110\n",
            "Epoch 46/50\n",
            "150/150 [==============================] - 0s 1ms/step - loss: 0.3915 - accuracy: 0.8055\n",
            "Epoch 47/50\n",
            "150/150 [==============================] - 0s 1ms/step - loss: 0.3865 - accuracy: 0.8123\n",
            "Epoch 48/50\n",
            "150/150 [==============================] - 0s 1ms/step - loss: 0.3875 - accuracy: 0.8110\n",
            "Epoch 49/50\n",
            "150/150 [==============================] - 0s 1ms/step - loss: 0.3855 - accuracy: 0.8138\n",
            "Epoch 50/50\n",
            "150/150 [==============================] - 0s 1ms/step - loss: 0.3857 - accuracy: 0.8139\n"
          ],
          "name": "stdout"
        }
      ]
    },
    {
      "cell_type": "code",
      "metadata": {
        "id": "Z7ESj3GZT560",
        "outputId": "5f3f7600-b004-4c46-b16f-13d7d5475226",
        "colab": {
          "base_uri": "https://localhost:8080/",
          "height": 279
        }
      },
      "source": [
        "plt.plot(history1['loss'], label='Loss 10')\n",
        "plt.plot(history2['loss'], label='Loss 50')\n",
        "plt.xlabel('Epochs')\n",
        "plt.ylabel('Cross-Entropy')\n",
        "plt.legend()\n",
        "plt.show()\n",
        "\n",
        "#meglio batch piccoli"
      ],
      "execution_count": null,
      "outputs": [
        {
          "output_type": "display_data",
          "data": {
            "image/png": "[encoded data removed]",
            "text/plain": [
              "<Figure size 432x288 with 1 Axes>"
            ]
          },
          "metadata": {
            "tags": [],
            "needs_background": "light"
          }
        }
      ]
    },
    {
      "cell_type": "code",
      "metadata": {
        "id": "IH3XPSsWT895",
        "outputId": "92cbdfcd-ebc9-41d7-86cd-2b86cdedfdab",
        "colab": {
          "base_uri": "https://localhost:8080/"
        }
      },
      "source": [
        "test_loss_1, test_acc_1,pre,rec = model1.evaluate(X_test, y_test)\n",
        "\n",
        "print('MODEL 1: Loss %f, Accuracy %f Precision %f, Recall: %f' % (test_loss_1, test_acc_1,pre,rec))"
      ],
      "execution_count": null,
      "outputs": [
        {
          "output_type": "stream",
          "text": [
            "59/59 [==============================] - 0s 970us/step - loss: 0.4783 - accuracy: 0.7821 - precision: 0.6650 - recall: 0.4870\n",
            "MODEL 1: Loss 0.478290, Accuracy 0.782051 Precision 0.664975, Recall: 0.486989\n"
          ],
          "name": "stdout"
        }
      ]
    },
    {
      "cell_type": "code",
      "metadata": {
        "id": "SDeky8hVT-_a",
        "outputId": "f8de65a5-e42a-4ee0-fa81-f5050af4bee3",
        "colab": {
          "base_uri": "https://localhost:8080/"
        }
      },
      "source": [
        "y_pred = model1.predict(X_test).astype(int)\n",
        "\n",
        "print('Accuracy %s' % accuracy_score(y_test, y_pred))\n",
        "print('F1-score %s' % f1_score(y_test, y_pred, average='macro'))\n",
        "print('Precision %s' % precision_score(y_test,y_pred))\n",
        "print('Recall %s' % recall_score(y_test,y_pred))\n",
        "print(classification_report(y_test, y_pred))\n",
        "cm=confusion_matrix(y_test, y_pred)\n",
        "cm"
      ],
      "execution_count": null,
      "outputs": [
        {
          "output_type": "stream",
          "text": [
            "Accuracy 0.7126068376068376\n",
            "F1-score 0.4160948222083593\n",
            "Precision 0.0\n",
            "Recall 0.0\n",
            "              precision    recall  f1-score   support\n",
            "\n",
            "           0       0.71      1.00      0.83      1334\n",
            "           1       0.00      0.00      0.00       538\n",
            "\n",
            "    accuracy                           0.71      1872\n",
            "   macro avg       0.36      0.50      0.42      1872\n",
            "weighted avg       0.51      0.71      0.59      1872\n",
            "\n"
          ],
          "name": "stdout"
        },
        {
          "output_type": "stream",
          "text": [
            "/usr/local/lib/python3.6/dist-packages/sklearn/metrics/_classification.py:1272: UndefinedMetricWarning: Precision is ill-defined and being set to 0.0 due to no predicted samples. Use `zero_division` parameter to control this behavior.\n",
            "  _warn_prf(average, modifier, msg_start, len(result))\n",
            "/usr/local/lib/python3.6/dist-packages/sklearn/metrics/_classification.py:1272: UndefinedMetricWarning: Precision and F-score are ill-defined and being set to 0.0 in labels with no predicted samples. Use `zero_division` parameter to control this behavior.\n",
            "  _warn_prf(average, modifier, msg_start, len(result))\n"
          ],
          "name": "stderr"
        },
        {
          "output_type": "execute_result",
          "data": {
            "text/plain": [
              "array([[1334,    0],\n",
              "       [ 538,    0]])"
            ]
          },
          "metadata": {
            "tags": []
          },
          "execution_count": 58
        }
      ]
    },
    {
      "cell_type": "code",
      "metadata": {
        "id": "gAY3dvWJUzSB",
        "outputId": "0f80a2df-36bb-48de-cc42-41c98e90f6d5",
        "colab": {
          "base_uri": "https://localhost:8080/"
        }
      },
      "source": [
        "model11 = build_model1()\n",
        "\n",
        "history11 = model11.fit(X_train, y_train, validation_data=(X_test, y_test), epochs=10, batch_size=2).history"
      ],
      "execution_count": 34,
      "outputs": [
        {
          "output_type": "stream",
          "text": [
            "Epoch 1/10\n",
            "3743/3743 [==============================] - 6s 2ms/step - loss: 0.5429 - accuracy: 0.7221 - precision_8: 0.5692 - recall_8: 0.1340 - val_loss: 0.5522 - val_accuracy: 0.7126 - val_precision_8: 0.5000 - val_recall_8: 0.3067\n",
            "Epoch 2/10\n",
            "3743/3743 [==============================] - 6s 2ms/step - loss: 0.5177 - accuracy: 0.7315 - precision_8: 0.6094 - recall_8: 0.1814 - val_loss: 0.5227 - val_accuracy: 0.7222 - val_precision_8: 0.5662 - val_recall_8: 0.1431\n",
            "Epoch 3/10\n",
            "3743/3743 [==============================] - 6s 2ms/step - loss: 0.5015 - accuracy: 0.7396 - precision_8: 0.6233 - recall_8: 0.2363 - val_loss: 0.5105 - val_accuracy: 0.7415 - val_precision_8: 0.6378 - val_recall_8: 0.2323\n",
            "Epoch 4/10\n",
            "3743/3743 [==============================] - 6s 2ms/step - loss: 0.4874 - accuracy: 0.7467 - precision_8: 0.6340 - recall_8: 0.2795 - val_loss: 0.5087 - val_accuracy: 0.7329 - val_precision_8: 0.5720 - val_recall_8: 0.2807\n",
            "Epoch 5/10\n",
            "3743/3743 [==============================] - 6s 2ms/step - loss: 0.4791 - accuracy: 0.7512 - precision_8: 0.6364 - recall_8: 0.3126 - val_loss: 0.5076 - val_accuracy: 0.7361 - val_precision_8: 0.6089 - val_recall_8: 0.2286\n",
            "Epoch 6/10\n",
            "3743/3743 [==============================] - 6s 2ms/step - loss: 0.4698 - accuracy: 0.7547 - precision_8: 0.6360 - recall_8: 0.3414 - val_loss: 0.5094 - val_accuracy: 0.7334 - val_precision_8: 0.5517 - val_recall_8: 0.3866\n",
            "Epoch 7/10\n",
            "3743/3743 [==============================] - 6s 2ms/step - loss: 0.4641 - accuracy: 0.7637 - precision_8: 0.6485 - recall_8: 0.3870 - val_loss: 0.4975 - val_accuracy: 0.7393 - val_precision_8: 0.5893 - val_recall_8: 0.3067\n",
            "Epoch 8/10\n",
            "3743/3743 [==============================] - 6s 2ms/step - loss: 0.4574 - accuracy: 0.7674 - precision_8: 0.6582 - recall_8: 0.3958 - val_loss: 0.4903 - val_accuracy: 0.7505 - val_precision_8: 0.6086 - val_recall_8: 0.3699\n",
            "Epoch 9/10\n",
            "3743/3743 [==============================] - 6s 2ms/step - loss: 0.4497 - accuracy: 0.7749 - precision_8: 0.6721 - recall_8: 0.4223 - val_loss: 0.4982 - val_accuracy: 0.7516 - val_precision_8: 0.6420 - val_recall_8: 0.3067\n",
            "Epoch 10/10\n",
            "3743/3743 [==============================] - 6s 2ms/step - loss: 0.4449 - accuracy: 0.7747 - precision_8: 0.6593 - recall_8: 0.4465 - val_loss: 0.4977 - val_accuracy: 0.7463 - val_precision_8: 0.6207 - val_recall_8: 0.3011\n"
          ],
          "name": "stdout"
        }
      ]
    },
    {
      "cell_type": "code",
      "metadata": {
        "id": "Ax2tVgmuU-ix",
        "outputId": "d665513b-58fd-48f4-fbb9-5b78111a8623",
        "colab": {
          "base_uri": "https://localhost:8080/"
        }
      },
      "source": [
        "test_loss_11, test_acc_11,a,b = model11.evaluate(X_test, y_test)\n",
        "\n",
        "\n",
        "print('Loss %f, Accuracy %f' % (test_loss_11, test_acc_11))"
      ],
      "execution_count": 35,
      "outputs": [
        {
          "output_type": "stream",
          "text": [
            "59/59 [==============================] - 0s 1ms/step - loss: 0.4977 - accuracy: 0.7463 - precision_8: 0.6207 - recall_8: 0.3011\n",
            "Loss 0.497730, Accuracy 0.746261\n"
          ],
          "name": "stdout"
        }
      ]
    },
    {
      "cell_type": "code",
      "metadata": {
        "id": "6-Q-R47AVzV0",
        "outputId": "0cedece0-482a-4052-e4fe-97f8b88737ed",
        "colab": {
          "base_uri": "https://localhost:8080/",
          "height": 279
        }
      },
      "source": [
        "plt.plot(history11['loss'], label='Train')\n",
        "plt.plot(history11['val_loss'], label='Val')\n",
        "plt.xlabel('Epochs')\n",
        "plt.ylabel('Cross-Entropy')\n",
        "plt.legend()\n",
        "plt.show()"
      ],
      "execution_count": 36,
      "outputs": [
        {
          "output_type": "display_data",
          "data": {
            "image/png": "[encoded data removed]",
            "text/plain": [
              "<Figure size 432x288 with 1 Axes>"
            ]
          },
          "metadata": {
            "tags": [],
            "needs_background": "light"
          }
        }
      ]
    },
    {
      "cell_type": "markdown",
      "metadata": {
        "id": "MndojcXXbjbu"
      },
      "source": [
        "# Uno"
      ]
    },
    {
      "cell_type": "code",
      "metadata": {
        "id": "i3GMMaMKV3ov"
      },
      "source": [
        "def build_model3():\n",
        "    \n",
        "    n_feature = X_train.shape[1]\n",
        "    model = Sequential()\n",
        "    model.add(Dense(128, input_dim=n_feature, activation='relu'))\n",
        "    model.add(Dense(64, activation='relu'))\n",
        "    model.add(Dense(1, activation='tanh'))\n",
        "\n",
        "    model.compile(loss='binary_crossentropy', optimizer='adam', metrics=['accuracy'])\n",
        "    return model"
      ],
      "execution_count": null,
      "outputs": []
    },
    {
      "cell_type": "code",
      "metadata": {
        "id": "XqoJSomZfGkj",
        "outputId": "9d0ff1cd-f16f-467f-f293-7247773081fa",
        "colab": {
          "base_uri": "https://localhost:8080/"
        }
      },
      "source": [
        "model3 = build_model3()\n",
        "\n",
        "history3 = model3.fit(X_train, y_train, epochs=50, batch_size=10).history"
      ],
      "execution_count": null,
      "outputs": [
        {
          "output_type": "stream",
          "text": [
            "Epoch 1/50\n",
            "749/749 [==============================] - 1s 1ms/step - loss: 0.6956 - accuracy: 0.6870\n",
            "Epoch 2/50\n",
            "749/749 [==============================] - 1s 1ms/step - loss: 0.5860 - accuracy: 0.7126\n",
            "Epoch 3/50\n",
            "749/749 [==============================] - 1s 1ms/step - loss: 0.5590 - accuracy: 0.7126\n",
            "Epoch 4/50\n",
            "749/749 [==============================] - 1s 1ms/step - loss: 0.6080 - accuracy: 0.6854\n",
            "Epoch 5/50\n",
            "749/749 [==============================] - 1s 1ms/step - loss: 0.5451 - accuracy: 0.7264\n",
            "Epoch 6/50\n",
            "749/749 [==============================] - 1s 1ms/step - loss: 0.5347 - accuracy: 0.7197\n",
            "Epoch 7/50\n",
            "749/749 [==============================] - 1s 1ms/step - loss: 0.5146 - accuracy: 0.7361\n",
            "Epoch 8/50\n",
            "749/749 [==============================] - 1s 1ms/step - loss: 0.5167 - accuracy: 0.7371\n",
            "Epoch 9/50\n",
            "749/749 [==============================] - 1s 1ms/step - loss: 0.5244 - accuracy: 0.7371\n",
            "Epoch 10/50\n",
            "749/749 [==============================] - 1s 1ms/step - loss: 0.5011 - accuracy: 0.7507\n",
            "Epoch 11/50\n",
            "749/749 [==============================] - 1s 1ms/step - loss: 0.5164 - accuracy: 0.7392\n",
            "Epoch 12/50\n",
            "749/749 [==============================] - 1s 1ms/step - loss: 0.5005 - accuracy: 0.7516\n",
            "Epoch 13/50\n",
            "749/749 [==============================] - 1s 1ms/step - loss: 0.5017 - accuracy: 0.7551\n",
            "Epoch 14/50\n",
            "749/749 [==============================] - 1s 1ms/step - loss: 0.5241 - accuracy: 0.7447\n",
            "Epoch 15/50\n",
            "749/749 [==============================] - 1s 1ms/step - loss: 0.5057 - accuracy: 0.7498\n",
            "Epoch 16/50\n",
            "749/749 [==============================] - 1s 1ms/step - loss: 0.5028 - accuracy: 0.7516\n",
            "Epoch 17/50\n",
            "749/749 [==============================] - 1s 1ms/step - loss: 0.4817 - accuracy: 0.7643\n",
            "Epoch 18/50\n",
            "749/749 [==============================] - 1s 1ms/step - loss: 0.4825 - accuracy: 0.7671\n",
            "Epoch 19/50\n",
            "749/749 [==============================] - 1s 1ms/step - loss: 0.4791 - accuracy: 0.7687\n",
            "Epoch 20/50\n",
            "749/749 [==============================] - 1s 1ms/step - loss: 0.4958 - accuracy: 0.7694\n",
            "Epoch 21/50\n",
            "749/749 [==============================] - 1s 1ms/step - loss: 0.5099 - accuracy: 0.7589\n",
            "Epoch 22/50\n",
            "749/749 [==============================] - 1s 1ms/step - loss: 0.4999 - accuracy: 0.7630\n",
            "Epoch 23/50\n",
            "749/749 [==============================] - 1s 1ms/step - loss: 0.5469 - accuracy: 0.7444\n",
            "Epoch 24/50\n",
            "749/749 [==============================] - 1s 1ms/step - loss: 0.4971 - accuracy: 0.7699\n",
            "Epoch 25/50\n",
            "749/749 [==============================] - 1s 1ms/step - loss: 0.4981 - accuracy: 0.7609\n",
            "Epoch 26/50\n",
            "749/749 [==============================] - 1s 1ms/step - loss: 0.4910 - accuracy: 0.7693\n",
            "Epoch 27/50\n",
            "749/749 [==============================] - 1s 1ms/step - loss: 0.4625 - accuracy: 0.7746\n",
            "Epoch 28/50\n",
            "749/749 [==============================] - 1s 1ms/step - loss: 0.4709 - accuracy: 0.7857\n",
            "Epoch 29/50\n",
            "749/749 [==============================] - 1s 1ms/step - loss: 0.4771 - accuracy: 0.7797\n",
            "Epoch 30/50\n",
            "749/749 [==============================] - 1s 1ms/step - loss: 0.4799 - accuracy: 0.7824\n",
            "Epoch 31/50\n",
            "749/749 [==============================] - 1s 1ms/step - loss: 0.4715 - accuracy: 0.7852\n",
            "Epoch 32/50\n",
            "749/749 [==============================] - 1s 1ms/step - loss: 0.4916 - accuracy: 0.7733\n",
            "Epoch 33/50\n",
            "749/749 [==============================] - 1s 1ms/step - loss: 0.4649 - accuracy: 0.7820\n",
            "Epoch 34/50\n",
            "749/749 [==============================] - 1s 1ms/step - loss: 0.4746 - accuracy: 0.7809\n",
            "Epoch 35/50\n",
            "749/749 [==============================] - 1s 1ms/step - loss: 0.4485 - accuracy: 0.7910\n",
            "Epoch 36/50\n",
            "749/749 [==============================] - 1s 1ms/step - loss: 0.4483 - accuracy: 0.7906\n",
            "Epoch 37/50\n",
            "749/749 [==============================] - 1s 1ms/step - loss: 0.4599 - accuracy: 0.7786\n",
            "Epoch 38/50\n",
            "749/749 [==============================] - 1s 1ms/step - loss: 0.4578 - accuracy: 0.7874\n",
            "Epoch 39/50\n",
            "749/749 [==============================] - 1s 1ms/step - loss: 0.4466 - accuracy: 0.7949\n",
            "Epoch 40/50\n",
            "749/749 [==============================] - 1s 1ms/step - loss: 0.4479 - accuracy: 0.7916\n",
            "Epoch 41/50\n",
            "749/749 [==============================] - 1s 1ms/step - loss: 0.4353 - accuracy: 0.8023\n",
            "Epoch 42/50\n",
            "749/749 [==============================] - 1s 1ms/step - loss: 0.4516 - accuracy: 0.7869\n",
            "Epoch 43/50\n",
            "749/749 [==============================] - 1s 1ms/step - loss: 0.4545 - accuracy: 0.7854\n",
            "Epoch 44/50\n",
            "749/749 [==============================] - 1s 1ms/step - loss: 0.4420 - accuracy: 0.7988\n",
            "Epoch 45/50\n",
            "749/749 [==============================] - 1s 1ms/step - loss: 0.4248 - accuracy: 0.8065\n",
            "Epoch 46/50\n",
            "749/749 [==============================] - 1s 1ms/step - loss: 0.4352 - accuracy: 0.8023\n",
            "Epoch 47/50\n",
            "749/749 [==============================] - 1s 1ms/step - loss: 0.4335 - accuracy: 0.8025\n",
            "Epoch 48/50\n",
            "749/749 [==============================] - 1s 1ms/step - loss: 0.4303 - accuracy: 0.8012\n",
            "Epoch 49/50\n",
            "749/749 [==============================] - 1s 1ms/step - loss: 0.4338 - accuracy: 0.8049\n",
            "Epoch 50/50\n",
            "749/749 [==============================] - 1s 1ms/step - loss: 0.4236 - accuracy: 0.8067\n"
          ],
          "name": "stdout"
        }
      ]
    },
    {
      "cell_type": "code",
      "metadata": {
        "id": "whJVNhODfUp6"
      },
      "source": [
        "def build_model4():\n",
        "    \n",
        "    n_feature = X_train.shape[1]\n",
        "    model = Sequential()\n",
        "    model.add(Dense(128, input_dim=n_feature, activation='tanh'))\n",
        "    model.add(Dense(64, activation='tanh'))\n",
        "    model.add(Dense(1, activation='sigmoid'))\n",
        "\n",
        "    model.compile(loss='binary_crossentropy', optimizer='adam', metrics=['accuracy'])\n",
        "    return model"
      ],
      "execution_count": null,
      "outputs": []
    },
    {
      "cell_type": "code",
      "metadata": {
        "id": "ushZc7Poh-06",
        "outputId": "99db7ca8-0687-4d8d-ba1c-5bbdfea03794",
        "colab": {
          "base_uri": "https://localhost:8080/"
        }
      },
      "source": [
        "model4 = build_model4()\n",
        "\n",
        "history4 = model4.fit(X_train, y_train, epochs=50, batch_size=10).history"
      ],
      "execution_count": null,
      "outputs": [
        {
          "output_type": "stream",
          "text": [
            "Epoch 1/50\n",
            "749/749 [==============================] - 1s 1ms/step - loss: 0.5736 - accuracy: 0.7009\n",
            "Epoch 2/50\n",
            "749/749 [==============================] - 1s 1ms/step - loss: 0.5527 - accuracy: 0.7173\n",
            "Epoch 3/50\n",
            "749/749 [==============================] - 1s 1ms/step - loss: 0.5430 - accuracy: 0.7232\n",
            "Epoch 4/50\n",
            "749/749 [==============================] - 1s 1ms/step - loss: 0.5320 - accuracy: 0.7244\n",
            "Epoch 5/50\n",
            "749/749 [==============================] - 1s 1ms/step - loss: 0.5233 - accuracy: 0.7273\n",
            "Epoch 6/50\n",
            "749/749 [==============================] - 1s 1ms/step - loss: 0.5149 - accuracy: 0.7304\n",
            "Epoch 7/50\n",
            "749/749 [==============================] - 1s 1ms/step - loss: 0.5081 - accuracy: 0.7315\n",
            "Epoch 8/50\n",
            "749/749 [==============================] - 1s 1ms/step - loss: 0.5010 - accuracy: 0.7407\n",
            "Epoch 9/50\n",
            "749/749 [==============================] - 1s 1ms/step - loss: 0.4969 - accuracy: 0.7409\n",
            "Epoch 10/50\n",
            "749/749 [==============================] - 2s 2ms/step - loss: 0.4889 - accuracy: 0.7482\n",
            "Epoch 11/50\n",
            "749/749 [==============================] - 2s 3ms/step - loss: 0.4859 - accuracy: 0.7484\n",
            "Epoch 12/50\n",
            "749/749 [==============================] - 2s 2ms/step - loss: 0.4819 - accuracy: 0.7518\n",
            "Epoch 13/50\n",
            "749/749 [==============================] - 2s 2ms/step - loss: 0.4757 - accuracy: 0.7546\n",
            "Epoch 14/50\n",
            "749/749 [==============================] - 1s 1ms/step - loss: 0.4729 - accuracy: 0.7566\n",
            "Epoch 15/50\n",
            "749/749 [==============================] - 1s 1ms/step - loss: 0.4703 - accuracy: 0.7552\n",
            "Epoch 16/50\n",
            "749/749 [==============================] - 1s 1ms/step - loss: 0.4654 - accuracy: 0.7618\n",
            "Epoch 17/50\n",
            "749/749 [==============================] - 1s 1ms/step - loss: 0.4621 - accuracy: 0.7661\n",
            "Epoch 18/50\n",
            "749/749 [==============================] - 1s 1ms/step - loss: 0.4601 - accuracy: 0.7682\n",
            "Epoch 19/50\n",
            "749/749 [==============================] - 1s 1ms/step - loss: 0.4587 - accuracy: 0.7694\n",
            "Epoch 20/50\n",
            "749/749 [==============================] - 1s 1ms/step - loss: 0.4543 - accuracy: 0.7675\n",
            "Epoch 21/50\n",
            "749/749 [==============================] - 1s 1ms/step - loss: 0.4531 - accuracy: 0.7714\n",
            "Epoch 22/50\n",
            "749/749 [==============================] - 1s 1ms/step - loss: 0.4489 - accuracy: 0.7727\n",
            "Epoch 23/50\n",
            "749/749 [==============================] - 1s 1ms/step - loss: 0.4457 - accuracy: 0.7749\n",
            "Epoch 24/50\n",
            "749/749 [==============================] - 1s 1ms/step - loss: 0.4432 - accuracy: 0.7768\n",
            "Epoch 25/50\n",
            "749/749 [==============================] - 1s 1ms/step - loss: 0.4394 - accuracy: 0.7817\n",
            "Epoch 26/50\n",
            "749/749 [==============================] - 1s 1ms/step - loss: 0.4353 - accuracy: 0.7845\n",
            "Epoch 27/50\n",
            "749/749 [==============================] - 1s 1ms/step - loss: 0.4335 - accuracy: 0.7865\n",
            "Epoch 28/50\n",
            "749/749 [==============================] - 1s 1ms/step - loss: 0.4316 - accuracy: 0.7860\n",
            "Epoch 29/50\n",
            "749/749 [==============================] - 1s 1ms/step - loss: 0.4290 - accuracy: 0.7853\n",
            "Epoch 30/50\n",
            "749/749 [==============================] - 1s 1ms/step - loss: 0.4251 - accuracy: 0.7901\n",
            "Epoch 31/50\n",
            "749/749 [==============================] - 1s 1ms/step - loss: 0.4226 - accuracy: 0.7949\n",
            "Epoch 32/50\n",
            "749/749 [==============================] - 1s 1ms/step - loss: 0.4198 - accuracy: 0.7961\n",
            "Epoch 33/50\n",
            "749/749 [==============================] - 1s 1ms/step - loss: 0.4187 - accuracy: 0.7925\n",
            "Epoch 34/50\n",
            "749/749 [==============================] - 1s 1ms/step - loss: 0.4172 - accuracy: 0.7940\n",
            "Epoch 35/50\n",
            "749/749 [==============================] - 1s 1ms/step - loss: 0.4139 - accuracy: 0.7976\n",
            "Epoch 36/50\n",
            "749/749 [==============================] - 1s 1ms/step - loss: 0.4103 - accuracy: 0.8005\n",
            "Epoch 37/50\n",
            "749/749 [==============================] - 1s 1ms/step - loss: 0.4097 - accuracy: 0.8017\n",
            "Epoch 38/50\n",
            "749/749 [==============================] - 1s 1ms/step - loss: 0.4044 - accuracy: 0.8076\n",
            "Epoch 39/50\n",
            "749/749 [==============================] - 1s 1ms/step - loss: 0.4040 - accuracy: 0.8063\n",
            "Epoch 40/50\n",
            "749/749 [==============================] - 1s 1ms/step - loss: 0.4018 - accuracy: 0.8060\n",
            "Epoch 41/50\n",
            "749/749 [==============================] - 1s 1ms/step - loss: 0.3989 - accuracy: 0.8077\n",
            "Epoch 42/50\n",
            "749/749 [==============================] - 1s 1ms/step - loss: 0.3966 - accuracy: 0.8083\n",
            "Epoch 43/50\n",
            "749/749 [==============================] - 1s 1ms/step - loss: 0.3932 - accuracy: 0.8103\n",
            "Epoch 44/50\n",
            "749/749 [==============================] - 1s 1ms/step - loss: 0.3914 - accuracy: 0.8134\n",
            "Epoch 45/50\n",
            "749/749 [==============================] - 1s 1ms/step - loss: 0.3926 - accuracy: 0.8108\n",
            "Epoch 46/50\n",
            "749/749 [==============================] - 1s 1ms/step - loss: 0.3893 - accuracy: 0.8152\n",
            "Epoch 47/50\n",
            "749/749 [==============================] - 1s 1ms/step - loss: 0.3872 - accuracy: 0.8168\n",
            "Epoch 48/50\n",
            "749/749 [==============================] - 1s 1ms/step - loss: 0.3853 - accuracy: 0.8178\n",
            "Epoch 49/50\n",
            "749/749 [==============================] - 1s 1ms/step - loss: 0.3843 - accuracy: 0.8175\n",
            "Epoch 50/50\n",
            "749/749 [==============================] - 1s 1ms/step - loss: 0.3799 - accuracy: 0.8230\n"
          ],
          "name": "stdout"
        }
      ]
    },
    {
      "cell_type": "code",
      "metadata": {
        "id": "7zMHOxVJ1A6T",
        "outputId": "aa5141b3-0808-4e0d-aa24-c3424386bcca",
        "colab": {
          "base_uri": "https://localhost:8080/"
        }
      },
      "source": [
        "test_loss_1, test_acc_1 = model1.evaluate(X_test, y_test)\n",
        "test_loss_2, test_acc_2 = model2.evaluate(X_test, y_test)\n",
        "test_loss_3, test_acc_3 = model3.evaluate(X_test, y_test)\n",
        "test_loss_4, test_acc_4 = model4.evaluate(X_test, y_test)\n",
        "\n",
        "print('MODEL 1: Loss %f, Accuracy %f' % (test_loss_1, test_acc_1))\n",
        "print('MODEL 2: Loss %f, Accuracy %f' % (test_loss_2, test_acc_2))\n",
        "print('MODEL 3: Loss %f, Accuracy %f' % (test_loss_3, test_acc_3))\n",
        "print('MODEL 4: Loss %f, Accuracy %f' % (test_loss_4, test_acc_4))"
      ],
      "execution_count": null,
      "outputs": [
        {
          "output_type": "stream",
          "text": [
            "59/59 [==============================] - 0s 1ms/step - loss: 0.4681 - accuracy: 0.7804\n",
            "59/59 [==============================] - 0s 938us/step - loss: 0.5625 - accuracy: 0.7404\n",
            "59/59 [==============================] - 0s 993us/step - loss: 0.5844 - accuracy: 0.7660\n",
            "59/59 [==============================] - 0s 1ms/step - loss: 0.4930 - accuracy: 0.7585\n",
            "MODEL 1: Loss 0.468145, Accuracy 0.780449\n",
            "MODEL 2: Loss 0.562466, Accuracy 0.740385\n",
            "MODEL 3: Loss 0.584403, Accuracy 0.766026\n",
            "MODEL 4: Loss 0.492960, Accuracy 0.758547\n"
          ],
          "name": "stdout"
        }
      ]
    },
    {
      "cell_type": "code",
      "metadata": {
        "id": "u0BR5rtEy5_r",
        "outputId": "477d8642-8c63-42d2-ac89-5e344e5b5705",
        "colab": {
          "base_uri": "https://localhost:8080/",
          "height": 279
        }
      },
      "source": [
        "plt.plot(history3['loss'], label='Loss 10_m3')\n",
        "plt.plot(history4['loss'], label='Loss 10_m4')\n",
        "plt.xlabel('Epochs')\n",
        "plt.ylabel('Cross-Entropy')\n",
        "plt.legend()\n",
        "plt.show()\n"
      ],
      "execution_count": null,
      "outputs": [
        {
          "output_type": "display_data",
          "data": {
            "image/png": "[encoded data removed]",
            "text/plain": [
              "<Figure size 432x288 with 1 Axes>"
            ]
          },
          "metadata": {
            "tags": [],
            "needs_background": "light"
          }
        }
      ]
    },
    {
      "cell_type": "markdown",
      "metadata": {
        "id": "piMZANNf1COr"
      },
      "source": [
        "# Due"
      ]
    },
    {
      "cell_type": "code",
      "metadata": {
        "id": "8M8tSZ4PzdNI"
      },
      "source": [
        "def build_model5():\n",
        "    \n",
        "    n_feature = X_train.shape[1]\n",
        "    model = Sequential()\n",
        "    model.add(Dense(128, input_dim=n_feature, activation='relu'))\n",
        "    model.add(Dense(64, activation='relu'))\n",
        "    model.add(Dense(32, activation='relu'))\n",
        "    model.add(Dense(16, activation='relu'))\n",
        "    model.add(Dense(1, activation='sigmoid'))\n",
        "\n",
        "    model.compile(loss='binary_crossentropy', optimizer='adam', metrics=['accuracy'])\n",
        "    return model"
      ],
      "execution_count": null,
      "outputs": []
    },
    {
      "cell_type": "code",
      "metadata": {
        "id": "sLSBBG250Gfj",
        "outputId": "897bec42-2899-44f4-a025-dc79e01984e7",
        "colab": {
          "base_uri": "https://localhost:8080/"
        }
      },
      "source": [
        "model5 = build_model5()\n",
        "\n",
        "history5 = model5.fit(X_train, y_train, epochs=50, batch_size=10).history"
      ],
      "execution_count": null,
      "outputs": [
        {
          "output_type": "stream",
          "text": [
            "Epoch 1/50\n",
            "749/749 [==============================] - 1s 2ms/step - loss: 0.5512 - accuracy: 0.7162\n",
            "Epoch 2/50\n",
            "749/749 [==============================] - 1s 1ms/step - loss: 0.5250 - accuracy: 0.7253\n",
            "Epoch 3/50\n",
            "749/749 [==============================] - 1s 1ms/step - loss: 0.5073 - accuracy: 0.7324\n",
            "Epoch 4/50\n",
            "749/749 [==============================] - 1s 2ms/step - loss: 0.4961 - accuracy: 0.7460\n",
            "Epoch 5/50\n",
            "749/749 [==============================] - 1s 2ms/step - loss: 0.4830 - accuracy: 0.7479\n",
            "Epoch 6/50\n",
            "749/749 [==============================] - 1s 2ms/step - loss: 0.4742 - accuracy: 0.7582\n",
            "Epoch 7/50\n",
            "749/749 [==============================] - 1s 1ms/step - loss: 0.4687 - accuracy: 0.7579\n",
            "Epoch 8/50\n",
            "749/749 [==============================] - 1s 2ms/step - loss: 0.4597 - accuracy: 0.7653\n",
            "Epoch 9/50\n",
            "749/749 [==============================] - 1s 2ms/step - loss: 0.4511 - accuracy: 0.7780\n",
            "Epoch 10/50\n",
            "749/749 [==============================] - 1s 2ms/step - loss: 0.4465 - accuracy: 0.7773\n",
            "Epoch 11/50\n",
            "749/749 [==============================] - 1s 1ms/step - loss: 0.4384 - accuracy: 0.7820\n",
            "Epoch 12/50\n",
            "749/749 [==============================] - 1s 2ms/step - loss: 0.4341 - accuracy: 0.7842\n",
            "Epoch 13/50\n",
            "749/749 [==============================] - 1s 2ms/step - loss: 0.4297 - accuracy: 0.7873\n",
            "Epoch 14/50\n",
            "749/749 [==============================] - 1s 2ms/step - loss: 0.4209 - accuracy: 0.7906\n",
            "Epoch 15/50\n",
            "749/749 [==============================] - 1s 2ms/step - loss: 0.4167 - accuracy: 0.7980\n",
            "Epoch 16/50\n",
            "749/749 [==============================] - 1s 2ms/step - loss: 0.4096 - accuracy: 0.8004\n",
            "Epoch 17/50\n",
            "749/749 [==============================] - 1s 2ms/step - loss: 0.4084 - accuracy: 0.7987\n",
            "Epoch 18/50\n",
            "749/749 [==============================] - 1s 1ms/step - loss: 0.4001 - accuracy: 0.8064\n",
            "Epoch 19/50\n",
            "749/749 [==============================] - 1s 2ms/step - loss: 0.3956 - accuracy: 0.8096\n",
            "Epoch 20/50\n",
            "749/749 [==============================] - 1s 1ms/step - loss: 0.3886 - accuracy: 0.8132\n",
            "Epoch 21/50\n",
            "749/749 [==============================] - 1s 2ms/step - loss: 0.3878 - accuracy: 0.8099\n",
            "Epoch 22/50\n",
            "749/749 [==============================] - 1s 2ms/step - loss: 0.3824 - accuracy: 0.8146\n",
            "Epoch 23/50\n",
            "749/749 [==============================] - 1s 1ms/step - loss: 0.3741 - accuracy: 0.8171\n",
            "Epoch 24/50\n",
            "749/749 [==============================] - 1s 1ms/step - loss: 0.3722 - accuracy: 0.8219\n",
            "Epoch 25/50\n",
            "749/749 [==============================] - 1s 2ms/step - loss: 0.3644 - accuracy: 0.8247\n",
            "Epoch 26/50\n",
            "749/749 [==============================] - 1s 2ms/step - loss: 0.3664 - accuracy: 0.8235\n",
            "Epoch 27/50\n",
            "749/749 [==============================] - 1s 2ms/step - loss: 0.3616 - accuracy: 0.8259\n",
            "Epoch 28/50\n",
            "749/749 [==============================] - 1s 2ms/step - loss: 0.3541 - accuracy: 0.8322\n",
            "Epoch 29/50\n",
            "749/749 [==============================] - 1s 1ms/step - loss: 0.3485 - accuracy: 0.8357\n",
            "Epoch 30/50\n",
            "749/749 [==============================] - 1s 2ms/step - loss: 0.3485 - accuracy: 0.8349\n",
            "Epoch 31/50\n",
            "749/749 [==============================] - 1s 2ms/step - loss: 0.3434 - accuracy: 0.8399\n",
            "Epoch 32/50\n",
            "749/749 [==============================] - 1s 2ms/step - loss: 0.3353 - accuracy: 0.8428\n",
            "Epoch 33/50\n",
            "749/749 [==============================] - 1s 1ms/step - loss: 0.3317 - accuracy: 0.8450\n",
            "Epoch 34/50\n",
            "749/749 [==============================] - 1s 2ms/step - loss: 0.3278 - accuracy: 0.8461\n",
            "Epoch 35/50\n",
            "749/749 [==============================] - 1s 1ms/step - loss: 0.3236 - accuracy: 0.8516\n",
            "Epoch 36/50\n",
            "749/749 [==============================] - 1s 2ms/step - loss: 0.3209 - accuracy: 0.8476\n",
            "Epoch 37/50\n",
            "749/749 [==============================] - 1s 1ms/step - loss: 0.3196 - accuracy: 0.8497\n",
            "Epoch 38/50\n",
            "749/749 [==============================] - 1s 1ms/step - loss: 0.3160 - accuracy: 0.8513\n",
            "Epoch 39/50\n",
            "749/749 [==============================] - 1s 1ms/step - loss: 0.3096 - accuracy: 0.8558\n",
            "Epoch 40/50\n",
            "749/749 [==============================] - 1s 2ms/step - loss: 0.3063 - accuracy: 0.8596\n",
            "Epoch 41/50\n",
            "749/749 [==============================] - 1s 1ms/step - loss: 0.3032 - accuracy: 0.8612\n",
            "Epoch 42/50\n",
            "749/749 [==============================] - 1s 2ms/step - loss: 0.3000 - accuracy: 0.8599\n",
            "Epoch 43/50\n",
            "749/749 [==============================] - 1s 2ms/step - loss: 0.2931 - accuracy: 0.8649\n",
            "Epoch 44/50\n",
            "749/749 [==============================] - 1s 2ms/step - loss: 0.2889 - accuracy: 0.8657\n",
            "Epoch 45/50\n",
            "749/749 [==============================] - 1s 2ms/step - loss: 0.2885 - accuracy: 0.8680\n",
            "Epoch 46/50\n",
            "749/749 [==============================] - 1s 1ms/step - loss: 0.2876 - accuracy: 0.8713\n",
            "Epoch 47/50\n",
            "749/749 [==============================] - 1s 1ms/step - loss: 0.2809 - accuracy: 0.8705\n",
            "Epoch 48/50\n",
            "749/749 [==============================] - 1s 1ms/step - loss: 0.2770 - accuracy: 0.8717\n",
            "Epoch 49/50\n",
            "749/749 [==============================] - 1s 1ms/step - loss: 0.2770 - accuracy: 0.8721\n",
            "Epoch 50/50\n",
            "749/749 [==============================] - 1s 1ms/step - loss: 0.2769 - accuracy: 0.8762\n"
          ],
          "name": "stdout"
        }
      ]
    },
    {
      "cell_type": "code",
      "metadata": {
        "id": "ANe93q7m0PKX"
      },
      "source": [
        "def build_model6():\n",
        "    \n",
        "    n_feature = X_train.shape[1]\n",
        "    model = Sequential()\n",
        "    model.add(Dense(128, input_dim=n_feature, activation='tanh'))\n",
        "    model.add(Dense(64, activation='tanh'))\n",
        "    model.add(Dense(32, activation='tanh'))\n",
        "    model.add(Dense(16, activation='tanh'))\n",
        "    model.add(Dense(1, activation='sigmoid'))\n",
        "\n",
        "    model.compile(loss='binary_crossentropy', optimizer='adam', metrics=['accuracy'])\n",
        "    return model"
      ],
      "execution_count": null,
      "outputs": []
    },
    {
      "cell_type": "code",
      "metadata": {
        "id": "5OzcDdrb0vDg",
        "outputId": "0d4d5683-14d4-4644-bcee-dde73976830c",
        "colab": {
          "base_uri": "https://localhost:8080/"
        }
      },
      "source": [
        "model6 = build_model6()\n",
        "\n",
        "history6 = model6.fit(X_train, y_train, epochs=50, batch_size=10).history"
      ],
      "execution_count": null,
      "outputs": [
        {
          "output_type": "stream",
          "text": [
            "Epoch 1/50\n",
            "749/749 [==============================] - 1s 1ms/step - loss: 0.5677 - accuracy: 0.7136\n",
            "Epoch 2/50\n",
            "749/749 [==============================] - 1s 2ms/step - loss: 0.5410 - accuracy: 0.7218\n",
            "Epoch 3/50\n",
            "749/749 [==============================] - 1s 2ms/step - loss: 0.5231 - accuracy: 0.7255\n",
            "Epoch 4/50\n",
            "749/749 [==============================] - 1s 1ms/step - loss: 0.5147 - accuracy: 0.7341\n",
            "Epoch 5/50\n",
            "749/749 [==============================] - 1s 1ms/step - loss: 0.5025 - accuracy: 0.7371\n",
            "Epoch 6/50\n",
            "749/749 [==============================] - 1s 2ms/step - loss: 0.4924 - accuracy: 0.7451\n",
            "Epoch 7/50\n",
            "749/749 [==============================] - 1s 2ms/step - loss: 0.4855 - accuracy: 0.7464\n",
            "Epoch 8/50\n",
            "749/749 [==============================] - 1s 2ms/step - loss: 0.4788 - accuracy: 0.7563\n",
            "Epoch 9/50\n",
            "749/749 [==============================] - 1s 2ms/step - loss: 0.4706 - accuracy: 0.7599\n",
            "Epoch 10/50\n",
            "749/749 [==============================] - 1s 2ms/step - loss: 0.4662 - accuracy: 0.7650\n",
            "Epoch 11/50\n",
            "749/749 [==============================] - 1s 2ms/step - loss: 0.4613 - accuracy: 0.7634\n",
            "Epoch 12/50\n",
            "749/749 [==============================] - 1s 2ms/step - loss: 0.4541 - accuracy: 0.7679\n",
            "Epoch 13/50\n",
            "749/749 [==============================] - 1s 1ms/step - loss: 0.4472 - accuracy: 0.7737\n",
            "Epoch 14/50\n",
            "749/749 [==============================] - 1s 1ms/step - loss: 0.4424 - accuracy: 0.7746\n",
            "Epoch 15/50\n",
            "749/749 [==============================] - 1s 2ms/step - loss: 0.4348 - accuracy: 0.7809\n",
            "Epoch 16/50\n",
            "749/749 [==============================] - 1s 2ms/step - loss: 0.4285 - accuracy: 0.7858\n",
            "Epoch 17/50\n",
            "749/749 [==============================] - 1s 2ms/step - loss: 0.4268 - accuracy: 0.7865\n",
            "Epoch 18/50\n",
            "749/749 [==============================] - 1s 2ms/step - loss: 0.4185 - accuracy: 0.7961\n",
            "Epoch 19/50\n",
            "749/749 [==============================] - 1s 2ms/step - loss: 0.4122 - accuracy: 0.7947\n",
            "Epoch 20/50\n",
            "749/749 [==============================] - 1s 2ms/step - loss: 0.4079 - accuracy: 0.8028\n",
            "Epoch 21/50\n",
            "749/749 [==============================] - 1s 2ms/step - loss: 0.4036 - accuracy: 0.8033\n",
            "Epoch 22/50\n",
            "749/749 [==============================] - 1s 2ms/step - loss: 0.3982 - accuracy: 0.8079\n",
            "Epoch 23/50\n",
            "749/749 [==============================] - 1s 2ms/step - loss: 0.3938 - accuracy: 0.8091\n",
            "Epoch 24/50\n",
            "749/749 [==============================] - 1s 2ms/step - loss: 0.3846 - accuracy: 0.8132\n",
            "Epoch 25/50\n",
            "749/749 [==============================] - 1s 2ms/step - loss: 0.3805 - accuracy: 0.8172\n",
            "Epoch 26/50\n",
            "749/749 [==============================] - 1s 2ms/step - loss: 0.3762 - accuracy: 0.8198\n",
            "Epoch 27/50\n",
            "749/749 [==============================] - 1s 2ms/step - loss: 0.3716 - accuracy: 0.8203\n",
            "Epoch 28/50\n",
            "749/749 [==============================] - 1s 2ms/step - loss: 0.3649 - accuracy: 0.8238\n",
            "Epoch 29/50\n",
            "749/749 [==============================] - 1s 2ms/step - loss: 0.3592 - accuracy: 0.8317\n",
            "Epoch 30/50\n",
            "749/749 [==============================] - 1s 2ms/step - loss: 0.3571 - accuracy: 0.8313\n",
            "Epoch 31/50\n",
            "749/749 [==============================] - 1s 2ms/step - loss: 0.3496 - accuracy: 0.8354\n",
            "Epoch 32/50\n",
            "749/749 [==============================] - 1s 2ms/step - loss: 0.3442 - accuracy: 0.8399\n",
            "Epoch 33/50\n",
            "749/749 [==============================] - 1s 2ms/step - loss: 0.3402 - accuracy: 0.8395\n",
            "Epoch 34/50\n",
            "749/749 [==============================] - 1s 1ms/step - loss: 0.3353 - accuracy: 0.8454\n",
            "Epoch 35/50\n",
            "749/749 [==============================] - 1s 2ms/step - loss: 0.3332 - accuracy: 0.8440\n",
            "Epoch 36/50\n",
            "749/749 [==============================] - 1s 2ms/step - loss: 0.3266 - accuracy: 0.8486\n",
            "Epoch 37/50\n",
            "749/749 [==============================] - 1s 2ms/step - loss: 0.3217 - accuracy: 0.8518\n",
            "Epoch 38/50\n",
            "749/749 [==============================] - 1s 2ms/step - loss: 0.3165 - accuracy: 0.8524\n",
            "Epoch 39/50\n",
            "749/749 [==============================] - 1s 1ms/step - loss: 0.3135 - accuracy: 0.8544\n",
            "Epoch 40/50\n",
            "749/749 [==============================] - 1s 2ms/step - loss: 0.3112 - accuracy: 0.8541\n",
            "Epoch 41/50\n",
            "749/749 [==============================] - 1s 2ms/step - loss: 0.3082 - accuracy: 0.8608\n",
            "Epoch 42/50\n",
            "749/749 [==============================] - 1s 2ms/step - loss: 0.3035 - accuracy: 0.8623\n",
            "Epoch 43/50\n",
            "749/749 [==============================] - 1s 2ms/step - loss: 0.2983 - accuracy: 0.8611\n",
            "Epoch 44/50\n",
            "749/749 [==============================] - 1s 2ms/step - loss: 0.2941 - accuracy: 0.8617\n",
            "Epoch 45/50\n",
            "749/749 [==============================] - 1s 2ms/step - loss: 0.2914 - accuracy: 0.8696\n",
            "Epoch 46/50\n",
            "749/749 [==============================] - 1s 2ms/step - loss: 0.2892 - accuracy: 0.8669\n",
            "Epoch 47/50\n",
            "749/749 [==============================] - 1s 2ms/step - loss: 0.2824 - accuracy: 0.8725\n",
            "Epoch 48/50\n",
            "749/749 [==============================] - 1s 2ms/step - loss: 0.2835 - accuracy: 0.8688\n",
            "Epoch 49/50\n",
            "749/749 [==============================] - 1s 2ms/step - loss: 0.2770 - accuracy: 0.8740\n",
            "Epoch 50/50\n",
            "749/749 [==============================] - 1s 2ms/step - loss: 0.2722 - accuracy: 0.8779\n"
          ],
          "name": "stdout"
        }
      ]
    },
    {
      "cell_type": "code",
      "metadata": {
        "id": "kmKLhlNY0mex",
        "outputId": "675c5824-daec-4915-b821-1da5ac21de43",
        "colab": {
          "base_uri": "https://localhost:8080/",
          "height": 279
        }
      },
      "source": [
        "plt.plot(history5['loss'], label='Loss 10_m5')\n",
        "plt.plot(history6['loss'], label='Loss 10_m6')\n",
        "plt.xlabel('Epochs')\n",
        "plt.ylabel('Cross-Entropy')\n",
        "plt.legend()\n",
        "plt.show()\n"
      ],
      "execution_count": null,
      "outputs": [
        {
          "output_type": "display_data",
          "data": {
            "image/png": "[encoded data removed]",
            "text/plain": [
              "<Figure size 432x288 with 1 Axes>"
            ]
          },
          "metadata": {
            "tags": [],
            "needs_background": "light"
          }
        }
      ]
    },
    {
      "cell_type": "code",
      "metadata": {
        "id": "40swPLps0r-9",
        "outputId": "66d8b5cf-20dd-4d2d-ab05-930633ec2459",
        "colab": {
          "base_uri": "https://localhost:8080/"
        }
      },
      "source": [
        "test_loss_1, test_acc_1 = model1.evaluate(X_test, y_test)\n",
        "test_loss_2, test_acc_2 = model2.evaluate(X_test, y_test)\n",
        "test_loss_3, test_acc_3 = model3.evaluate(X_test, y_test)\n",
        "test_loss_4, test_acc_4 = model4.evaluate(X_test, y_test)\n",
        "test_loss_5, test_acc_5 = model5.evaluate(X_test, y_test)\n",
        "test_loss_6, test_acc_6 = model4.evaluate(X_test, y_test)\n",
        "\n",
        "print('MODEL 1: Loss %f, Accuracy %f' % (test_loss_1, test_acc_1))\n",
        "print('MODEL 2: Loss %f, Accuracy %f' % (test_loss_2, test_acc_2))\n",
        "print('MODEL 3: Loss %f, Accuracy %f' % (test_loss_3, test_acc_3))\n",
        "print('MODEL 4: Loss %f, Accuracy %f' % (test_loss_4, test_acc_4))\n",
        "print('MODEL 5: Loss %f, Accuracy %f' % (test_loss_5, test_acc_5))\n",
        "print('MODEL 6: Loss %f, Accuracy %f' % (test_loss_6, test_acc_6))"
      ],
      "execution_count": null,
      "outputs": [
        {
          "output_type": "stream",
          "text": [
            "59/59 [==============================] - 0s 965us/step - loss: 0.4681 - accuracy: 0.7804\n",
            "59/59 [==============================] - 0s 1ms/step - loss: 0.5625 - accuracy: 0.7404\n",
            "59/59 [==============================] - 0s 942us/step - loss: 0.5844 - accuracy: 0.7660\n",
            "59/59 [==============================] - 0s 834us/step - loss: 0.4930 - accuracy: 0.7585\n",
            "59/59 [==============================] - 0s 912us/step - loss: 0.4996 - accuracy: 0.7911\n",
            "59/59 [==============================] - 0s 1ms/step - loss: 0.4930 - accuracy: 0.7585\n",
            "MODEL 1: Loss 0.468145, Accuracy 0.780449\n",
            "MODEL 2: Loss 0.562466, Accuracy 0.740385\n",
            "MODEL 3: Loss 0.584403, Accuracy 0.766026\n",
            "MODEL 4: Loss 0.492960, Accuracy 0.758547\n",
            "MODEL 5: Loss 0.499571, Accuracy 0.791132\n",
            "MODEL 6: Loss 0.492960, Accuracy 0.758547\n"
          ],
          "name": "stdout"
        }
      ]
    },
    {
      "cell_type": "markdown",
      "metadata": {
        "id": "sUqJ33KN28Vx"
      },
      "source": [
        "# Finale"
      ]
    },
    {
      "cell_type": "code",
      "metadata": {
        "id": "8MVz_brL1jEu"
      },
      "source": [
        "def build_model7():\n",
        "    \n",
        "    n_feature = X_train.shape[1]\n",
        "    model = Sequential()\n",
        "    model.add(Dense(128, input_dim=n_feature, activation='relu'))\n",
        "    model.add(Dense(1, activation='sigmoid'))\n",
        "\n",
        "    model.compile(loss='binary_crossentropy', optimizer='adam', metrics=['accuracy'])\n",
        "    return model"
      ],
      "execution_count": null,
      "outputs": []
    },
    {
      "cell_type": "code",
      "metadata": {
        "id": "LgpnNpd83GhF",
        "outputId": "db0ca168-23f8-4ee5-b903-8011a17fdfce",
        "colab": {
          "base_uri": "https://localhost:8080/"
        }
      },
      "source": [
        "model7 = build_model7()\n",
        "\n",
        "history7 = model7.fit(X_train, y_train, epochs=50, batch_size=10).history"
      ],
      "execution_count": null,
      "outputs": [
        {
          "output_type": "stream",
          "text": [
            "Epoch 1/50\n",
            "749/749 [==============================] - 1s 1ms/step - loss: 0.5518 - accuracy: 0.7216\n",
            "Epoch 2/50\n",
            "749/749 [==============================] - 1s 1ms/step - loss: 0.5351 - accuracy: 0.7241\n",
            "Epoch 3/50\n",
            "749/749 [==============================] - 1s 1ms/step - loss: 0.5300 - accuracy: 0.7249\n",
            "Epoch 4/50\n",
            "749/749 [==============================] - 1s 1ms/step - loss: 0.5247 - accuracy: 0.7272\n",
            "Epoch 5/50\n",
            "749/749 [==============================] - 1s 1ms/step - loss: 0.5208 - accuracy: 0.7301\n",
            "Epoch 6/50\n",
            "749/749 [==============================] - 1s 1ms/step - loss: 0.5159 - accuracy: 0.7295\n",
            "Epoch 7/50\n",
            "749/749 [==============================] - 1s 1ms/step - loss: 0.5114 - accuracy: 0.7323\n",
            "Epoch 8/50\n",
            "749/749 [==============================] - 1s 1ms/step - loss: 0.5079 - accuracy: 0.7329\n",
            "Epoch 9/50\n",
            "749/749 [==============================] - 1s 1ms/step - loss: 0.5051 - accuracy: 0.7367\n",
            "Epoch 10/50\n",
            "749/749 [==============================] - 1s 1ms/step - loss: 0.5007 - accuracy: 0.7400\n",
            "Epoch 11/50\n",
            "749/749 [==============================] - 1s 1ms/step - loss: 0.4999 - accuracy: 0.7392\n",
            "Epoch 12/50\n",
            "749/749 [==============================] - 1s 1ms/step - loss: 0.4963 - accuracy: 0.7452\n",
            "Epoch 13/50\n",
            "749/749 [==============================] - 1s 1ms/step - loss: 0.4949 - accuracy: 0.7452\n",
            "Epoch 14/50\n",
            "749/749 [==============================] - 1s 1ms/step - loss: 0.4919 - accuracy: 0.7458\n",
            "Epoch 15/50\n",
            "749/749 [==============================] - 1s 1ms/step - loss: 0.4882 - accuracy: 0.7500\n",
            "Epoch 16/50\n",
            "749/749 [==============================] - 1s 1ms/step - loss: 0.4860 - accuracy: 0.7454\n",
            "Epoch 17/50\n",
            "749/749 [==============================] - 1s 1ms/step - loss: 0.4852 - accuracy: 0.7491\n",
            "Epoch 18/50\n",
            "749/749 [==============================] - 1s 1ms/step - loss: 0.4830 - accuracy: 0.7506\n",
            "Epoch 19/50\n",
            "749/749 [==============================] - 1s 1ms/step - loss: 0.4827 - accuracy: 0.7514\n",
            "Epoch 20/50\n",
            "749/749 [==============================] - 1s 1ms/step - loss: 0.4787 - accuracy: 0.7507\n",
            "Epoch 21/50\n",
            "749/749 [==============================] - 1s 1ms/step - loss: 0.4791 - accuracy: 0.7511\n",
            "Epoch 22/50\n",
            "749/749 [==============================] - 1s 1ms/step - loss: 0.4767 - accuracy: 0.7520\n",
            "Epoch 23/50\n",
            "749/749 [==============================] - 1s 1ms/step - loss: 0.4760 - accuracy: 0.7574\n",
            "Epoch 24/50\n",
            "749/749 [==============================] - 1s 1ms/step - loss: 0.4744 - accuracy: 0.7539\n",
            "Epoch 25/50\n",
            "749/749 [==============================] - 1s 1ms/step - loss: 0.4730 - accuracy: 0.7562\n",
            "Epoch 26/50\n",
            "749/749 [==============================] - 1s 1ms/step - loss: 0.4719 - accuracy: 0.7539\n",
            "Epoch 27/50\n",
            "749/749 [==============================] - 1s 1ms/step - loss: 0.4717 - accuracy: 0.7567\n",
            "Epoch 28/50\n",
            "749/749 [==============================] - 1s 1ms/step - loss: 0.4696 - accuracy: 0.7601\n",
            "Epoch 29/50\n",
            "749/749 [==============================] - 1s 1ms/step - loss: 0.4678 - accuracy: 0.7587\n",
            "Epoch 30/50\n",
            "749/749 [==============================] - 1s 1ms/step - loss: 0.4660 - accuracy: 0.7571\n",
            "Epoch 31/50\n",
            "749/749 [==============================] - 1s 1ms/step - loss: 0.4649 - accuracy: 0.7626\n",
            "Epoch 32/50\n",
            "749/749 [==============================] - 1s 1ms/step - loss: 0.4632 - accuracy: 0.7629\n",
            "Epoch 33/50\n",
            "749/749 [==============================] - 1s 1ms/step - loss: 0.4636 - accuracy: 0.7605\n",
            "Epoch 34/50\n",
            "749/749 [==============================] - 1s 1ms/step - loss: 0.4622 - accuracy: 0.7654\n",
            "Epoch 35/50\n",
            "749/749 [==============================] - 1s 1ms/step - loss: 0.4607 - accuracy: 0.7631\n",
            "Epoch 36/50\n",
            "749/749 [==============================] - 1s 1ms/step - loss: 0.4614 - accuracy: 0.7614\n",
            "Epoch 37/50\n",
            "749/749 [==============================] - 1s 1ms/step - loss: 0.4583 - accuracy: 0.7663\n",
            "Epoch 38/50\n",
            "749/749 [==============================] - 1s 1ms/step - loss: 0.4573 - accuracy: 0.7637\n",
            "Epoch 39/50\n",
            "749/749 [==============================] - 1s 1ms/step - loss: 0.4566 - accuracy: 0.7677\n",
            "Epoch 40/50\n",
            "749/749 [==============================] - 1s 1ms/step - loss: 0.4556 - accuracy: 0.7679\n",
            "Epoch 41/50\n",
            "749/749 [==============================] - 1s 1ms/step - loss: 0.4539 - accuracy: 0.7679\n",
            "Epoch 42/50\n",
            "749/749 [==============================] - 1s 1ms/step - loss: 0.4548 - accuracy: 0.7687\n",
            "Epoch 43/50\n",
            "749/749 [==============================] - 1s 1ms/step - loss: 0.4531 - accuracy: 0.7699\n",
            "Epoch 44/50\n",
            "749/749 [==============================] - 1s 1ms/step - loss: 0.4509 - accuracy: 0.7690\n",
            "Epoch 45/50\n",
            "749/749 [==============================] - 1s 1ms/step - loss: 0.4516 - accuracy: 0.7697\n",
            "Epoch 46/50\n",
            "749/749 [==============================] - 1s 1ms/step - loss: 0.4512 - accuracy: 0.7738\n",
            "Epoch 47/50\n",
            "749/749 [==============================] - 1s 1ms/step - loss: 0.4484 - accuracy: 0.7730\n",
            "Epoch 48/50\n",
            "749/749 [==============================] - 1s 1ms/step - loss: 0.4467 - accuracy: 0.7719\n",
            "Epoch 49/50\n",
            "749/749 [==============================] - 1s 1ms/step - loss: 0.4473 - accuracy: 0.7719\n",
            "Epoch 50/50\n",
            "749/749 [==============================] - 1s 1ms/step - loss: 0.4468 - accuracy: 0.7752\n"
          ],
          "name": "stdout"
        }
      ]
    },
    {
      "cell_type": "code",
      "metadata": {
        "id": "ieReYlFI3RjC",
        "outputId": "f876b626-79e4-4df7-c877-6c47b488fa16",
        "colab": {
          "base_uri": "https://localhost:8080/",
          "height": 279
        }
      },
      "source": [
        "plt.plot(history1['loss'], label='Loss 10_m1')\n",
        "plt.plot(history7['loss'], label='Loss 10_m7')\n",
        "plt.xlabel('Epochs')\n",
        "plt.ylabel('Cross-Entropy')\n",
        "plt.legend()\n",
        "plt.show()\n"
      ],
      "execution_count": null,
      "outputs": [
        {
          "output_type": "display_data",
          "data": {
            "image/png": "[encoded data removed]",
            "text/plain": [
              "<Figure size 432x288 with 1 Axes>"
            ]
          },
          "metadata": {
            "tags": [],
            "needs_background": "light"
          }
        }
      ]
    },
    {
      "cell_type": "code",
      "metadata": {
        "id": "v7cHVmLV3ZFY",
        "outputId": "fa3940f9-759f-46db-93b8-33a62c19e442",
        "colab": {
          "base_uri": "https://localhost:8080/"
        }
      },
      "source": [
        "test_loss_1, test_acc_1 = model1.evaluate(X_test, y_test)\n",
        "test_loss_2, test_acc_2 = model2.evaluate(X_test, y_test)\n",
        "test_loss_3, test_acc_3 = model3.evaluate(X_test, y_test)\n",
        "test_loss_4, test_acc_4 = model4.evaluate(X_test, y_test)\n",
        "test_loss_5, test_acc_5 = model5.evaluate(X_test, y_test)\n",
        "test_loss_6, test_acc_6 = model6.evaluate(X_test, y_test)\n",
        "test_loss_7, test_acc_7 = model7.evaluate(X_test, y_test)\n",
        "\n",
        "print('MODEL 1: Loss %f, Accuracy %f' % (test_loss_1, test_acc_1))\n",
        "print('MODEL 2: Loss %f, Accuracy %f' % (test_loss_2, test_acc_2))\n",
        "print('MODEL 3: Loss %f, Accuracy %f' % (test_loss_3, test_acc_3))\n",
        "print('MODEL 4: Loss %f, Accuracy %f' % (test_loss_4, test_acc_4))\n",
        "print('MODEL 5: Loss %f, Accuracy %f' % (test_loss_5, test_acc_5))\n",
        "print('MODEL 6: Loss %f, Accuracy %f' % (test_loss_6, test_acc_6))\n",
        "print('MODEL 7: Loss %f, Accuracy %f' % (test_loss_7, test_acc_7))  # single layer nn"
      ],
      "execution_count": null,
      "outputs": [
        {
          "output_type": "stream",
          "text": [
            "59/59 [==============================] - 0s 1ms/step - loss: 0.4681 - accuracy: 0.7804\n",
            "59/59 [==============================] - 0s 1ms/step - loss: 0.5625 - accuracy: 0.7404\n",
            "59/59 [==============================] - 0s 1ms/step - loss: 0.5844 - accuracy: 0.7660\n",
            "59/59 [==============================] - 0s 1ms/step - loss: 0.4930 - accuracy: 0.7585\n",
            "59/59 [==============================] - 0s 2ms/step - loss: 0.4996 - accuracy: 0.7911\n",
            "59/59 [==============================] - 0s 1ms/step - loss: 0.5028 - accuracy: 0.7821\n",
            "59/59 [==============================] - 0s 1ms/step - loss: 0.4946 - accuracy: 0.7457\n",
            "MODEL 1: Loss 0.468145, Accuracy 0.780449\n",
            "MODEL 2: Loss 0.562466, Accuracy 0.740385\n",
            "MODEL 3: Loss 0.584403, Accuracy 0.766026\n",
            "MODEL 4: Loss 0.492960, Accuracy 0.758547\n",
            "MODEL 5: Loss 0.499571, Accuracy 0.791132\n",
            "MODEL 6: Loss 0.502838, Accuracy 0.782051\n",
            "MODEL 7: Loss 0.494558, Accuracy 0.745726\n"
          ],
          "name": "stdout"
        }
      ]
    },
    {
      "cell_type": "code",
      "metadata": {
        "id": "b0oCTH4s4vXn"
      },
      "source": [
        "def build_model8():\n",
        "    \n",
        "    n_feature = X_train.shape[1]\n",
        "    model = Sequential()\n",
        "    model.add(Dense(128, input_dim=n_feature, activation='relu'))\n",
        "    model.add(Dense(64, activation='relu'))\n",
        "    model.add(Dense(1, activation='sigmoid'))\n",
        "\n",
        "    model.compile(loss='binary_crossentropy', optimizer='sgd', metrics=['accuracy'])\n",
        "    return model"
      ],
      "execution_count": null,
      "outputs": []
    },
    {
      "cell_type": "code",
      "metadata": {
        "id": "8PL663Oe40oP",
        "outputId": "c9e830ca-cd8d-4718-821f-bfbd380d1eca",
        "colab": {
          "base_uri": "https://localhost:8080/"
        }
      },
      "source": [
        "model8 = build_model8()\n",
        "\n",
        "history8 = model8.fit(X_train, y_train, epochs=50, batch_size=10).history"
      ],
      "execution_count": null,
      "outputs": [
        {
          "output_type": "stream",
          "text": [
            "Epoch 1/50\n",
            "749/749 [==============================] - 1s 1ms/step - loss: 0.5790 - accuracy: 0.7059\n",
            "Epoch 2/50\n",
            "749/749 [==============================] - 1s 1ms/step - loss: 0.5493 - accuracy: 0.7193\n",
            "Epoch 3/50\n",
            "749/749 [==============================] - 1s 989us/step - loss: 0.5412 - accuracy: 0.7232\n",
            "Epoch 4/50\n",
            "749/749 [==============================] - 1s 1ms/step - loss: 0.5364 - accuracy: 0.7238\n",
            "Epoch 5/50\n",
            "749/749 [==============================] - 1s 1ms/step - loss: 0.5334 - accuracy: 0.7234\n",
            "Epoch 6/50\n",
            "749/749 [==============================] - 1s 1ms/step - loss: 0.5303 - accuracy: 0.7261\n",
            "Epoch 7/50\n",
            "749/749 [==============================] - 1s 1ms/step - loss: 0.5274 - accuracy: 0.7277\n",
            "Epoch 8/50\n",
            "749/749 [==============================] - 1s 1ms/step - loss: 0.5244 - accuracy: 0.7280\n",
            "Epoch 9/50\n",
            "749/749 [==============================] - 1s 1ms/step - loss: 0.5221 - accuracy: 0.7297\n",
            "Epoch 10/50\n",
            "749/749 [==============================] - 1s 1ms/step - loss: 0.5197 - accuracy: 0.7301\n",
            "Epoch 11/50\n",
            "749/749 [==============================] - 1s 1ms/step - loss: 0.5177 - accuracy: 0.7293\n",
            "Epoch 12/50\n",
            "749/749 [==============================] - 1s 1ms/step - loss: 0.5148 - accuracy: 0.7311\n",
            "Epoch 13/50\n",
            "749/749 [==============================] - 1s 1ms/step - loss: 0.5118 - accuracy: 0.7329\n",
            "Epoch 14/50\n",
            "749/749 [==============================] - 1s 1ms/step - loss: 0.5095 - accuracy: 0.7329\n",
            "Epoch 15/50\n",
            "749/749 [==============================] - 1s 1ms/step - loss: 0.5068 - accuracy: 0.7351\n",
            "Epoch 16/50\n",
            "749/749 [==============================] - 1s 1ms/step - loss: 0.5043 - accuracy: 0.7375\n",
            "Epoch 17/50\n",
            "749/749 [==============================] - 1s 1ms/step - loss: 0.5021 - accuracy: 0.7387\n",
            "Epoch 18/50\n",
            "749/749 [==============================] - 1s 1ms/step - loss: 0.4995 - accuracy: 0.7371\n",
            "Epoch 19/50\n",
            "749/749 [==============================] - 1s 1ms/step - loss: 0.4974 - accuracy: 0.7403\n",
            "Epoch 20/50\n",
            "749/749 [==============================] - 1s 1ms/step - loss: 0.4948 - accuracy: 0.7418\n",
            "Epoch 21/50\n",
            "749/749 [==============================] - 1s 1ms/step - loss: 0.4916 - accuracy: 0.7424\n",
            "Epoch 22/50\n",
            "749/749 [==============================] - 1s 1ms/step - loss: 0.4905 - accuracy: 0.7438\n",
            "Epoch 23/50\n",
            "749/749 [==============================] - 1s 1ms/step - loss: 0.4885 - accuracy: 0.7448\n",
            "Epoch 24/50\n",
            "749/749 [==============================] - 1s 1ms/step - loss: 0.4859 - accuracy: 0.7494\n",
            "Epoch 25/50\n",
            "749/749 [==============================] - 1s 1ms/step - loss: 0.4845 - accuracy: 0.7492\n",
            "Epoch 26/50\n",
            "749/749 [==============================] - 1s 1ms/step - loss: 0.4822 - accuracy: 0.7519\n",
            "Epoch 27/50\n",
            "749/749 [==============================] - 1s 1ms/step - loss: 0.4805 - accuracy: 0.7490\n",
            "Epoch 28/50\n",
            "749/749 [==============================] - 1s 1ms/step - loss: 0.4792 - accuracy: 0.7530\n",
            "Epoch 29/50\n",
            "749/749 [==============================] - 1s 1ms/step - loss: 0.4765 - accuracy: 0.7520\n",
            "Epoch 30/50\n",
            "749/749 [==============================] - 1s 1ms/step - loss: 0.4752 - accuracy: 0.7538\n",
            "Epoch 31/50\n",
            "749/749 [==============================] - 1s 1ms/step - loss: 0.4730 - accuracy: 0.7559\n",
            "Epoch 32/50\n",
            "749/749 [==============================] - 1s 1ms/step - loss: 0.4718 - accuracy: 0.7560\n",
            "Epoch 33/50\n",
            "749/749 [==============================] - 1s 1ms/step - loss: 0.4699 - accuracy: 0.7631\n",
            "Epoch 34/50\n",
            "749/749 [==============================] - 1s 1ms/step - loss: 0.4687 - accuracy: 0.7568\n",
            "Epoch 35/50\n",
            "749/749 [==============================] - 1s 1ms/step - loss: 0.4677 - accuracy: 0.7599\n",
            "Epoch 36/50\n",
            "749/749 [==============================] - 1s 1ms/step - loss: 0.4661 - accuracy: 0.7611\n",
            "Epoch 37/50\n",
            "749/749 [==============================] - 1s 2ms/step - loss: 0.4651 - accuracy: 0.7594\n",
            "Epoch 38/50\n",
            "749/749 [==============================] - 1s 1ms/step - loss: 0.4626 - accuracy: 0.7602\n",
            "Epoch 39/50\n",
            "749/749 [==============================] - 1s 1ms/step - loss: 0.4619 - accuracy: 0.7654\n",
            "Epoch 40/50\n",
            "749/749 [==============================] - 1s 1ms/step - loss: 0.4610 - accuracy: 0.7647\n",
            "Epoch 41/50\n",
            "749/749 [==============================] - 1s 1ms/step - loss: 0.4586 - accuracy: 0.7673\n",
            "Epoch 42/50\n",
            "749/749 [==============================] - 1s 1ms/step - loss: 0.4569 - accuracy: 0.7663\n",
            "Epoch 43/50\n",
            "749/749 [==============================] - 1s 1ms/step - loss: 0.4571 - accuracy: 0.7703\n",
            "Epoch 44/50\n",
            "749/749 [==============================] - 1s 1ms/step - loss: 0.4551 - accuracy: 0.7698\n",
            "Epoch 45/50\n",
            "749/749 [==============================] - 1s 1ms/step - loss: 0.4528 - accuracy: 0.7717\n",
            "Epoch 46/50\n",
            "749/749 [==============================] - 1s 1ms/step - loss: 0.4527 - accuracy: 0.7694\n",
            "Epoch 47/50\n",
            "749/749 [==============================] - 1s 1ms/step - loss: 0.4515 - accuracy: 0.7683\n",
            "Epoch 48/50\n",
            "749/749 [==============================] - 1s 1ms/step - loss: 0.4485 - accuracy: 0.7721\n",
            "Epoch 49/50\n",
            "749/749 [==============================] - 1s 1ms/step - loss: 0.4477 - accuracy: 0.7710\n",
            "Epoch 50/50\n",
            "749/749 [==============================] - 1s 1ms/step - loss: 0.4480 - accuracy: 0.7754\n"
          ],
          "name": "stdout"
        }
      ]
    },
    {
      "cell_type": "code",
      "metadata": {
        "id": "teRHadp4JRqf",
        "outputId": "e2d34ffa-f445-4426-e38b-ae4a805e03c1",
        "colab": {
          "base_uri": "https://localhost:8080/",
          "height": 279
        }
      },
      "source": [
        "plt.plot(history1['loss'], label='Loss 10_m1')\n",
        "plt.plot(history8['loss'], label='Loss 10_m8')\n",
        "plt.xlabel('Epochs')\n",
        "plt.ylabel('Cross-Entropy')\n",
        "plt.legend()\n",
        "plt.show()\n"
      ],
      "execution_count": null,
      "outputs": [
        {
          "output_type": "display_data",
          "data": {
            "image/png": "[encoded data removed]",
            "text/plain": [
              "<Figure size 432x288 with 1 Axes>"
            ]
          },
          "metadata": {
            "tags": [],
            "needs_background": "light"
          }
        }
      ]
    },
    {
      "cell_type": "code",
      "metadata": {
        "id": "z-vg7mzaJV3U",
        "outputId": "a06e80e3-b4c3-49e1-ce6e-f6eb6b27ebc8",
        "colab": {
          "base_uri": "https://localhost:8080/"
        }
      },
      "source": [
        "test_loss_8, test_acc_8 = model8.evaluate(X_test, y_test)\n",
        "\n",
        "print('MODEL 8: Loss %f, Accuracy %f' % (test_loss_8, test_acc_8))"
      ],
      "execution_count": null,
      "outputs": [
        {
          "output_type": "stream",
          "text": [
            "59/59 [==============================] - 0s 1ms/step - loss: 0.4875 - accuracy: 0.7409\n",
            "MODEL 8: Loss 0.487451, Accuracy 0.740919\n"
          ],
          "name": "stdout"
        }
      ]
    },
    {
      "cell_type": "code",
      "metadata": {
        "id": "1W1BoSgSJdVS",
        "outputId": "bcfcf1b2-d567-47e5-bef0-8a2b2a7712b1",
        "colab": {
          "base_uri": "https://localhost:8080/"
        }
      },
      "source": [
        "model11 = build_model1()\n",
        "\n",
        "history11 = model11.fit(X_train, y_train, validation_data=(X_test, y_test), epochs=30, batch_size=10).history"
      ],
      "execution_count": null,
      "outputs": [
        {
          "output_type": "stream",
          "text": [
            "Epoch 1/30\n",
            "749/749 [==============================] - 1s 2ms/step - loss: 0.5433 - accuracy: 0.7226 - val_loss: 0.5397 - val_accuracy: 0.7201\n",
            "Epoch 2/30\n",
            "749/749 [==============================] - 1s 1ms/step - loss: 0.5223 - accuracy: 0.7275 - val_loss: 0.5437 - val_accuracy: 0.7105\n",
            "Epoch 3/30\n",
            "749/749 [==============================] - 1s 1ms/step - loss: 0.5096 - accuracy: 0.7320 - val_loss: 0.5260 - val_accuracy: 0.7281\n",
            "Epoch 4/30\n",
            "749/749 [==============================] - 1s 1ms/step - loss: 0.4979 - accuracy: 0.7401 - val_loss: 0.5153 - val_accuracy: 0.7329\n",
            "Epoch 5/30\n",
            "749/749 [==============================] - 1s 1ms/step - loss: 0.4890 - accuracy: 0.7451 - val_loss: 0.5094 - val_accuracy: 0.7286\n",
            "Epoch 6/30\n",
            "749/749 [==============================] - 1s 1ms/step - loss: 0.4785 - accuracy: 0.7554 - val_loss: 0.5040 - val_accuracy: 0.7409\n",
            "Epoch 7/30\n",
            "749/749 [==============================] - 1s 1ms/step - loss: 0.4693 - accuracy: 0.7576 - val_loss: 0.4991 - val_accuracy: 0.7377\n",
            "Epoch 8/30\n",
            "749/749 [==============================] - 1s 1ms/step - loss: 0.4647 - accuracy: 0.7641 - val_loss: 0.4963 - val_accuracy: 0.7350\n",
            "Epoch 9/30\n",
            "749/749 [==============================] - 1s 1ms/step - loss: 0.4582 - accuracy: 0.7685 - val_loss: 0.5001 - val_accuracy: 0.7366\n",
            "Epoch 10/30\n",
            "749/749 [==============================] - 1s 1ms/step - loss: 0.4530 - accuracy: 0.7683 - val_loss: 0.4899 - val_accuracy: 0.7484\n",
            "Epoch 11/30\n",
            "749/749 [==============================] - 1s 1ms/step - loss: 0.4474 - accuracy: 0.7706 - val_loss: 0.4931 - val_accuracy: 0.7559\n",
            "Epoch 12/30\n",
            "749/749 [==============================] - 1s 1ms/step - loss: 0.4425 - accuracy: 0.7782 - val_loss: 0.4934 - val_accuracy: 0.7479\n",
            "Epoch 13/30\n",
            "749/749 [==============================] - 1s 2ms/step - loss: 0.4387 - accuracy: 0.7806 - val_loss: 0.4939 - val_accuracy: 0.7366\n",
            "Epoch 14/30\n",
            "749/749 [==============================] - 1s 1ms/step - loss: 0.4338 - accuracy: 0.7861 - val_loss: 0.4861 - val_accuracy: 0.7511\n",
            "Epoch 15/30\n",
            "749/749 [==============================] - 1s 1ms/step - loss: 0.4298 - accuracy: 0.7869 - val_loss: 0.4936 - val_accuracy: 0.7463\n",
            "Epoch 16/30\n",
            "749/749 [==============================] - 1s 2ms/step - loss: 0.4258 - accuracy: 0.7913 - val_loss: 0.4967 - val_accuracy: 0.7543\n",
            "Epoch 17/30\n",
            "749/749 [==============================] - 1s 1ms/step - loss: 0.4238 - accuracy: 0.7909 - val_loss: 0.4804 - val_accuracy: 0.7532\n",
            "Epoch 18/30\n",
            "749/749 [==============================] - 1s 1ms/step - loss: 0.4195 - accuracy: 0.7921 - val_loss: 0.4836 - val_accuracy: 0.7548\n",
            "Epoch 19/30\n",
            "749/749 [==============================] - 1s 1ms/step - loss: 0.4162 - accuracy: 0.7949 - val_loss: 0.4822 - val_accuracy: 0.7612\n",
            "Epoch 20/30\n",
            "749/749 [==============================] - 1s 1ms/step - loss: 0.4118 - accuracy: 0.7996 - val_loss: 0.4899 - val_accuracy: 0.7489\n",
            "Epoch 21/30\n",
            "749/749 [==============================] - 1s 1ms/step - loss: 0.4117 - accuracy: 0.7940 - val_loss: 0.4942 - val_accuracy: 0.7553\n",
            "Epoch 22/30\n",
            "749/749 [==============================] - 1s 1ms/step - loss: 0.4068 - accuracy: 0.7973 - val_loss: 0.4801 - val_accuracy: 0.7575\n",
            "Epoch 23/30\n",
            "749/749 [==============================] - 1s 1ms/step - loss: 0.4029 - accuracy: 0.8041 - val_loss: 0.4774 - val_accuracy: 0.7714\n",
            "Epoch 24/30\n",
            "749/749 [==============================] - 1s 1ms/step - loss: 0.4027 - accuracy: 0.8053 - val_loss: 0.4800 - val_accuracy: 0.7591\n",
            "Epoch 25/30\n",
            "749/749 [==============================] - 1s 1ms/step - loss: 0.3980 - accuracy: 0.8090 - val_loss: 0.4927 - val_accuracy: 0.7612\n",
            "Epoch 26/30\n",
            "749/749 [==============================] - 1s 1ms/step - loss: 0.3968 - accuracy: 0.8047 - val_loss: 0.4803 - val_accuracy: 0.7655\n",
            "Epoch 27/30\n",
            "749/749 [==============================] - 1s 2ms/step - loss: 0.3936 - accuracy: 0.8087 - val_loss: 0.4670 - val_accuracy: 0.7714\n",
            "Epoch 28/30\n",
            "749/749 [==============================] - 1s 1ms/step - loss: 0.3892 - accuracy: 0.8112 - val_loss: 0.4735 - val_accuracy: 0.7676\n",
            "Epoch 29/30\n",
            "749/749 [==============================] - 1s 1ms/step - loss: 0.3902 - accuracy: 0.8096 - val_loss: 0.4765 - val_accuracy: 0.7671\n",
            "Epoch 30/30\n",
            "749/749 [==============================] - 1s 1ms/step - loss: 0.3860 - accuracy: 0.8115 - val_loss: 0.4695 - val_accuracy: 0.7762\n"
          ],
          "name": "stdout"
        }
      ]
    },
    {
      "cell_type": "code",
      "metadata": {
        "id": "5g26AXZoJpz0",
        "outputId": "4625bcbb-695f-471f-fefb-f6e87cf6b77d",
        "colab": {
          "base_uri": "https://localhost:8080/"
        }
      },
      "source": [
        "test_loss_11, test_acc_11 = model11.evaluate(X_test, y_test)\n",
        "\n",
        "print('MODEL 1: Loss %f, Accuracy %f' % (test_loss_1, test_acc_1))\n",
        "print('MODEL 11: Loss %f, Accuracy %f' % (test_loss_11, test_acc_11))"
      ],
      "execution_count": null,
      "outputs": [
        {
          "output_type": "stream",
          "text": [
            "59/59 [==============================] - 0s 1ms/step - loss: 0.4695 - accuracy: 0.7762\n",
            "MODEL 1: Loss 0.468145, Accuracy 0.780449\n",
            "MODEL 11: Loss 0.469504, Accuracy 0.776175\n"
          ],
          "name": "stdout"
        }
      ]
    },
    {
      "cell_type": "code",
      "metadata": {
        "id": "Er1SOk-IJ53M",
        "outputId": "02d23f0d-fbed-4796-e476-ada3cb08a1a1",
        "colab": {
          "base_uri": "https://localhost:8080/",
          "height": 279
        }
      },
      "source": [
        "plt.plot(history11['loss'], label='Train')\n",
        "plt.plot(history11['val_loss'], label='Val')\n",
        "plt.xlabel('Epochs')\n",
        "plt.ylabel('Cross-Entropy')\n",
        "plt.legend()\n",
        "plt.show()"
      ],
      "execution_count": null,
      "outputs": [
        {
          "output_type": "display_data",
          "data": {
            "image/png": "[encoded data removed]",
            "text/plain": [
              "<Figure size 432x288 with 1 Axes>"
            ]
          },
          "metadata": {
            "tags": [],
            "needs_background": "light"
          }
        }
      ]
    },
    {
      "cell_type": "code",
      "metadata": {
        "id": "fENIcTxpKv05"
      },
      "source": [
        "X_train, X_val, y_train, y_val = train_test_split(X_train, y_train, test_size=0.2)"
      ],
      "execution_count": null,
      "outputs": []
    },
    {
      "cell_type": "markdown",
      "metadata": {
        "id": "tHM2_AsFKbJD"
      },
      "source": [
        "# Early stopping"
      ]
    },
    {
      "cell_type": "code",
      "metadata": {
        "id": "CsljnWJOJ7jX"
      },
      "source": [
        "from keras.callbacks import EarlyStopping, ModelCheckpoint"
      ],
      "execution_count": null,
      "outputs": []
    },
    {
      "cell_type": "markdown",
      "metadata": {
        "id": "5-4qUtOVKjhI"
      },
      "source": [
        "### The most relevant arguments are:\n",
        "\n",
        "    monitor: quantity to be monitored\n",
        "    patience: number of epochs with no improvement after which training will be stopped\n",
        "\n"
      ]
    },
    {
      "cell_type": "code",
      "metadata": {
        "id": "Fg4XL8ovKglh",
        "outputId": "7a2e8998-e777-4e1a-f0c8-a94ecbda2065",
        "colab": {
          "base_uri": "https://localhost:8080/"
        }
      },
      "source": [
        "es = EarlyStopping(monitor='val_loss', patience=10)\n",
        "mc = ModelCheckpoint('best_model_NOREG.h5', monitor='val_loss', save_best_only=True)\n",
        "\n",
        "model9 = build_model1()\n",
        "history9 = model9.fit(X_train, y_train, validation_data=(X_val, y_val), epochs=100, \n",
        "                      batch_size=10, callbacks=[es,mc]).history"
      ],
      "execution_count": null,
      "outputs": [
        {
          "output_type": "stream",
          "text": [
            "Epoch 1/100\n",
            "599/599 [==============================] - 1s 2ms/step - loss: 0.5440 - accuracy: 0.7260 - precision_1: 0.5924 - recall_1: 0.1365 - val_loss: 0.5549 - val_accuracy: 0.7134 - val_precision_1: 0.5226 - val_recall_1: 0.1858\n",
            "Epoch 2/100\n",
            "599/599 [==============================] - 1s 2ms/step - loss: 0.5259 - accuracy: 0.7315 - precision_1: 0.6031 - recall_1: 0.1809 - val_loss: 0.5439 - val_accuracy: 0.7188 - val_precision_1: 0.5484 - val_recall_1: 0.1950\n",
            "Epoch 3/100\n",
            "599/599 [==============================] - 1s 2ms/step - loss: 0.5154 - accuracy: 0.7346 - precision_1: 0.6173 - recall_1: 0.1919 - val_loss: 0.5345 - val_accuracy: 0.7348 - val_precision_1: 0.6789 - val_recall_1: 0.1697\n",
            "Epoch 4/100\n",
            "599/599 [==============================] - 1s 1ms/step - loss: 0.5052 - accuracy: 0.7408 - precision_1: 0.6324 - recall_1: 0.2258 - val_loss: 0.5172 - val_accuracy: 0.7428 - val_precision_1: 0.7073 - val_recall_1: 0.1995\n",
            "Epoch 5/100\n",
            "599/599 [==============================] - 1s 1ms/step - loss: 0.4967 - accuracy: 0.7438 - precision_1: 0.6339 - recall_1: 0.2485 - val_loss: 0.5185 - val_accuracy: 0.7181 - val_precision_1: 0.5333 - val_recall_1: 0.2569\n",
            "Epoch 6/100\n",
            "599/599 [==============================] - 1s 1ms/step - loss: 0.4880 - accuracy: 0.7500 - precision_1: 0.6415 - recall_1: 0.2870 - val_loss: 0.5088 - val_accuracy: 0.7381 - val_precision_1: 0.5924 - val_recall_1: 0.3234\n",
            "Epoch 7/100\n",
            "599/599 [==============================] - 1s 2ms/step - loss: 0.4798 - accuracy: 0.7578 - precision_1: 0.6765 - recall_1: 0.2952 - val_loss: 0.4981 - val_accuracy: 0.7422 - val_precision_1: 0.6202 - val_recall_1: 0.2959\n",
            "Epoch 8/100\n",
            "599/599 [==============================] - 1s 2ms/step - loss: 0.4744 - accuracy: 0.7535 - precision_1: 0.6427 - recall_1: 0.3127 - val_loss: 0.4976 - val_accuracy: 0.7475 - val_precision_1: 0.6576 - val_recall_1: 0.2775\n",
            "Epoch 9/100\n",
            "599/599 [==============================] - 1s 1ms/step - loss: 0.4700 - accuracy: 0.7597 - precision_1: 0.6540 - recall_1: 0.3407 - val_loss: 0.4951 - val_accuracy: 0.7462 - val_precision_1: 0.6628 - val_recall_1: 0.2615\n",
            "Epoch 10/100\n",
            "599/599 [==============================] - 1s 1ms/step - loss: 0.4651 - accuracy: 0.7610 - precision_1: 0.6610 - recall_1: 0.3390 - val_loss: 0.4868 - val_accuracy: 0.7508 - val_precision_1: 0.6068 - val_recall_1: 0.4106\n",
            "Epoch 11/100\n",
            "599/599 [==============================] - 1s 2ms/step - loss: 0.4577 - accuracy: 0.7697 - precision_1: 0.6780 - recall_1: 0.3722 - val_loss: 0.4867 - val_accuracy: 0.7508 - val_precision_1: 0.6615 - val_recall_1: 0.2959\n",
            "Epoch 12/100\n",
            "599/599 [==============================] - 1s 2ms/step - loss: 0.4533 - accuracy: 0.7717 - precision_1: 0.6709 - recall_1: 0.3973 - val_loss: 0.4733 - val_accuracy: 0.7535 - val_precision_1: 0.6426 - val_recall_1: 0.3463\n",
            "Epoch 13/100\n",
            "599/599 [==============================] - 1s 1ms/step - loss: 0.4481 - accuracy: 0.7777 - precision_1: 0.6909 - recall_1: 0.4043 - val_loss: 0.4762 - val_accuracy: 0.7609 - val_precision_1: 0.6970 - val_recall_1: 0.3165\n",
            "Epoch 14/100\n",
            "599/599 [==============================] - 1s 2ms/step - loss: 0.4451 - accuracy: 0.7740 - precision_1: 0.6771 - recall_1: 0.4026 - val_loss: 0.4763 - val_accuracy: 0.7488 - val_precision_1: 0.6596 - val_recall_1: 0.2844\n",
            "Epoch 15/100\n",
            "599/599 [==============================] - 1s 2ms/step - loss: 0.4383 - accuracy: 0.7752 - precision_1: 0.6762 - recall_1: 0.4119 - val_loss: 0.4763 - val_accuracy: 0.7582 - val_precision_1: 0.6121 - val_recall_1: 0.4633\n",
            "Epoch 16/100\n",
            "599/599 [==============================] - 1s 2ms/step - loss: 0.4345 - accuracy: 0.7831 - precision_1: 0.6868 - recall_1: 0.4452 - val_loss: 0.4698 - val_accuracy: 0.7609 - val_precision_1: 0.6912 - val_recall_1: 0.3234\n",
            "Epoch 17/100\n",
            "599/599 [==============================] - 1s 2ms/step - loss: 0.4299 - accuracy: 0.7849 - precision_1: 0.6929 - recall_1: 0.4463 - val_loss: 0.4657 - val_accuracy: 0.7542 - val_precision_1: 0.6012 - val_recall_1: 0.4633\n",
            "Epoch 18/100\n",
            "599/599 [==============================] - 1s 1ms/step - loss: 0.4245 - accuracy: 0.7902 - precision_1: 0.7009 - recall_1: 0.4662 - val_loss: 0.4608 - val_accuracy: 0.7575 - val_precision_1: 0.6540 - val_recall_1: 0.3555\n",
            "Epoch 19/100\n",
            "599/599 [==============================] - 1s 2ms/step - loss: 0.4248 - accuracy: 0.7919 - precision_1: 0.7035 - recall_1: 0.4720 - val_loss: 0.4769 - val_accuracy: 0.7568 - val_precision_1: 0.5947 - val_recall_1: 0.5183\n",
            "Epoch 20/100\n",
            "599/599 [==============================] - 1s 2ms/step - loss: 0.4186 - accuracy: 0.7986 - precision_1: 0.7145 - recall_1: 0.4936 - val_loss: 0.4777 - val_accuracy: 0.7629 - val_precision_1: 0.6209 - val_recall_1: 0.4771\n",
            "Epoch 21/100\n",
            "599/599 [==============================] - 1s 2ms/step - loss: 0.4186 - accuracy: 0.7974 - precision_1: 0.7107 - recall_1: 0.4930 - val_loss: 0.4593 - val_accuracy: 0.7655 - val_precision_1: 0.6502 - val_recall_1: 0.4220\n",
            "Epoch 22/100\n",
            "599/599 [==============================] - 1s 2ms/step - loss: 0.4113 - accuracy: 0.7994 - precision_1: 0.7136 - recall_1: 0.5000 - val_loss: 0.4541 - val_accuracy: 0.7642 - val_precision_1: 0.6156 - val_recall_1: 0.5069\n",
            "Epoch 23/100\n",
            "599/599 [==============================] - 1s 2ms/step - loss: 0.4123 - accuracy: 0.7974 - precision_1: 0.7069 - recall_1: 0.4994 - val_loss: 0.4491 - val_accuracy: 0.7756 - val_precision_1: 0.6543 - val_recall_1: 0.4862\n",
            "Epoch 24/100\n",
            "599/599 [==============================] - 1s 2ms/step - loss: 0.4065 - accuracy: 0.8019 - precision_1: 0.7143 - recall_1: 0.5134 - val_loss: 0.4626 - val_accuracy: 0.7622 - val_precision_1: 0.6190 - val_recall_1: 0.4771\n",
            "Epoch 25/100\n",
            "599/599 [==============================] - 1s 1ms/step - loss: 0.4049 - accuracy: 0.7991 - precision_1: 0.7033 - recall_1: 0.5158 - val_loss: 0.4613 - val_accuracy: 0.7595 - val_precision_1: 0.6348 - val_recall_1: 0.4106\n",
            "Epoch 26/100\n",
            "599/599 [==============================] - 1s 2ms/step - loss: 0.4035 - accuracy: 0.8003 - precision_1: 0.7089 - recall_1: 0.5128 - val_loss: 0.4514 - val_accuracy: 0.7749 - val_precision_1: 0.6514 - val_recall_1: 0.4885\n",
            "Epoch 27/100\n",
            "599/599 [==============================] - 1s 1ms/step - loss: 0.3993 - accuracy: 0.8048 - precision_1: 0.7131 - recall_1: 0.5321 - val_loss: 0.4663 - val_accuracy: 0.7609 - val_precision_1: 0.5809 - val_recall_1: 0.6422\n",
            "Epoch 28/100\n",
            "599/599 [==============================] - 1s 2ms/step - loss: 0.3965 - accuracy: 0.8088 - precision_1: 0.7207 - recall_1: 0.5420 - val_loss: 0.4423 - val_accuracy: 0.7762 - val_precision_1: 0.6340 - val_recall_1: 0.5482\n",
            "Epoch 29/100\n",
            "599/599 [==============================] - 1s 2ms/step - loss: 0.3903 - accuracy: 0.8116 - precision_1: 0.7285 - recall_1: 0.5449 - val_loss: 0.4745 - val_accuracy: 0.7702 - val_precision_1: 0.6523 - val_recall_1: 0.4518\n",
            "Epoch 30/100\n",
            "599/599 [==============================] - 1s 2ms/step - loss: 0.3918 - accuracy: 0.8068 - precision_1: 0.7089 - recall_1: 0.5513 - val_loss: 0.4459 - val_accuracy: 0.7735 - val_precision_1: 0.6702 - val_recall_1: 0.4381\n",
            "Epoch 31/100\n",
            "599/599 [==============================] - 1s 2ms/step - loss: 0.3883 - accuracy: 0.8148 - precision_1: 0.7311 - recall_1: 0.5583 - val_loss: 0.4545 - val_accuracy: 0.7756 - val_precision_1: 0.7016 - val_recall_1: 0.3991\n",
            "Epoch 32/100\n",
            "599/599 [==============================] - 1s 2ms/step - loss: 0.3863 - accuracy: 0.8141 - precision_1: 0.7339 - recall_1: 0.5502 - val_loss: 0.4447 - val_accuracy: 0.7735 - val_precision_1: 0.6366 - val_recall_1: 0.5183\n",
            "Epoch 33/100\n",
            "599/599 [==============================] - 1s 2ms/step - loss: 0.3842 - accuracy: 0.8148 - precision_1: 0.7266 - recall_1: 0.5659 - val_loss: 0.4759 - val_accuracy: 0.7675 - val_precision_1: 0.7268 - val_recall_1: 0.3234\n",
            "Epoch 34/100\n",
            "599/599 [==============================] - 1s 2ms/step - loss: 0.3790 - accuracy: 0.8188 - precision_1: 0.7395 - recall_1: 0.5665 - val_loss: 0.4408 - val_accuracy: 0.7842 - val_precision_1: 0.6771 - val_recall_1: 0.4954\n",
            "Epoch 35/100\n",
            "599/599 [==============================] - 1s 2ms/step - loss: 0.3796 - accuracy: 0.8226 - precision_1: 0.7418 - recall_1: 0.5834 - val_loss: 0.4428 - val_accuracy: 0.7822 - val_precision_1: 0.6545 - val_recall_1: 0.5344\n",
            "Epoch 36/100\n",
            "599/599 [==============================] - 1s 2ms/step - loss: 0.3748 - accuracy: 0.8195 - precision_1: 0.7325 - recall_1: 0.5817 - val_loss: 0.4597 - val_accuracy: 0.7689 - val_precision_1: 0.6731 - val_recall_1: 0.4014\n",
            "Epoch 37/100\n",
            "599/599 [==============================] - 1s 2ms/step - loss: 0.3761 - accuracy: 0.8198 - precision_1: 0.7357 - recall_1: 0.5782 - val_loss: 0.4700 - val_accuracy: 0.7796 - val_precision_1: 0.6559 - val_recall_1: 0.5115\n",
            "Epoch 38/100\n",
            "599/599 [==============================] - 1s 2ms/step - loss: 0.3730 - accuracy: 0.8250 - precision_1: 0.7445 - recall_1: 0.5916 - val_loss: 0.4527 - val_accuracy: 0.7896 - val_precision_1: 0.6945 - val_recall_1: 0.4954\n",
            "Epoch 39/100\n",
            "599/599 [==============================] - 1s 1ms/step - loss: 0.3685 - accuracy: 0.8260 - precision_1: 0.7463 - recall_1: 0.5939 - val_loss: 0.4577 - val_accuracy: 0.7695 - val_precision_1: 0.5996 - val_recall_1: 0.6284\n",
            "Epoch 40/100\n",
            "599/599 [==============================] - 1s 2ms/step - loss: 0.3661 - accuracy: 0.8287 - precision_1: 0.7478 - recall_1: 0.6056 - val_loss: 0.4567 - val_accuracy: 0.7789 - val_precision_1: 0.6471 - val_recall_1: 0.5298\n",
            "Epoch 41/100\n",
            "599/599 [==============================] - 1s 2ms/step - loss: 0.3664 - accuracy: 0.8273 - precision_1: 0.7460 - recall_1: 0.6015 - val_loss: 0.4473 - val_accuracy: 0.7729 - val_precision_1: 0.6678 - val_recall_1: 0.4381\n",
            "Epoch 42/100\n",
            "599/599 [==============================] - 1s 2ms/step - loss: 0.3613 - accuracy: 0.8283 - precision_1: 0.7500 - recall_1: 0.6004 - val_loss: 0.4565 - val_accuracy: 0.7769 - val_precision_1: 0.6491 - val_recall_1: 0.5092\n",
            "Epoch 43/100\n",
            "599/599 [==============================] - 1s 2ms/step - loss: 0.3602 - accuracy: 0.8358 - precision_1: 0.7616 - recall_1: 0.6208 - val_loss: 0.4430 - val_accuracy: 0.7876 - val_precision_1: 0.7169 - val_recall_1: 0.4472\n",
            "Epoch 44/100\n",
            "599/599 [==============================] - 1s 2ms/step - loss: 0.3549 - accuracy: 0.8362 - precision_1: 0.7673 - recall_1: 0.6138 - val_loss: 0.4509 - val_accuracy: 0.7822 - val_precision_1: 0.6396 - val_recall_1: 0.5780\n"
          ],
          "name": "stdout"
        }
      ]
    },
    {
      "cell_type": "code",
      "metadata": {
        "id": "cDYIxhp2KuVr",
        "outputId": "1c188632-3098-4c53-86bd-6d53f03e7615",
        "colab": {
          "base_uri": "https://localhost:8080/"
        }
      },
      "source": [
        "test_loss_9, test_acc_9 = model9.evaluate(X_test, y_test)\n",
        "\n",
        "print('MODEL 1: Loss %f, Accuracy %f' % (test_loss_1, test_acc_1))\n",
        "print('MODEL 9: Loss %f, Accuracy %f' % (test_loss_9, test_acc_9))\n",
        "\n",
        "# perchè con l'early stopping non migliora il risultato?"
      ],
      "execution_count": null,
      "outputs": [
        {
          "output_type": "stream",
          "text": [
            "59/59 [==============================] - 0s 1ms/step - loss: 0.4947 - accuracy: 0.7601\n",
            "MODEL 1: Loss 0.468145, Accuracy 0.780449\n",
            "MODEL 9: Loss 0.494746, Accuracy 0.760150\n"
          ],
          "name": "stdout"
        }
      ]
    },
    {
      "cell_type": "markdown",
      "metadata": {
        "id": "4EecWAujYGEi"
      },
      "source": [
        "# L2 Regularization"
      ]
    },
    {
      "cell_type": "code",
      "metadata": {
        "id": "RJppwfUELTQr"
      },
      "source": [
        "from keras.regularizers import l2\n",
        "\n",
        "def build_L2_model():\n",
        "    # define the model\n",
        "    model = Sequential()\n",
        "\n",
        "    n_feature = X_train.shape[1]\n",
        "    h_dim=100\n",
        "    model.add(Dense(h_dim, activation='relu', input_shape=(n_feature,), kernel_regularizer=l2(0.01)))\n",
        "    model.add(Dense(h_dim, activation='relu', kernel_regularizer=l2(0.01)))\n",
        "    model.add(Dense(h_dim, activation='relu', kernel_regularizer=l2(0.01)))\n",
        "    model.add(Dense(h_dim, activation='relu', kernel_regularizer=l2(0.01)))\n",
        "    #linear activation\n",
        "    model.add(Dense(1))\n",
        "\n",
        "    #compile the model\n",
        "    model.compile(loss='binary_crossentropy', optimizer='adam', metrics=['accuracy'])\n",
        "    \n",
        "    return model"
      ],
      "execution_count": null,
      "outputs": []
    },
    {
      "cell_type": "code",
      "metadata": {
        "id": "h66kI4VDYJ2n",
        "outputId": "29cd7781-c984-4b30-cdef-91294b45271b",
        "colab": {
          "base_uri": "https://localhost:8080/"
        }
      },
      "source": [
        "mc = ModelCheckpoint('best_model_L2.h5', monitor='val_loss', save_best_only=True)\n",
        "\n",
        "L2_model = build_L2_model()\n",
        "h_L2 = L2_model.fit(X_train, y_train, validation_data=(X_val, y_val), epochs=100, \n",
        "                    batch_size=10, callbacks=[es,mc]).history"
      ],
      "execution_count": null,
      "outputs": [
        {
          "output_type": "stream",
          "text": [
            "Epoch 1/100\n",
            "599/599 [==============================] - 1s 2ms/step - loss: 1.7065 - accuracy: 0.7129 - val_loss: 1.0038 - val_accuracy: 0.7128\n",
            "Epoch 2/100\n",
            "599/599 [==============================] - 1s 2ms/step - loss: 0.8279 - accuracy: 0.7188 - val_loss: 0.7184 - val_accuracy: 0.7088\n",
            "Epoch 3/100\n",
            "599/599 [==============================] - 1s 2ms/step - loss: 0.6551 - accuracy: 0.7194 - val_loss: 0.6361 - val_accuracy: 0.7101\n",
            "Epoch 4/100\n",
            "599/599 [==============================] - 1s 2ms/step - loss: 0.5968 - accuracy: 0.7196 - val_loss: 0.5970 - val_accuracy: 0.7088\n",
            "Epoch 5/100\n",
            "599/599 [==============================] - 1s 2ms/step - loss: 0.5773 - accuracy: 0.7199 - val_loss: 0.5902 - val_accuracy: 0.7041\n",
            "Epoch 6/100\n",
            "599/599 [==============================] - 1s 2ms/step - loss: 0.5705 - accuracy: 0.7174 - val_loss: 0.6146 - val_accuracy: 0.7021\n",
            "Epoch 7/100\n",
            "599/599 [==============================] - 1s 2ms/step - loss: 0.5712 - accuracy: 0.7183 - val_loss: 0.5797 - val_accuracy: 0.7154\n",
            "Epoch 8/100\n",
            "599/599 [==============================] - 1s 2ms/step - loss: 0.5659 - accuracy: 0.7208 - val_loss: 0.5825 - val_accuracy: 0.7154\n",
            "Epoch 9/100\n",
            "599/599 [==============================] - 1s 2ms/step - loss: 0.5714 - accuracy: 0.7229 - val_loss: 0.5833 - val_accuracy: 0.7154\n",
            "Epoch 10/100\n",
            "599/599 [==============================] - 1s 2ms/step - loss: 0.5664 - accuracy: 0.7204 - val_loss: 0.5849 - val_accuracy: 0.7181\n",
            "Epoch 11/100\n",
            "599/599 [==============================] - 1s 2ms/step - loss: 0.5704 - accuracy: 0.7178 - val_loss: 0.5833 - val_accuracy: 0.7088\n",
            "Epoch 12/100\n",
            "599/599 [==============================] - 1s 2ms/step - loss: 0.5660 - accuracy: 0.7244 - val_loss: 0.5841 - val_accuracy: 0.7134\n",
            "Epoch 13/100\n",
            "599/599 [==============================] - 1s 2ms/step - loss: 0.5605 - accuracy: 0.7246 - val_loss: 0.6009 - val_accuracy: 0.7208\n",
            "Epoch 14/100\n",
            "599/599 [==============================] - 1s 2ms/step - loss: 0.5704 - accuracy: 0.7256 - val_loss: 0.5796 - val_accuracy: 0.7194\n",
            "Epoch 15/100\n",
            "599/599 [==============================] - 1s 2ms/step - loss: 0.5607 - accuracy: 0.7231 - val_loss: 0.5762 - val_accuracy: 0.7101\n",
            "Epoch 16/100\n",
            "599/599 [==============================] - 1s 2ms/step - loss: 0.5610 - accuracy: 0.7228 - val_loss: 0.5740 - val_accuracy: 0.7121\n",
            "Epoch 17/100\n",
            "599/599 [==============================] - 1s 2ms/step - loss: 0.5625 - accuracy: 0.7256 - val_loss: 0.5816 - val_accuracy: 0.7161\n",
            "Epoch 18/100\n",
            "599/599 [==============================] - 1s 2ms/step - loss: 0.5573 - accuracy: 0.7258 - val_loss: 0.5835 - val_accuracy: 0.7188\n",
            "Epoch 19/100\n",
            "599/599 [==============================] - 1s 2ms/step - loss: 0.5669 - accuracy: 0.7203 - val_loss: 0.5793 - val_accuracy: 0.7168\n",
            "Epoch 20/100\n",
            "599/599 [==============================] - 1s 2ms/step - loss: 0.5543 - accuracy: 0.7248 - val_loss: 0.5775 - val_accuracy: 0.7221\n",
            "Epoch 21/100\n",
            "599/599 [==============================] - 1s 2ms/step - loss: 0.5568 - accuracy: 0.7244 - val_loss: 0.5859 - val_accuracy: 0.7208\n",
            "Epoch 22/100\n",
            "599/599 [==============================] - 1s 2ms/step - loss: 0.5775 - accuracy: 0.7156 - val_loss: 0.6063 - val_accuracy: 0.6900\n",
            "Epoch 23/100\n",
            "599/599 [==============================] - 1s 2ms/step - loss: 0.5563 - accuracy: 0.7228 - val_loss: 0.5693 - val_accuracy: 0.7201\n",
            "Epoch 24/100\n",
            "599/599 [==============================] - 1s 2ms/step - loss: 0.5534 - accuracy: 0.7265 - val_loss: 0.5747 - val_accuracy: 0.7154\n",
            "Epoch 25/100\n",
            "599/599 [==============================] - 1s 2ms/step - loss: 0.5608 - accuracy: 0.7206 - val_loss: 0.5749 - val_accuracy: 0.7174\n",
            "Epoch 26/100\n",
            "599/599 [==============================] - 1s 2ms/step - loss: 0.5575 - accuracy: 0.7238 - val_loss: 0.5702 - val_accuracy: 0.7141\n",
            "Epoch 27/100\n",
            "599/599 [==============================] - 1s 2ms/step - loss: 0.5524 - accuracy: 0.7231 - val_loss: 0.5772 - val_accuracy: 0.7181\n",
            "Epoch 28/100\n",
            "599/599 [==============================] - 1s 2ms/step - loss: 0.5559 - accuracy: 0.7244 - val_loss: 0.5755 - val_accuracy: 0.7214\n",
            "Epoch 29/100\n",
            "599/599 [==============================] - 1s 2ms/step - loss: 0.5541 - accuracy: 0.7260 - val_loss: 0.5717 - val_accuracy: 0.7188\n",
            "Epoch 30/100\n",
            "599/599 [==============================] - 1s 2ms/step - loss: 0.5496 - accuracy: 0.7249 - val_loss: 0.5686 - val_accuracy: 0.7201\n",
            "Epoch 31/100\n",
            "599/599 [==============================] - 1s 2ms/step - loss: 0.5514 - accuracy: 0.7258 - val_loss: 0.5719 - val_accuracy: 0.7141\n",
            "Epoch 32/100\n",
            "599/599 [==============================] - 1s 2ms/step - loss: 0.5511 - accuracy: 0.7281 - val_loss: 0.5658 - val_accuracy: 0.7148\n",
            "Epoch 33/100\n",
            "599/599 [==============================] - 1s 2ms/step - loss: 0.5520 - accuracy: 0.7260 - val_loss: 0.5717 - val_accuracy: 0.7221\n",
            "Epoch 34/100\n",
            "599/599 [==============================] - 1s 2ms/step - loss: 0.5497 - accuracy: 0.7268 - val_loss: 0.5806 - val_accuracy: 0.7201\n",
            "Epoch 35/100\n",
            "599/599 [==============================] - 1s 2ms/step - loss: 0.5549 - accuracy: 0.7263 - val_loss: 0.5719 - val_accuracy: 0.7214\n",
            "Epoch 36/100\n",
            "599/599 [==============================] - 1s 2ms/step - loss: 0.5531 - accuracy: 0.7276 - val_loss: 0.5727 - val_accuracy: 0.7181\n",
            "Epoch 37/100\n",
            "599/599 [==============================] - 1s 2ms/step - loss: 0.5577 - accuracy: 0.7251 - val_loss: 0.5820 - val_accuracy: 0.7228\n",
            "Epoch 38/100\n",
            "599/599 [==============================] - 1s 2ms/step - loss: 0.5580 - accuracy: 0.7218 - val_loss: 0.5712 - val_accuracy: 0.7141\n",
            "Epoch 39/100\n",
            "599/599 [==============================] - 1s 2ms/step - loss: 0.5477 - accuracy: 0.7260 - val_loss: 0.5824 - val_accuracy: 0.7014\n",
            "Epoch 40/100\n",
            "599/599 [==============================] - 1s 2ms/step - loss: 0.5630 - accuracy: 0.7249 - val_loss: 0.5840 - val_accuracy: 0.7214\n",
            "Epoch 41/100\n",
            "599/599 [==============================] - 1s 2ms/step - loss: 0.5622 - accuracy: 0.7265 - val_loss: 0.5687 - val_accuracy: 0.7201\n",
            "Epoch 42/100\n",
            "599/599 [==============================] - 1s 2ms/step - loss: 0.5547 - accuracy: 0.7249 - val_loss: 0.5866 - val_accuracy: 0.7221\n"
          ],
          "name": "stdout"
        }
      ]
    },
    {
      "cell_type": "code",
      "metadata": {
        "id": "d6mKoJLNYiW_",
        "outputId": "588b7c52-1691-49ec-8e2d-b736dbbfc879",
        "colab": {
          "base_uri": "https://localhost:8080/"
        }
      },
      "source": [
        "test_loss_l2, test_acc_l2 = L2_model.evaluate(X_test, y_test)\n",
        "\n",
        "print('MODEL L2: Loss %f, Accuracy %f' % (test_loss_l2, test_acc_l2))\n"
      ],
      "execution_count": null,
      "outputs": [
        {
          "output_type": "stream",
          "text": [
            "59/59 [==============================] - 0s 919us/step - loss: 0.5904 - accuracy: 0.7201\n",
            "MODEL L2: Loss 0.590428, Accuracy 0.720085\n"
          ],
          "name": "stdout"
        },
        {
          "output_type": "execute_result",
          "data": {
            "text/plain": [
              "array([[1334,    0],\n",
              "       [ 538,    0]])"
            ]
          },
          "metadata": {
            "tags": []
          },
          "execution_count": 57
        }
      ]
    },
    {
      "cell_type": "code",
      "metadata": {
        "id": "0J58C6XBY5vL"
      },
      "source": [
        "from keras.layers import Dropout\n",
        "\n",
        "def build_DROPOUT_model():\n",
        "    # define the model\n",
        "    model = Sequential()\n",
        "\n",
        "    n_feature = X_train.shape[1]\n",
        "    h_dim=100\n",
        "    model.add(Dense(h_dim, activation='relu', input_shape=(n_feature,)))\n",
        "    model.add(Dropout(0.2))\n",
        "    model.add(Dense(h_dim, activation='relu'))\n",
        "    model.add(Dropout(0.2))\n",
        "    model.add(Dense(h_dim, activation='relu'))\n",
        "    model.add(Dropout(0.2))\n",
        "    model.add(Dense(h_dim, activation='relu'))\n",
        "    #linear activation\n",
        "    model.add(Dense(1))\n",
        "\n",
        "    #compile the model\n",
        "    model.compile(loss='binary_crossentropy', optimizer='adam', metrics=['accuracy'])\n",
        "    \n",
        "    return model"
      ],
      "execution_count": null,
      "outputs": []
    },
    {
      "cell_type": "code",
      "metadata": {
        "id": "cHsIiyynY-RH",
        "outputId": "86ebcf05-fb83-40c0-8532-14b89ffb3f89",
        "colab": {
          "base_uri": "https://localhost:8080/"
        }
      },
      "source": [
        "mc = ModelCheckpoint('best_model_DROPOUT.h5', monitor='val_loss', save_best_only=True)\n",
        "\n",
        "DROPOUT_model = build_DROPOUT_model()\n",
        "h_DROPOUT = DROPOUT_model.fit(X_train, y_train, validation_data=(X_val, y_val), \n",
        "                              epochs=100, batch_size=10, callbacks=[es,mc]).history"
      ],
      "execution_count": null,
      "outputs": [
        {
          "output_type": "stream",
          "text": [
            "Epoch 1/100\n",
            "599/599 [==============================] - 2s 3ms/step - loss: 0.6157 - accuracy: 0.7051 - val_loss: 0.5500 - val_accuracy: 0.7081\n",
            "Epoch 2/100\n",
            "599/599 [==============================] - 1s 2ms/step - loss: 0.5739 - accuracy: 0.7239 - val_loss: 0.5574 - val_accuracy: 0.6994\n",
            "Epoch 3/100\n",
            "599/599 [==============================] - 1s 2ms/step - loss: 0.5709 - accuracy: 0.7239 - val_loss: 0.5870 - val_accuracy: 0.6974\n",
            "Epoch 4/100\n",
            "599/599 [==============================] - 1s 2ms/step - loss: 0.5705 - accuracy: 0.7188 - val_loss: 0.5553 - val_accuracy: 0.7208\n",
            "Epoch 5/100\n",
            "599/599 [==============================] - 1s 2ms/step - loss: 0.5641 - accuracy: 0.7255 - val_loss: 0.6315 - val_accuracy: 0.7174\n",
            "Epoch 6/100\n",
            "599/599 [==============================] - 1s 2ms/step - loss: 0.5690 - accuracy: 0.7276 - val_loss: 0.5714 - val_accuracy: 0.7141\n",
            "Epoch 7/100\n",
            "599/599 [==============================] - 1s 2ms/step - loss: 0.5713 - accuracy: 0.7268 - val_loss: 0.5937 - val_accuracy: 0.6961\n",
            "Epoch 8/100\n",
            "599/599 [==============================] - 1s 2ms/step - loss: 0.5582 - accuracy: 0.7263 - val_loss: 0.5420 - val_accuracy: 0.7161\n",
            "Epoch 9/100\n",
            "599/599 [==============================] - 1s 2ms/step - loss: 0.5529 - accuracy: 0.7288 - val_loss: 0.5493 - val_accuracy: 0.7261\n",
            "Epoch 10/100\n",
            "599/599 [==============================] - 2s 3ms/step - loss: 0.5620 - accuracy: 0.7270 - val_loss: 0.5327 - val_accuracy: 0.7234\n",
            "Epoch 11/100\n",
            "599/599 [==============================] - 2s 3ms/step - loss: 0.5310 - accuracy: 0.7335 - val_loss: 0.5309 - val_accuracy: 0.7214\n",
            "Epoch 12/100\n",
            "599/599 [==============================] - 1s 2ms/step - loss: 0.5335 - accuracy: 0.7348 - val_loss: 0.5223 - val_accuracy: 0.7255\n",
            "Epoch 13/100\n",
            "599/599 [==============================] - 2s 3ms/step - loss: 0.5225 - accuracy: 0.7368 - val_loss: 0.5361 - val_accuracy: 0.7275\n",
            "Epoch 14/100\n",
            "599/599 [==============================] - 1s 2ms/step - loss: 0.5303 - accuracy: 0.7371 - val_loss: 0.5667 - val_accuracy: 0.7328\n",
            "Epoch 15/100\n",
            "599/599 [==============================] - 1s 2ms/step - loss: 0.5294 - accuracy: 0.7356 - val_loss: 0.5613 - val_accuracy: 0.7422\n",
            "Epoch 16/100\n",
            "599/599 [==============================] - 1s 2ms/step - loss: 0.5276 - accuracy: 0.7368 - val_loss: 0.5199 - val_accuracy: 0.7442\n",
            "Epoch 17/100\n",
            "599/599 [==============================] - 1s 2ms/step - loss: 0.5305 - accuracy: 0.7348 - val_loss: 0.5363 - val_accuracy: 0.7261\n",
            "Epoch 18/100\n",
            "599/599 [==============================] - 1s 2ms/step - loss: 0.5268 - accuracy: 0.7323 - val_loss: 0.5274 - val_accuracy: 0.7201\n",
            "Epoch 19/100\n",
            "599/599 [==============================] - 1s 2ms/step - loss: 0.5398 - accuracy: 0.7391 - val_loss: 0.5337 - val_accuracy: 0.7375\n",
            "Epoch 20/100\n",
            "599/599 [==============================] - 1s 2ms/step - loss: 0.5327 - accuracy: 0.7462 - val_loss: 0.5351 - val_accuracy: 0.7288\n",
            "Epoch 21/100\n",
            "599/599 [==============================] - 1s 2ms/step - loss: 0.5191 - accuracy: 0.7438 - val_loss: 0.5171 - val_accuracy: 0.7442\n",
            "Epoch 22/100\n",
            "599/599 [==============================] - 1s 2ms/step - loss: 0.5221 - accuracy: 0.7442 - val_loss: 0.5590 - val_accuracy: 0.7201\n",
            "Epoch 23/100\n",
            "599/599 [==============================] - 1s 2ms/step - loss: 0.5296 - accuracy: 0.7350 - val_loss: 0.5238 - val_accuracy: 0.7275\n",
            "Epoch 24/100\n",
            "599/599 [==============================] - 1s 2ms/step - loss: 0.5482 - accuracy: 0.7472 - val_loss: 0.5390 - val_accuracy: 0.7328\n",
            "Epoch 25/100\n",
            "599/599 [==============================] - 1s 2ms/step - loss: 0.5263 - accuracy: 0.7465 - val_loss: 0.5358 - val_accuracy: 0.7401\n",
            "Epoch 26/100\n",
            "599/599 [==============================] - 1s 2ms/step - loss: 0.5145 - accuracy: 0.7478 - val_loss: 0.5099 - val_accuracy: 0.7522\n",
            "Epoch 27/100\n",
            "599/599 [==============================] - 1s 2ms/step - loss: 0.5219 - accuracy: 0.7495 - val_loss: 0.5222 - val_accuracy: 0.7415\n",
            "Epoch 28/100\n",
            "599/599 [==============================] - 1s 2ms/step - loss: 0.5222 - accuracy: 0.7442 - val_loss: 0.5519 - val_accuracy: 0.7442\n",
            "Epoch 29/100\n",
            "599/599 [==============================] - 1s 2ms/step - loss: 0.5218 - accuracy: 0.7467 - val_loss: 0.5429 - val_accuracy: 0.7395\n",
            "Epoch 30/100\n",
            "599/599 [==============================] - 1s 2ms/step - loss: 0.5308 - accuracy: 0.7453 - val_loss: 0.5388 - val_accuracy: 0.7435\n",
            "Epoch 31/100\n",
            "599/599 [==============================] - 1s 2ms/step - loss: 0.5257 - accuracy: 0.7495 - val_loss: 0.5401 - val_accuracy: 0.7328\n",
            "Epoch 32/100\n",
            "599/599 [==============================] - 1s 2ms/step - loss: 0.5211 - accuracy: 0.7513 - val_loss: 0.5188 - val_accuracy: 0.7508\n",
            "Epoch 33/100\n",
            "599/599 [==============================] - 1s 2ms/step - loss: 0.5077 - accuracy: 0.7508 - val_loss: 0.5168 - val_accuracy: 0.7422\n",
            "Epoch 34/100\n",
            "599/599 [==============================] - 2s 3ms/step - loss: 0.5245 - accuracy: 0.7535 - val_loss: 0.5498 - val_accuracy: 0.7595\n",
            "Epoch 35/100\n",
            "599/599 [==============================] - 1s 2ms/step - loss: 0.5301 - accuracy: 0.7545 - val_loss: 0.5154 - val_accuracy: 0.7575\n",
            "Epoch 36/100\n",
            "599/599 [==============================] - 1s 2ms/step - loss: 0.5159 - accuracy: 0.7590 - val_loss: 0.5324 - val_accuracy: 0.7488\n"
          ],
          "name": "stdout"
        }
      ]
    },
    {
      "cell_type": "code",
      "metadata": {
        "id": "sKUnnROjZAQl",
        "outputId": "517b3022-717d-4dc5-8102-23752e4ee60b",
        "colab": {
          "base_uri": "https://localhost:8080/"
        }
      },
      "source": [
        "# laod best models and test them\n",
        "from keras.models import load_model\n",
        "\n",
        "best_NOREG_model = load_model('best_model_NOREG.h5')\n",
        "best_L2_model = load_model('best_model_L2.h5')\n",
        "best_DROPOUT_model = load_model('best_model_DROPOUT.h5')\n",
        "\n",
        "loss_NOREG, acc_NOREG = best_NOREG_model.evaluate(X_test, y_test)\n",
        "loss_L2, acc_L2 = best_L2_model.evaluate(X_test, y_test)\n",
        "loss_DROPOUT, acc_DROPOUT = best_DROPOUT_model.evaluate(X_test, y_test)"
      ],
      "execution_count": null,
      "outputs": [
        {
          "output_type": "stream",
          "text": [
            "59/59 [==============================] - 0s 954us/step - loss: 0.4670 - accuracy: 0.7708\n",
            "59/59 [==============================] - 0s 1ms/step - loss: 0.5687 - accuracy: 0.7206\n",
            "59/59 [==============================] - 0s 980us/step - loss: 0.5233 - accuracy: 0.7516\n"
          ],
          "name": "stdout"
        }
      ]
    },
    {
      "cell_type": "code",
      "metadata": {
        "id": "4QVWLi6yZCZv",
        "outputId": "3b087331-573b-4e55-ed1e-4250352b495f",
        "colab": {
          "base_uri": "https://localhost:8080/"
        }
      },
      "source": [
        "print('Loss %f, Accuracy %f' % (loss_NOREG, acc_NOREG))\n",
        "print('Loss %f, Accuracy %f' % (loss_L2, acc_L2))\n",
        "print('Loss %f, Accuracy %f' % (loss_DROPOUT, acc_DROPOUT))"
      ],
      "execution_count": null,
      "outputs": [
        {
          "output_type": "stream",
          "text": [
            "Loss 0.467016, Accuracy 0.770833\n",
            "Loss 0.568670, Accuracy 0.720620\n",
            "Loss 0.523312, Accuracy 0.751603\n"
          ],
          "name": "stdout"
        }
      ]
    },
    {
      "cell_type": "markdown",
      "metadata": {
        "id": "EDxkq_YFbrbr"
      },
      "source": [
        "# Hyper-Parameter Tuning"
      ]
    },
    {
      "cell_type": "code",
      "metadata": {
        "id": "LVNrSfvNZD7j"
      },
      "source": [
        "from keras.wrappers.scikit_learn import KerasRegressor\n",
        "from sklearn.model_selection import RandomizedSearchCV"
      ],
      "execution_count": null,
      "outputs": []
    },
    {
      "cell_type": "code",
      "metadata": {
        "id": "oUKH-nekcOon"
      },
      "source": [
        "def build_model(n_layers=2, h_dim=64, activation='relu', optimizer='adam'):\n",
        "    # define the model\n",
        "    model = Sequential()\n",
        "\n",
        "    n_feature = X_train.shape[1]\n",
        "    \n",
        "    model.add(Dense(h_dim, activation=activation, input_shape=(n_feature,)))\n",
        "    for i in range(n_layers-1):\n",
        "        model.add(Dense(h_dim, activation=activation))\n",
        "    #linear activation\n",
        "    model.add(Dense(1))\n",
        "\n",
        "    #compile the model\n",
        "    model.compile(loss='binary_crossentropy', optimizer=optimizer, metrics=['accuracy',keras.metrics.Precision(), keras.metrics.Recall()])\n",
        "    \n",
        "    return model"
      ],
      "execution_count": null,
      "outputs": []
    },
    {
      "cell_type": "code",
      "metadata": {
        "id": "fTm4O3ExcQW9"
      },
      "source": [
        "n_layers = [1, 2, 3]\n",
        "h_dim = [32, 64, 128]\n",
        "activation = ['relu', 'tanh']\n",
        "optimizer = ['adagrad', 'adam']\n",
        "params = dict(optimizer=optimizer, n_layers=n_layers, h_dim=h_dim, activation=activation)"
      ],
      "execution_count": null,
      "outputs": []
    },
    {
      "cell_type": "code",
      "metadata": {
        "id": "yVpjwVO0cYj5",
        "outputId": "21189ebe-3de3-49d6-9fad-cdebaff1bc63",
        "colab": {
          "base_uri": "https://localhost:8080/",
          "height": 1000
        }
      },
      "source": [
        "# ci mette tanto\n",
        "\n",
        "model = KerasRegressor(build_fn=build_model)\n",
        "\n",
        "rnd = RandomizedSearchCV(estimator=model, param_distributions=params, n_iter=5, cv=3)\n",
        "rnd_result = rnd.fit(X_train, y_train, epochs=100, batch_size=10, verbose=0)"
      ],
      "execution_count": null,
      "outputs": [
        {
          "output_type": "stream",
          "text": [
            "/usr/local/lib/python3.6/dist-packages/sklearn/model_selection/_validation.py:536: FitFailedWarning: Estimator fit failed. The score on this train-test partition for these parameters will be set to nan. Details: \n",
            "tensorflow.python.framework.errors_impl.InvalidArgumentError:  assertion failed: [predictions must be >= 0] [Condition x >= y did not hold element-wise:] [x (sequential_14/dense_62/BiasAdd:0) = ] [[-0.246189564][-0.0751661062][-0.240400642]...] [y (Cast_8/x:0) = ] [0]\n",
            "\t [[{{node assert_greater_equal/Assert/AssertGuard/else/_1/assert_greater_equal/Assert/AssertGuard/Assert}}]] [Op:__inference_train_function_499813]\n",
            "\n",
            "Function call stack:\n",
            "train_function\n",
            "\n",
            "\n",
            "  FitFailedWarning)\n",
            "/usr/local/lib/python3.6/dist-packages/sklearn/model_selection/_validation.py:536: FitFailedWarning: Estimator fit failed. The score on this train-test partition for these parameters will be set to nan. Details: \n",
            "tensorflow.python.framework.errors_impl.InvalidArgumentError:  assertion failed: [predictions must be >= 0] [Condition x >= y did not hold element-wise:] [x (sequential_15/dense_65/BiasAdd:0) = ] [[-0.0510429107][-0.33615309][-0.00916861556]...] [y (Cast_8/x:0) = ] [0]\n",
            "\t [[{{node assert_greater_equal/Assert/AssertGuard/else/_1/assert_greater_equal/Assert/AssertGuard/Assert}}]] [Op:__inference_train_function_500997]\n",
            "\n",
            "Function call stack:\n",
            "train_function\n",
            "\n",
            "\n",
            "  FitFailedWarning)\n",
            "/usr/local/lib/python3.6/dist-packages/sklearn/model_selection/_validation.py:536: FitFailedWarning: Estimator fit failed. The score on this train-test partition for these parameters will be set to nan. Details: \n",
            "tensorflow.python.framework.errors_impl.InvalidArgumentError:  assertion failed: [predictions must be >= 0] [Condition x >= y did not hold element-wise:] [x (sequential_16/dense_68/BiasAdd:0) = ] [[0.0315636955][-0.0568172261][0.093270652]...] [y (Cast_8/x:0) = ] [0]\n",
            "\t [[{{node assert_greater_equal/Assert/AssertGuard/else/_1/assert_greater_equal/Assert/AssertGuard/Assert}}]] [Op:__inference_train_function_502181]\n",
            "\n",
            "Function call stack:\n",
            "train_function\n",
            "\n",
            "\n",
            "  FitFailedWarning)\n",
            "/usr/local/lib/python3.6/dist-packages/sklearn/model_selection/_validation.py:536: FitFailedWarning: Estimator fit failed. The score on this train-test partition for these parameters will be set to nan. Details: \n",
            "tensorflow.python.framework.errors_impl.InvalidArgumentError:  assertion failed: [predictions must be >= 0] [Condition x >= y did not hold element-wise:] [x (sequential_17/dense_70/BiasAdd:0) = ] [[0.0912464857][0.158455327][-0.221103549]...] [y (Cast_8/x:0) = ] [0]\n",
            "\t [[{{node assert_greater_equal/Assert/AssertGuard/else/_1/assert_greater_equal/Assert/AssertGuard/Assert}}]] [Op:__inference_train_function_503384]\n",
            "\n",
            "Function call stack:\n",
            "train_function\n",
            "\n",
            "\n",
            "  FitFailedWarning)\n",
            "/usr/local/lib/python3.6/dist-packages/sklearn/model_selection/_validation.py:536: FitFailedWarning: Estimator fit failed. The score on this train-test partition for these parameters will be set to nan. Details: \n",
            "tensorflow.python.framework.errors_impl.InvalidArgumentError:  assertion failed: [predictions must be >= 0] [Condition x >= y did not hold element-wise:] [x (sequential_18/dense_72/BiasAdd:0) = ] [[-1.60338306][-0.337700605][-0.520909667]...] [y (Cast_8/x:0) = ] [0]\n",
            "\t [[{{node assert_greater_equal/Assert/AssertGuard/else/_1/assert_greater_equal/Assert/AssertGuard/Assert}}]] [Op:__inference_train_function_504587]\n",
            "\n",
            "Function call stack:\n",
            "train_function\n",
            "\n",
            "\n",
            "  FitFailedWarning)\n",
            "/usr/local/lib/python3.6/dist-packages/sklearn/model_selection/_validation.py:536: FitFailedWarning: Estimator fit failed. The score on this train-test partition for these parameters will be set to nan. Details: \n",
            "tensorflow.python.framework.errors_impl.InvalidArgumentError:  assertion failed: [predictions must be >= 0] [Condition x >= y did not hold element-wise:] [x (sequential_19/dense_74/BiasAdd:0) = ] [[-0.818306208][-0.809246063][0.540955782]...] [y (Cast_8/x:0) = ] [0]\n",
            "\t [[{{node assert_greater_equal/Assert/AssertGuard/else/_1/assert_greater_equal/Assert/AssertGuard/Assert}}]] [Op:__inference_train_function_505790]\n",
            "\n",
            "Function call stack:\n",
            "train_function\n",
            "\n",
            "\n",
            "  FitFailedWarning)\n",
            "/usr/local/lib/python3.6/dist-packages/sklearn/model_selection/_validation.py:536: FitFailedWarning: Estimator fit failed. The score on this train-test partition for these parameters will be set to nan. Details: \n",
            "tensorflow.python.framework.errors_impl.InvalidArgumentError:  assertion failed: [predictions must be >= 0] [Condition x >= y did not hold element-wise:] [x (sequential_20/dense_78/BiasAdd:0) = ] [[0.62376368][-0.113235727][-0.817589283]...] [y (Cast_8/x:0) = ] [0]\n",
            "\t [[{{node assert_greater_equal/Assert/AssertGuard/else/_1/assert_greater_equal/Assert/AssertGuard/Assert}}]] [Op:__inference_train_function_507043]\n",
            "\n",
            "Function call stack:\n",
            "train_function\n",
            "\n",
            "\n",
            "  FitFailedWarning)\n",
            "/usr/local/lib/python3.6/dist-packages/sklearn/model_selection/_validation.py:536: FitFailedWarning: Estimator fit failed. The score on this train-test partition for these parameters will be set to nan. Details: \n",
            "tensorflow.python.framework.errors_impl.InvalidArgumentError:  assertion failed: [predictions must be >= 0] [Condition x >= y did not hold element-wise:] [x (sequential_21/dense_82/BiasAdd:0) = ] [[0.0990997106][0.395713508][-0.177164733]...] [y (Cast_8/x:0) = ] [0]\n",
            "\t [[{{node assert_greater_equal/Assert/AssertGuard/else/_1/assert_greater_equal/Assert/AssertGuard/Assert}}]] [Op:__inference_train_function_508296]\n",
            "\n",
            "Function call stack:\n",
            "train_function\n",
            "\n",
            "\n",
            "  FitFailedWarning)\n",
            "/usr/local/lib/python3.6/dist-packages/sklearn/model_selection/_validation.py:536: FitFailedWarning: Estimator fit failed. The score on this train-test partition for these parameters will be set to nan. Details: \n",
            "tensorflow.python.framework.errors_impl.InvalidArgumentError:  assertion failed: [predictions must be >= 0] [Condition x >= y did not hold element-wise:] [x (sequential_22/dense_86/BiasAdd:0) = ] [[0.196653157][-0.0486784875][-0.60588944]...] [y (Cast_8/x:0) = ] [0]\n",
            "\t [[{{node assert_greater_equal/Assert/AssertGuard/else/_1/assert_greater_equal/Assert/AssertGuard/Assert}}]] [Op:__inference_train_function_509549]\n",
            "\n",
            "Function call stack:\n",
            "train_function\n",
            "\n",
            "\n",
            "  FitFailedWarning)\n",
            "/usr/local/lib/python3.6/dist-packages/sklearn/model_selection/_validation.py:536: FitFailedWarning: Estimator fit failed. The score on this train-test partition for these parameters will be set to nan. Details: \n",
            "tensorflow.python.framework.errors_impl.InvalidArgumentError:  assertion failed: [predictions must be >= 0] [Condition x >= y did not hold element-wise:] [x (sequential_23/dense_90/BiasAdd:0) = ] [[0.0214183629][0.247612983][0.10920088]...] [y (Cast_8/x:0) = ] [0]\n",
            "\t [[{{node assert_greater_equal/Assert/AssertGuard/else/_1/assert_greater_equal/Assert/AssertGuard/Assert}}]] [Op:__inference_train_function_510926]\n",
            "\n",
            "Function call stack:\n",
            "train_function\n",
            "\n",
            "\n",
            "  FitFailedWarning)\n",
            "/usr/local/lib/python3.6/dist-packages/sklearn/model_selection/_validation.py:536: FitFailedWarning: Estimator fit failed. The score on this train-test partition for these parameters will be set to nan. Details: \n",
            "tensorflow.python.framework.errors_impl.InvalidArgumentError:  assertion failed: [predictions must be >= 0] [Condition x >= y did not hold element-wise:] [x (sequential_24/dense_94/BiasAdd:0) = ] [[0.367456317][0.595505416][0.0723099783]...] [y (Cast_8/x:0) = ] [0]\n",
            "\t [[{{node assert_greater_equal/Assert/AssertGuard/else/_1/assert_greater_equal/Assert/AssertGuard/Assert}}]] [Op:__inference_train_function_512303]\n",
            "\n",
            "Function call stack:\n",
            "train_function\n",
            "\n",
            "\n",
            "  FitFailedWarning)\n",
            "/usr/local/lib/python3.6/dist-packages/sklearn/model_selection/_validation.py:536: FitFailedWarning: Estimator fit failed. The score on this train-test partition for these parameters will be set to nan. Details: \n",
            "tensorflow.python.framework.errors_impl.InvalidArgumentError:  assertion failed: [predictions must be >= 0] [Condition x >= y did not hold element-wise:] [x (sequential_25/dense_98/BiasAdd:0) = ] [[-0.163685441][0.485401571][-0.149876]...] [y (Cast_8/x:0) = ] [0]\n",
            "\t [[{{node assert_greater_equal/Assert/AssertGuard/else/_1/assert_greater_equal/Assert/AssertGuard/Assert}}]] [Op:__inference_train_function_513680]\n",
            "\n",
            "Function call stack:\n",
            "train_function\n",
            "\n",
            "\n",
            "  FitFailedWarning)\n",
            "/usr/local/lib/python3.6/dist-packages/sklearn/model_selection/_validation.py:536: FitFailedWarning: Estimator fit failed. The score on this train-test partition for these parameters will be set to nan. Details: \n",
            "tensorflow.python.framework.errors_impl.InvalidArgumentError:  assertion failed: [predictions must be >= 0] [Condition x >= y did not hold element-wise:] [x (sequential_26/dense_101/BiasAdd:0) = ] [[0.0782276914][0.0695740581][-0.12522617]...] [y (Cast_8/x:0) = ] [0]\n",
            "\t [[{{node assert_greater_equal/Assert/AssertGuard/else/_1/assert_greater_equal/Assert/AssertGuard/Assert}}]] [Op:__inference_train_function_514970]\n",
            "\n",
            "Function call stack:\n",
            "train_function\n",
            "\n",
            "\n",
            "  FitFailedWarning)\n",
            "/usr/local/lib/python3.6/dist-packages/sklearn/model_selection/_validation.py:536: FitFailedWarning: Estimator fit failed. The score on this train-test partition for these parameters will be set to nan. Details: \n",
            "tensorflow.python.framework.errors_impl.InvalidArgumentError:  assertion failed: [predictions must be >= 0] [Condition x >= y did not hold element-wise:] [x (sequential_27/dense_104/BiasAdd:0) = ] [[0.0973182395][-0.797012866][-0.301686645]...] [y (Cast_8/x:0) = ] [0]\n",
            "\t [[{{node assert_greater_equal/Assert/AssertGuard/else/_1/assert_greater_equal/Assert/AssertGuard/Assert}}]] [Op:__inference_train_function_516260]\n",
            "\n",
            "Function call stack:\n",
            "train_function\n",
            "\n",
            "\n",
            "  FitFailedWarning)\n",
            "/usr/local/lib/python3.6/dist-packages/sklearn/model_selection/_validation.py:536: FitFailedWarning: Estimator fit failed. The score on this train-test partition for these parameters will be set to nan. Details: \n",
            "tensorflow.python.framework.errors_impl.InvalidArgumentError:  assertion failed: [predictions must be >= 0] [Condition x >= y did not hold element-wise:] [x (sequential_28/dense_107/BiasAdd:0) = ] [[0.482280254][0.482431889][0.244200617]...] [y (Cast_8/x:0) = ] [0]\n",
            "\t [[{{node assert_greater_equal/Assert/AssertGuard/else/_1/assert_greater_equal/Assert/AssertGuard/Assert}}]] [Op:__inference_train_function_517550]\n",
            "\n",
            "Function call stack:\n",
            "train_function\n",
            "\n",
            "\n",
            "  FitFailedWarning)\n"
          ],
          "name": "stderr"
        },
        {
          "output_type": "error",
          "ename": "InvalidArgumentError",
          "evalue": "ignored",
          "traceback": [
            "\u001b[0;31m---------------------------------------------------------------------------\u001b[0m",
            "\u001b[0;31mInvalidArgumentError\u001b[0m                      Traceback (most recent call last)",
            "\u001b[0;32m<ipython-input-56-d08fe9d0a38f>\u001b[0m in \u001b[0;36m<module>\u001b[0;34m()\u001b[0m\n\u001b[1;32m      4\u001b[0m \u001b[0;34m\u001b[0m\u001b[0m\n\u001b[1;32m      5\u001b[0m \u001b[0mrnd\u001b[0m \u001b[0;34m=\u001b[0m \u001b[0mRandomizedSearchCV\u001b[0m\u001b[0;34m(\u001b[0m\u001b[0mestimator\u001b[0m\u001b[0;34m=\u001b[0m\u001b[0mmodel\u001b[0m\u001b[0;34m,\u001b[0m \u001b[0mparam_distributions\u001b[0m\u001b[0;34m=\u001b[0m\u001b[0mparams\u001b[0m\u001b[0;34m,\u001b[0m \u001b[0mn_iter\u001b[0m\u001b[0;34m=\u001b[0m\u001b[0;36m5\u001b[0m\u001b[0;34m,\u001b[0m \u001b[0mcv\u001b[0m\u001b[0;34m=\u001b[0m\u001b[0;36m3\u001b[0m\u001b[0;34m)\u001b[0m\u001b[0;34m\u001b[0m\u001b[0;34m\u001b[0m\u001b[0m\n\u001b[0;32m----> 6\u001b[0;31m \u001b[0mrnd_result\u001b[0m \u001b[0;34m=\u001b[0m \u001b[0mrnd\u001b[0m\u001b[0;34m.\u001b[0m\u001b[0mfit\u001b[0m\u001b[0;34m(\u001b[0m\u001b[0mX_train\u001b[0m\u001b[0;34m,\u001b[0m \u001b[0my_train\u001b[0m\u001b[0;34m,\u001b[0m \u001b[0mepochs\u001b[0m\u001b[0;34m=\u001b[0m\u001b[0;36m100\u001b[0m\u001b[0;34m,\u001b[0m \u001b[0mbatch_size\u001b[0m\u001b[0;34m=\u001b[0m\u001b[0;36m10\u001b[0m\u001b[0;34m,\u001b[0m \u001b[0mverbose\u001b[0m\u001b[0;34m=\u001b[0m\u001b[0;36m0\u001b[0m\u001b[0;34m)\u001b[0m\u001b[0;34m\u001b[0m\u001b[0;34m\u001b[0m\u001b[0m\n\u001b[0m",
            "\u001b[0;32m/usr/local/lib/python3.6/dist-packages/sklearn/model_selection/_search.py\u001b[0m in \u001b[0;36mfit\u001b[0;34m(self, X, y, groups, **fit_params)\u001b[0m\n\u001b[1;32m    737\u001b[0m             \u001b[0mrefit_start_time\u001b[0m \u001b[0;34m=\u001b[0m \u001b[0mtime\u001b[0m\u001b[0;34m.\u001b[0m\u001b[0mtime\u001b[0m\u001b[0;34m(\u001b[0m\u001b[0;34m)\u001b[0m\u001b[0;34m\u001b[0m\u001b[0;34m\u001b[0m\u001b[0m\n\u001b[1;32m    738\u001b[0m             \u001b[0;32mif\u001b[0m \u001b[0my\u001b[0m \u001b[0;32mis\u001b[0m \u001b[0;32mnot\u001b[0m \u001b[0;32mNone\u001b[0m\u001b[0;34m:\u001b[0m\u001b[0;34m\u001b[0m\u001b[0;34m\u001b[0m\u001b[0m\n\u001b[0;32m--> 739\u001b[0;31m                 \u001b[0mself\u001b[0m\u001b[0;34m.\u001b[0m\u001b[0mbest_estimator_\u001b[0m\u001b[0;34m.\u001b[0m\u001b[0mfit\u001b[0m\u001b[0;34m(\u001b[0m\u001b[0mX\u001b[0m\u001b[0;34m,\u001b[0m \u001b[0my\u001b[0m\u001b[0;34m,\u001b[0m \u001b[0;34m**\u001b[0m\u001b[0mfit_params\u001b[0m\u001b[0;34m)\u001b[0m\u001b[0;34m\u001b[0m\u001b[0;34m\u001b[0m\u001b[0m\n\u001b[0m\u001b[1;32m    740\u001b[0m             \u001b[0;32melse\u001b[0m\u001b[0;34m:\u001b[0m\u001b[0;34m\u001b[0m\u001b[0;34m\u001b[0m\u001b[0m\n\u001b[1;32m    741\u001b[0m                 \u001b[0mself\u001b[0m\u001b[0;34m.\u001b[0m\u001b[0mbest_estimator_\u001b[0m\u001b[0;34m.\u001b[0m\u001b[0mfit\u001b[0m\u001b[0;34m(\u001b[0m\u001b[0mX\u001b[0m\u001b[0;34m,\u001b[0m \u001b[0;34m**\u001b[0m\u001b[0mfit_params\u001b[0m\u001b[0;34m)\u001b[0m\u001b[0;34m\u001b[0m\u001b[0;34m\u001b[0m\u001b[0m\n",
            "\u001b[0;32m/usr/local/lib/python3.6/dist-packages/tensorflow/python/keras/wrappers/scikit_learn.py\u001b[0m in \u001b[0;36mfit\u001b[0;34m(self, x, y, **kwargs)\u001b[0m\n\u001b[1;32m    164\u001b[0m     \u001b[0mfit_args\u001b[0m\u001b[0;34m.\u001b[0m\u001b[0mupdate\u001b[0m\u001b[0;34m(\u001b[0m\u001b[0mkwargs\u001b[0m\u001b[0;34m)\u001b[0m\u001b[0;34m\u001b[0m\u001b[0;34m\u001b[0m\u001b[0m\n\u001b[1;32m    165\u001b[0m \u001b[0;34m\u001b[0m\u001b[0m\n\u001b[0;32m--> 166\u001b[0;31m     \u001b[0mhistory\u001b[0m \u001b[0;34m=\u001b[0m \u001b[0mself\u001b[0m\u001b[0;34m.\u001b[0m\u001b[0mmodel\u001b[0m\u001b[0;34m.\u001b[0m\u001b[0mfit\u001b[0m\u001b[0;34m(\u001b[0m\u001b[0mx\u001b[0m\u001b[0;34m,\u001b[0m \u001b[0my\u001b[0m\u001b[0;34m,\u001b[0m \u001b[0;34m**\u001b[0m\u001b[0mfit_args\u001b[0m\u001b[0;34m)\u001b[0m\u001b[0;34m\u001b[0m\u001b[0;34m\u001b[0m\u001b[0m\n\u001b[0m\u001b[1;32m    167\u001b[0m \u001b[0;34m\u001b[0m\u001b[0m\n\u001b[1;32m    168\u001b[0m     \u001b[0;32mreturn\u001b[0m \u001b[0mhistory\u001b[0m\u001b[0;34m\u001b[0m\u001b[0;34m\u001b[0m\u001b[0m\n",
            "\u001b[0;32m/usr/local/lib/python3.6/dist-packages/tensorflow/python/keras/engine/training.py\u001b[0m in \u001b[0;36m_method_wrapper\u001b[0;34m(self, *args, **kwargs)\u001b[0m\n\u001b[1;32m    106\u001b[0m   \u001b[0;32mdef\u001b[0m \u001b[0m_method_wrapper\u001b[0m\u001b[0;34m(\u001b[0m\u001b[0mself\u001b[0m\u001b[0;34m,\u001b[0m \u001b[0;34m*\u001b[0m\u001b[0margs\u001b[0m\u001b[0;34m,\u001b[0m \u001b[0;34m**\u001b[0m\u001b[0mkwargs\u001b[0m\u001b[0;34m)\u001b[0m\u001b[0;34m:\u001b[0m\u001b[0;34m\u001b[0m\u001b[0;34m\u001b[0m\u001b[0m\n\u001b[1;32m    107\u001b[0m     \u001b[0;32mif\u001b[0m \u001b[0;32mnot\u001b[0m \u001b[0mself\u001b[0m\u001b[0;34m.\u001b[0m\u001b[0m_in_multi_worker_mode\u001b[0m\u001b[0;34m(\u001b[0m\u001b[0;34m)\u001b[0m\u001b[0;34m:\u001b[0m  \u001b[0;31m# pylint: disable=protected-access\u001b[0m\u001b[0;34m\u001b[0m\u001b[0;34m\u001b[0m\u001b[0m\n\u001b[0;32m--> 108\u001b[0;31m       \u001b[0;32mreturn\u001b[0m \u001b[0mmethod\u001b[0m\u001b[0;34m(\u001b[0m\u001b[0mself\u001b[0m\u001b[0;34m,\u001b[0m \u001b[0;34m*\u001b[0m\u001b[0margs\u001b[0m\u001b[0;34m,\u001b[0m \u001b[0;34m**\u001b[0m\u001b[0mkwargs\u001b[0m\u001b[0;34m)\u001b[0m\u001b[0;34m\u001b[0m\u001b[0;34m\u001b[0m\u001b[0m\n\u001b[0m\u001b[1;32m    109\u001b[0m \u001b[0;34m\u001b[0m\u001b[0m\n\u001b[1;32m    110\u001b[0m     \u001b[0;31m# Running inside `run_distribute_coordinator` already.\u001b[0m\u001b[0;34m\u001b[0m\u001b[0;34m\u001b[0m\u001b[0;34m\u001b[0m\u001b[0m\n",
            "\u001b[0;32m/usr/local/lib/python3.6/dist-packages/tensorflow/python/keras/engine/training.py\u001b[0m in \u001b[0;36mfit\u001b[0;34m(self, x, y, batch_size, epochs, verbose, callbacks, validation_split, validation_data, shuffle, class_weight, sample_weight, initial_epoch, steps_per_epoch, validation_steps, validation_batch_size, validation_freq, max_queue_size, workers, use_multiprocessing)\u001b[0m\n\u001b[1;32m   1096\u001b[0m                 batch_size=batch_size):\n\u001b[1;32m   1097\u001b[0m               \u001b[0mcallbacks\u001b[0m\u001b[0;34m.\u001b[0m\u001b[0mon_train_batch_begin\u001b[0m\u001b[0;34m(\u001b[0m\u001b[0mstep\u001b[0m\u001b[0;34m)\u001b[0m\u001b[0;34m\u001b[0m\u001b[0;34m\u001b[0m\u001b[0m\n\u001b[0;32m-> 1098\u001b[0;31m               \u001b[0mtmp_logs\u001b[0m \u001b[0;34m=\u001b[0m \u001b[0mtrain_function\u001b[0m\u001b[0;34m(\u001b[0m\u001b[0miterator\u001b[0m\u001b[0;34m)\u001b[0m\u001b[0;34m\u001b[0m\u001b[0;34m\u001b[0m\u001b[0m\n\u001b[0m\u001b[1;32m   1099\u001b[0m               \u001b[0;32mif\u001b[0m \u001b[0mdata_handler\u001b[0m\u001b[0;34m.\u001b[0m\u001b[0mshould_sync\u001b[0m\u001b[0;34m:\u001b[0m\u001b[0;34m\u001b[0m\u001b[0;34m\u001b[0m\u001b[0m\n\u001b[1;32m   1100\u001b[0m                 \u001b[0mcontext\u001b[0m\u001b[0;34m.\u001b[0m\u001b[0masync_wait\u001b[0m\u001b[0;34m(\u001b[0m\u001b[0;34m)\u001b[0m\u001b[0;34m\u001b[0m\u001b[0;34m\u001b[0m\u001b[0m\n",
            "\u001b[0;32m/usr/local/lib/python3.6/dist-packages/tensorflow/python/eager/def_function.py\u001b[0m in \u001b[0;36m__call__\u001b[0;34m(self, *args, **kwds)\u001b[0m\n\u001b[1;32m    778\u001b[0m       \u001b[0;32melse\u001b[0m\u001b[0;34m:\u001b[0m\u001b[0;34m\u001b[0m\u001b[0;34m\u001b[0m\u001b[0m\n\u001b[1;32m    779\u001b[0m         \u001b[0mcompiler\u001b[0m \u001b[0;34m=\u001b[0m \u001b[0;34m\"nonXla\"\u001b[0m\u001b[0;34m\u001b[0m\u001b[0;34m\u001b[0m\u001b[0m\n\u001b[0;32m--> 780\u001b[0;31m         \u001b[0mresult\u001b[0m \u001b[0;34m=\u001b[0m \u001b[0mself\u001b[0m\u001b[0;34m.\u001b[0m\u001b[0m_call\u001b[0m\u001b[0;34m(\u001b[0m\u001b[0;34m*\u001b[0m\u001b[0margs\u001b[0m\u001b[0;34m,\u001b[0m \u001b[0;34m**\u001b[0m\u001b[0mkwds\u001b[0m\u001b[0;34m)\u001b[0m\u001b[0;34m\u001b[0m\u001b[0;34m\u001b[0m\u001b[0m\n\u001b[0m\u001b[1;32m    781\u001b[0m \u001b[0;34m\u001b[0m\u001b[0m\n\u001b[1;32m    782\u001b[0m       \u001b[0mnew_tracing_count\u001b[0m \u001b[0;34m=\u001b[0m \u001b[0mself\u001b[0m\u001b[0;34m.\u001b[0m\u001b[0m_get_tracing_count\u001b[0m\u001b[0;34m(\u001b[0m\u001b[0;34m)\u001b[0m\u001b[0;34m\u001b[0m\u001b[0;34m\u001b[0m\u001b[0m\n",
            "\u001b[0;32m/usr/local/lib/python3.6/dist-packages/tensorflow/python/eager/def_function.py\u001b[0m in \u001b[0;36m_call\u001b[0;34m(self, *args, **kwds)\u001b[0m\n\u001b[1;32m    838\u001b[0m         \u001b[0;31m# Lifting succeeded, so variables are initialized and we can run the\u001b[0m\u001b[0;34m\u001b[0m\u001b[0;34m\u001b[0m\u001b[0;34m\u001b[0m\u001b[0m\n\u001b[1;32m    839\u001b[0m         \u001b[0;31m# stateless function.\u001b[0m\u001b[0;34m\u001b[0m\u001b[0;34m\u001b[0m\u001b[0;34m\u001b[0m\u001b[0m\n\u001b[0;32m--> 840\u001b[0;31m         \u001b[0;32mreturn\u001b[0m \u001b[0mself\u001b[0m\u001b[0;34m.\u001b[0m\u001b[0m_stateless_fn\u001b[0m\u001b[0;34m(\u001b[0m\u001b[0;34m*\u001b[0m\u001b[0margs\u001b[0m\u001b[0;34m,\u001b[0m \u001b[0;34m**\u001b[0m\u001b[0mkwds\u001b[0m\u001b[0;34m)\u001b[0m\u001b[0;34m\u001b[0m\u001b[0;34m\u001b[0m\u001b[0m\n\u001b[0m\u001b[1;32m    841\u001b[0m     \u001b[0;32melse\u001b[0m\u001b[0;34m:\u001b[0m\u001b[0;34m\u001b[0m\u001b[0;34m\u001b[0m\u001b[0m\n\u001b[1;32m    842\u001b[0m       \u001b[0mcanon_args\u001b[0m\u001b[0;34m,\u001b[0m \u001b[0mcanon_kwds\u001b[0m \u001b[0;34m=\u001b[0m\u001b[0;31m \u001b[0m\u001b[0;31m\\\u001b[0m\u001b[0;34m\u001b[0m\u001b[0;34m\u001b[0m\u001b[0m\n",
            "\u001b[0;32m/usr/local/lib/python3.6/dist-packages/tensorflow/python/eager/function.py\u001b[0m in \u001b[0;36m__call__\u001b[0;34m(self, *args, **kwargs)\u001b[0m\n\u001b[1;32m   2827\u001b[0m     \u001b[0;32mwith\u001b[0m \u001b[0mself\u001b[0m\u001b[0;34m.\u001b[0m\u001b[0m_lock\u001b[0m\u001b[0;34m:\u001b[0m\u001b[0;34m\u001b[0m\u001b[0;34m\u001b[0m\u001b[0m\n\u001b[1;32m   2828\u001b[0m       \u001b[0mgraph_function\u001b[0m\u001b[0;34m,\u001b[0m \u001b[0margs\u001b[0m\u001b[0;34m,\u001b[0m \u001b[0mkwargs\u001b[0m \u001b[0;34m=\u001b[0m \u001b[0mself\u001b[0m\u001b[0;34m.\u001b[0m\u001b[0m_maybe_define_function\u001b[0m\u001b[0;34m(\u001b[0m\u001b[0margs\u001b[0m\u001b[0;34m,\u001b[0m \u001b[0mkwargs\u001b[0m\u001b[0;34m)\u001b[0m\u001b[0;34m\u001b[0m\u001b[0;34m\u001b[0m\u001b[0m\n\u001b[0;32m-> 2829\u001b[0;31m     \u001b[0;32mreturn\u001b[0m \u001b[0mgraph_function\u001b[0m\u001b[0;34m.\u001b[0m\u001b[0m_filtered_call\u001b[0m\u001b[0;34m(\u001b[0m\u001b[0margs\u001b[0m\u001b[0;34m,\u001b[0m \u001b[0mkwargs\u001b[0m\u001b[0;34m)\u001b[0m  \u001b[0;31m# pylint: disable=protected-access\u001b[0m\u001b[0;34m\u001b[0m\u001b[0;34m\u001b[0m\u001b[0m\n\u001b[0m\u001b[1;32m   2830\u001b[0m \u001b[0;34m\u001b[0m\u001b[0m\n\u001b[1;32m   2831\u001b[0m   \u001b[0;34m@\u001b[0m\u001b[0mproperty\u001b[0m\u001b[0;34m\u001b[0m\u001b[0;34m\u001b[0m\u001b[0m\n",
            "\u001b[0;32m/usr/local/lib/python3.6/dist-packages/tensorflow/python/eager/function.py\u001b[0m in \u001b[0;36m_filtered_call\u001b[0;34m(self, args, kwargs, cancellation_manager)\u001b[0m\n\u001b[1;32m   1846\u001b[0m                            resource_variable_ops.BaseResourceVariable))],\n\u001b[1;32m   1847\u001b[0m         \u001b[0mcaptured_inputs\u001b[0m\u001b[0;34m=\u001b[0m\u001b[0mself\u001b[0m\u001b[0;34m.\u001b[0m\u001b[0mcaptured_inputs\u001b[0m\u001b[0;34m,\u001b[0m\u001b[0;34m\u001b[0m\u001b[0;34m\u001b[0m\u001b[0m\n\u001b[0;32m-> 1848\u001b[0;31m         cancellation_manager=cancellation_manager)\n\u001b[0m\u001b[1;32m   1849\u001b[0m \u001b[0;34m\u001b[0m\u001b[0m\n\u001b[1;32m   1850\u001b[0m   \u001b[0;32mdef\u001b[0m \u001b[0m_call_flat\u001b[0m\u001b[0;34m(\u001b[0m\u001b[0mself\u001b[0m\u001b[0;34m,\u001b[0m \u001b[0margs\u001b[0m\u001b[0;34m,\u001b[0m \u001b[0mcaptured_inputs\u001b[0m\u001b[0;34m,\u001b[0m \u001b[0mcancellation_manager\u001b[0m\u001b[0;34m=\u001b[0m\u001b[0;32mNone\u001b[0m\u001b[0;34m)\u001b[0m\u001b[0;34m:\u001b[0m\u001b[0;34m\u001b[0m\u001b[0;34m\u001b[0m\u001b[0m\n",
            "\u001b[0;32m/usr/local/lib/python3.6/dist-packages/tensorflow/python/eager/function.py\u001b[0m in \u001b[0;36m_call_flat\u001b[0;34m(self, args, captured_inputs, cancellation_manager)\u001b[0m\n\u001b[1;32m   1922\u001b[0m       \u001b[0;31m# No tape is watching; skip to running the function.\u001b[0m\u001b[0;34m\u001b[0m\u001b[0;34m\u001b[0m\u001b[0;34m\u001b[0m\u001b[0m\n\u001b[1;32m   1923\u001b[0m       return self._build_call_outputs(self._inference_function.call(\n\u001b[0;32m-> 1924\u001b[0;31m           ctx, args, cancellation_manager=cancellation_manager))\n\u001b[0m\u001b[1;32m   1925\u001b[0m     forward_backward = self._select_forward_and_backward_functions(\n\u001b[1;32m   1926\u001b[0m         \u001b[0margs\u001b[0m\u001b[0;34m,\u001b[0m\u001b[0;34m\u001b[0m\u001b[0;34m\u001b[0m\u001b[0m\n",
            "\u001b[0;32m/usr/local/lib/python3.6/dist-packages/tensorflow/python/eager/function.py\u001b[0m in \u001b[0;36mcall\u001b[0;34m(self, ctx, args, cancellation_manager)\u001b[0m\n\u001b[1;32m    548\u001b[0m               \u001b[0minputs\u001b[0m\u001b[0;34m=\u001b[0m\u001b[0margs\u001b[0m\u001b[0;34m,\u001b[0m\u001b[0;34m\u001b[0m\u001b[0;34m\u001b[0m\u001b[0m\n\u001b[1;32m    549\u001b[0m               \u001b[0mattrs\u001b[0m\u001b[0;34m=\u001b[0m\u001b[0mattrs\u001b[0m\u001b[0;34m,\u001b[0m\u001b[0;34m\u001b[0m\u001b[0;34m\u001b[0m\u001b[0m\n\u001b[0;32m--> 550\u001b[0;31m               ctx=ctx)\n\u001b[0m\u001b[1;32m    551\u001b[0m         \u001b[0;32melse\u001b[0m\u001b[0;34m:\u001b[0m\u001b[0;34m\u001b[0m\u001b[0;34m\u001b[0m\u001b[0m\n\u001b[1;32m    552\u001b[0m           outputs = execute.execute_with_cancellation(\n",
            "\u001b[0;32m/usr/local/lib/python3.6/dist-packages/tensorflow/python/eager/execute.py\u001b[0m in \u001b[0;36mquick_execute\u001b[0;34m(op_name, num_outputs, inputs, attrs, ctx, name)\u001b[0m\n\u001b[1;32m     58\u001b[0m     \u001b[0mctx\u001b[0m\u001b[0;34m.\u001b[0m\u001b[0mensure_initialized\u001b[0m\u001b[0;34m(\u001b[0m\u001b[0;34m)\u001b[0m\u001b[0;34m\u001b[0m\u001b[0;34m\u001b[0m\u001b[0m\n\u001b[1;32m     59\u001b[0m     tensors = pywrap_tfe.TFE_Py_Execute(ctx._handle, device_name, op_name,\n\u001b[0;32m---> 60\u001b[0;31m                                         inputs, attrs, num_outputs)\n\u001b[0m\u001b[1;32m     61\u001b[0m   \u001b[0;32mexcept\u001b[0m \u001b[0mcore\u001b[0m\u001b[0;34m.\u001b[0m\u001b[0m_NotOkStatusException\u001b[0m \u001b[0;32mas\u001b[0m \u001b[0me\u001b[0m\u001b[0;34m:\u001b[0m\u001b[0;34m\u001b[0m\u001b[0;34m\u001b[0m\u001b[0m\n\u001b[1;32m     62\u001b[0m     \u001b[0;32mif\u001b[0m \u001b[0mname\u001b[0m \u001b[0;32mis\u001b[0m \u001b[0;32mnot\u001b[0m \u001b[0;32mNone\u001b[0m\u001b[0;34m:\u001b[0m\u001b[0;34m\u001b[0m\u001b[0;34m\u001b[0m\u001b[0m\n",
            "\u001b[0;31mInvalidArgumentError\u001b[0m:  assertion failed: [predictions must be >= 0] [Condition x >= y did not hold element-wise:] [x (sequential_29/dense_110/BiasAdd:0) = ] [[-0.0888966322][-0.362367421][-0.181961954]...] [y (Cast_8/x:0) = ] [0]\n\t [[{{node assert_greater_equal/Assert/AssertGuard/else/_1/assert_greater_equal/Assert/AssertGuard/Assert}}]] [Op:__inference_train_function_518734]\n\nFunction call stack:\ntrain_function\n"
          ]
        }
      ]
    },
    {
      "cell_type": "code",
      "metadata": {
        "id": "7HhN76qXcY-N",
        "outputId": "f978e25a-b196-4550-b904-5190733aef4e",
        "colab": {
          "base_uri": "https://localhost:8080/"
        }
      },
      "source": [
        "print(\"Best: %f using %s\" % (-rnd_result.best_score_, rnd_result.best_params_))\n",
        "means = rnd_result.cv_results_['mean_test_score']\n",
        "stds = rnd_result.cv_results_['std_test_score']\n",
        "params = rnd_result.cv_results_['params']\n",
        "for mean, stdev, param in zip(means, stds, params):\n",
        "    print(\"%f (%f) with: %r\" % (-mean, stdev, param))"
      ],
      "execution_count": null,
      "outputs": [
        {
          "output_type": "stream",
          "text": [
            "Best: 0.520098 using {'optimizer': 'adam', 'n_layers': 1, 'h_dim': 32, 'activation': 'relu'}\n",
            "0.529547 (0.030586) with: {'optimizer': 'adam', 'n_layers': 3, 'h_dim': 32, 'activation': 'tanh'}\n",
            "0.755568 (0.296804) with: {'optimizer': 'adagrad', 'n_layers': 3, 'h_dim': 64, 'activation': 'tanh'}\n",
            "0.641325 (0.030434) with: {'optimizer': 'adam', 'n_layers': 2, 'h_dim': 64, 'activation': 'relu'}\n",
            "0.520098 (0.004117) with: {'optimizer': 'adam', 'n_layers': 1, 'h_dim': 32, 'activation': 'relu'}\n",
            "1.784299 (1.765627) with: {'optimizer': 'adagrad', 'n_layers': 3, 'h_dim': 32, 'activation': 'relu'}\n"
          ],
          "name": "stdout"
        }
      ]
    },
    {
      "cell_type": "code",
      "metadata": {
        "id": "wtM-RSaFccrO",
        "outputId": "1772c6ff-568d-4f66-e68e-5087395b3a7c",
        "colab": {
          "base_uri": "https://localhost:8080/"
        }
      },
      "source": [
        "clf = rnd_result.best_estimator_.model\n",
        "\n",
        "loss, acc = clf.evaluate(X_test, y_test)\n",
        "print('Loss %f, Accuracy %f' % (loss, acc))"
      ],
      "execution_count": null,
      "outputs": [
        {
          "output_type": "stream",
          "text": [
            "59/59 [==============================] - 0s 976us/step - loss: 0.5536 - accuracy: 0.7366\n",
            "Loss 0.553638, Accuracy 0.736645\n"
          ],
          "name": "stdout"
        }
      ]
    },
    {
      "cell_type": "code",
      "metadata": {
        "id": "h6ESnomdcfHz"
      },
      "source": [
        ""
      ],
      "execution_count": null,
      "outputs": []
    }
  ]
}