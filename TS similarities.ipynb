{
 "cells": [
  {
   "cell_type": "code",
   "execution_count": 2,
   "metadata": {},
   "outputs": [],
   "source": [
    "%matplotlib inline\n",
    "\n",
    "import numpy as np\n",
    "import pandas as pd\n",
    "import matplotlib.pyplot as plt\n",
    "\n",
    "from collections import defaultdict"
   ]
  },
  {
   "cell_type": "markdown",
   "metadata": {},
   "source": [
    "# Data preparation"
   ]
  },
  {
   "cell_type": "code",
   "execution_count": 3,
   "metadata": {},
   "outputs": [],
   "source": [
    "df = pd.read_csv(\"datatraining.txt\")"
   ]
  },
  {
   "cell_type": "code",
   "execution_count": 4,
   "metadata": {},
   "outputs": [
    {
     "data": {
      "text/html": [
       "<div>\n",
       "<style scoped>\n",
       "    .dataframe tbody tr th:only-of-type {\n",
       "        vertical-align: middle;\n",
       "    }\n",
       "\n",
       "    .dataframe tbody tr th {\n",
       "        vertical-align: top;\n",
       "    }\n",
       "\n",
       "    .dataframe thead th {\n",
       "        text-align: right;\n",
       "    }\n",
       "</style>\n",
       "<table border=\"1\" class=\"dataframe\">\n",
       "  <thead>\n",
       "    <tr style=\"text-align: right;\">\n",
       "      <th></th>\n",
       "      <th>Temperature</th>\n",
       "      <th>Humidity</th>\n",
       "      <th>Light</th>\n",
       "      <th>CO2</th>\n",
       "      <th>HumidityRatio</th>\n",
       "      <th>Occupancy</th>\n",
       "    </tr>\n",
       "    <tr>\n",
       "      <th>date</th>\n",
       "      <th></th>\n",
       "      <th></th>\n",
       "      <th></th>\n",
       "      <th></th>\n",
       "      <th></th>\n",
       "      <th></th>\n",
       "    </tr>\n",
       "  </thead>\n",
       "  <tbody>\n",
       "    <tr>\n",
       "      <th>2015-02-04 17:51:00</th>\n",
       "      <td>23.180000</td>\n",
       "      <td>27.272000</td>\n",
       "      <td>426.0</td>\n",
       "      <td>721.250000</td>\n",
       "      <td>0.004793</td>\n",
       "      <td>1</td>\n",
       "    </tr>\n",
       "    <tr>\n",
       "      <th>2015-02-04 17:51:59</th>\n",
       "      <td>23.150000</td>\n",
       "      <td>27.267500</td>\n",
       "      <td>429.5</td>\n",
       "      <td>714.000000</td>\n",
       "      <td>0.004783</td>\n",
       "      <td>1</td>\n",
       "    </tr>\n",
       "    <tr>\n",
       "      <th>2015-02-04 17:53:00</th>\n",
       "      <td>23.150000</td>\n",
       "      <td>27.245000</td>\n",
       "      <td>426.0</td>\n",
       "      <td>713.500000</td>\n",
       "      <td>0.004779</td>\n",
       "      <td>1</td>\n",
       "    </tr>\n",
       "    <tr>\n",
       "      <th>2015-02-04 17:54:00</th>\n",
       "      <td>23.150000</td>\n",
       "      <td>27.200000</td>\n",
       "      <td>426.0</td>\n",
       "      <td>708.250000</td>\n",
       "      <td>0.004772</td>\n",
       "      <td>1</td>\n",
       "    </tr>\n",
       "    <tr>\n",
       "      <th>2015-02-04 17:55:00</th>\n",
       "      <td>23.100000</td>\n",
       "      <td>27.200000</td>\n",
       "      <td>426.0</td>\n",
       "      <td>704.500000</td>\n",
       "      <td>0.004757</td>\n",
       "      <td>1</td>\n",
       "    </tr>\n",
       "    <tr>\n",
       "      <th>2015-02-04 17:55:59</th>\n",
       "      <td>23.100000</td>\n",
       "      <td>27.200000</td>\n",
       "      <td>419.0</td>\n",
       "      <td>701.000000</td>\n",
       "      <td>0.004757</td>\n",
       "      <td>1</td>\n",
       "    </tr>\n",
       "    <tr>\n",
       "      <th>2015-02-04 17:57:00</th>\n",
       "      <td>23.100000</td>\n",
       "      <td>27.200000</td>\n",
       "      <td>419.0</td>\n",
       "      <td>701.666667</td>\n",
       "      <td>0.004757</td>\n",
       "      <td>1</td>\n",
       "    </tr>\n",
       "    <tr>\n",
       "      <th>2015-02-04 17:57:59</th>\n",
       "      <td>23.100000</td>\n",
       "      <td>27.200000</td>\n",
       "      <td>419.0</td>\n",
       "      <td>699.000000</td>\n",
       "      <td>0.004757</td>\n",
       "      <td>1</td>\n",
       "    </tr>\n",
       "    <tr>\n",
       "      <th>2015-02-04 17:58:59</th>\n",
       "      <td>23.100000</td>\n",
       "      <td>27.200000</td>\n",
       "      <td>419.0</td>\n",
       "      <td>689.333333</td>\n",
       "      <td>0.004757</td>\n",
       "      <td>1</td>\n",
       "    </tr>\n",
       "    <tr>\n",
       "      <th>2015-02-04 18:00:00</th>\n",
       "      <td>23.075000</td>\n",
       "      <td>27.175000</td>\n",
       "      <td>419.0</td>\n",
       "      <td>688.000000</td>\n",
       "      <td>0.004745</td>\n",
       "      <td>1</td>\n",
       "    </tr>\n",
       "    <tr>\n",
       "      <th>2015-02-04 18:01:00</th>\n",
       "      <td>23.075000</td>\n",
       "      <td>27.150000</td>\n",
       "      <td>419.0</td>\n",
       "      <td>690.250000</td>\n",
       "      <td>0.004741</td>\n",
       "      <td>1</td>\n",
       "    </tr>\n",
       "    <tr>\n",
       "      <th>2015-02-04 18:02:00</th>\n",
       "      <td>23.100000</td>\n",
       "      <td>27.100000</td>\n",
       "      <td>419.0</td>\n",
       "      <td>691.000000</td>\n",
       "      <td>0.004739</td>\n",
       "      <td>1</td>\n",
       "    </tr>\n",
       "    <tr>\n",
       "      <th>2015-02-04 18:03:00</th>\n",
       "      <td>23.100000</td>\n",
       "      <td>27.166667</td>\n",
       "      <td>419.0</td>\n",
       "      <td>683.500000</td>\n",
       "      <td>0.004751</td>\n",
       "      <td>1</td>\n",
       "    </tr>\n",
       "    <tr>\n",
       "      <th>2015-02-04 18:04:00</th>\n",
       "      <td>23.050000</td>\n",
       "      <td>27.150000</td>\n",
       "      <td>419.0</td>\n",
       "      <td>687.500000</td>\n",
       "      <td>0.004734</td>\n",
       "      <td>1</td>\n",
       "    </tr>\n",
       "    <tr>\n",
       "      <th>2015-02-04 18:04:59</th>\n",
       "      <td>23.000000</td>\n",
       "      <td>27.125000</td>\n",
       "      <td>419.0</td>\n",
       "      <td>686.000000</td>\n",
       "      <td>0.004715</td>\n",
       "      <td>1</td>\n",
       "    </tr>\n",
       "    <tr>\n",
       "      <th>2015-02-04 18:06:00</th>\n",
       "      <td>23.000000</td>\n",
       "      <td>27.125000</td>\n",
       "      <td>418.5</td>\n",
       "      <td>680.500000</td>\n",
       "      <td>0.004715</td>\n",
       "      <td>1</td>\n",
       "    </tr>\n",
       "    <tr>\n",
       "      <th>2015-02-04 18:07:00</th>\n",
       "      <td>23.000000</td>\n",
       "      <td>27.200000</td>\n",
       "      <td>0.0</td>\n",
       "      <td>681.500000</td>\n",
       "      <td>0.004728</td>\n",
       "      <td>0</td>\n",
       "    </tr>\n",
       "    <tr>\n",
       "      <th>2015-02-04 18:08:00</th>\n",
       "      <td>22.945000</td>\n",
       "      <td>27.290000</td>\n",
       "      <td>0.0</td>\n",
       "      <td>685.000000</td>\n",
       "      <td>0.004728</td>\n",
       "      <td>0</td>\n",
       "    </tr>\n",
       "    <tr>\n",
       "      <th>2015-02-04 18:08:59</th>\n",
       "      <td>22.945000</td>\n",
       "      <td>27.390000</td>\n",
       "      <td>0.0</td>\n",
       "      <td>685.000000</td>\n",
       "      <td>0.004745</td>\n",
       "      <td>0</td>\n",
       "    </tr>\n",
       "    <tr>\n",
       "      <th>2015-02-04 18:10:00</th>\n",
       "      <td>22.890000</td>\n",
       "      <td>27.390000</td>\n",
       "      <td>0.0</td>\n",
       "      <td>689.000000</td>\n",
       "      <td>0.004730</td>\n",
       "      <td>0</td>\n",
       "    </tr>\n",
       "    <tr>\n",
       "      <th>2015-02-04 18:10:59</th>\n",
       "      <td>22.890000</td>\n",
       "      <td>27.390000</td>\n",
       "      <td>0.0</td>\n",
       "      <td>689.500000</td>\n",
       "      <td>0.004730</td>\n",
       "      <td>0</td>\n",
       "    </tr>\n",
       "    <tr>\n",
       "      <th>2015-02-04 18:11:59</th>\n",
       "      <td>22.890000</td>\n",
       "      <td>27.390000</td>\n",
       "      <td>0.0</td>\n",
       "      <td>689.000000</td>\n",
       "      <td>0.004730</td>\n",
       "      <td>0</td>\n",
       "    </tr>\n",
       "    <tr>\n",
       "      <th>2015-02-04 18:13:00</th>\n",
       "      <td>22.890000</td>\n",
       "      <td>27.445000</td>\n",
       "      <td>0.0</td>\n",
       "      <td>691.000000</td>\n",
       "      <td>0.004739</td>\n",
       "      <td>0</td>\n",
       "    </tr>\n",
       "    <tr>\n",
       "      <th>2015-02-04 18:14:00</th>\n",
       "      <td>22.890000</td>\n",
       "      <td>27.500000</td>\n",
       "      <td>0.0</td>\n",
       "      <td>688.000000</td>\n",
       "      <td>0.004749</td>\n",
       "      <td>0</td>\n",
       "    </tr>\n",
       "    <tr>\n",
       "      <th>2015-02-04 18:15:00</th>\n",
       "      <td>22.890000</td>\n",
       "      <td>27.500000</td>\n",
       "      <td>0.0</td>\n",
       "      <td>689.500000</td>\n",
       "      <td>0.004749</td>\n",
       "      <td>0</td>\n",
       "    </tr>\n",
       "    <tr>\n",
       "      <th>2015-02-04 18:16:00</th>\n",
       "      <td>22.790000</td>\n",
       "      <td>27.445000</td>\n",
       "      <td>0.0</td>\n",
       "      <td>689.000000</td>\n",
       "      <td>0.004710</td>\n",
       "      <td>0</td>\n",
       "    </tr>\n",
       "    <tr>\n",
       "      <th>2015-02-04 18:16:59</th>\n",
       "      <td>22.790000</td>\n",
       "      <td>27.500000</td>\n",
       "      <td>0.0</td>\n",
       "      <td>685.666667</td>\n",
       "      <td>0.004720</td>\n",
       "      <td>0</td>\n",
       "    </tr>\n",
       "    <tr>\n",
       "      <th>2015-02-04 18:17:59</th>\n",
       "      <td>22.790000</td>\n",
       "      <td>27.500000</td>\n",
       "      <td>0.0</td>\n",
       "      <td>687.000000</td>\n",
       "      <td>0.004720</td>\n",
       "      <td>0</td>\n",
       "    </tr>\n",
       "    <tr>\n",
       "      <th>2015-02-04 18:19:00</th>\n",
       "      <td>22.790000</td>\n",
       "      <td>27.500000</td>\n",
       "      <td>0.0</td>\n",
       "      <td>688.000000</td>\n",
       "      <td>0.004720</td>\n",
       "      <td>0</td>\n",
       "    </tr>\n",
       "    <tr>\n",
       "      <th>2015-02-04 18:20:00</th>\n",
       "      <td>22.745000</td>\n",
       "      <td>27.500000</td>\n",
       "      <td>0.0</td>\n",
       "      <td>670.000000</td>\n",
       "      <td>0.004707</td>\n",
       "      <td>0</td>\n",
       "    </tr>\n",
       "    <tr>\n",
       "      <th>...</th>\n",
       "      <td>...</td>\n",
       "      <td>...</td>\n",
       "      <td>...</td>\n",
       "      <td>...</td>\n",
       "      <td>...</td>\n",
       "      <td>...</td>\n",
       "    </tr>\n",
       "    <tr>\n",
       "      <th>2015-02-10 09:04:00</th>\n",
       "      <td>20.700000</td>\n",
       "      <td>34.417500</td>\n",
       "      <td>419.0</td>\n",
       "      <td>568.750000</td>\n",
       "      <td>0.005203</td>\n",
       "      <td>1</td>\n",
       "    </tr>\n",
       "    <tr>\n",
       "      <th>2015-02-10 09:04:59</th>\n",
       "      <td>20.700000</td>\n",
       "      <td>34.090000</td>\n",
       "      <td>419.0</td>\n",
       "      <td>556.666667</td>\n",
       "      <td>0.005153</td>\n",
       "      <td>1</td>\n",
       "    </tr>\n",
       "    <tr>\n",
       "      <th>2015-02-10 09:06:00</th>\n",
       "      <td>20.700000</td>\n",
       "      <td>34.296667</td>\n",
       "      <td>419.0</td>\n",
       "      <td>548.000000</td>\n",
       "      <td>0.005184</td>\n",
       "      <td>1</td>\n",
       "    </tr>\n",
       "    <tr>\n",
       "      <th>2015-02-10 09:07:00</th>\n",
       "      <td>20.730000</td>\n",
       "      <td>34.466667</td>\n",
       "      <td>419.0</td>\n",
       "      <td>563.333333</td>\n",
       "      <td>0.005220</td>\n",
       "      <td>1</td>\n",
       "    </tr>\n",
       "    <tr>\n",
       "      <th>2015-02-10 09:08:00</th>\n",
       "      <td>20.745000</td>\n",
       "      <td>34.567500</td>\n",
       "      <td>426.0</td>\n",
       "      <td>593.750000</td>\n",
       "      <td>0.005240</td>\n",
       "      <td>1</td>\n",
       "    </tr>\n",
       "    <tr>\n",
       "      <th>2015-02-10 09:08:59</th>\n",
       "      <td>20.767500</td>\n",
       "      <td>34.717500</td>\n",
       "      <td>422.5</td>\n",
       "      <td>600.750000</td>\n",
       "      <td>0.005270</td>\n",
       "      <td>1</td>\n",
       "    </tr>\n",
       "    <tr>\n",
       "      <th>2015-02-10 09:10:00</th>\n",
       "      <td>20.790000</td>\n",
       "      <td>35.090000</td>\n",
       "      <td>426.0</td>\n",
       "      <td>623.000000</td>\n",
       "      <td>0.005335</td>\n",
       "      <td>1</td>\n",
       "    </tr>\n",
       "    <tr>\n",
       "      <th>2015-02-10 09:10:59</th>\n",
       "      <td>20.790000</td>\n",
       "      <td>34.972500</td>\n",
       "      <td>433.0</td>\n",
       "      <td>631.000000</td>\n",
       "      <td>0.005317</td>\n",
       "      <td>1</td>\n",
       "    </tr>\n",
       "    <tr>\n",
       "      <th>2015-02-10 09:11:59</th>\n",
       "      <td>20.790000</td>\n",
       "      <td>34.826667</td>\n",
       "      <td>433.0</td>\n",
       "      <td>636.000000</td>\n",
       "      <td>0.005295</td>\n",
       "      <td>1</td>\n",
       "    </tr>\n",
       "    <tr>\n",
       "      <th>2015-02-10 09:13:00</th>\n",
       "      <td>20.840000</td>\n",
       "      <td>35.195000</td>\n",
       "      <td>433.0</td>\n",
       "      <td>636.750000</td>\n",
       "      <td>0.005368</td>\n",
       "      <td>1</td>\n",
       "    </tr>\n",
       "    <tr>\n",
       "      <th>2015-02-10 09:14:00</th>\n",
       "      <td>20.890000</td>\n",
       "      <td>35.300000</td>\n",
       "      <td>433.0</td>\n",
       "      <td>663.000000</td>\n",
       "      <td>0.005401</td>\n",
       "      <td>1</td>\n",
       "    </tr>\n",
       "    <tr>\n",
       "      <th>2015-02-10 09:15:00</th>\n",
       "      <td>20.856667</td>\n",
       "      <td>35.096667</td>\n",
       "      <td>433.0</td>\n",
       "      <td>665.333333</td>\n",
       "      <td>0.005358</td>\n",
       "      <td>1</td>\n",
       "    </tr>\n",
       "    <tr>\n",
       "      <th>2015-02-10 09:16:00</th>\n",
       "      <td>20.890000</td>\n",
       "      <td>35.320000</td>\n",
       "      <td>433.0</td>\n",
       "      <td>669.500000</td>\n",
       "      <td>0.005404</td>\n",
       "      <td>1</td>\n",
       "    </tr>\n",
       "    <tr>\n",
       "      <th>2015-02-10 09:16:59</th>\n",
       "      <td>20.917500</td>\n",
       "      <td>35.475000</td>\n",
       "      <td>433.0</td>\n",
       "      <td>679.250000</td>\n",
       "      <td>0.005437</td>\n",
       "      <td>1</td>\n",
       "    </tr>\n",
       "    <tr>\n",
       "      <th>2015-02-10 09:17:59</th>\n",
       "      <td>20.890000</td>\n",
       "      <td>35.400000</td>\n",
       "      <td>433.0</td>\n",
       "      <td>684.666667</td>\n",
       "      <td>0.005416</td>\n",
       "      <td>1</td>\n",
       "    </tr>\n",
       "    <tr>\n",
       "      <th>2015-02-10 09:19:00</th>\n",
       "      <td>20.917500</td>\n",
       "      <td>35.717500</td>\n",
       "      <td>433.0</td>\n",
       "      <td>706.250000</td>\n",
       "      <td>0.005474</td>\n",
       "      <td>1</td>\n",
       "    </tr>\n",
       "    <tr>\n",
       "      <th>2015-02-10 09:20:00</th>\n",
       "      <td>20.958750</td>\n",
       "      <td>35.683750</td>\n",
       "      <td>433.0</td>\n",
       "      <td>712.625000</td>\n",
       "      <td>0.005483</td>\n",
       "      <td>1</td>\n",
       "    </tr>\n",
       "    <tr>\n",
       "      <th>2015-02-10 09:21:00</th>\n",
       "      <td>21.000000</td>\n",
       "      <td>35.650000</td>\n",
       "      <td>433.0</td>\n",
       "      <td>719.000000</td>\n",
       "      <td>0.005492</td>\n",
       "      <td>1</td>\n",
       "    </tr>\n",
       "    <tr>\n",
       "      <th>2015-02-10 09:22:00</th>\n",
       "      <td>21.000000</td>\n",
       "      <td>35.700000</td>\n",
       "      <td>433.0</td>\n",
       "      <td>730.250000</td>\n",
       "      <td>0.005500</td>\n",
       "      <td>1</td>\n",
       "    </tr>\n",
       "    <tr>\n",
       "      <th>2015-02-10 09:23:00</th>\n",
       "      <td>21.000000</td>\n",
       "      <td>35.760000</td>\n",
       "      <td>433.0</td>\n",
       "      <td>739.000000</td>\n",
       "      <td>0.005509</td>\n",
       "      <td>1</td>\n",
       "    </tr>\n",
       "    <tr>\n",
       "      <th>2015-02-10 09:23:59</th>\n",
       "      <td>21.000000</td>\n",
       "      <td>35.850000</td>\n",
       "      <td>433.0</td>\n",
       "      <td>756.250000</td>\n",
       "      <td>0.005523</td>\n",
       "      <td>1</td>\n",
       "    </tr>\n",
       "    <tr>\n",
       "      <th>2015-02-10 09:24:59</th>\n",
       "      <td>21.000000</td>\n",
       "      <td>35.700000</td>\n",
       "      <td>433.0</td>\n",
       "      <td>761.000000</td>\n",
       "      <td>0.005500</td>\n",
       "      <td>1</td>\n",
       "    </tr>\n",
       "    <tr>\n",
       "      <th>2015-02-10 09:26:00</th>\n",
       "      <td>21.025000</td>\n",
       "      <td>35.950000</td>\n",
       "      <td>433.0</td>\n",
       "      <td>763.000000</td>\n",
       "      <td>0.005547</td>\n",
       "      <td>1</td>\n",
       "    </tr>\n",
       "    <tr>\n",
       "      <th>2015-02-10 09:27:00</th>\n",
       "      <td>21.000000</td>\n",
       "      <td>35.860000</td>\n",
       "      <td>433.0</td>\n",
       "      <td>771.333333</td>\n",
       "      <td>0.005525</td>\n",
       "      <td>1</td>\n",
       "    </tr>\n",
       "    <tr>\n",
       "      <th>2015-02-10 09:28:00</th>\n",
       "      <td>21.050000</td>\n",
       "      <td>36.050000</td>\n",
       "      <td>433.0</td>\n",
       "      <td>780.250000</td>\n",
       "      <td>0.005571</td>\n",
       "      <td>1</td>\n",
       "    </tr>\n",
       "    <tr>\n",
       "      <th>2015-02-10 09:29:00</th>\n",
       "      <td>21.050000</td>\n",
       "      <td>36.097500</td>\n",
       "      <td>433.0</td>\n",
       "      <td>787.250000</td>\n",
       "      <td>0.005579</td>\n",
       "      <td>1</td>\n",
       "    </tr>\n",
       "    <tr>\n",
       "      <th>2015-02-10 09:29:59</th>\n",
       "      <td>21.050000</td>\n",
       "      <td>35.995000</td>\n",
       "      <td>433.0</td>\n",
       "      <td>789.500000</td>\n",
       "      <td>0.005563</td>\n",
       "      <td>1</td>\n",
       "    </tr>\n",
       "    <tr>\n",
       "      <th>2015-02-10 09:30:59</th>\n",
       "      <td>21.100000</td>\n",
       "      <td>36.095000</td>\n",
       "      <td>433.0</td>\n",
       "      <td>798.500000</td>\n",
       "      <td>0.005596</td>\n",
       "      <td>1</td>\n",
       "    </tr>\n",
       "    <tr>\n",
       "      <th>2015-02-10 09:32:00</th>\n",
       "      <td>21.100000</td>\n",
       "      <td>36.260000</td>\n",
       "      <td>433.0</td>\n",
       "      <td>820.333333</td>\n",
       "      <td>0.005621</td>\n",
       "      <td>1</td>\n",
       "    </tr>\n",
       "    <tr>\n",
       "      <th>2015-02-10 09:33:00</th>\n",
       "      <td>21.100000</td>\n",
       "      <td>36.200000</td>\n",
       "      <td>447.0</td>\n",
       "      <td>821.000000</td>\n",
       "      <td>0.005612</td>\n",
       "      <td>1</td>\n",
       "    </tr>\n",
       "  </tbody>\n",
       "</table>\n",
       "<p>8143 rows × 6 columns</p>\n",
       "</div>"
      ],
      "text/plain": [
       "                     Temperature   Humidity  Light         CO2  HumidityRatio  \\\n",
       "date                                                                            \n",
       "2015-02-04 17:51:00    23.180000  27.272000  426.0  721.250000       0.004793   \n",
       "2015-02-04 17:51:59    23.150000  27.267500  429.5  714.000000       0.004783   \n",
       "2015-02-04 17:53:00    23.150000  27.245000  426.0  713.500000       0.004779   \n",
       "2015-02-04 17:54:00    23.150000  27.200000  426.0  708.250000       0.004772   \n",
       "2015-02-04 17:55:00    23.100000  27.200000  426.0  704.500000       0.004757   \n",
       "2015-02-04 17:55:59    23.100000  27.200000  419.0  701.000000       0.004757   \n",
       "2015-02-04 17:57:00    23.100000  27.200000  419.0  701.666667       0.004757   \n",
       "2015-02-04 17:57:59    23.100000  27.200000  419.0  699.000000       0.004757   \n",
       "2015-02-04 17:58:59    23.100000  27.200000  419.0  689.333333       0.004757   \n",
       "2015-02-04 18:00:00    23.075000  27.175000  419.0  688.000000       0.004745   \n",
       "2015-02-04 18:01:00    23.075000  27.150000  419.0  690.250000       0.004741   \n",
       "2015-02-04 18:02:00    23.100000  27.100000  419.0  691.000000       0.004739   \n",
       "2015-02-04 18:03:00    23.100000  27.166667  419.0  683.500000       0.004751   \n",
       "2015-02-04 18:04:00    23.050000  27.150000  419.0  687.500000       0.004734   \n",
       "2015-02-04 18:04:59    23.000000  27.125000  419.0  686.000000       0.004715   \n",
       "2015-02-04 18:06:00    23.000000  27.125000  418.5  680.500000       0.004715   \n",
       "2015-02-04 18:07:00    23.000000  27.200000    0.0  681.500000       0.004728   \n",
       "2015-02-04 18:08:00    22.945000  27.290000    0.0  685.000000       0.004728   \n",
       "2015-02-04 18:08:59    22.945000  27.390000    0.0  685.000000       0.004745   \n",
       "2015-02-04 18:10:00    22.890000  27.390000    0.0  689.000000       0.004730   \n",
       "2015-02-04 18:10:59    22.890000  27.390000    0.0  689.500000       0.004730   \n",
       "2015-02-04 18:11:59    22.890000  27.390000    0.0  689.000000       0.004730   \n",
       "2015-02-04 18:13:00    22.890000  27.445000    0.0  691.000000       0.004739   \n",
       "2015-02-04 18:14:00    22.890000  27.500000    0.0  688.000000       0.004749   \n",
       "2015-02-04 18:15:00    22.890000  27.500000    0.0  689.500000       0.004749   \n",
       "2015-02-04 18:16:00    22.790000  27.445000    0.0  689.000000       0.004710   \n",
       "2015-02-04 18:16:59    22.790000  27.500000    0.0  685.666667       0.004720   \n",
       "2015-02-04 18:17:59    22.790000  27.500000    0.0  687.000000       0.004720   \n",
       "2015-02-04 18:19:00    22.790000  27.500000    0.0  688.000000       0.004720   \n",
       "2015-02-04 18:20:00    22.745000  27.500000    0.0  670.000000       0.004707   \n",
       "...                          ...        ...    ...         ...            ...   \n",
       "2015-02-10 09:04:00    20.700000  34.417500  419.0  568.750000       0.005203   \n",
       "2015-02-10 09:04:59    20.700000  34.090000  419.0  556.666667       0.005153   \n",
       "2015-02-10 09:06:00    20.700000  34.296667  419.0  548.000000       0.005184   \n",
       "2015-02-10 09:07:00    20.730000  34.466667  419.0  563.333333       0.005220   \n",
       "2015-02-10 09:08:00    20.745000  34.567500  426.0  593.750000       0.005240   \n",
       "2015-02-10 09:08:59    20.767500  34.717500  422.5  600.750000       0.005270   \n",
       "2015-02-10 09:10:00    20.790000  35.090000  426.0  623.000000       0.005335   \n",
       "2015-02-10 09:10:59    20.790000  34.972500  433.0  631.000000       0.005317   \n",
       "2015-02-10 09:11:59    20.790000  34.826667  433.0  636.000000       0.005295   \n",
       "2015-02-10 09:13:00    20.840000  35.195000  433.0  636.750000       0.005368   \n",
       "2015-02-10 09:14:00    20.890000  35.300000  433.0  663.000000       0.005401   \n",
       "2015-02-10 09:15:00    20.856667  35.096667  433.0  665.333333       0.005358   \n",
       "2015-02-10 09:16:00    20.890000  35.320000  433.0  669.500000       0.005404   \n",
       "2015-02-10 09:16:59    20.917500  35.475000  433.0  679.250000       0.005437   \n",
       "2015-02-10 09:17:59    20.890000  35.400000  433.0  684.666667       0.005416   \n",
       "2015-02-10 09:19:00    20.917500  35.717500  433.0  706.250000       0.005474   \n",
       "2015-02-10 09:20:00    20.958750  35.683750  433.0  712.625000       0.005483   \n",
       "2015-02-10 09:21:00    21.000000  35.650000  433.0  719.000000       0.005492   \n",
       "2015-02-10 09:22:00    21.000000  35.700000  433.0  730.250000       0.005500   \n",
       "2015-02-10 09:23:00    21.000000  35.760000  433.0  739.000000       0.005509   \n",
       "2015-02-10 09:23:59    21.000000  35.850000  433.0  756.250000       0.005523   \n",
       "2015-02-10 09:24:59    21.000000  35.700000  433.0  761.000000       0.005500   \n",
       "2015-02-10 09:26:00    21.025000  35.950000  433.0  763.000000       0.005547   \n",
       "2015-02-10 09:27:00    21.000000  35.860000  433.0  771.333333       0.005525   \n",
       "2015-02-10 09:28:00    21.050000  36.050000  433.0  780.250000       0.005571   \n",
       "2015-02-10 09:29:00    21.050000  36.097500  433.0  787.250000       0.005579   \n",
       "2015-02-10 09:29:59    21.050000  35.995000  433.0  789.500000       0.005563   \n",
       "2015-02-10 09:30:59    21.100000  36.095000  433.0  798.500000       0.005596   \n",
       "2015-02-10 09:32:00    21.100000  36.260000  433.0  820.333333       0.005621   \n",
       "2015-02-10 09:33:00    21.100000  36.200000  447.0  821.000000       0.005612   \n",
       "\n",
       "                     Occupancy  \n",
       "date                            \n",
       "2015-02-04 17:51:00          1  \n",
       "2015-02-04 17:51:59          1  \n",
       "2015-02-04 17:53:00          1  \n",
       "2015-02-04 17:54:00          1  \n",
       "2015-02-04 17:55:00          1  \n",
       "2015-02-04 17:55:59          1  \n",
       "2015-02-04 17:57:00          1  \n",
       "2015-02-04 17:57:59          1  \n",
       "2015-02-04 17:58:59          1  \n",
       "2015-02-04 18:00:00          1  \n",
       "2015-02-04 18:01:00          1  \n",
       "2015-02-04 18:02:00          1  \n",
       "2015-02-04 18:03:00          1  \n",
       "2015-02-04 18:04:00          1  \n",
       "2015-02-04 18:04:59          1  \n",
       "2015-02-04 18:06:00          1  \n",
       "2015-02-04 18:07:00          0  \n",
       "2015-02-04 18:08:00          0  \n",
       "2015-02-04 18:08:59          0  \n",
       "2015-02-04 18:10:00          0  \n",
       "2015-02-04 18:10:59          0  \n",
       "2015-02-04 18:11:59          0  \n",
       "2015-02-04 18:13:00          0  \n",
       "2015-02-04 18:14:00          0  \n",
       "2015-02-04 18:15:00          0  \n",
       "2015-02-04 18:16:00          0  \n",
       "2015-02-04 18:16:59          0  \n",
       "2015-02-04 18:17:59          0  \n",
       "2015-02-04 18:19:00          0  \n",
       "2015-02-04 18:20:00          0  \n",
       "...                        ...  \n",
       "2015-02-10 09:04:00          1  \n",
       "2015-02-10 09:04:59          1  \n",
       "2015-02-10 09:06:00          1  \n",
       "2015-02-10 09:07:00          1  \n",
       "2015-02-10 09:08:00          1  \n",
       "2015-02-10 09:08:59          1  \n",
       "2015-02-10 09:10:00          1  \n",
       "2015-02-10 09:10:59          1  \n",
       "2015-02-10 09:11:59          1  \n",
       "2015-02-10 09:13:00          1  \n",
       "2015-02-10 09:14:00          1  \n",
       "2015-02-10 09:15:00          1  \n",
       "2015-02-10 09:16:00          1  \n",
       "2015-02-10 09:16:59          1  \n",
       "2015-02-10 09:17:59          1  \n",
       "2015-02-10 09:19:00          1  \n",
       "2015-02-10 09:20:00          1  \n",
       "2015-02-10 09:21:00          1  \n",
       "2015-02-10 09:22:00          1  \n",
       "2015-02-10 09:23:00          1  \n",
       "2015-02-10 09:23:59          1  \n",
       "2015-02-10 09:24:59          1  \n",
       "2015-02-10 09:26:00          1  \n",
       "2015-02-10 09:27:00          1  \n",
       "2015-02-10 09:28:00          1  \n",
       "2015-02-10 09:29:00          1  \n",
       "2015-02-10 09:29:59          1  \n",
       "2015-02-10 09:30:59          1  \n",
       "2015-02-10 09:32:00          1  \n",
       "2015-02-10 09:33:00          1  \n",
       "\n",
       "[8143 rows x 6 columns]"
      ]
     },
     "execution_count": 4,
     "metadata": {},
     "output_type": "execute_result"
    }
   ],
   "source": [
    "df['date']= pd.to_datetime(df['date']) \n",
    "df.set_index('date')"
   ]
  },
  {
   "cell_type": "code",
   "execution_count": 5,
   "metadata": {},
   "outputs": [
    {
     "data": {
      "image/png": "[encoded data removed]",
      "text/plain": [
       "<Figure size 432x288 with 1 Axes>"
      ]
     },
     "metadata": {
      "needs_background": "light"
     },
     "output_type": "display_data"
    }
   ],
   "source": [
    "ts1 = df['Temperature']\n",
    "plt.plot(ts1)\n",
    "plt.show()"
   ]
  },
  {
   "cell_type": "code",
   "execution_count": 6,
   "metadata": {},
   "outputs": [
    {
     "data": {
      "image/png": "[encoded data removed]",
      "text/plain": [
       "<Figure size 432x288 with 1 Axes>"
      ]
     },
     "metadata": {
      "needs_background": "light"
     },
     "output_type": "display_data"
    }
   ],
   "source": [
    "ts2 = df['Humidity']\n",
    "plt.plot(ts2)\n",
    "plt.show()"
   ]
  },
  {
   "cell_type": "code",
   "execution_count": 7,
   "metadata": {},
   "outputs": [
    {
     "data": {
      "image/png": "[encoded data removed]",
      "text/plain": [
       "<Figure size 432x288 with 1 Axes>"
      ]
     },
     "metadata": {
      "needs_background": "light"
     },
     "output_type": "display_data"
    }
   ],
   "source": [
    "ts3 = df['CO2']\n",
    "plt.plot(ts3)\n",
    "plt.show()"
   ]
  },
  {
   "cell_type": "code",
   "execution_count": 8,
   "metadata": {},
   "outputs": [
    {
     "data": {
      "image/png": "[encoded data removed]",
      "text/plain": [
       "<Figure size 432x288 with 1 Axes>"
      ]
     },
     "metadata": {
      "needs_background": "light"
     },
     "output_type": "display_data"
    }
   ],
   "source": [
    "ts4 = df['Light']\n",
    "plt.plot(ts4)\n",
    "plt.show()"
   ]
  },
  {
   "cell_type": "markdown",
   "metadata": {},
   "source": [
    "# Transformations"
   ]
  },
  {
   "cell_type": "code",
   "execution_count": 9,
   "metadata": {},
   "outputs": [],
   "source": [
    "#Le time series più simili tra loro sono quelle relative light e temperature, dato il numero e l'intensità dei picchi.\n",
    "#Su queste andrò ad effettuare le trasformazioni per renderle confrontabili."
   ]
  },
  {
   "cell_type": "code",
   "execution_count": 10,
   "metadata": {},
   "outputs": [
    {
     "data": {
      "image/png": "[encoded data removed]",
      "text/plain": [
       "<Figure size 432x288 with 1 Axes>"
      ]
     },
     "metadata": {
      "needs_background": "light"
     },
     "output_type": "display_data"
    }
   ],
   "source": [
    "plt.plot(ts1)\n",
    "plt.plot(ts4)\n",
    "plt.show()"
   ]
  },
  {
   "cell_type": "markdown",
   "metadata": {},
   "source": [
    "## Offset translation"
   ]
  },
  {
   "cell_type": "code",
   "execution_count": 11,
   "metadata": {},
   "outputs": [
    {
     "data": {
      "image/png": "[encoded data removed]",
      "text/plain": [
       "<Figure size 432x288 with 1 Axes>"
      ]
     },
     "metadata": {
      "needs_background": "light"
     },
     "output_type": "display_data"
    }
   ],
   "source": [
    "plt.plot(ts1 - ts1.mean())\n",
    "plt.plot(ts4 - ts4.mean())\n",
    "plt.show()"
   ]
  },
  {
   "cell_type": "markdown",
   "metadata": {},
   "source": [
    "## Ammplitude scaling"
   ]
  },
  {
   "cell_type": "code",
   "execution_count": 12,
   "metadata": {},
   "outputs": [
    {
     "data": {
      "image/png": "[encoded data removed]",
      "text/plain": [
       "<Figure size 432x288 with 1 Axes>"
      ]
     },
     "metadata": {
      "needs_background": "light"
     },
     "output_type": "display_data"
    }
   ],
   "source": [
    "plt.plot((ts1 - ts1.mean())/ts1.std())\n",
    "plt.plot((ts4 - ts4.mean())/ts4.std())\n",
    "plt.show()"
   ]
  },
  {
   "cell_type": "markdown",
   "metadata": {},
   "source": [
    "## Noise smoothing"
   ]
  },
  {
   "cell_type": "code",
   "execution_count": 13,
   "metadata": {},
   "outputs": [
    {
     "data": {
      "image/png": "[encoded data removed]",
      "text/plain": [
       "<Figure size 432x288 with 1 Axes>"
      ]
     },
     "metadata": {
      "needs_background": "light"
     },
     "output_type": "display_data"
    }
   ],
   "source": [
    "w = 400\n",
    "plt.plot(((ts1 - ts1.mean())/ts1.std()).rolling(window=w).mean())\n",
    "plt.plot(((ts4 - ts4.mean())/ts4.std()).rolling(window=w).mean())\n",
    "plt.show()"
   ]
  },
  {
   "cell_type": "markdown",
   "metadata": {},
   "source": [
    "## Trend removal"
   ]
  },
  {
   "cell_type": "code",
   "execution_count": 14,
   "metadata": {},
   "outputs": [
    {
     "data": {
      "image/png": "[encoded data removed]",
      "text/plain": [
       "<Figure size 432x288 with 1 Axes>"
      ]
     },
     "metadata": {
      "needs_background": "light"
     },
     "output_type": "display_data"
    }
   ],
   "source": [
    "plt.plot(ts1)\n",
    "plt.plot(ts1.rolling(window=1400).mean())\n",
    "plt.show()"
   ]
  },
  {
   "cell_type": "code",
   "execution_count": 15,
   "metadata": {},
   "outputs": [
    {
     "data": {
      "image/png": "[encoded data removed]",
      "text/plain": [
       "<Figure size 432x288 with 1 Axes>"
      ]
     },
     "metadata": {
      "needs_background": "light"
     },
     "output_type": "display_data"
    }
   ],
   "source": [
    "ts_shift1 = ts1 - ts1.rolling(window=1400).mean()\n",
    "plt.plot(ts_shift1)\n",
    "plt.show()"
   ]
  },
  {
   "cell_type": "code",
   "execution_count": 21,
   "metadata": {},
   "outputs": [
    {
     "data": {
      "image/png": "[encoded data removed]",
      "text/plain": [
       "<Figure size 432x288 with 1 Axes>"
      ]
     },
     "metadata": {
      "needs_background": "light"
     },
     "output_type": "display_data"
    }
   ],
   "source": [
    "plt.plot(ts4)\n",
    "plt.plot(ts4.rolling(window=1400).mean())\n",
    "plt.show()"
   ]
  },
  {
   "cell_type": "code",
   "execution_count": 22,
   "metadata": {},
   "outputs": [
    {
     "data": {
      "image/png": "[encoded data removed]",
      "text/plain": [
       "<Figure size 432x288 with 1 Axes>"
      ]
     },
     "metadata": {
      "needs_background": "light"
     },
     "output_type": "display_data"
    }
   ],
   "source": [
    "ts_shift2 = ts4 - ts4.rolling(window=1400).mean()\n",
    "plt.plot(ts_shift2)\n",
    "plt.show()"
   ]
  },
  {
   "cell_type": "markdown",
   "metadata": {},
   "source": [
    "# Euclidean distance"
   ]
  },
  {
   "cell_type": "code",
   "execution_count": 16,
   "metadata": {},
   "outputs": [],
   "source": [
    "#effettuo il confronto tra ts1 e ts2 (dato che sono le piu simili)?"
   ]
  },
  {
   "cell_type": "code",
   "execution_count": 17,
   "metadata": {},
   "outputs": [
    {
     "data": {
      "image/png": "[encoded data removed]",
      "text/plain": [
       "<Figure size 432x288 with 1 Axes>"
      ]
     },
     "metadata": {
      "needs_background": "light"
     },
     "output_type": "display_data"
    }
   ],
   "source": [
    "plt.plot(ts1)\n",
    "plt.plot(ts2)\n",
    "plt.show()"
   ]
  },
  {
   "cell_type": "code",
   "execution_count": 18,
   "metadata": {},
   "outputs": [],
   "source": [
    "from scipy.spatial.distance import euclidean"
   ]
  },
  {
   "cell_type": "code",
   "execution_count": 19,
   "metadata": {},
   "outputs": [
    {
     "data": {
      "text/plain": [
       "695.2232842010035"
      ]
     },
     "execution_count": 19,
     "metadata": {},
     "output_type": "execute_result"
    }
   ],
   "source": [
    "dist = euclidean(ts1, ts2)\n",
    "dist"
   ]
  },
  {
   "cell_type": "markdown",
   "metadata": {},
   "source": [
    "# Manhattan distance"
   ]
  },
  {
   "cell_type": "code",
   "execution_count": 20,
   "metadata": {},
   "outputs": [],
   "source": [
    "from scipy.spatial.distance import cityblock"
   ]
  },
  {
   "cell_type": "code",
   "execution_count": 21,
   "metadata": {},
   "outputs": [
    {
     "data": {
      "text/plain": [
       "49510.54875"
      ]
     },
     "execution_count": 21,
     "metadata": {},
     "output_type": "execute_result"
    }
   ],
   "source": [
    "dist = cityblock(ts1, ts2)\n",
    "dist"
   ]
  },
  {
   "cell_type": "markdown",
   "metadata": {},
   "source": [
    "# Dynamic Time Warping"
   ]
  },
  {
   "cell_type": "code",
   "execution_count": 22,
   "metadata": {},
   "outputs": [],
   "source": [
    "from tslearn.metrics import dtw, dtw_path, cdist_dtw, subsequence_cost_matrix"
   ]
  },
  {
   "cell_type": "code",
   "execution_count": 36,
   "metadata": {},
   "outputs": [
    {
     "data": {
      "text/plain": [
       "596.9391813387645"
      ]
     },
     "execution_count": 36,
     "metadata": {},
     "output_type": "execute_result"
    }
   ],
   "source": [
    "dist = dtw(ts1, ts2)\n",
    "dist"
   ]
  },
  {
   "cell_type": "code",
   "execution_count": 43,
   "metadata": {},
   "outputs": [
    {
     "data": {
      "text/plain": [
       "113.05066278750543"
      ]
     },
     "execution_count": 43,
     "metadata": {},
     "output_type": "execute_result"
    }
   ],
   "source": [
    "dist = dtw(ts1[:3500], ts2[:3500])\n",
    "dist"
   ]
  },
  {
   "cell_type": "code",
   "execution_count": 38,
   "metadata": {},
   "outputs": [],
   "source": [
    "path, dist = dtw_path(ts1[:100], ts2[:100])"
   ]
  },
  {
   "cell_type": "code",
   "execution_count": 39,
   "metadata": {},
   "outputs": [
    {
     "data": {
      "text/plain": [
       "[(0, 0),\n",
       " (1, 1),\n",
       " (2, 2),\n",
       " (3, 3),\n",
       " (4, 4),\n",
       " (5, 5),\n",
       " (6, 6),\n",
       " (7, 7),\n",
       " (8, 8),\n",
       " (9, 9),\n",
       " (10, 10),\n",
       " (11, 11),\n",
       " (12, 12),\n",
       " (13, 13),\n",
       " (14, 14),\n",
       " (15, 15),\n",
       " (16, 16),\n",
       " (17, 17),\n",
       " (18, 18),\n",
       " (19, 19),\n",
       " (20, 20),\n",
       " (21, 21),\n",
       " (22, 22),\n",
       " (23, 23),\n",
       " (24, 24),\n",
       " (25, 25),\n",
       " (26, 26),\n",
       " (27, 27),\n",
       " (28, 28),\n",
       " (29, 29),\n",
       " (30, 30),\n",
       " (31, 31),\n",
       " (32, 32),\n",
       " (33, 33),\n",
       " (34, 34),\n",
       " (35, 35),\n",
       " (36, 36),\n",
       " (37, 37),\n",
       " (38, 38),\n",
       " (39, 39),\n",
       " (40, 40),\n",
       " (41, 41),\n",
       " (42, 42),\n",
       " (43, 43),\n",
       " (44, 44),\n",
       " (45, 45),\n",
       " (46, 46),\n",
       " (47, 47),\n",
       " (48, 48),\n",
       " (49, 49),\n",
       " (50, 50),\n",
       " (51, 51),\n",
       " (52, 52),\n",
       " (53, 53),\n",
       " (54, 54),\n",
       " (55, 55),\n",
       " (56, 56),\n",
       " (57, 57),\n",
       " (58, 58),\n",
       " (59, 59),\n",
       " (60, 60),\n",
       " (61, 61),\n",
       " (62, 62),\n",
       " (63, 63),\n",
       " (64, 64),\n",
       " (65, 65),\n",
       " (66, 66),\n",
       " (67, 67),\n",
       " (68, 68),\n",
       " (69, 69),\n",
       " (70, 70),\n",
       " (71, 71),\n",
       " (72, 72),\n",
       " (73, 73),\n",
       " (74, 74),\n",
       " (75, 75),\n",
       " (76, 76),\n",
       " (77, 77),\n",
       " (78, 78),\n",
       " (79, 79),\n",
       " (80, 80),\n",
       " (81, 81),\n",
       " (82, 82),\n",
       " (83, 83),\n",
       " (84, 84),\n",
       " (85, 85),\n",
       " (86, 86),\n",
       " (87, 87),\n",
       " (88, 88),\n",
       " (89, 89),\n",
       " (90, 90),\n",
       " (91, 91),\n",
       " (92, 92),\n",
       " (93, 93),\n",
       " (94, 94),\n",
       " (95, 95),\n",
       " (96, 96),\n",
       " (97, 97),\n",
       " (98, 98),\n",
       " (99, 99)]"
      ]
     },
     "execution_count": 39,
     "metadata": {},
     "output_type": "execute_result"
    }
   ],
   "source": [
    "path"
   ]
  },
  {
   "cell_type": "code",
   "execution_count": 40,
   "metadata": {},
   "outputs": [],
   "source": [
    "from scipy.spatial.distance import cdist"
   ]
  },
  {
   "cell_type": "code",
   "execution_count": 46,
   "metadata": {},
   "outputs": [
    {
     "data": {
      "image/png": "[encoded data removed]",
      "text/plain": [
       "<Figure size 432x288 with 1 Axes>"
      ]
     },
     "metadata": {
      "needs_background": "light"
     },
     "output_type": "display_data"
    }
   ],
   "source": [
    "mat = cdist(ts1.values[:10].reshape(-1,1), ts2.values[:10].reshape(-1,1))\n",
    "\n",
    "plt.imshow(mat)\n",
    "plt.axis(\"off\")\n",
    "plt.autoscale(False)\n",
    "for i in range(mat.shape[0]):\n",
    "    for j in range(mat.shape[1]):\n",
    "        text = plt.text(j, i, '%.1f' % mat[i, j], ha=\"center\", va=\"center\", color=\"w\")\n",
    "        \n",
    "plt.show()"
   ]
  },
  {
   "cell_type": "code",
   "execution_count": 47,
   "metadata": {},
   "outputs": [
    {
     "data": {
      "image/png": "[encoded data removed]",
      "text/plain": [
       "<Figure size 432x288 with 1 Axes>"
      ]
     },
     "metadata": {
      "needs_background": "light"
     },
     "output_type": "display_data"
    }
   ],
   "source": [
    "acc = subsequence_cost_matrix(ts1.values[:10].reshape(-1,1), ts2.values[:10].reshape(-1,1))\n",
    "\n",
    "plt.imshow(acc)\n",
    "plt.axis(\"off\")\n",
    "plt.autoscale(False)\n",
    "for i in range(acc.shape[0]):\n",
    "    for j in range(acc.shape[1]):\n",
    "        text = plt.text(j, i, '%.1f' % np.sqrt(acc[i, j]), ha=\"center\", va=\"center\", color=\"w\")\n",
    "        \n",
    "plt.show()"
   ]
  },
  {
   "cell_type": "code",
   "execution_count": 48,
   "metadata": {},
   "outputs": [
    {
     "data": {
      "image/png": "[encoded data removed]",
      "text/plain": [
       "<Figure size 432x288 with 1 Axes>"
      ]
     },
     "metadata": {
      "needs_background": "light"
     },
     "output_type": "display_data"
    }
   ],
   "source": [
    "plt.imshow(mat)\n",
    "plt.axis(\"off\")\n",
    "plt.autoscale(False)\n",
    "plt.plot([j for (i, j) in path], [i for (i, j) in path], \"w-\", linewidth=3.)\n",
    "plt.show()"
   ]
  },
  {
   "cell_type": "code",
   "execution_count": 49,
   "metadata": {},
   "outputs": [
    {
     "data": {
      "text/plain": [
       "12.951053827777873"
      ]
     },
     "execution_count": 49,
     "metadata": {},
     "output_type": "execute_result"
    }
   ],
   "source": [
    "path, dist = dtw_path(ts1[:10], ts2[:10], global_constraint=\"sakoe_chiba\", sakoe_chiba_radius=2)\n",
    "dist"
   ]
  },
  {
   "cell_type": "code",
   "execution_count": 50,
   "metadata": {},
   "outputs": [
    {
     "data": {
      "image/png": "[encoded data removed]",
      "text/plain": [
       "<Figure size 432x288 with 1 Axes>"
      ]
     },
     "metadata": {
      "needs_background": "light"
     },
     "output_type": "display_data"
    }
   ],
   "source": [
    "plt.imshow(mat)\n",
    "plt.axis(\"off\")\n",
    "plt.autoscale(False)\n",
    "plt.plot([j for (i, j) in path], [i for (i, j) in path], \"w-\", linewidth=3.)\n",
    "plt.show()"
   ]
  },
  {
   "cell_type": "code",
   "execution_count": 51,
   "metadata": {},
   "outputs": [
    {
     "data": {
      "text/plain": [
       "12.951053827777873"
      ]
     },
     "execution_count": 51,
     "metadata": {},
     "output_type": "execute_result"
    }
   ],
   "source": [
    "path, dist = dtw_path(ts1[:10], ts2[:10], global_constraint=\"itakura\", itakura_max_slope=2.)\n",
    "dist"
   ]
  },
  {
   "cell_type": "code",
   "execution_count": 52,
   "metadata": {},
   "outputs": [
    {
     "data": {
      "image/png": "[encoded data removed]",
      "text/plain": [
       "<Figure size 432x288 with 1 Axes>"
      ]
     },
     "metadata": {
      "needs_background": "light"
     },
     "output_type": "display_data"
    }
   ],
   "source": [
    "plt.imshow(mat)\n",
    "plt.axis(\"off\")\n",
    "plt.autoscale(False)\n",
    "plt.plot([j for (i, j) in path], [i for (i, j) in path], \"w-\", linewidth=3.)\n",
    "plt.show()"
   ]
  },
  {
   "cell_type": "code",
   "execution_count": 54,
   "metadata": {},
   "outputs": [
    {
     "data": {
      "text/plain": [
       "array([[    0.        ,   596.93918134, 59975.68559078],\n",
       "       [  596.93918134,     0.        , 59491.48357238],\n",
       "       [59975.68559078, 59491.48357238,     0.        ]])"
      ]
     },
     "execution_count": 54,
     "metadata": {},
     "output_type": "execute_result"
    }
   ],
   "source": [
    "cdist_dtw([ts1, ts2, ts3])"
   ]
  },
  {
   "cell_type": "markdown",
   "metadata": {},
   "source": [
    "# DTW 2"
   ]
  },
  {
   "cell_type": "markdown",
   "metadata": {},
   "source": [
    "# Features extraction"
   ]
  },
  {
   "cell_type": "code",
   "execution_count": 1,
   "metadata": {},
   "outputs": [],
   "source": [
    "import numpy as np\n",
    "import scipy.stats as stats"
   ]
  },
  {
   "cell_type": "code",
   "execution_count": 23,
   "metadata": {},
   "outputs": [],
   "source": [
    "def calculate_features(values):\n",
    "    features = {\n",
    "        'avg': np.mean(values),\n",
    "        'std': np.std(values),\n",
    "        'var': np.var(values),\n",
    "        'med': np.median(values),\n",
    "        '10p': np.percentile(values, 10),\n",
    "        '25p': np.percentile(values, 25),\n",
    "        '50p': np.percentile(values, 50),\n",
    "        '75p': np.percentile(values, 75),\n",
    "        '90p': np.percentile(values, 90),\n",
    "        'iqr': np.percentile(values, 75) - np.percentile(values, 25),\n",
    "        'cov': 1.0 * np.mean(values) / np.std(values),\n",
    "        'skw': stats.skew(values),\n",
    "        'kur': stats.kurtosis(values)\n",
    "    }\n",
    "\n",
    "    return features"
   ]
  },
  {
   "cell_type": "code",
   "execution_count": 25,
   "metadata": {},
   "outputs": [],
   "source": [
    "features = calculate_features(ts1)"
   ]
  },
  {
   "cell_type": "code",
   "execution_count": 26,
   "metadata": {},
   "outputs": [
    {
     "data": {
      "text/plain": [
       "{'avg': 20.61908364034621,\n",
       " 'std': 1.0168539980465523,\n",
       " 'var': 1.0339920533432578,\n",
       " 'med': 20.39,\n",
       " '10p': 19.39,\n",
       " '25p': 19.7,\n",
       " '50p': 20.39,\n",
       " '75p': 21.39,\n",
       " '90p': 22.1,\n",
       " 'iqr': 1.6900000000000013,\n",
       " 'cov': 20.27732956742749,\n",
       " 'skw': 0.4507854277580048,\n",
       " 'kur': -0.8104818088673884}"
      ]
     },
     "execution_count": 26,
     "metadata": {},
     "output_type": "execute_result"
    }
   ],
   "source": [
    "features"
   ]
  },
  {
   "cell_type": "code",
   "execution_count": 28,
   "metadata": {},
   "outputs": [
    {
     "ename": "ModuleNotFoundError",
     "evalue": "No module named 'tsfresh'",
     "output_type": "error",
     "traceback": [
      "\u001b[1;31m---------------------------------------------------------------------------\u001b[0m",
      "\u001b[1;31mModuleNotFoundError\u001b[0m                       Traceback (most recent call last)",
      "\u001b[1;32m<ipython-input-28-e60cd15644e4>\u001b[0m in \u001b[0;36m<module>\u001b[1;34m\u001b[0m\n\u001b[1;32m----> 1\u001b[1;33m \u001b[1;32mfrom\u001b[0m \u001b[0mtsfresh\u001b[0m\u001b[1;33m.\u001b[0m\u001b[0mfeature_extraction\u001b[0m \u001b[1;32mimport\u001b[0m \u001b[0mextract_features\u001b[0m\u001b[1;33m\u001b[0m\u001b[1;33m\u001b[0m\u001b[0m\n\u001b[0m",
      "\u001b[1;31mModuleNotFoundError\u001b[0m: No module named 'tsfresh'"
     ]
    }
   ],
   "source": [
    "from tsfresh.feature_extraction import extract_features"
   ]
  },
  {
   "cell_type": "code",
   "execution_count": null,
   "metadata": {},
   "outputs": [],
   "source": []
  }
 ],
 "metadata": {
  "kernelspec": {
   "display_name": "Python 3",
   "language": "python",
   "name": "python3"
  },
  "language_info": {
   "codemirror_mode": {
    "name": "ipython",
    "version": 3
   },
   "file_extension": ".py",
   "mimetype": "text/x-python",
   "name": "python",
   "nbconvert_exporter": "python",
   "pygments_lexer": "ipython3",
   "version": "3.7.3"
  }
 },
 "nbformat": 4,
 "nbformat_minor": 2
}
