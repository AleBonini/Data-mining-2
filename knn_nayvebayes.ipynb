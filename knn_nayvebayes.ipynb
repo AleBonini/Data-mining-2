{
 "cells": [
  {
   "cell_type": "markdown",
   "metadata": {},
   "source": [
    "Project Task 1 - Basic Classifiers and Evaluation\n",
    "\n",
    "1) Prepare the dataset in order to build several basic classifiers able to predict room occupancy from the available variables. You are welcome in creating new variables.\n",
    "\n",
    "2) Solve the classification task with k-NN (testing values of k), Naive Bayes, Logistic Regression, Decision Tree using cross-validation and/or random/grid search for parameter estimation.\n",
    "\n",
    "3) Evaluate each classifier using Accuracy, Precision, Recall, F1, ROC, AUC and Lift Chart.\n",
    "\n",
    "4) Try to reduce the dimensionality of the dataset using the methods studied (or new ones). Test PCA and try to solve the classification task in two dimensions. Plot the dataset in the two new dimensions and observe the decision boundary and the one of the trained algorithms.\n",
    "\n",
    "5) Analyze the value distribution of the class to predict and turn the dataset into an imbalanced version reaching a strong majority-minority distribution (e.g. 96%-4%). Then solve again the classification task adopting the various techniques studied (or new ones).\n",
    "\n",
    "6) Select two continuous attributes, define a regression problem and try to solve it using different techniques reporting various evaluation measures. Plot the two-dimensional dataset. Then generalize to multiple linear regression and observe how the performance varies.\n",
    "\n",
    "7) Draw your conclusions about the basic classifiers and techniques adopted in this analysis.\n"
   ]
  },
  {
   "cell_type": "code",
   "execution_count": 19,
   "metadata": {},
   "outputs": [],
   "source": [
    "%matplotlib inline\n",
    "import pandas as pd\n",
    "import numpy as np\n",
    "import seaborn as sns\n",
    "import matplotlib.pyplot as plt\n",
    "from collections import defaultdict"
   ]
  },
  {
   "cell_type": "code",
   "execution_count": 20,
   "metadata": {},
   "outputs": [],
   "source": [
    "df_test1 = pd.read_csv(\"datatest.txt\")"
   ]
  },
  {
   "cell_type": "code",
   "execution_count": 21,
   "metadata": {},
   "outputs": [],
   "source": [
    "df_test2 = pd.read_csv(\"datatest2.txt\")"
   ]
  },
  {
   "cell_type": "code",
   "execution_count": 22,
   "metadata": {},
   "outputs": [],
   "source": [
    "df = pd.read_csv(\"datatraining.txt\")"
   ]
  },
  {
   "cell_type": "code",
   "execution_count": 23,
   "metadata": {},
   "outputs": [],
   "source": [
    "def prepare_dataset(df, class_name):\n",
    "    df = remove_missing_values(df)\n",
    "    numeric_columns = get_numeric_columns(df)\n",
    "    rdf = df.copy(deep=True)\n",
    "    df, feature_names, class_values = one_hot_encoding(df, class_name)\n",
    "    real_feature_names = get_real_feature_names(rdf, numeric_columns, class_name)\n",
    "    rdf = rdf[real_feature_names + (class_values if isinstance(class_name, list) else [class_name])]\n",
    "    features_map = get_features_map(feature_names, real_feature_names)\n",
    "\n",
    "    return df, feature_names, class_values, numeric_columns, rdf, real_feature_names, features_map\n",
    "\n",
    "def remove_missing_values(df):\n",
    "    for column_name, nbr_missing in df.isna().sum().to_dict().items():\n",
    "        if nbr_missing > 0:\n",
    "            if column_name in df._get_numeric_data().columns:\n",
    "                mean = df[column_name].mean()\n",
    "                df[column_name].fillna(mean, inplace=True)\n",
    "            else:\n",
    "                mode = df[column_name].mode().values[0]\n",
    "                df[column_name].fillna(mode, inplace=True)\n",
    "    return df\n",
    "\n",
    "def get_numeric_columns(df):\n",
    "    numeric_columns = list(df._get_numeric_data().columns)\n",
    "    return numeric_columns\n",
    "\n",
    "def get_real_feature_names(rdf, numeric_columns, class_name):\n",
    "    real_feature_names = [c for c in rdf.columns if c in numeric_columns and c != class_name]\n",
    "    real_feature_names += [c for c in rdf.columns if c not in numeric_columns and c != class_name]\n",
    "    return real_feature_names\n",
    "\n",
    "def one_hot_encoding(df, class_name):\n",
    "    dfX = pd.get_dummies(df[[c for c in df.columns if c != class_name]], prefix_sep='=')\n",
    "    class_name_map = {v: k for k, v in enumerate(sorted(df[class_name].unique()))}\n",
    "    dfY = df[class_name].map(class_name_map)\n",
    "    df = pd.concat([dfX, dfY], axis=1, join_axes=[dfX.index])\n",
    "    feature_names = list(dfX.columns)\n",
    "    class_values = sorted(class_name_map)\n",
    "    return df, feature_names, class_values\n",
    "\n",
    "def get_features_map(feature_names, real_feature_names):\n",
    "    features_map = defaultdict(dict)\n",
    "    i = 0\n",
    "    j = 0\n",
    "\n",
    "    while i < len(feature_names) and j < len(real_feature_names):\n",
    "        if feature_names[i] == real_feature_names[j]:\n",
    "            features_map[j][feature_names[i]] = j\n",
    "            i += 1\n",
    "            j += 1\n",
    "        elif feature_names[i].startswith(real_feature_names[j]):\n",
    "            features_map[j][feature_names[i]] = j\n",
    "            i += 1\n",
    "        else:\n",
    "            j += 1\n",
    "    return features_map"
   ]
  },
  {
   "cell_type": "code",
   "execution_count": 24,
   "metadata": {},
   "outputs": [
    {
     "data": {
      "text/html": [
       "<div>\n",
       "<style scoped>\n",
       "    .dataframe tbody tr th:only-of-type {\n",
       "        vertical-align: middle;\n",
       "    }\n",
       "\n",
       "    .dataframe tbody tr th {\n",
       "        vertical-align: top;\n",
       "    }\n",
       "\n",
       "    .dataframe thead th {\n",
       "        text-align: right;\n",
       "    }\n",
       "</style>\n",
       "<table border=\"1\" class=\"dataframe\">\n",
       "  <thead>\n",
       "    <tr style=\"text-align: right;\">\n",
       "      <th></th>\n",
       "      <th>date</th>\n",
       "      <th>Temperature</th>\n",
       "      <th>Humidity</th>\n",
       "      <th>Light</th>\n",
       "      <th>CO2</th>\n",
       "      <th>HumidityRatio</th>\n",
       "      <th>Occupancy</th>\n",
       "    </tr>\n",
       "  </thead>\n",
       "  <tbody>\n",
       "    <tr>\n",
       "      <th>1</th>\n",
       "      <td>2015-02-04 17:51:00</td>\n",
       "      <td>23.18</td>\n",
       "      <td>27.2720</td>\n",
       "      <td>426.0</td>\n",
       "      <td>721.25</td>\n",
       "      <td>0.004793</td>\n",
       "      <td>1</td>\n",
       "    </tr>\n",
       "    <tr>\n",
       "      <th>2</th>\n",
       "      <td>2015-02-04 17:51:59</td>\n",
       "      <td>23.15</td>\n",
       "      <td>27.2675</td>\n",
       "      <td>429.5</td>\n",
       "      <td>714.00</td>\n",
       "      <td>0.004783</td>\n",
       "      <td>1</td>\n",
       "    </tr>\n",
       "    <tr>\n",
       "      <th>3</th>\n",
       "      <td>2015-02-04 17:53:00</td>\n",
       "      <td>23.15</td>\n",
       "      <td>27.2450</td>\n",
       "      <td>426.0</td>\n",
       "      <td>713.50</td>\n",
       "      <td>0.004779</td>\n",
       "      <td>1</td>\n",
       "    </tr>\n",
       "    <tr>\n",
       "      <th>4</th>\n",
       "      <td>2015-02-04 17:54:00</td>\n",
       "      <td>23.15</td>\n",
       "      <td>27.2000</td>\n",
       "      <td>426.0</td>\n",
       "      <td>708.25</td>\n",
       "      <td>0.004772</td>\n",
       "      <td>1</td>\n",
       "    </tr>\n",
       "    <tr>\n",
       "      <th>5</th>\n",
       "      <td>2015-02-04 17:55:00</td>\n",
       "      <td>23.10</td>\n",
       "      <td>27.2000</td>\n",
       "      <td>426.0</td>\n",
       "      <td>704.50</td>\n",
       "      <td>0.004757</td>\n",
       "      <td>1</td>\n",
       "    </tr>\n",
       "  </tbody>\n",
       "</table>\n",
       "</div>"
      ],
      "text/plain": [
       "                  date  Temperature  Humidity  Light     CO2  HumidityRatio  \\\n",
       "1  2015-02-04 17:51:00        23.18   27.2720  426.0  721.25       0.004793   \n",
       "2  2015-02-04 17:51:59        23.15   27.2675  429.5  714.00       0.004783   \n",
       "3  2015-02-04 17:53:00        23.15   27.2450  426.0  713.50       0.004779   \n",
       "4  2015-02-04 17:54:00        23.15   27.2000  426.0  708.25       0.004772   \n",
       "5  2015-02-04 17:55:00        23.10   27.2000  426.0  704.50       0.004757   \n",
       "\n",
       "   Occupancy  \n",
       "1          1  \n",
       "2          1  \n",
       "3          1  \n",
       "4          1  \n",
       "5          1  "
      ]
     },
     "execution_count": 24,
     "metadata": {},
     "output_type": "execute_result"
    }
   ],
   "source": [
    "df.head()"
   ]
  },
  {
   "cell_type": "code",
   "execution_count": 25,
   "metadata": {},
   "outputs": [
    {
     "name": "stdout",
     "output_type": "stream",
     "text": [
      "<class 'pandas.core.frame.DataFrame'>\n",
      "Int64Index: 8143 entries, 1 to 8143\n",
      "Data columns (total 7 columns):\n",
      "date             8143 non-null object\n",
      "Temperature      8143 non-null float64\n",
      "Humidity         8143 non-null float64\n",
      "Light            8143 non-null float64\n",
      "CO2              8143 non-null float64\n",
      "HumidityRatio    8143 non-null float64\n",
      "Occupancy        8143 non-null int64\n",
      "dtypes: float64(5), int64(1), object(1)\n",
      "memory usage: 508.9+ KB\n"
     ]
    }
   ],
   "source": [
    "df.info()"
   ]
  },
  {
   "cell_type": "code",
   "execution_count": 26,
   "metadata": {},
   "outputs": [],
   "source": [
    "#aggiunta variabili ora e data scomponendo 'date'\n",
    "dates = pd.to_datetime(df['date'], infer_datetime_format=True)\n",
    "df['day'] = dates.dt.day\n",
    "df['hour'] = dates.dt.hour"
   ]
  },
  {
   "cell_type": "code",
   "execution_count": 27,
   "metadata": {},
   "outputs": [],
   "source": [
    "#aggiunta variabile binaria weekend\n",
    "weekend = []\n",
    "for i in df.day:\n",
    "    if i == 7 or i == 8:\n",
    "        weekend.append(1)\n",
    "    else:\n",
    "        weekend.append(0)\n",
    "weekend = pd.Series(weekend)\n",
    "df['weekend'] = weekend"
   ]
  },
  {
   "cell_type": "code",
   "execution_count": 28,
   "metadata": {},
   "outputs": [],
   "source": [
    "#aggiunta variabile binaria daylight\n",
    "daylight = []\n",
    "for i in df.hour:\n",
    "    if i >= 7 and i <= 17:\n",
    "        daylight.append(1)\n",
    "    else:\n",
    "        daylight.append(0)\n",
    "daylight = pd.Series(daylight)\n",
    "df['daylight'] = daylight"
   ]
  },
  {
   "cell_type": "code",
   "execution_count": 29,
   "metadata": {},
   "outputs": [
    {
     "data": {
      "text/html": [
       "<div>\n",
       "<style scoped>\n",
       "    .dataframe tbody tr th:only-of-type {\n",
       "        vertical-align: middle;\n",
       "    }\n",
       "\n",
       "    .dataframe tbody tr th {\n",
       "        vertical-align: top;\n",
       "    }\n",
       "\n",
       "    .dataframe thead th {\n",
       "        text-align: right;\n",
       "    }\n",
       "</style>\n",
       "<table border=\"1\" class=\"dataframe\">\n",
       "  <thead>\n",
       "    <tr style=\"text-align: right;\">\n",
       "      <th></th>\n",
       "      <th>date</th>\n",
       "      <th>Temperature</th>\n",
       "      <th>Humidity</th>\n",
       "      <th>Light</th>\n",
       "      <th>CO2</th>\n",
       "      <th>HumidityRatio</th>\n",
       "      <th>Occupancy</th>\n",
       "      <th>day</th>\n",
       "      <th>hour</th>\n",
       "      <th>weekend</th>\n",
       "      <th>daylight</th>\n",
       "    </tr>\n",
       "  </thead>\n",
       "  <tbody>\n",
       "    <tr>\n",
       "      <th>1</th>\n",
       "      <td>2015-02-04 17:51:00</td>\n",
       "      <td>23.18</td>\n",
       "      <td>27.2720</td>\n",
       "      <td>426.0</td>\n",
       "      <td>721.25</td>\n",
       "      <td>0.004793</td>\n",
       "      <td>1</td>\n",
       "      <td>4</td>\n",
       "      <td>17</td>\n",
       "      <td>0.0</td>\n",
       "      <td>1.0</td>\n",
       "    </tr>\n",
       "    <tr>\n",
       "      <th>2</th>\n",
       "      <td>2015-02-04 17:51:59</td>\n",
       "      <td>23.15</td>\n",
       "      <td>27.2675</td>\n",
       "      <td>429.5</td>\n",
       "      <td>714.00</td>\n",
       "      <td>0.004783</td>\n",
       "      <td>1</td>\n",
       "      <td>4</td>\n",
       "      <td>17</td>\n",
       "      <td>0.0</td>\n",
       "      <td>1.0</td>\n",
       "    </tr>\n",
       "    <tr>\n",
       "      <th>3</th>\n",
       "      <td>2015-02-04 17:53:00</td>\n",
       "      <td>23.15</td>\n",
       "      <td>27.2450</td>\n",
       "      <td>426.0</td>\n",
       "      <td>713.50</td>\n",
       "      <td>0.004779</td>\n",
       "      <td>1</td>\n",
       "      <td>4</td>\n",
       "      <td>17</td>\n",
       "      <td>0.0</td>\n",
       "      <td>1.0</td>\n",
       "    </tr>\n",
       "    <tr>\n",
       "      <th>4</th>\n",
       "      <td>2015-02-04 17:54:00</td>\n",
       "      <td>23.15</td>\n",
       "      <td>27.2000</td>\n",
       "      <td>426.0</td>\n",
       "      <td>708.25</td>\n",
       "      <td>0.004772</td>\n",
       "      <td>1</td>\n",
       "      <td>4</td>\n",
       "      <td>17</td>\n",
       "      <td>0.0</td>\n",
       "      <td>1.0</td>\n",
       "    </tr>\n",
       "    <tr>\n",
       "      <th>5</th>\n",
       "      <td>2015-02-04 17:55:00</td>\n",
       "      <td>23.10</td>\n",
       "      <td>27.2000</td>\n",
       "      <td>426.0</td>\n",
       "      <td>704.50</td>\n",
       "      <td>0.004757</td>\n",
       "      <td>1</td>\n",
       "      <td>4</td>\n",
       "      <td>17</td>\n",
       "      <td>0.0</td>\n",
       "      <td>1.0</td>\n",
       "    </tr>\n",
       "  </tbody>\n",
       "</table>\n",
       "</div>"
      ],
      "text/plain": [
       "                  date  Temperature  Humidity  Light     CO2  HumidityRatio  \\\n",
       "1  2015-02-04 17:51:00        23.18   27.2720  426.0  721.25       0.004793   \n",
       "2  2015-02-04 17:51:59        23.15   27.2675  429.5  714.00       0.004783   \n",
       "3  2015-02-04 17:53:00        23.15   27.2450  426.0  713.50       0.004779   \n",
       "4  2015-02-04 17:54:00        23.15   27.2000  426.0  708.25       0.004772   \n",
       "5  2015-02-04 17:55:00        23.10   27.2000  426.0  704.50       0.004757   \n",
       "\n",
       "   Occupancy  day  hour  weekend  daylight  \n",
       "1          1    4    17      0.0       1.0  \n",
       "2          1    4    17      0.0       1.0  \n",
       "3          1    4    17      0.0       1.0  \n",
       "4          1    4    17      0.0       1.0  \n",
       "5          1    4    17      0.0       1.0  "
      ]
     },
     "execution_count": 29,
     "metadata": {},
     "output_type": "execute_result"
    }
   ],
   "source": [
    "df.head()"
   ]
  },
  {
   "cell_type": "markdown",
   "metadata": {},
   "source": [
    "# DATA PARTITIONING"
   ]
  },
  {
   "cell_type": "code",
   "execution_count": 30,
   "metadata": {},
   "outputs": [],
   "source": [
    "# Remove \"date\" from dataset because gives us an error\n",
    "df = df[['Temperature', 'Humidity', 'Light', 'CO2', 'Occupancy', 'day',\n",
    "       'hour', 'weekend', 'daylight']]"
   ]
  },
  {
   "cell_type": "code",
   "execution_count": 31,
   "metadata": {},
   "outputs": [],
   "source": [
    "from sklearn.model_selection import train_test_split, cross_val_score \n",
    "\n",
    "from sklearn.metrics import accuracy_score, f1_score, classification_report\n",
    "from sklearn.metrics import roc_curve, auc, roc_auc_score"
   ]
  },
  {
   "cell_type": "code",
   "execution_count": 32,
   "metadata": {},
   "outputs": [],
   "source": [
    "class_name = \"Occupancy\""
   ]
  },
  {
   "cell_type": "code",
   "execution_count": 33,
   "metadata": {},
   "outputs": [
    {
     "data": {
      "text/plain": [
       "(      Temperature   Humidity  Light         CO2  day  hour   weekend  \\\n",
       " 1       23.180000  27.272000  426.0  721.250000    4    17  0.000000   \n",
       " 2       23.150000  27.267500  429.5  714.000000    4    17  0.000000   \n",
       " 3       23.150000  27.245000  426.0  713.500000    4    17  0.000000   \n",
       " 4       23.150000  27.200000  426.0  708.250000    4    17  0.000000   \n",
       " 5       23.100000  27.200000  426.0  704.500000    4    17  0.000000   \n",
       " 6       23.100000  27.200000  419.0  701.000000    4    17  0.000000   \n",
       " 7       23.100000  27.200000  419.0  701.666667    4    17  0.000000   \n",
       " 8       23.100000  27.200000  419.0  699.000000    4    17  0.000000   \n",
       " 9       23.100000  27.200000  419.0  689.333333    4    17  0.000000   \n",
       " 10      23.075000  27.175000  419.0  688.000000    4    18  0.000000   \n",
       " 11      23.075000  27.150000  419.0  690.250000    4    18  0.000000   \n",
       " 12      23.100000  27.100000  419.0  691.000000    4    18  0.000000   \n",
       " 13      23.100000  27.166667  419.0  683.500000    4    18  0.000000   \n",
       " 14      23.050000  27.150000  419.0  687.500000    4    18  0.000000   \n",
       " 15      23.000000  27.125000  419.0  686.000000    4    18  0.000000   \n",
       " 16      23.000000  27.125000  418.5  680.500000    4    18  0.000000   \n",
       " 17      23.000000  27.200000    0.0  681.500000    4    18  0.000000   \n",
       " 18      22.945000  27.290000    0.0  685.000000    4    18  0.000000   \n",
       " 19      22.945000  27.390000    0.0  685.000000    4    18  0.000000   \n",
       " 20      22.890000  27.390000    0.0  689.000000    4    18  0.000000   \n",
       " 21      22.890000  27.390000    0.0  689.500000    4    18  0.000000   \n",
       " 22      22.890000  27.390000    0.0  689.000000    4    18  0.000000   \n",
       " 23      22.890000  27.445000    0.0  691.000000    4    18  0.000000   \n",
       " 24      22.890000  27.500000    0.0  688.000000    4    18  0.000000   \n",
       " 25      22.890000  27.500000    0.0  689.500000    4    18  0.000000   \n",
       " 26      22.790000  27.445000    0.0  689.000000    4    18  0.000000   \n",
       " 27      22.790000  27.500000    0.0  685.666667    4    18  0.000000   \n",
       " 28      22.790000  27.500000    0.0  687.000000    4    18  0.000000   \n",
       " 29      22.790000  27.500000    0.0  688.000000    4    18  0.000000   \n",
       " 30      22.745000  27.500000    0.0  670.000000    4    18  0.000000   \n",
       " ...           ...        ...    ...         ...  ...   ...       ...   \n",
       " 8114    20.700000  34.417500  419.0  568.750000   10     9  0.000000   \n",
       " 8115    20.700000  34.090000  419.0  556.666667   10     9  0.000000   \n",
       " 8116    20.700000  34.296667  419.0  548.000000   10     9  0.000000   \n",
       " 8117    20.730000  34.466667  419.0  563.333333   10     9  0.000000   \n",
       " 8118    20.745000  34.567500  426.0  593.750000   10     9  0.000000   \n",
       " 8119    20.767500  34.717500  422.5  600.750000   10     9  0.000000   \n",
       " 8120    20.790000  35.090000  426.0  623.000000   10     9  0.000000   \n",
       " 8121    20.790000  34.972500  433.0  631.000000   10     9  0.000000   \n",
       " 8122    20.790000  34.826667  433.0  636.000000   10     9  0.000000   \n",
       " 8123    20.840000  35.195000  433.0  636.750000   10     9  0.000000   \n",
       " 8124    20.890000  35.300000  433.0  663.000000   10     9  0.000000   \n",
       " 8125    20.856667  35.096667  433.0  665.333333   10     9  0.000000   \n",
       " 8126    20.890000  35.320000  433.0  669.500000   10     9  0.000000   \n",
       " 8127    20.917500  35.475000  433.0  679.250000   10     9  0.000000   \n",
       " 8128    20.890000  35.400000  433.0  684.666667   10     9  0.000000   \n",
       " 8129    20.917500  35.717500  433.0  706.250000   10     9  0.000000   \n",
       " 8130    20.958750  35.683750  433.0  712.625000   10     9  0.000000   \n",
       " 8131    21.000000  35.650000  433.0  719.000000   10     9  0.000000   \n",
       " 8132    21.000000  35.700000  433.0  730.250000   10     9  0.000000   \n",
       " 8133    21.000000  35.760000  433.0  739.000000   10     9  0.000000   \n",
       " 8134    21.000000  35.850000  433.0  756.250000   10     9  0.000000   \n",
       " 8135    21.000000  35.700000  433.0  761.000000   10     9  0.000000   \n",
       " 8136    21.025000  35.950000  433.0  763.000000   10     9  0.000000   \n",
       " 8137    21.000000  35.860000  433.0  771.333333   10     9  0.000000   \n",
       " 8138    21.050000  36.050000  433.0  780.250000   10     9  0.000000   \n",
       " 8139    21.050000  36.097500  433.0  787.250000   10     9  0.000000   \n",
       " 8140    21.050000  35.995000  433.0  789.500000   10     9  0.000000   \n",
       " 8141    21.100000  36.095000  433.0  798.500000   10     9  0.000000   \n",
       " 8142    21.100000  36.260000  433.0  820.333333   10     9  0.000000   \n",
       " 8143    21.100000  36.200000  447.0  821.000000   10     9  0.353721   \n",
       " \n",
       "       daylight  Occupancy  \n",
       " 1     1.000000          1  \n",
       " 2     1.000000          1  \n",
       " 3     1.000000          1  \n",
       " 4     1.000000          1  \n",
       " 5     1.000000          1  \n",
       " 6     1.000000          1  \n",
       " 7     1.000000          1  \n",
       " 8     1.000000          1  \n",
       " 9     0.000000          1  \n",
       " 10    0.000000          1  \n",
       " 11    0.000000          1  \n",
       " 12    0.000000          1  \n",
       " 13    0.000000          1  \n",
       " 14    0.000000          1  \n",
       " 15    0.000000          1  \n",
       " 16    0.000000          1  \n",
       " 17    0.000000          0  \n",
       " 18    0.000000          0  \n",
       " 19    0.000000          0  \n",
       " 20    0.000000          0  \n",
       " 21    0.000000          0  \n",
       " 22    0.000000          0  \n",
       " 23    0.000000          0  \n",
       " 24    0.000000          0  \n",
       " 25    0.000000          0  \n",
       " 26    0.000000          0  \n",
       " 27    0.000000          0  \n",
       " 28    0.000000          0  \n",
       " 29    0.000000          0  \n",
       " 30    0.000000          0  \n",
       " ...        ...        ...  \n",
       " 8114  1.000000          1  \n",
       " 8115  1.000000          1  \n",
       " 8116  1.000000          1  \n",
       " 8117  1.000000          1  \n",
       " 8118  1.000000          1  \n",
       " 8119  1.000000          1  \n",
       " 8120  1.000000          1  \n",
       " 8121  1.000000          1  \n",
       " 8122  1.000000          1  \n",
       " 8123  1.000000          1  \n",
       " 8124  1.000000          1  \n",
       " 8125  1.000000          1  \n",
       " 8126  1.000000          1  \n",
       " 8127  1.000000          1  \n",
       " 8128  1.000000          1  \n",
       " 8129  1.000000          1  \n",
       " 8130  1.000000          1  \n",
       " 8131  1.000000          1  \n",
       " 8132  1.000000          1  \n",
       " 8133  1.000000          1  \n",
       " 8134  1.000000          1  \n",
       " 8135  1.000000          1  \n",
       " 8136  1.000000          1  \n",
       " 8137  1.000000          1  \n",
       " 8138  1.000000          1  \n",
       " 8139  1.000000          1  \n",
       " 8140  1.000000          1  \n",
       " 8141  1.000000          1  \n",
       " 8142  1.000000          1  \n",
       " 8143  0.425203          1  \n",
       " \n",
       " [8143 rows x 9 columns],\n",
       " ['Temperature',\n",
       "  'Humidity',\n",
       "  'Light',\n",
       "  'CO2',\n",
       "  'day',\n",
       "  'hour',\n",
       "  'weekend',\n",
       "  'daylight'],\n",
       " [0, 1],\n",
       " ['Temperature',\n",
       "  'Humidity',\n",
       "  'Light',\n",
       "  'CO2',\n",
       "  'Occupancy',\n",
       "  'day',\n",
       "  'hour',\n",
       "  'weekend',\n",
       "  'daylight'],\n",
       "       Temperature   Humidity  Light         CO2  day  hour   weekend  \\\n",
       " 1       23.180000  27.272000  426.0  721.250000    4    17  0.000000   \n",
       " 2       23.150000  27.267500  429.5  714.000000    4    17  0.000000   \n",
       " 3       23.150000  27.245000  426.0  713.500000    4    17  0.000000   \n",
       " 4       23.150000  27.200000  426.0  708.250000    4    17  0.000000   \n",
       " 5       23.100000  27.200000  426.0  704.500000    4    17  0.000000   \n",
       " 6       23.100000  27.200000  419.0  701.000000    4    17  0.000000   \n",
       " 7       23.100000  27.200000  419.0  701.666667    4    17  0.000000   \n",
       " 8       23.100000  27.200000  419.0  699.000000    4    17  0.000000   \n",
       " 9       23.100000  27.200000  419.0  689.333333    4    17  0.000000   \n",
       " 10      23.075000  27.175000  419.0  688.000000    4    18  0.000000   \n",
       " 11      23.075000  27.150000  419.0  690.250000    4    18  0.000000   \n",
       " 12      23.100000  27.100000  419.0  691.000000    4    18  0.000000   \n",
       " 13      23.100000  27.166667  419.0  683.500000    4    18  0.000000   \n",
       " 14      23.050000  27.150000  419.0  687.500000    4    18  0.000000   \n",
       " 15      23.000000  27.125000  419.0  686.000000    4    18  0.000000   \n",
       " 16      23.000000  27.125000  418.5  680.500000    4    18  0.000000   \n",
       " 17      23.000000  27.200000    0.0  681.500000    4    18  0.000000   \n",
       " 18      22.945000  27.290000    0.0  685.000000    4    18  0.000000   \n",
       " 19      22.945000  27.390000    0.0  685.000000    4    18  0.000000   \n",
       " 20      22.890000  27.390000    0.0  689.000000    4    18  0.000000   \n",
       " 21      22.890000  27.390000    0.0  689.500000    4    18  0.000000   \n",
       " 22      22.890000  27.390000    0.0  689.000000    4    18  0.000000   \n",
       " 23      22.890000  27.445000    0.0  691.000000    4    18  0.000000   \n",
       " 24      22.890000  27.500000    0.0  688.000000    4    18  0.000000   \n",
       " 25      22.890000  27.500000    0.0  689.500000    4    18  0.000000   \n",
       " 26      22.790000  27.445000    0.0  689.000000    4    18  0.000000   \n",
       " 27      22.790000  27.500000    0.0  685.666667    4    18  0.000000   \n",
       " 28      22.790000  27.500000    0.0  687.000000    4    18  0.000000   \n",
       " 29      22.790000  27.500000    0.0  688.000000    4    18  0.000000   \n",
       " 30      22.745000  27.500000    0.0  670.000000    4    18  0.000000   \n",
       " ...           ...        ...    ...         ...  ...   ...       ...   \n",
       " 8114    20.700000  34.417500  419.0  568.750000   10     9  0.000000   \n",
       " 8115    20.700000  34.090000  419.0  556.666667   10     9  0.000000   \n",
       " 8116    20.700000  34.296667  419.0  548.000000   10     9  0.000000   \n",
       " 8117    20.730000  34.466667  419.0  563.333333   10     9  0.000000   \n",
       " 8118    20.745000  34.567500  426.0  593.750000   10     9  0.000000   \n",
       " 8119    20.767500  34.717500  422.5  600.750000   10     9  0.000000   \n",
       " 8120    20.790000  35.090000  426.0  623.000000   10     9  0.000000   \n",
       " 8121    20.790000  34.972500  433.0  631.000000   10     9  0.000000   \n",
       " 8122    20.790000  34.826667  433.0  636.000000   10     9  0.000000   \n",
       " 8123    20.840000  35.195000  433.0  636.750000   10     9  0.000000   \n",
       " 8124    20.890000  35.300000  433.0  663.000000   10     9  0.000000   \n",
       " 8125    20.856667  35.096667  433.0  665.333333   10     9  0.000000   \n",
       " 8126    20.890000  35.320000  433.0  669.500000   10     9  0.000000   \n",
       " 8127    20.917500  35.475000  433.0  679.250000   10     9  0.000000   \n",
       " 8128    20.890000  35.400000  433.0  684.666667   10     9  0.000000   \n",
       " 8129    20.917500  35.717500  433.0  706.250000   10     9  0.000000   \n",
       " 8130    20.958750  35.683750  433.0  712.625000   10     9  0.000000   \n",
       " 8131    21.000000  35.650000  433.0  719.000000   10     9  0.000000   \n",
       " 8132    21.000000  35.700000  433.0  730.250000   10     9  0.000000   \n",
       " 8133    21.000000  35.760000  433.0  739.000000   10     9  0.000000   \n",
       " 8134    21.000000  35.850000  433.0  756.250000   10     9  0.000000   \n",
       " 8135    21.000000  35.700000  433.0  761.000000   10     9  0.000000   \n",
       " 8136    21.025000  35.950000  433.0  763.000000   10     9  0.000000   \n",
       " 8137    21.000000  35.860000  433.0  771.333333   10     9  0.000000   \n",
       " 8138    21.050000  36.050000  433.0  780.250000   10     9  0.000000   \n",
       " 8139    21.050000  36.097500  433.0  787.250000   10     9  0.000000   \n",
       " 8140    21.050000  35.995000  433.0  789.500000   10     9  0.000000   \n",
       " 8141    21.100000  36.095000  433.0  798.500000   10     9  0.000000   \n",
       " 8142    21.100000  36.260000  433.0  820.333333   10     9  0.000000   \n",
       " 8143    21.100000  36.200000  447.0  821.000000   10     9  0.353721   \n",
       " \n",
       "       daylight  Occupancy  \n",
       " 1     1.000000          1  \n",
       " 2     1.000000          1  \n",
       " 3     1.000000          1  \n",
       " 4     1.000000          1  \n",
       " 5     1.000000          1  \n",
       " 6     1.000000          1  \n",
       " 7     1.000000          1  \n",
       " 8     1.000000          1  \n",
       " 9     0.000000          1  \n",
       " 10    0.000000          1  \n",
       " 11    0.000000          1  \n",
       " 12    0.000000          1  \n",
       " 13    0.000000          1  \n",
       " 14    0.000000          1  \n",
       " 15    0.000000          1  \n",
       " 16    0.000000          1  \n",
       " 17    0.000000          0  \n",
       " 18    0.000000          0  \n",
       " 19    0.000000          0  \n",
       " 20    0.000000          0  \n",
       " 21    0.000000          0  \n",
       " 22    0.000000          0  \n",
       " 23    0.000000          0  \n",
       " 24    0.000000          0  \n",
       " 25    0.000000          0  \n",
       " 26    0.000000          0  \n",
       " 27    0.000000          0  \n",
       " 28    0.000000          0  \n",
       " 29    0.000000          0  \n",
       " 30    0.000000          0  \n",
       " ...        ...        ...  \n",
       " 8114  1.000000          1  \n",
       " 8115  1.000000          1  \n",
       " 8116  1.000000          1  \n",
       " 8117  1.000000          1  \n",
       " 8118  1.000000          1  \n",
       " 8119  1.000000          1  \n",
       " 8120  1.000000          1  \n",
       " 8121  1.000000          1  \n",
       " 8122  1.000000          1  \n",
       " 8123  1.000000          1  \n",
       " 8124  1.000000          1  \n",
       " 8125  1.000000          1  \n",
       " 8126  1.000000          1  \n",
       " 8127  1.000000          1  \n",
       " 8128  1.000000          1  \n",
       " 8129  1.000000          1  \n",
       " 8130  1.000000          1  \n",
       " 8131  1.000000          1  \n",
       " 8132  1.000000          1  \n",
       " 8133  1.000000          1  \n",
       " 8134  1.000000          1  \n",
       " 8135  1.000000          1  \n",
       " 8136  1.000000          1  \n",
       " 8137  1.000000          1  \n",
       " 8138  1.000000          1  \n",
       " 8139  1.000000          1  \n",
       " 8140  1.000000          1  \n",
       " 8141  1.000000          1  \n",
       " 8142  1.000000          1  \n",
       " 8143  0.425203          1  \n",
       " \n",
       " [8143 rows x 9 columns],\n",
       " ['Temperature',\n",
       "  'Humidity',\n",
       "  'Light',\n",
       "  'CO2',\n",
       "  'day',\n",
       "  'hour',\n",
       "  'weekend',\n",
       "  'daylight'],\n",
       " defaultdict(dict,\n",
       "             {0: {'Temperature': 0},\n",
       "              1: {'Humidity': 1},\n",
       "              2: {'Light': 2},\n",
       "              3: {'CO2': 3},\n",
       "              4: {'day': 4},\n",
       "              5: {'hour': 5},\n",
       "              6: {'weekend': 6},\n",
       "              7: {'daylight': 7}}))"
      ]
     },
     "execution_count": 33,
     "metadata": {},
     "output_type": "execute_result"
    }
   ],
   "source": [
    "prepare_dataset(df, class_name)"
   ]
  },
  {
   "cell_type": "code",
   "execution_count": 34,
   "metadata": {},
   "outputs": [],
   "source": [
    "attributes = [col for col in df.columns if col != class_name]\n",
    "X = df[attributes].values\n",
    "y = df[class_name]\n",
    "\n",
    "X_train, X_test, y_train, y_test = train_test_split(X, y, test_size=0.3, random_state=100, stratify=y)"
   ]
  },
  {
   "cell_type": "markdown",
   "metadata": {},
   "source": [
    "# k Nearest Neighbor"
   ]
  },
  {
   "cell_type": "code",
   "execution_count": 35,
   "metadata": {},
   "outputs": [],
   "source": [
    "from sklearn.neighbors import KNeighborsClassifier\n",
    "from sklearn.preprocessing import MinMaxScaler"
   ]
  },
  {
   "cell_type": "code",
   "execution_count": 36,
   "metadata": {},
   "outputs": [
    {
     "name": "stdout",
     "output_type": "stream",
     "text": [
      "Fitting 100 knn"
     ]
    }
   ],
   "source": [
    "#standardizzazione\n",
    "scaler = MinMaxScaler()\n",
    "df = pd.DataFrame(scaler.fit_transform(df.values), columns=df.columns)\n",
    "\n",
    "#knee method per la scelta numero di k\n",
    "accuracy_list = list()\n",
    "f1_list = list()\n",
    "max_k = 100\n",
    "for k in range(2, max_k+1):\n",
    "    print('\\rFitting {0} knn'.format(k), end='')\n",
    "    knn = KNeighborsClassifier(n_neighbors=k, weights='uniform')\n",
    "    knn.fit(X_train, y_train)\n",
    "    y_pred = knn.predict(X_test)\n",
    "    \n",
    "    accuracy = accuracy_score(y_test, y_pred)\n",
    "    accuracy_list.append(accuracy)\n",
    "    f1_list.append(f1_score(y_test, y_pred, average=None))"
   ]
  },
  {
   "cell_type": "code",
   "execution_count": 37,
   "metadata": {},
   "outputs": [
    {
     "data": {
      "image/png": "[encoded data removed]",
      "text/plain": [
       "<Figure size 432x288 with 1 Axes>"
      ]
     },
     "metadata": {
      "needs_background": "light"
     },
     "output_type": "display_data"
    },
    {
     "data": {
      "image/png": "[encoded data removed]",
      "text/plain": [
       "<Figure size 432x288 with 1 Axes>"
      ]
     },
     "metadata": {
      "needs_background": "light"
     },
     "output_type": "display_data"
    }
   ],
   "source": [
    "#grafico knee per accuracy\n",
    "plt.plot(accuracy_list)\n",
    "plt.show()\n",
    "\n",
    "#grafico knee per f1 score\n",
    "plt.plot(f1_list)\n",
    "plt.show()"
   ]
  },
  {
   "cell_type": "code",
   "execution_count": 38,
   "metadata": {},
   "outputs": [
    {
     "name": "stdout",
     "output_type": "stream",
     "text": [
      "Fitting 5 folds for each of 4 candidates, totalling 20 fits\n"
     ]
    },
    {
     "name": "stderr",
     "output_type": "stream",
     "text": [
      "[Parallel(n_jobs=-1)]: Using backend LokyBackend with 4 concurrent workers.\n",
      "[Parallel(n_jobs=-1)]: Done  20 out of  20 | elapsed:    5.6s finished\n"
     ]
    },
    {
     "data": {
      "text/plain": [
       "GridSearchCV(cv=5, error_score='raise-deprecating',\n",
       "             estimator=KNeighborsClassifier(algorithm='auto', leaf_size=30,\n",
       "                                            metric='minkowski',\n",
       "                                            metric_params=None, n_jobs=None,\n",
       "                                            n_neighbors=5, p=2,\n",
       "                                            weights='uniform'),\n",
       "             iid='warn', n_jobs=-1,\n",
       "             param_grid={'algorithm': ['auto'], 'n_neighbors': [10, 100],\n",
       "                         'weights': ['uniform', 'distance']},\n",
       "             pre_dispatch='2*n_jobs', refit=True, return_train_score=False,\n",
       "             scoring='accuracy', verbose=1)"
      ]
     },
     "execution_count": 38,
     "metadata": {},
     "output_type": "execute_result"
    }
   ],
   "source": [
    "#Gridsearch per la scelta del miglior k\n",
    "from sklearn.model_selection import GridSearchCV\n",
    "\n",
    "kn = KNeighborsClassifier()\n",
    "params = {\n",
    "    'n_neighbors' : [10, 100],\n",
    "    'weights': ['uniform', 'distance'],\n",
    "    'algorithm': ['auto']\n",
    "}\n",
    "grid_kn = GridSearchCV(estimator = kn,\n",
    "                        param_grid = params,\n",
    "                        scoring = 'accuracy', \n",
    "                        cv = 5, \n",
    "                        verbose = 1,\n",
    "                        n_jobs = -1)\n",
    "grid_kn.fit(X_train, y_train)"
   ]
  },
  {
   "cell_type": "code",
   "execution_count": 39,
   "metadata": {},
   "outputs": [
    {
     "name": "stdout",
     "output_type": "stream",
     "text": [
      "KNeighborsClassifier(algorithm='auto', leaf_size=30, metric='minkowski',\n",
      "                     metric_params=None, n_jobs=None, n_neighbors=10, p=2,\n",
      "                     weights='distance')\n",
      "0.9905853458862055\n"
     ]
    }
   ],
   "source": [
    "# extract best estimator\n",
    "print(grid_kn.best_estimator_)\n",
    "clf = KNeighborsClassifier(algorithm='auto', \n",
    "leaf_size=30, metric='minkowski',metric_params=None, n_jobs=-1, n_neighbors=25, p=2, weights='distance')\n",
    "# to test the bestfit\n",
    "print(grid_kn.score(X_test, y_test))"
   ]
  },
  {
   "cell_type": "code",
   "execution_count": 40,
   "metadata": {},
   "outputs": [
    {
     "data": {
      "text/plain": [
       "KNeighborsClassifier(algorithm='auto', leaf_size=30, metric='minkowski',\n",
       "                     metric_params=None, n_jobs=-1, n_neighbors=25, p=2,\n",
       "                     weights='distance')"
      ]
     },
     "execution_count": 40,
     "metadata": {},
     "output_type": "execute_result"
    }
   ],
   "source": [
    "clf.fit(X_train, y_train)"
   ]
  },
  {
   "cell_type": "code",
   "execution_count": 41,
   "metadata": {},
   "outputs": [],
   "source": [
    "y_pred = clf.predict(X_test)"
   ]
  },
  {
   "cell_type": "code",
   "execution_count": 42,
   "metadata": {},
   "outputs": [
    {
     "name": "stdout",
     "output_type": "stream",
     "text": [
      "Accuracy 0.9901760130986492\n",
      "F1-score [0.99373041 0.97731569]\n",
      "              precision    recall  f1-score   support\n",
      "\n",
      "           0       1.00      0.99      0.99      1924\n",
      "           1       0.96      1.00      0.98       519\n",
      "\n",
      "    accuracy                           0.99      2443\n",
      "   macro avg       0.98      0.99      0.99      2443\n",
      "weighted avg       0.99      0.99      0.99      2443\n",
      "\n"
     ]
    }
   ],
   "source": [
    "#KNN con il miglior k (25) ottenuto dai precedenti metodi\n",
    "\n",
    "clf = KNeighborsClassifier(n_neighbors=25, weights='uniform')\n",
    "clf.fit(X_train, y_train)\n",
    "y_pred = clf.predict(X_test)\n",
    "print('Accuracy %s' % accuracy_score(y_test, y_pred))\n",
    "print('F1-score %s' % f1_score(y_test, y_pred, average=None))\n",
    "print(classification_report(y_test, y_pred))"
   ]
  },
  {
   "cell_type": "code",
   "execution_count": 43,
   "metadata": {},
   "outputs": [
    {
     "name": "stdout",
     "output_type": "stream",
     "text": [
      "Accuracy: 0.9758 (+/- 0.030)\n",
      "F1-score: 0.9668 (+/- 0.041)\n"
     ]
    }
   ],
   "source": [
    "scores = cross_val_score(clf, X, y, cv=10)\n",
    "print('Accuracy: %0.4f (+/- %0.3f)' % (scores.mean(), scores.std()))\n",
    "\n",
    "scores = cross_val_score(clf, X, y, cv=10, scoring='f1_macro')\n",
    "print('F1-score: %0.4f (+/- %0.3f)' % (scores.mean(), scores.std()))"
   ]
  },
  {
   "cell_type": "code",
   "execution_count": 132,
   "metadata": {},
   "outputs": [],
   "source": [
    "from sklearn import svm, datasets\n",
    "from sklearn.model_selection import GridSearchCV"
   ]
  },
  {
   "cell_type": "code",
   "execution_count": 54,
   "metadata": {},
   "outputs": [
    {
     "ename": "ValueError",
     "evalue": "Can only tuple-index with a MultiIndex",
     "output_type": "error",
     "traceback": [
      "\u001b[1;31m---------------------------------------------------------------------------\u001b[0m",
      "\u001b[1;31mValueError\u001b[0m                                Traceback (most recent call last)",
      "\u001b[1;32m<ipython-input-54-b9561921cefa>\u001b[0m in \u001b[0;36m<module>\u001b[1;34m\u001b[0m\n\u001b[0;32m     25\u001b[0m \u001b[1;31m# Plot the decision boundary. For that, we will assign a color to each\u001b[0m\u001b[1;33m\u001b[0m\u001b[1;33m\u001b[0m\u001b[1;33m\u001b[0m\u001b[0m\n\u001b[0;32m     26\u001b[0m \u001b[1;31m# point in the mesh [x_min, x_max]x[y_min, y_max].\u001b[0m\u001b[1;33m\u001b[0m\u001b[1;33m\u001b[0m\u001b[1;33m\u001b[0m\u001b[0m\n\u001b[1;32m---> 27\u001b[1;33m \u001b[0mx_min\u001b[0m\u001b[1;33m,\u001b[0m \u001b[0mx_max\u001b[0m \u001b[1;33m=\u001b[0m \u001b[0mX\u001b[0m\u001b[1;33m[\u001b[0m\u001b[1;33m:\u001b[0m\u001b[1;33m,\u001b[0m \u001b[1;36m0\u001b[0m\u001b[1;33m]\u001b[0m\u001b[1;33m.\u001b[0m\u001b[0mmin\u001b[0m\u001b[1;33m(\u001b[0m\u001b[1;33m)\u001b[0m \u001b[1;33m-\u001b[0m \u001b[1;36m1\u001b[0m\u001b[1;33m,\u001b[0m \u001b[0mX\u001b[0m\u001b[1;33m[\u001b[0m\u001b[1;33m:\u001b[0m\u001b[1;33m,\u001b[0m \u001b[1;36m0\u001b[0m\u001b[1;33m]\u001b[0m\u001b[1;33m.\u001b[0m\u001b[0mmax\u001b[0m\u001b[1;33m(\u001b[0m\u001b[1;33m)\u001b[0m \u001b[1;33m+\u001b[0m \u001b[1;36m1\u001b[0m\u001b[1;33m\u001b[0m\u001b[1;33m\u001b[0m\u001b[0m\n\u001b[0m\u001b[0;32m     28\u001b[0m \u001b[0my_min\u001b[0m\u001b[1;33m,\u001b[0m \u001b[0my_max\u001b[0m \u001b[1;33m=\u001b[0m \u001b[0mX\u001b[0m\u001b[1;33m[\u001b[0m\u001b[1;33m:\u001b[0m\u001b[1;33m,\u001b[0m \u001b[1;36m1\u001b[0m\u001b[1;33m]\u001b[0m\u001b[1;33m.\u001b[0m\u001b[0mmin\u001b[0m\u001b[1;33m(\u001b[0m\u001b[1;33m)\u001b[0m \u001b[1;33m-\u001b[0m \u001b[1;36m1\u001b[0m\u001b[1;33m,\u001b[0m \u001b[0mX\u001b[0m\u001b[1;33m[\u001b[0m\u001b[1;33m:\u001b[0m\u001b[1;33m,\u001b[0m \u001b[1;36m1\u001b[0m\u001b[1;33m]\u001b[0m\u001b[1;33m.\u001b[0m\u001b[0mmax\u001b[0m\u001b[1;33m(\u001b[0m\u001b[1;33m)\u001b[0m \u001b[1;33m+\u001b[0m \u001b[1;36m1\u001b[0m\u001b[1;33m\u001b[0m\u001b[1;33m\u001b[0m\u001b[0m\n\u001b[0;32m     29\u001b[0m xx, yy = np.meshgrid(np.arange(x_min, x_max, h),\n",
      "\u001b[1;32m~\\Anaconda3\\lib\\site-packages\\pandas\\core\\series.py\u001b[0m in \u001b[0;36m__getitem__\u001b[1;34m(self, key)\u001b[0m\n\u001b[0;32m    909\u001b[0m             \u001b[0mkey\u001b[0m \u001b[1;33m=\u001b[0m \u001b[0mcheck_bool_indexer\u001b[0m\u001b[1;33m(\u001b[0m\u001b[0mself\u001b[0m\u001b[1;33m.\u001b[0m\u001b[0mindex\u001b[0m\u001b[1;33m,\u001b[0m \u001b[0mkey\u001b[0m\u001b[1;33m)\u001b[0m\u001b[1;33m\u001b[0m\u001b[1;33m\u001b[0m\u001b[0m\n\u001b[0;32m    910\u001b[0m \u001b[1;33m\u001b[0m\u001b[0m\n\u001b[1;32m--> 911\u001b[1;33m         \u001b[1;32mreturn\u001b[0m \u001b[0mself\u001b[0m\u001b[1;33m.\u001b[0m\u001b[0m_get_with\u001b[0m\u001b[1;33m(\u001b[0m\u001b[0mkey\u001b[0m\u001b[1;33m)\u001b[0m\u001b[1;33m\u001b[0m\u001b[1;33m\u001b[0m\u001b[0m\n\u001b[0m\u001b[0;32m    912\u001b[0m \u001b[1;33m\u001b[0m\u001b[0m\n\u001b[0;32m    913\u001b[0m     \u001b[1;32mdef\u001b[0m \u001b[0m_get_with\u001b[0m\u001b[1;33m(\u001b[0m\u001b[0mself\u001b[0m\u001b[1;33m,\u001b[0m \u001b[0mkey\u001b[0m\u001b[1;33m)\u001b[0m\u001b[1;33m:\u001b[0m\u001b[1;33m\u001b[0m\u001b[1;33m\u001b[0m\u001b[0m\n",
      "\u001b[1;32m~\\Anaconda3\\lib\\site-packages\\pandas\\core\\series.py\u001b[0m in \u001b[0;36m_get_with\u001b[1;34m(self, key)\u001b[0m\n\u001b[0;32m    921\u001b[0m         \u001b[1;32melif\u001b[0m \u001b[0misinstance\u001b[0m\u001b[1;33m(\u001b[0m\u001b[0mkey\u001b[0m\u001b[1;33m,\u001b[0m \u001b[0mtuple\u001b[0m\u001b[1;33m)\u001b[0m\u001b[1;33m:\u001b[0m\u001b[1;33m\u001b[0m\u001b[1;33m\u001b[0m\u001b[0m\n\u001b[0;32m    922\u001b[0m             \u001b[1;32mtry\u001b[0m\u001b[1;33m:\u001b[0m\u001b[1;33m\u001b[0m\u001b[1;33m\u001b[0m\u001b[0m\n\u001b[1;32m--> 923\u001b[1;33m                 \u001b[1;32mreturn\u001b[0m \u001b[0mself\u001b[0m\u001b[1;33m.\u001b[0m\u001b[0m_get_values_tuple\u001b[0m\u001b[1;33m(\u001b[0m\u001b[0mkey\u001b[0m\u001b[1;33m)\u001b[0m\u001b[1;33m\u001b[0m\u001b[1;33m\u001b[0m\u001b[0m\n\u001b[0m\u001b[0;32m    924\u001b[0m             \u001b[1;32mexcept\u001b[0m \u001b[0mException\u001b[0m\u001b[1;33m:\u001b[0m\u001b[1;33m\u001b[0m\u001b[1;33m\u001b[0m\u001b[0m\n\u001b[0;32m    925\u001b[0m                 \u001b[1;32mif\u001b[0m \u001b[0mlen\u001b[0m\u001b[1;33m(\u001b[0m\u001b[0mkey\u001b[0m\u001b[1;33m)\u001b[0m \u001b[1;33m==\u001b[0m \u001b[1;36m1\u001b[0m\u001b[1;33m:\u001b[0m\u001b[1;33m\u001b[0m\u001b[1;33m\u001b[0m\u001b[0m\n",
      "\u001b[1;32m~\\Anaconda3\\lib\\site-packages\\pandas\\core\\series.py\u001b[0m in \u001b[0;36m_get_values_tuple\u001b[1;34m(self, key)\u001b[0m\n\u001b[0;32m    966\u001b[0m \u001b[1;33m\u001b[0m\u001b[0m\n\u001b[0;32m    967\u001b[0m         \u001b[1;32mif\u001b[0m \u001b[1;32mnot\u001b[0m \u001b[0misinstance\u001b[0m\u001b[1;33m(\u001b[0m\u001b[0mself\u001b[0m\u001b[1;33m.\u001b[0m\u001b[0mindex\u001b[0m\u001b[1;33m,\u001b[0m \u001b[0mMultiIndex\u001b[0m\u001b[1;33m)\u001b[0m\u001b[1;33m:\u001b[0m\u001b[1;33m\u001b[0m\u001b[1;33m\u001b[0m\u001b[0m\n\u001b[1;32m--> 968\u001b[1;33m             \u001b[1;32mraise\u001b[0m \u001b[0mValueError\u001b[0m\u001b[1;33m(\u001b[0m\u001b[1;34m'Can only tuple-index with a MultiIndex'\u001b[0m\u001b[1;33m)\u001b[0m\u001b[1;33m\u001b[0m\u001b[1;33m\u001b[0m\u001b[0m\n\u001b[0m\u001b[0;32m    969\u001b[0m \u001b[1;33m\u001b[0m\u001b[0m\n\u001b[0;32m    970\u001b[0m         \u001b[1;31m# If key is contained, would have returned by now\u001b[0m\u001b[1;33m\u001b[0m\u001b[1;33m\u001b[0m\u001b[1;33m\u001b[0m\u001b[0m\n",
      "\u001b[1;31mValueError\u001b[0m: Can only tuple-index with a MultiIndex"
     ]
    }
   ],
   "source": [
    "#tentativo fallito di mettere su grafico\n",
    "\n",
    "from sklearn import datasets\n",
    "from matplotlib.colors import ListedColormap\n",
    "\n",
    "n_neighbors = 25\n",
    "\n",
    "\n",
    "# we only take the first two features. \n",
    "X = df.Temperature\n",
    "y = df.Humidity\n",
    "\n",
    "\n",
    "h = .02  # step size in the mesh\n",
    "\n",
    "# Create color maps\n",
    "cmap_light = ListedColormap(['orange', 'cyan', 'cornflowerblue'])\n",
    "cmap_bold = ListedColormap(['darkorange', 'c', 'darkblue'])\n",
    "\n",
    "\n",
    "clf = KNeighborsClassifier(n_neighbors, weights='distance')\n",
    "clf.fit(X_train, y_train)\n",
    "    \n",
    "\n",
    "# Plot the decision boundary. For that, we will assign a color to each\n",
    "# point in the mesh [x_min, x_max]x[y_min, y_max].\n",
    "x_min, x_max = X[:, 0].min() - 1, X[:, 0].max() + 1\n",
    "y_min, y_max = X[:, 1].min() - 1, X[:, 1].max() + 1\n",
    "xx, yy = np.meshgrid(np.arange(x_min, x_max, h),\n",
    "                         np.arange(y_min, y_max, h))\n",
    "Z = clf.predict(np.c_[xx.ravel(), yy.ravel()])\n",
    "\n",
    "    # Put the result into a color plot\n",
    "Z = Z.reshape(xx.shape)\n",
    "plt.figure()\n",
    "lt.pcolormesh(xx, yy, Z, cmap=cmap_light)\n",
    "\n",
    "    # Plot also the training points\n",
    "plt.scatter(X[:, 0], X[:, 1], c=y, cmap=cmap_bold,\n",
    "            edgecolor='k', s=20)\n",
    "plt.xlim(xx.min(), xx.max())\n",
    "plt.ylim(yy.min(), yy.max())\n",
    "plt.title(\"3-Class classification (k = %i, weights = '%s')\"\n",
    "          % (n_neighbors, weights))\n",
    "\n",
    "plt.show()"
   ]
  },
  {
   "cell_type": "markdown",
   "metadata": {},
   "source": [
    "# NAIVE BAYES"
   ]
  },
  {
   "cell_type": "code",
   "execution_count": 46,
   "metadata": {},
   "outputs": [],
   "source": [
    "from sklearn.naive_bayes import GaussianNB"
   ]
  },
  {
   "cell_type": "code",
   "execution_count": 154,
   "metadata": {},
   "outputs": [
    {
     "data": {
      "text/plain": [
       "GaussianNB(priors=None, var_smoothing=1e-09)"
      ]
     },
     "execution_count": 154,
     "metadata": {},
     "output_type": "execute_result"
    }
   ],
   "source": [
    "#classificazione approssimando le variabili ad una distribuzione gaussiana\n",
    "clf = GaussianNB()\n",
    "clf.fit(X_train, y_train)"
   ]
  },
  {
   "cell_type": "code",
   "execution_count": 155,
   "metadata": {},
   "outputs": [],
   "source": [
    "y_pred = clf.predict(X_test)"
   ]
  },
  {
   "cell_type": "code",
   "execution_count": 156,
   "metadata": {},
   "outputs": [
    {
     "name": "stdout",
     "output_type": "stream",
     "text": [
      "Accuracy 0.9758493655341793\n",
      "F1-score [0.98445323 0.94592117]\n",
      "              precision    recall  f1-score   support\n",
      "\n",
      "         0.0       1.00      0.97      0.98      1925\n",
      "         1.0       0.90      1.00      0.95       518\n",
      "\n",
      "    accuracy                           0.98      2443\n",
      "   macro avg       0.95      0.98      0.97      2443\n",
      "weighted avg       0.98      0.98      0.98      2443\n",
      "\n"
     ]
    }
   ],
   "source": [
    "print('Accuracy %s' % accuracy_score(y_test, y_pred))\n",
    "print('F1-score %s' % f1_score(y_test, y_pred, average=None))\n",
    "print(classification_report(y_test, y_pred))"
   ]
  },
  {
   "cell_type": "code",
   "execution_count": 157,
   "metadata": {},
   "outputs": [],
   "source": [
    "X_train_num, X_test_num, y_train, y_test = train_test_split(\n",
    "    df[[c for c in df.columns if c != class_name]], df[class_name], \n",
    "       test_size=0.3, random_state=100, stratify=df[class_name])"
   ]
  },
  {
   "cell_type": "code",
   "execution_count": 158,
   "metadata": {},
   "outputs": [
    {
     "name": "stdout",
     "output_type": "stream",
     "text": [
      "Accuracy 0.9758493655341793\n",
      "F1-score [0.98445323 0.94592117]\n",
      "              precision    recall  f1-score   support\n",
      "\n",
      "         0.0       1.00      0.97      0.98      1925\n",
      "         1.0       0.90      1.00      0.95       518\n",
      "\n",
      "    accuracy                           0.98      2443\n",
      "   macro avg       0.95      0.98      0.97      2443\n",
      "weighted avg       0.98      0.98      0.98      2443\n",
      "\n"
     ]
    }
   ],
   "source": [
    "clf = GaussianNB()\n",
    "clf.fit(X_train_num, y_train)\n",
    "y_pred = clf.predict(X_test_num)\n",
    "print('Accuracy %s' % accuracy_score(y_test, y_pred))\n",
    "print('F1-score %s' % f1_score(y_test, y_pred, average=None))\n",
    "print(classification_report(y_test, y_pred))"
   ]
  },
  {
   "cell_type": "code",
   "execution_count": null,
   "metadata": {},
   "outputs": [],
   "source": [
    "from sklearn.metrics import roc_curve, auc, roc_auc_score"
   ]
  },
  {
   "cell_type": "code",
   "execution_count": 49,
   "metadata": {},
   "outputs": [],
   "source": [
    "y_score = clf.predict_proba(X_test)\n",
    "fpr0, tpr0, _ = roc_curve(y_test, y_score[:, 1])\n",
    "roc_auc0 = auc(fpr0, tpr0)"
   ]
  },
  {
   "cell_type": "code",
   "execution_count": 50,
   "metadata": {},
   "outputs": [
    {
     "data": {
      "image/png": "[encoded data removed]",
      "text/plain": [
       "<Figure size 432x288 with 1 Axes>"
      ]
     },
     "metadata": {
      "needs_background": "light"
     },
     "output_type": "display_data"
    }
   ],
   "source": [
    "#ROC Curve\n",
    "\n",
    "plt.plot(fpr0, tpr0, color='darkorange', lw=3, label='$AUC_0$ = %.3f' % (roc_auc0))\n",
    "\n",
    "plt.plot([0, 1], [0, 1], color='navy', lw=2, linestyle='--')\n",
    "plt.xlim([0.0, 1.0])\n",
    "plt.ylim([0.0, 1.05])\n",
    "plt.xlabel('False Positive Rate', fontsize=16)\n",
    "plt.ylabel('True Positive Rate', fontsize=16)\n",
    "plt.title('ROC curve', fontsize=16)\n",
    "plt.legend(loc=\"lower right\", fontsize=14, frameon=False)\n",
    "plt.tick_params(axis='both', which='major', labelsize=16)\n",
    "plt.show()"
   ]
  },
  {
   "cell_type": "code",
   "execution_count": null,
   "metadata": {},
   "outputs": [],
   "source": []
  }
 ],
 "metadata": {
  "kernelspec": {
   "display_name": "Python 3",
   "language": "python",
   "name": "python3"
  },
  "language_info": {
   "codemirror_mode": {
    "name": "ipython",
    "version": 3
   },
   "file_extension": ".py",
   "mimetype": "text/x-python",
   "name": "python",
   "nbconvert_exporter": "python",
   "pygments_lexer": "ipython3",
   "version": "3.7.3"
  }
 },
 "nbformat": 4,
 "nbformat_minor": 2
}
