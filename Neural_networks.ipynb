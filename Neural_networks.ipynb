{
 "cells": [
  {
   "cell_type": "markdown",
   "metadata": {},
   "source": [
    "Project Task 2 - Advanced Classifiers and Evaluation\n",
    "\n",
    "1) Using the dataset for classification prepared for Task 1 build several advanced classifiers able to predict room occupancy from the available variables. In particular, you are required to use SVM (linear and non-linear), NN (Single and Multilayer Perceptron), DNN (design at least two different architectures), Ensemble Classifier (RandomForest, AdaBoost and a Bagging technique in which you can select a base classifier of your choice with a justification).\n",
    "\n",
    "2) Evaluate each classifier using Accuracy, Precision, Recall, F1, ROC, etc; Draw your conclusion about the classifiers.\n",
    "\n",
    "3) Highlight in the report different aspects typical of each classifier. For instance for SVM: is a linear model the best way to shape the decision boundary? Or for NN: what are the parameter sets or the convergence criteria suggesting you are avoiding overfitting? How many iterations/base classifiers are needed to allow a good estimation using an ensemble method? Which is the feature importance for the Random Forest?\n",
    "\n",
    "4) You are NOT required to experiment also in the imbalanced case but if you do it is not considered a mistake."
   ]
  },
  {
   "cell_type": "code",
   "execution_count": 2,
   "metadata": {},
   "outputs": [],
   "source": [
    "%matplotlib inline\n",
    "import pandas as pd\n",
    "import numpy as np\n",
    "import seaborn as sns\n",
    "import matplotlib.pyplot as plt\n",
    "from collections import defaultdict\n",
    "from collections import Counter\n",
    "from sklearn.model_selection import train_test_split"
   ]
  },
  {
   "cell_type": "code",
   "execution_count": 3,
   "metadata": {},
   "outputs": [],
   "source": [
    "df1 = pd.read_csv(\"datatest.txt\")"
   ]
  },
  {
   "cell_type": "code",
   "execution_count": 4,
   "metadata": {},
   "outputs": [],
   "source": [
    "df2 = pd.read_csv(\"datatest2.txt\")"
   ]
  },
  {
   "cell_type": "code",
   "execution_count": 5,
   "metadata": {},
   "outputs": [],
   "source": [
    "df3 = pd.read_csv(\"datatraining.txt\")"
   ]
  },
  {
   "cell_type": "code",
   "execution_count": 6,
   "metadata": {},
   "outputs": [],
   "source": [
    "df = pd.concat([df1,df2,df3])"
   ]
  },
  {
   "cell_type": "code",
   "execution_count": 7,
   "metadata": {},
   "outputs": [
    {
     "data": {
      "text/plain": [
       "(20560, 7)"
      ]
     },
     "execution_count": 7,
     "metadata": {},
     "output_type": "execute_result"
    }
   ],
   "source": [
    "df.shape"
   ]
  },
  {
   "cell_type": "code",
   "execution_count": 8,
   "metadata": {},
   "outputs": [],
   "source": [
    "df_train, df_test = train_test_split(df, test_size=0.2)"
   ]
  },
  {
   "cell_type": "code",
   "execution_count": 9,
   "metadata": {},
   "outputs": [],
   "source": [
    "df_train.reset_index(inplace=True, drop=True)"
   ]
  },
  {
   "cell_type": "code",
   "execution_count": 10,
   "metadata": {},
   "outputs": [
    {
     "data": {
      "text/plain": [
       "(16448, 7)"
      ]
     },
     "execution_count": 10,
     "metadata": {},
     "output_type": "execute_result"
    }
   ],
   "source": [
    "df_train.shape"
   ]
  },
  {
   "cell_type": "code",
   "execution_count": 11,
   "metadata": {},
   "outputs": [
    {
     "data": {
      "text/plain": [
       "(4112, 7)"
      ]
     },
     "execution_count": 11,
     "metadata": {},
     "output_type": "execute_result"
    }
   ],
   "source": [
    "df_test.shape"
   ]
  },
  {
   "cell_type": "code",
   "execution_count": 12,
   "metadata": {},
   "outputs": [
    {
     "name": "stderr",
     "output_type": "stream",
     "text": [
      "C:\\Users\\bonin\\AppData\\Local\\Continuum\\anaconda3\\lib\\site-packages\\ipykernel_launcher.py:2: SettingWithCopyWarning: \n",
      "A value is trying to be set on a copy of a slice from a DataFrame.\n",
      "Try using .loc[row_indexer,col_indexer] = value instead\n",
      "\n",
      "See the caveats in the documentation: http://pandas.pydata.org/pandas-docs/stable/user_guide/indexing.html#returning-a-view-versus-a-copy\n",
      "  \n",
      "C:\\Users\\bonin\\AppData\\Local\\Continuum\\anaconda3\\lib\\site-packages\\ipykernel_launcher.py:3: SettingWithCopyWarning: \n",
      "A value is trying to be set on a copy of a slice from a DataFrame.\n",
      "Try using .loc[row_indexer,col_indexer] = value instead\n",
      "\n",
      "See the caveats in the documentation: http://pandas.pydata.org/pandas-docs/stable/user_guide/indexing.html#returning-a-view-versus-a-copy\n",
      "  This is separate from the ipykernel package so we can avoid doing imports until\n"
     ]
    }
   ],
   "source": [
    "dates = pd.to_datetime(df_train['date'], infer_datetime_format=True)\n",
    "df_train['day'] = dates.dt.day\n",
    "df_train['hour'] = dates.dt.hour"
   ]
  },
  {
   "cell_type": "code",
   "execution_count": 13,
   "metadata": {},
   "outputs": [
    {
     "name": "stderr",
     "output_type": "stream",
     "text": [
      "C:\\Users\\bonin\\AppData\\Local\\Continuum\\anaconda3\\lib\\site-packages\\ipykernel_launcher.py:8: SettingWithCopyWarning: \n",
      "A value is trying to be set on a copy of a slice from a DataFrame.\n",
      "Try using .loc[row_indexer,col_indexer] = value instead\n",
      "\n",
      "See the caveats in the documentation: http://pandas.pydata.org/pandas-docs/stable/user_guide/indexing.html#returning-a-view-versus-a-copy\n",
      "  \n"
     ]
    }
   ],
   "source": [
    "weekend = []\n",
    "for i in df_train.day:\n",
    "    if i == 7 or i == 8:\n",
    "        weekend.append(1)\n",
    "    else:\n",
    "        weekend.append(0)\n",
    "weekend = pd.Series(weekend)\n",
    "df_train['weekend'] = weekend"
   ]
  },
  {
   "cell_type": "code",
   "execution_count": 14,
   "metadata": {},
   "outputs": [
    {
     "name": "stderr",
     "output_type": "stream",
     "text": [
      "C:\\Users\\bonin\\AppData\\Local\\Continuum\\anaconda3\\lib\\site-packages\\ipykernel_launcher.py:8: SettingWithCopyWarning: \n",
      "A value is trying to be set on a copy of a slice from a DataFrame.\n",
      "Try using .loc[row_indexer,col_indexer] = value instead\n",
      "\n",
      "See the caveats in the documentation: http://pandas.pydata.org/pandas-docs/stable/user_guide/indexing.html#returning-a-view-versus-a-copy\n",
      "  \n"
     ]
    }
   ],
   "source": [
    "daylight = []\n",
    "for i in df_train.hour:\n",
    "    if i >= 7 and i <= 17:\n",
    "        daylight.append(1)\n",
    "    else:\n",
    "        daylight.append(0)\n",
    "daylight = pd.Series(daylight)\n",
    "df_train['daylight'] = daylight"
   ]
  },
  {
   "cell_type": "code",
   "execution_count": 15,
   "metadata": {},
   "outputs": [
    {
     "data": {
      "text/html": [
       "<div>\n",
       "<style scoped>\n",
       "    .dataframe tbody tr th:only-of-type {\n",
       "        vertical-align: middle;\n",
       "    }\n",
       "\n",
       "    .dataframe tbody tr th {\n",
       "        vertical-align: top;\n",
       "    }\n",
       "\n",
       "    .dataframe thead th {\n",
       "        text-align: right;\n",
       "    }\n",
       "</style>\n",
       "<table border=\"1\" class=\"dataframe\">\n",
       "  <thead>\n",
       "    <tr style=\"text-align: right;\">\n",
       "      <th></th>\n",
       "      <th>date</th>\n",
       "      <th>Temperature</th>\n",
       "      <th>Humidity</th>\n",
       "      <th>Light</th>\n",
       "      <th>CO2</th>\n",
       "      <th>HumidityRatio</th>\n",
       "      <th>Occupancy</th>\n",
       "      <th>day</th>\n",
       "      <th>hour</th>\n",
       "      <th>weekend</th>\n",
       "      <th>daylight</th>\n",
       "    </tr>\n",
       "  </thead>\n",
       "  <tbody>\n",
       "    <tr>\n",
       "      <th>0</th>\n",
       "      <td>2015-02-12 20:22:00</td>\n",
       "      <td>21.20</td>\n",
       "      <td>28.260</td>\n",
       "      <td>0.000000</td>\n",
       "      <td>559.0</td>\n",
       "      <td>0.004400</td>\n",
       "      <td>0</td>\n",
       "      <td>12</td>\n",
       "      <td>20</td>\n",
       "      <td>0</td>\n",
       "      <td>0</td>\n",
       "    </tr>\n",
       "    <tr>\n",
       "      <th>1</th>\n",
       "      <td>2015-02-03 14:57:00</td>\n",
       "      <td>23.20</td>\n",
       "      <td>29.254</td>\n",
       "      <td>461.000000</td>\n",
       "      <td>1198.2</td>\n",
       "      <td>0.005150</td>\n",
       "      <td>1</td>\n",
       "      <td>3</td>\n",
       "      <td>14</td>\n",
       "      <td>0</td>\n",
       "      <td>1</td>\n",
       "    </tr>\n",
       "    <tr>\n",
       "      <th>2</th>\n",
       "      <td>2015-02-17 12:01:00</td>\n",
       "      <td>21.60</td>\n",
       "      <td>32.700</td>\n",
       "      <td>438.000000</td>\n",
       "      <td>1194.0</td>\n",
       "      <td>0.005224</td>\n",
       "      <td>1</td>\n",
       "      <td>17</td>\n",
       "      <td>12</td>\n",
       "      <td>0</td>\n",
       "      <td>1</td>\n",
       "    </tr>\n",
       "    <tr>\n",
       "      <th>3</th>\n",
       "      <td>2015-02-03 23:28:00</td>\n",
       "      <td>20.89</td>\n",
       "      <td>25.100</td>\n",
       "      <td>0.000000</td>\n",
       "      <td>558.0</td>\n",
       "      <td>0.003830</td>\n",
       "      <td>0</td>\n",
       "      <td>3</td>\n",
       "      <td>23</td>\n",
       "      <td>0</td>\n",
       "      <td>0</td>\n",
       "    </tr>\n",
       "    <tr>\n",
       "      <th>4</th>\n",
       "      <td>2015-02-08 13:12:00</td>\n",
       "      <td>20.70</td>\n",
       "      <td>28.500</td>\n",
       "      <td>175.666667</td>\n",
       "      <td>431.0</td>\n",
       "      <td>0.004302</td>\n",
       "      <td>0</td>\n",
       "      <td>8</td>\n",
       "      <td>13</td>\n",
       "      <td>1</td>\n",
       "      <td>1</td>\n",
       "    </tr>\n",
       "  </tbody>\n",
       "</table>\n",
       "</div>"
      ],
      "text/plain": [
       "                  date  Temperature  Humidity       Light     CO2  \\\n",
       "0  2015-02-12 20:22:00        21.20    28.260    0.000000   559.0   \n",
       "1  2015-02-03 14:57:00        23.20    29.254  461.000000  1198.2   \n",
       "2  2015-02-17 12:01:00        21.60    32.700  438.000000  1194.0   \n",
       "3  2015-02-03 23:28:00        20.89    25.100    0.000000   558.0   \n",
       "4  2015-02-08 13:12:00        20.70    28.500  175.666667   431.0   \n",
       "\n",
       "   HumidityRatio  Occupancy  day  hour  weekend  daylight  \n",
       "0       0.004400          0   12    20        0         0  \n",
       "1       0.005150          1    3    14        0         1  \n",
       "2       0.005224          1   17    12        0         1  \n",
       "3       0.003830          0    3    23        0         0  \n",
       "4       0.004302          0    8    13        1         1  "
      ]
     },
     "execution_count": 15,
     "metadata": {},
     "output_type": "execute_result"
    }
   ],
   "source": [
    "df_train.head()"
   ]
  },
  {
   "cell_type": "code",
   "execution_count": 16,
   "metadata": {},
   "outputs": [
    {
     "data": {
      "text/html": [
       "<div>\n",
       "<style scoped>\n",
       "    .dataframe tbody tr th:only-of-type {\n",
       "        vertical-align: middle;\n",
       "    }\n",
       "\n",
       "    .dataframe tbody tr th {\n",
       "        vertical-align: top;\n",
       "    }\n",
       "\n",
       "    .dataframe thead th {\n",
       "        text-align: right;\n",
       "    }\n",
       "</style>\n",
       "<table border=\"1\" class=\"dataframe\">\n",
       "  <thead>\n",
       "    <tr style=\"text-align: right;\">\n",
       "      <th></th>\n",
       "      <th>Temperature</th>\n",
       "      <th>Humidity</th>\n",
       "      <th>Light</th>\n",
       "      <th>CO2</th>\n",
       "      <th>HumidityRatio</th>\n",
       "      <th>Occupancy</th>\n",
       "    </tr>\n",
       "  </thead>\n",
       "  <tbody>\n",
       "    <tr>\n",
       "      <th>count</th>\n",
       "      <td>20560.000000</td>\n",
       "      <td>20560.000000</td>\n",
       "      <td>20560.000000</td>\n",
       "      <td>20560.000000</td>\n",
       "      <td>20560.000000</td>\n",
       "      <td>20560.000000</td>\n",
       "    </tr>\n",
       "    <tr>\n",
       "      <th>mean</th>\n",
       "      <td>20.906212</td>\n",
       "      <td>27.655925</td>\n",
       "      <td>130.756622</td>\n",
       "      <td>690.553276</td>\n",
       "      <td>0.004228</td>\n",
       "      <td>0.231031</td>\n",
       "    </tr>\n",
       "    <tr>\n",
       "      <th>std</th>\n",
       "      <td>1.055315</td>\n",
       "      <td>4.982154</td>\n",
       "      <td>210.430875</td>\n",
       "      <td>311.201281</td>\n",
       "      <td>0.000768</td>\n",
       "      <td>0.421503</td>\n",
       "    </tr>\n",
       "    <tr>\n",
       "      <th>min</th>\n",
       "      <td>19.000000</td>\n",
       "      <td>16.745000</td>\n",
       "      <td>0.000000</td>\n",
       "      <td>412.750000</td>\n",
       "      <td>0.002674</td>\n",
       "      <td>0.000000</td>\n",
       "    </tr>\n",
       "    <tr>\n",
       "      <th>25%</th>\n",
       "      <td>20.200000</td>\n",
       "      <td>24.500000</td>\n",
       "      <td>0.000000</td>\n",
       "      <td>460.000000</td>\n",
       "      <td>0.003719</td>\n",
       "      <td>0.000000</td>\n",
       "    </tr>\n",
       "    <tr>\n",
       "      <th>50%</th>\n",
       "      <td>20.700000</td>\n",
       "      <td>27.290000</td>\n",
       "      <td>0.000000</td>\n",
       "      <td>565.416667</td>\n",
       "      <td>0.004292</td>\n",
       "      <td>0.000000</td>\n",
       "    </tr>\n",
       "    <tr>\n",
       "      <th>75%</th>\n",
       "      <td>21.525000</td>\n",
       "      <td>31.290000</td>\n",
       "      <td>301.000000</td>\n",
       "      <td>804.666667</td>\n",
       "      <td>0.004832</td>\n",
       "      <td>0.000000</td>\n",
       "    </tr>\n",
       "    <tr>\n",
       "      <th>max</th>\n",
       "      <td>24.408333</td>\n",
       "      <td>39.500000</td>\n",
       "      <td>1697.250000</td>\n",
       "      <td>2076.500000</td>\n",
       "      <td>0.006476</td>\n",
       "      <td>1.000000</td>\n",
       "    </tr>\n",
       "  </tbody>\n",
       "</table>\n",
       "</div>"
      ],
      "text/plain": [
       "        Temperature      Humidity         Light           CO2  HumidityRatio  \\\n",
       "count  20560.000000  20560.000000  20560.000000  20560.000000   20560.000000   \n",
       "mean      20.906212     27.655925    130.756622    690.553276       0.004228   \n",
       "std        1.055315      4.982154    210.430875    311.201281       0.000768   \n",
       "min       19.000000     16.745000      0.000000    412.750000       0.002674   \n",
       "25%       20.200000     24.500000      0.000000    460.000000       0.003719   \n",
       "50%       20.700000     27.290000      0.000000    565.416667       0.004292   \n",
       "75%       21.525000     31.290000    301.000000    804.666667       0.004832   \n",
       "max       24.408333     39.500000   1697.250000   2076.500000       0.006476   \n",
       "\n",
       "          Occupancy  \n",
       "count  20560.000000  \n",
       "mean       0.231031  \n",
       "std        0.421503  \n",
       "min        0.000000  \n",
       "25%        0.000000  \n",
       "50%        0.000000  \n",
       "75%        0.000000  \n",
       "max        1.000000  "
      ]
     },
     "execution_count": 16,
     "metadata": {},
     "output_type": "execute_result"
    }
   ],
   "source": [
    "df.describe()"
   ]
  },
  {
   "cell_type": "code",
   "execution_count": 17,
   "metadata": {},
   "outputs": [
    {
     "name": "stdout",
     "output_type": "stream",
     "text": [
      "<class 'pandas.core.frame.DataFrame'>\n",
      "RangeIndex: 16448 entries, 0 to 16447\n",
      "Data columns (total 11 columns):\n",
      "date             16448 non-null object\n",
      "Temperature      16448 non-null float64\n",
      "Humidity         16448 non-null float64\n",
      "Light            16448 non-null float64\n",
      "CO2              16448 non-null float64\n",
      "HumidityRatio    16448 non-null float64\n",
      "Occupancy        16448 non-null int64\n",
      "day              16448 non-null int64\n",
      "hour             16448 non-null int64\n",
      "weekend          16448 non-null int64\n",
      "daylight         16448 non-null int64\n",
      "dtypes: float64(5), int64(5), object(1)\n",
      "memory usage: 1.4+ MB\n"
     ]
    }
   ],
   "source": [
    "df_train.info()"
   ]
  },
  {
   "cell_type": "code",
   "execution_count": 19,
   "metadata": {},
   "outputs": [],
   "source": [
    "df_train = df_train[['Temperature', 'Humidity', 'Light', 'CO2', 'Occupancy', 'day', 'hour', 'daylight']]"
   ]
  },
  {
   "cell_type": "markdown",
   "metadata": {},
   "source": [
    "# Data Preparation"
   ]
  },
  {
   "cell_type": "code",
   "execution_count": 21,
   "metadata": {},
   "outputs": [],
   "source": [
    "def prepare_dataset(df, class_name):\n",
    "    df = remove_missing_values(df)\n",
    "    numeric_columns = get_numeric_columns(df)\n",
    "    rdf = df.copy(deep=True)\n",
    "    df, feature_names, class_values = one_hot_encoding(df, class_name)\n",
    "    real_feature_names = get_real_feature_names(rdf, numeric_columns, class_name)\n",
    "    rdf = rdf[real_feature_names + (class_values if isinstance(class_name, list) else [class_name])]\n",
    "    features_map = get_features_map(feature_names, real_feature_names)\n",
    "\n",
    "    return df, feature_names, class_values, numeric_columns, rdf, real_feature_names, features_map\n",
    "\n",
    "def remove_missing_values(df):\n",
    "    for column_name, nbr_missing in df.isna().sum().to_dict().items():\n",
    "        if nbr_missing > 0:\n",
    "            if column_name in df._get_numeric_data().columns:\n",
    "                mean = df[column_name].mean()\n",
    "                df[column_name].fillna(mean, inplace=True)\n",
    "            else:\n",
    "                mode = df[column_name].mode().values[0]\n",
    "                df[column_name].fillna(mode, inplace=True)\n",
    "    return df\n",
    "\n",
    "def get_numeric_columns(df):\n",
    "    numeric_columns = list(df._get_numeric_data().columns)\n",
    "    return numeric_columns\n",
    "\n",
    "def get_real_feature_names(rdf, numeric_columns, class_name):\n",
    "    real_feature_names = [c for c in rdf.columns if c in numeric_columns and c != class_name]\n",
    "    real_feature_names += [c for c in rdf.columns if c not in numeric_columns and c != class_name]\n",
    "    return real_feature_names\n",
    "\n",
    "def one_hot_encoding(df, class_name):\n",
    "    dfX = pd.get_dummies(df[[c for c in df.columns if c != class_name]], prefix_sep='=')\n",
    "    class_name_map = {v: k for k, v in enumerate(sorted(df[class_name].unique()))}\n",
    "    dfY = df[class_name].map(class_name_map)\n",
    "    df = pd.concat([dfX, dfY], axis=1, join_axes=[dfX.index])\n",
    "    feature_names = list(dfX.columns)\n",
    "    class_values = sorted(class_name_map)\n",
    "    return df, feature_names, class_values\n",
    "\n",
    "def get_features_map(feature_names, real_feature_names):\n",
    "    features_map = defaultdict(dict)\n",
    "    i = 0\n",
    "    j = 0\n",
    "\n",
    "    while i < len(feature_names) and j < len(real_feature_names):\n",
    "        if feature_names[i] == real_feature_names[j]:\n",
    "            features_map[j][feature_names[i]] = j\n",
    "            i += 1\n",
    "            j += 1\n",
    "        elif feature_names[i].startswith(real_feature_names[j]):\n",
    "            features_map[j][feature_names[i]] = j\n",
    "            i += 1\n",
    "        else:\n",
    "            j += 1\n",
    "    return features_map"
   ]
  },
  {
   "cell_type": "code",
   "execution_count": 22,
   "metadata": {},
   "outputs": [],
   "source": [
    "class_name = 'Occupancy'"
   ]
  },
  {
   "cell_type": "code",
   "execution_count": 23,
   "metadata": {},
   "outputs": [
    {
     "name": "stderr",
     "output_type": "stream",
     "text": [
      "C:\\Users\\bonin\\AppData\\Local\\Continuum\\anaconda3\\lib\\site-packages\\ipykernel_launcher.py:36: FutureWarning: The join_axes-keyword is deprecated. Use .reindex or .reindex_like on the result to achieve the same functionality.\n"
     ]
    },
    {
     "data": {
      "text/html": [
       "<div>\n",
       "<style scoped>\n",
       "    .dataframe tbody tr th:only-of-type {\n",
       "        vertical-align: middle;\n",
       "    }\n",
       "\n",
       "    .dataframe tbody tr th {\n",
       "        vertical-align: top;\n",
       "    }\n",
       "\n",
       "    .dataframe thead th {\n",
       "        text-align: right;\n",
       "    }\n",
       "</style>\n",
       "<table border=\"1\" class=\"dataframe\">\n",
       "  <thead>\n",
       "    <tr style=\"text-align: right;\">\n",
       "      <th></th>\n",
       "      <th>Temperature</th>\n",
       "      <th>Humidity</th>\n",
       "      <th>Light</th>\n",
       "      <th>CO2</th>\n",
       "      <th>day</th>\n",
       "      <th>hour</th>\n",
       "      <th>daylight</th>\n",
       "      <th>Occupancy</th>\n",
       "    </tr>\n",
       "  </thead>\n",
       "  <tbody>\n",
       "    <tr>\n",
       "      <th>0</th>\n",
       "      <td>21.20</td>\n",
       "      <td>28.260</td>\n",
       "      <td>0.000000</td>\n",
       "      <td>559.0</td>\n",
       "      <td>12</td>\n",
       "      <td>20</td>\n",
       "      <td>0</td>\n",
       "      <td>0</td>\n",
       "    </tr>\n",
       "    <tr>\n",
       "      <th>1</th>\n",
       "      <td>23.20</td>\n",
       "      <td>29.254</td>\n",
       "      <td>461.000000</td>\n",
       "      <td>1198.2</td>\n",
       "      <td>3</td>\n",
       "      <td>14</td>\n",
       "      <td>1</td>\n",
       "      <td>1</td>\n",
       "    </tr>\n",
       "    <tr>\n",
       "      <th>2</th>\n",
       "      <td>21.60</td>\n",
       "      <td>32.700</td>\n",
       "      <td>438.000000</td>\n",
       "      <td>1194.0</td>\n",
       "      <td>17</td>\n",
       "      <td>12</td>\n",
       "      <td>1</td>\n",
       "      <td>1</td>\n",
       "    </tr>\n",
       "    <tr>\n",
       "      <th>3</th>\n",
       "      <td>20.89</td>\n",
       "      <td>25.100</td>\n",
       "      <td>0.000000</td>\n",
       "      <td>558.0</td>\n",
       "      <td>3</td>\n",
       "      <td>23</td>\n",
       "      <td>0</td>\n",
       "      <td>0</td>\n",
       "    </tr>\n",
       "    <tr>\n",
       "      <th>4</th>\n",
       "      <td>20.70</td>\n",
       "      <td>28.500</td>\n",
       "      <td>175.666667</td>\n",
       "      <td>431.0</td>\n",
       "      <td>8</td>\n",
       "      <td>13</td>\n",
       "      <td>1</td>\n",
       "      <td>0</td>\n",
       "    </tr>\n",
       "  </tbody>\n",
       "</table>\n",
       "</div>"
      ],
      "text/plain": [
       "   Temperature  Humidity       Light     CO2  day  hour  daylight  Occupancy\n",
       "0        21.20    28.260    0.000000   559.0   12    20         0          0\n",
       "1        23.20    29.254  461.000000  1198.2    3    14         1          1\n",
       "2        21.60    32.700  438.000000  1194.0   17    12         1          1\n",
       "3        20.89    25.100    0.000000   558.0    3    23         0          0\n",
       "4        20.70    28.500  175.666667   431.0    8    13         1          0"
      ]
     },
     "execution_count": 23,
     "metadata": {},
     "output_type": "execute_result"
    }
   ],
   "source": [
    "res = prepare_dataset(df_train, class_name)\n",
    "df_train, feature_names, class_values, numeric_columns, rdf, real_feature_names, features_map = res\n",
    "df_train.head()"
   ]
  },
  {
   "cell_type": "markdown",
   "metadata": {},
   "source": [
    "# Data Partitioning"
   ]
  },
  {
   "cell_type": "code",
   "execution_count": 24,
   "metadata": {},
   "outputs": [],
   "source": [
    "from sklearn.model_selection import train_test_split, cross_val_score \n",
    "\n",
    "from sklearn.metrics import accuracy_score, f1_score, classification_report\n",
    "from sklearn.metrics import roc_curve, auc, roc_auc_score"
   ]
  },
  {
   "cell_type": "code",
   "execution_count": 25,
   "metadata": {},
   "outputs": [],
   "source": [
    "attributes = [col for col in df_train.columns if col != class_name]\n",
    "X = df_train[attributes].values\n",
    "y = df_train[class_name]\n",
    "\n",
    "X_train, X_test, y_train, y_test = train_test_split(X, y, test_size=0.2, random_state=100, stratify=y) # IMPORTANT test_size change shape"
   ]
  },
  {
   "cell_type": "code",
   "execution_count": 26,
   "metadata": {},
   "outputs": [
    {
     "data": {
      "text/plain": [
       "(13158, 7)"
      ]
     },
     "execution_count": 26,
     "metadata": {},
     "output_type": "execute_result"
    }
   ],
   "source": [
    "X_train.shape"
   ]
  },
  {
   "cell_type": "markdown",
   "metadata": {},
   "source": [
    "# Normalization"
   ]
  },
  {
   "cell_type": "code",
   "execution_count": 27,
   "metadata": {},
   "outputs": [],
   "source": [
    "from sklearn.preprocessing import StandardScaler"
   ]
  },
  {
   "cell_type": "code",
   "execution_count": 28,
   "metadata": {},
   "outputs": [],
   "source": [
    "scaler = StandardScaler()\n",
    "scaler.fit(X_train)\n",
    "X_train = scaler.transform(X_train)\n",
    "X_test = scaler.transform(X_test)"
   ]
  },
  {
   "cell_type": "markdown",
   "metadata": {},
   "source": [
    "# Sklearn Multilayer Perceptron"
   ]
  },
  {
   "cell_type": "code",
   "execution_count": 29,
   "metadata": {},
   "outputs": [],
   "source": [
    "from sklearn.neural_network import MLPClassifier"
   ]
  },
  {
   "cell_type": "markdown",
   "metadata": {},
   "source": [
    "### Parameters\n",
    "\n",
    "hidden_layer_sizes tuple, length = n_layers - 2, default=(100,)\n",
    "The ith element represents the number of neurons in the ith hidden layer.\n",
    "\n",
    "activation {'identity', 'logistic', 'tanh', 'relu'}, default='relu'\n",
    "Activation function for the hidden layer.\n",
    "* 'identity', no-op activation, useful to implement linear bottleneck, returns f(x) = x\n",
    "* 'logistic', the logistic sigmoid function, returns f(x) = 1 / (1 + exp(-x)).\n",
    "* 'tanh', the hyperbolic tan function, returns f(x) = tanh(x).\n",
    "* 'relu', the rectified linear unit function, returns f(x) = max(0, x)\n",
    "\n",
    "solver {'lbfgs', 'sgd', 'adam'}, default='adam'\n",
    "The solver for weight optimization.\n",
    "* 'lbfgs' is an optimizer in the family of quasi-Newton methods.\n",
    "* 'sgd' refers to stochastic gradient descent.\n",
    "* 'adam' refers to a stochastic gradient-based optimizer proposed by Kingma, Diederik, and Jimmy Ba\n",
    "The default solver 'adam' works pretty well on relatively large datasets (>= 1000 training samples) in terms of both training time and validation score. For small datasets, 'lbfgs' can converge faster and perform better.\n",
    "\n",
    "alpha float, default=0.0001\n",
    "L2 penalty (regularization term) parameter.\n",
    "\n",
    "batch_size int, default='auto'\n",
    "Size of minibatches for stochastic optimizers. If the solver is 'lbfgs', the classifier will not use minibatch. When set to “auto”, batch_size=min(200, n_samples)\n",
    "\n",
    "learning_rate {'constant', 'invscaling', 'adaptive'}, default='constant'\n",
    "Learning rate schedule for weight updates.\n",
    "*'constant' is a constant learning rate given by 'learning_rate_init'.\n",
    "*'invscaling' gradually decreases the learning rate at each time step 't' using an inverse scaling exponent of *'power_t'. effective_learning_rate = learning_rate_init / pow(t, power_t)\n",
    "*'adaptive' keeps the learning rate constant to 'learning_rate_init' as long as training loss keeps decreasing. Each time two consecutive epochs fail to decrease training loss by at least tol, or fail to increase validation score by at least tol if 'early_stopping' is on, the current learning rate is divided by 5.\n",
    "Only used when solver='sgd'.\n",
    "\n",
    "learning_rate_init double, default=0.001\n",
    "The initial learning rate used. It controls the step-size in updating the weights. Only used when solver='sgd' or 'adam'.\n",
    "\n",
    "power_t double, default=0.5\n",
    "The exponent for inverse scaling learning rate. It is used in updating effective learning rate when the learning_rate is set to 'invscaling'. Only used when solver='sgd'.\n",
    "\n",
    "max_iter int, default=200\n",
    "Maximum number of iterations. The solver iterates until convergence (determined by 'tol') or this number of iterations. For stochastic solvers ('sgd', 'adam'), note that this determines the number of epochs (how many times each data point will be used), not the number of gradient steps.\n",
    "\n",
    "shuffle bool, default=True\n",
    "Whether to shuffle samples in each iteration. Only used when solver='sgd' or 'adam'.\n",
    "\n",
    "random_state int, RandomState instance or None, default=None\n",
    "If int, random_state is the seed used by the random number generator; If RandomState instance, random_state is the random number generator; If None, the random number generator is the RandomState instance used by np.random.\n",
    "\n",
    "tol float, default=1e-4\n",
    "Tolerance for the optimization. When the loss or score is not improving by at least tol for n_iter_no_change consecutive iterations, unless learning_rate is set to 'adaptive', convergence is considered to be reached and training stops.\n",
    "\n",
    "verbose bool, default=False\n",
    "Whether to print progress messages to stdout.\n",
    "\n",
    "warm_start bool, default=False\n",
    "When set to True, reuse the solution of the previous call to fit as initialization, otherwise, just erase the previous solution. See the Glossary.\n",
    "\n",
    "momentum float, default=0.9\n",
    "Momentum for gradient descent update. Should be between 0 and 1. Only used when solver='sgd'.\n",
    "\n",
    "early_stopping bool, default=False\n",
    "Whether to use early stopping to terminate training when validation score is not improving. If set to true, it will automatically set aside 10% of training data as validation and terminate training when validation score is not improving by at least tol for n_iter_no_change consecutive epochs. The split is stratified, except in a multilabel setting. Only effective when solver='sgd' or 'adam'\n",
    "\n",
    "validation_fraction float, default=0.1\n",
    "The proportion of training data to set aside as validation set for early stopping. Must be between 0 and 1. Only used if early_stopping is True\n",
    "\n",
    "beta_1 float, default=0.9\n",
    "Exponential decay rate for estimates of first moment vector in adam, should be in [0, 1). Only used when solver='adam'\n",
    "\n",
    "beta_2 float, default=0.999\n",
    "Exponential decay rate for estimates of second moment vector in adam, should be in [0, 1). Only used when solver='adam'\n",
    "\n",
    "epsilon float, default=1e-8\n",
    "Value for numerical stability in adam. Only used when solver='adam'\n",
    "\n",
    "n_iter_no_change int, default=10\n",
    "Maximum number of epochs to not meet tol improvement. Only effective when solver='sgd' or 'adam'\n",
    "\n",
    "\n",
    "### Attributes\n",
    "loss_ float\n",
    "The current loss computed with the loss function.\n",
    "\n",
    "coefs_ list, length n_layers - 1\n",
    "The ith element in the list represents the weight matrix corresponding to layer i.\n",
    "\n",
    "intercepts_ list, length n_layers - 1\n",
    "The ith element in the list represents the bias vector corresponding to layer i + 1.\n",
    "\n",
    "n_iter_ int,\n",
    "The number of iterations the solver has ran.\n",
    "\n",
    "n_layers_ int\n",
    "Number of layers.\n",
    "\n",
    "n_outputs_ int\n",
    "Number of outputs.\n",
    "\n",
    "out_activation_ string\n",
    "Name of the output activation function."
   ]
  },
  {
   "cell_type": "code",
   "execution_count": 30,
   "metadata": {},
   "outputs": [
    {
     "name": "stdout",
     "output_type": "stream",
     "text": [
      "Accuracy 0.99209726443769\n",
      "F1-score [0.99483101 0.98322581]\n",
      "              precision    recall  f1-score   support\n",
      "\n",
      "           0       1.00      0.99      0.99      2526\n",
      "           1       0.97      1.00      0.98       764\n",
      "\n",
      "    accuracy                           0.99      3290\n",
      "   macro avg       0.98      0.99      0.99      3290\n",
      "weighted avg       0.99      0.99      0.99      3290\n",
      "\n"
     ]
    }
   ],
   "source": [
    "clf = MLPClassifier(random_state=0)\n",
    "\n",
    "clf.fit(X_train, y_train)\n",
    "\n",
    "y_pred = clf.predict(X_test)\n",
    "\n",
    "print('Accuracy %s' % accuracy_score(y_test, y_pred))\n",
    "print('F1-score %s' % f1_score(y_test, y_pred, average=None))\n",
    "print(classification_report(y_test, y_pred))"
   ]
  },
  {
   "cell_type": "code",
   "execution_count": 31,
   "metadata": {},
   "outputs": [
    {
     "data": {
      "image/png": "[encoded data removed]",
      "text/plain": [
       "<Figure size 432x288 with 1 Axes>"
      ]
     },
     "metadata": {
      "needs_background": "light"
     },
     "output_type": "display_data"
    }
   ],
   "source": [
    "plt.plot(clf.loss_curve_)\n",
    "plt.show()"
   ]
  },
  {
   "cell_type": "code",
   "execution_count": 32,
   "metadata": {},
   "outputs": [
    {
     "name": "stdout",
     "output_type": "stream",
     "text": [
      "Accuracy 0.99209726443769\n",
      "F1-score [0.99482896 0.98324742]\n",
      "              precision    recall  f1-score   support\n",
      "\n",
      "           0       1.00      0.99      0.99      2526\n",
      "           1       0.97      1.00      0.98       764\n",
      "\n",
      "    accuracy                           0.99      3290\n",
      "   macro avg       0.98      0.99      0.99      3290\n",
      "weighted avg       0.99      0.99      0.99      3290\n",
      "\n"
     ]
    }
   ],
   "source": [
    "clf = MLPClassifier(hidden_layer_sizes=(128, 64, 32,), alpha=0.1, learning_rate='adaptive', \n",
    "                    activation='tanh', early_stopping=False, momentum=0.9, random_state=0)\n",
    "\n",
    "clf.fit(X_train, y_train)\n",
    "\n",
    "y_pred = clf.predict(X_test)\n",
    "\n",
    "print('Accuracy %s' % accuracy_score(y_test, y_pred))\n",
    "print('F1-score %s' % f1_score(y_test, y_pred, average=None))\n",
    "print(classification_report(y_test, y_pred))"
   ]
  },
  {
   "cell_type": "code",
   "execution_count": 33,
   "metadata": {},
   "outputs": [
    {
     "data": {
      "image/png": "[encoded data removed]",
      "text/plain": [
       "<Figure size 432x288 with 1 Axes>"
      ]
     },
     "metadata": {
      "needs_background": "light"
     },
     "output_type": "display_data"
    }
   ],
   "source": [
    "plt.plot(clf.loss_curve_)\n",
    "plt.show()"
   ]
  },
  {
   "cell_type": "code",
   "execution_count": 34,
   "metadata": {},
   "outputs": [],
   "source": [
    "params = [{'solver': 'sgd', 'learning_rate': 'constant', 'momentum': 0,'learning_rate_init': 0.2},\n",
    "          {'solver': 'sgd', 'learning_rate': 'constant', 'momentum': .9,\n",
    "           'nesterovs_momentum': False, 'learning_rate_init': 0.2},\n",
    "          {'solver': 'sgd', 'learning_rate': 'invscaling', 'momentum': 0,\n",
    "           'learning_rate_init': 0.2},\n",
    "          {'solver': 'sgd', 'learning_rate': 'invscaling', 'momentum': .9,\n",
    "           'nesterovs_momentum': False, 'learning_rate_init': 0.2},\n",
    "          {'solver': 'adam', 'learning_rate_init': 0.01}]\n",
    "\n",
    "labels = [\"constant learning-rate\", \"constant with momentum\",\n",
    "          \"inv-scaling learning-rate\", \"inv-scaling with momentum\", \"adam\"]"
   ]
  },
  {
   "cell_type": "code",
   "execution_count": 35,
   "metadata": {},
   "outputs": [],
   "source": [
    "import warnings\n",
    "from sklearn.exceptions import ConvergenceWarning"
   ]
  },
  {
   "cell_type": "code",
   "execution_count": 36,
   "metadata": {},
   "outputs": [
    {
     "name": "stdout",
     "output_type": "stream",
     "text": [
      "constant learning-rate\n",
      "training set score and loss: 0.768, 6.891403\n"
     ]
    },
    {
     "data": {
      "image/png": "[encoded data removed]",
      "text/plain": [
       "<Figure size 432x288 with 1 Axes>"
      ]
     },
     "metadata": {
      "needs_background": "light"
     },
     "output_type": "display_data"
    },
    {
     "name": "stdout",
     "output_type": "stream",
     "text": [
      "constant with momentum\n",
      "training set score and loss: 0.768, 616.330435\n"
     ]
    },
    {
     "data": {
      "image/png": "[encoded data removed]",
      "text/plain": [
       "<Figure size 432x288 with 1 Axes>"
      ]
     },
     "metadata": {
      "needs_background": "light"
     },
     "output_type": "display_data"
    },
    {
     "name": "stdout",
     "output_type": "stream",
     "text": [
      "inv-scaling learning-rate\n",
      "training set score and loss: 0.768, 6.913116\n"
     ]
    },
    {
     "data": {
      "image/png": "[encoded data removed]",
      "text/plain": [
       "<Figure size 432x288 with 1 Axes>"
      ]
     },
     "metadata": {
      "needs_background": "light"
     },
     "output_type": "display_data"
    },
    {
     "name": "stdout",
     "output_type": "stream",
     "text": [
      "inv-scaling with momentum\n",
      "training set score and loss: 0.768, 637.740291\n"
     ]
    },
    {
     "data": {
      "image/png": "[encoded data removed]",
      "text/plain": [
       "<Figure size 432x288 with 1 Axes>"
      ]
     },
     "metadata": {
      "needs_background": "light"
     },
     "output_type": "display_data"
    },
    {
     "name": "stdout",
     "output_type": "stream",
     "text": [
      "adam\n",
      "training set score and loss: 0.989, 0.058145\n"
     ]
    },
    {
     "data": {
      "image/png": "[encoded data removed]",
      "text/plain": [
       "<Figure size 432x288 with 1 Axes>"
      ]
     },
     "metadata": {
      "needs_background": "light"
     },
     "output_type": "display_data"
    }
   ],
   "source": [
    "for label, param in zip(labels, params):\n",
    "    print(label)\n",
    "    clf = MLPClassifier(random_state=0, max_iter=200, **param)\n",
    "\n",
    "    # some parameter combinations will not converge as can be seen on the\n",
    "    # plots so they are ignored here\n",
    "    with warnings.catch_warnings():\n",
    "        warnings.filterwarnings(\"ignore\", category=ConvergenceWarning, module=\"sklearn\")\n",
    "        clf.fit(X, y)\n",
    "\n",
    "    print(\"training set score and loss: %.3f, %f\" % (clf.score(X, y), clf.loss_))\n",
    "    plt.plot(clf.loss_curve_, label=label)\n",
    "    plt.legend(loc=\"upper center\")\n",
    "    plt.show()"
   ]
  },
  {
   "cell_type": "markdown",
   "metadata": {},
   "source": [
    "# Keras Deep Neural Networks"
   ]
  },
  {
   "cell_type": "code",
   "execution_count": 38,
   "metadata": {},
   "outputs": [
    {
     "name": "stderr",
     "output_type": "stream",
     "text": [
      "Using TensorFlow backend.\n"
     ]
    }
   ],
   "source": [
    "from keras.models import Sequential\n",
    "from keras.layers import Dense"
   ]
  },
  {
   "cell_type": "code",
   "execution_count": 39,
   "metadata": {},
   "outputs": [],
   "source": [
    "def build_model():\n",
    "    \n",
    "    n_feature = X_train.shape[1]\n",
    "    model = Sequential()\n",
    "    model.add(Dense(128, input_dim=n_feature, activation='relu'))\n",
    "    model.add(Dense(64, activation='relu'))\n",
    "    model.add(Dense(1, activation='sigmoid'))\n",
    "\n",
    "    model.compile(loss='binary_crossentropy', optimizer='adam', metrics=['accuracy'])\n",
    "    return model"
   ]
  },
  {
   "cell_type": "code",
   "execution_count": 40,
   "metadata": {},
   "outputs": [
    {
     "name": "stdout",
     "output_type": "stream",
     "text": [
      "Epoch 1/50\n",
      "13158/13158 [==============================] - 2s 115us/step - loss: 0.0606 - accuracy: 0.9843\n",
      "Epoch 2/50\n",
      "13158/13158 [==============================] - 1s 86us/step - loss: 0.0410 - accuracy: 0.9889\n",
      "Epoch 3/50\n",
      "13158/13158 [==============================] - 1s 86us/step - loss: 0.0389 - accuracy: 0.9889\n",
      "Epoch 4/50\n",
      "13158/13158 [==============================] - 1s 87us/step - loss: 0.0366 - accuracy: 0.9894\n",
      "Epoch 5/50\n",
      "13158/13158 [==============================] - 1s 89us/step - loss: 0.0354 - accuracy: 0.9891\n",
      "Epoch 6/50\n",
      "13158/13158 [==============================] - 1s 87us/step - loss: 0.0346 - accuracy: 0.9886\n",
      "Epoch 7/50\n",
      "13158/13158 [==============================] - 1s 90us/step - loss: 0.0331 - accuracy: 0.9898\n",
      "Epoch 8/50\n",
      "13158/13158 [==============================] - 1s 98us/step - loss: 0.0326 - accuracy: 0.9901\n",
      "Epoch 9/50\n",
      "13158/13158 [==============================] - 1s 94us/step - loss: 0.0310 - accuracy: 0.9904\n",
      "Epoch 10/50\n",
      "13158/13158 [==============================] - 1s 85us/step - loss: 0.0309 - accuracy: 0.9909\n",
      "Epoch 11/50\n",
      "13158/13158 [==============================] - 1s 84us/step - loss: 0.0305 - accuracy: 0.9903\n",
      "Epoch 12/50\n",
      "13158/13158 [==============================] - 1s 87us/step - loss: 0.0295 - accuracy: 0.9910\n",
      "Epoch 13/50\n",
      "13158/13158 [==============================] - 1s 84us/step - loss: 0.0300 - accuracy: 0.9911\n",
      "Epoch 14/50\n",
      "13158/13158 [==============================] - 1s 83us/step - loss: 0.0294 - accuracy: 0.9914\n",
      "Epoch 15/50\n",
      "13158/13158 [==============================] - 1s 83us/step - loss: 0.0287 - accuracy: 0.9908\n",
      "Epoch 16/50\n",
      "13158/13158 [==============================] - 1s 87us/step - loss: 0.0287 - accuracy: 0.9914\n",
      "Epoch 17/50\n",
      "13158/13158 [==============================] - 1s 87us/step - loss: 0.0281 - accuracy: 0.9911\n",
      "Epoch 18/50\n",
      "13158/13158 [==============================] - 1s 86us/step - loss: 0.0283 - accuracy: 0.9905\n",
      "Epoch 19/50\n",
      "13158/13158 [==============================] - 1s 83us/step - loss: 0.0280 - accuracy: 0.9909\n",
      "Epoch 20/50\n",
      "13158/13158 [==============================] - 1s 83us/step - loss: 0.0277 - accuracy: 0.9910\n",
      "Epoch 21/50\n",
      "13158/13158 [==============================] - 1s 91us/step - loss: 0.0276 - accuracy: 0.9911\n",
      "Epoch 22/50\n",
      "13158/13158 [==============================] - 1s 85us/step - loss: 0.0267 - accuracy: 0.9919\n",
      "Epoch 23/50\n",
      "13158/13158 [==============================] - 1s 86us/step - loss: 0.0268 - accuracy: 0.9915\n",
      "Epoch 24/50\n",
      "13158/13158 [==============================] - 1s 89us/step - loss: 0.0267 - accuracy: 0.9913\n",
      "Epoch 25/50\n",
      "13158/13158 [==============================] - 1s 86us/step - loss: 0.0266 - accuracy: 0.9912\n",
      "Epoch 26/50\n",
      "13158/13158 [==============================] - 1s 90us/step - loss: 0.0258 - accuracy: 0.9912\n",
      "Epoch 27/50\n",
      "13158/13158 [==============================] - 1s 84us/step - loss: 0.0257 - accuracy: 0.9916\n",
      "Epoch 28/50\n",
      "13158/13158 [==============================] - 1s 86us/step - loss: 0.0256 - accuracy: 0.9916\n",
      "Epoch 29/50\n",
      "13158/13158 [==============================] - 1s 91us/step - loss: 0.0264 - accuracy: 0.9909\n",
      "Epoch 30/50\n",
      "13158/13158 [==============================] - 1s 86us/step - loss: 0.0257 - accuracy: 0.9916\n",
      "Epoch 31/50\n",
      "13158/13158 [==============================] - 1s 83us/step - loss: 0.0252 - accuracy: 0.9916\n",
      "Epoch 32/50\n",
      "13158/13158 [==============================] - 1s 83us/step - loss: 0.0253 - accuracy: 0.9916\n",
      "Epoch 33/50\n",
      "13158/13158 [==============================] - 1s 86us/step - loss: 0.0248 - accuracy: 0.9915\n",
      "Epoch 34/50\n",
      "13158/13158 [==============================] - 1s 97us/step - loss: 0.0247 - accuracy: 0.9913\n",
      "Epoch 35/50\n",
      "13158/13158 [==============================] - 1s 86us/step - loss: 0.0248 - accuracy: 0.9916\n",
      "Epoch 36/50\n",
      "13158/13158 [==============================] - 1s 85us/step - loss: 0.0249 - accuracy: 0.9914\n",
      "Epoch 37/50\n",
      "13158/13158 [==============================] - 1s 88us/step - loss: 0.0248 - accuracy: 0.9916\n",
      "Epoch 38/50\n",
      "13158/13158 [==============================] - 1s 87us/step - loss: 0.0246 - accuracy: 0.9919\n",
      "Epoch 39/50\n",
      "13158/13158 [==============================] - 1s 92us/step - loss: 0.0239 - accuracy: 0.9918\n",
      "Epoch 40/50\n",
      "13158/13158 [==============================] - 1s 88us/step - loss: 0.0242 - accuracy: 0.9923\n",
      "Epoch 41/50\n",
      "13158/13158 [==============================] - 1s 91us/step - loss: 0.0245 - accuracy: 0.9922\n",
      "Epoch 42/50\n",
      "13158/13158 [==============================] - 1s 93us/step - loss: 0.0238 - accuracy: 0.9915\n",
      "Epoch 43/50\n",
      "13158/13158 [==============================] - 1s 102us/step - loss: 0.0237 - accuracy: 0.9915\n",
      "Epoch 44/50\n",
      "13158/13158 [==============================] - 1s 86us/step - loss: 0.0236 - accuracy: 0.9919\n",
      "Epoch 45/50\n",
      "13158/13158 [==============================] - 1s 85us/step - loss: 0.0240 - accuracy: 0.9919\n",
      "Epoch 46/50\n",
      "13158/13158 [==============================] - 1s 96us/step - loss: 0.0235 - accuracy: 0.9919\n",
      "Epoch 47/50\n",
      "13158/13158 [==============================] - 1s 91us/step - loss: 0.0236 - accuracy: 0.9921 0s\n",
      "Epoch 48/50\n",
      "13158/13158 [==============================] - 1s 91us/step - loss: 0.0233 - accuracy: 0.9922\n",
      "Epoch 49/50\n",
      "13158/13158 [==============================] - 1s 97us/step - loss: 0.0237 - accuracy: 0.9916\n",
      "Epoch 50/50\n",
      "13158/13158 [==============================] - 1s 88us/step - loss: 0.0233 - accuracy: 0.9921\n"
     ]
    }
   ],
   "source": [
    "model1 = build_model()\n",
    "\n",
    "history1 = model1.fit(X_train, y_train, epochs=50, batch_size=10).history"
   ]
  },
  {
   "cell_type": "code",
   "execution_count": 41,
   "metadata": {},
   "outputs": [
    {
     "name": "stdout",
     "output_type": "stream",
     "text": [
      "Epoch 1/50\n",
      "13158/13158 [==============================] - 1s 56us/step - loss: 0.0978 - accuracy: 0.9764\n",
      "Epoch 2/50\n",
      "13158/13158 [==============================] - 0s 36us/step - loss: 0.0445 - accuracy: 0.9888\n",
      "Epoch 3/50\n",
      "13158/13158 [==============================] - 0s 38us/step - loss: 0.0412 - accuracy: 0.9891\n",
      "Epoch 4/50\n",
      "13158/13158 [==============================] - 0s 37us/step - loss: 0.0393 - accuracy: 0.9892\n",
      "Epoch 5/50\n",
      "13158/13158 [==============================] - 0s 36us/step - loss: 0.0375 - accuracy: 0.9891\n",
      "Epoch 6/50\n",
      "13158/13158 [==============================] - 1s 40us/step - loss: 0.0365 - accuracy: 0.9891\n",
      "Epoch 7/50\n",
      "13158/13158 [==============================] - 1s 39us/step - loss: 0.0357 - accuracy: 0.9893\n",
      "Epoch 8/50\n",
      "13158/13158 [==============================] - 0s 38us/step - loss: 0.0344 - accuracy: 0.9891\n",
      "Epoch 9/50\n",
      "13158/13158 [==============================] - 1s 38us/step - loss: 0.0332 - accuracy: 0.9894\n",
      "Epoch 10/50\n",
      "13158/13158 [==============================] - 0s 38us/step - loss: 0.0317 - accuracy: 0.9896\n",
      "Epoch 11/50\n",
      "13158/13158 [==============================] - 1s 39us/step - loss: 0.0320 - accuracy: 0.9897\n",
      "Epoch 12/50\n",
      "13158/13158 [==============================] - 0s 37us/step - loss: 0.0312 - accuracy: 0.9906\n",
      "Epoch 13/50\n",
      "13158/13158 [==============================] - 0s 38us/step - loss: 0.0302 - accuracy: 0.9902\n",
      "Epoch 14/50\n",
      "13158/13158 [==============================] - 1s 41us/step - loss: 0.0299 - accuracy: 0.9902\n",
      "Epoch 15/50\n",
      "13158/13158 [==============================] - 1s 38us/step - loss: 0.0296 - accuracy: 0.9911\n",
      "Epoch 16/50\n",
      "13158/13158 [==============================] - 0s 37us/step - loss: 0.0293 - accuracy: 0.9910\n",
      "Epoch 17/50\n",
      "13158/13158 [==============================] - 1s 45us/step - loss: 0.0290 - accuracy: 0.9911 0s - loss: 0.0\n",
      "Epoch 18/50\n",
      "13158/13158 [==============================] - 1s 40us/step - loss: 0.0286 - accuracy: 0.9910\n",
      "Epoch 19/50\n",
      "13158/13158 [==============================] - 1s 39us/step - loss: 0.0286 - accuracy: 0.9914\n",
      "Epoch 20/50\n",
      "13158/13158 [==============================] - 1s 41us/step - loss: 0.0283 - accuracy: 0.9914\n",
      "Epoch 21/50\n",
      "13158/13158 [==============================] - 1s 39us/step - loss: 0.0278 - accuracy: 0.9912\n",
      "Epoch 22/50\n",
      "13158/13158 [==============================] - 1s 44us/step - loss: 0.0275 - accuracy: 0.9915\n",
      "Epoch 23/50\n",
      "13158/13158 [==============================] - 1s 45us/step - loss: 0.0280 - accuracy: 0.9909\n",
      "Epoch 24/50\n",
      "13158/13158 [==============================] - 1s 41us/step - loss: 0.0270 - accuracy: 0.9916\n",
      "Epoch 25/50\n",
      "13158/13158 [==============================] - 1s 44us/step - loss: 0.0273 - accuracy: 0.9913\n",
      "Epoch 26/50\n",
      "13158/13158 [==============================] - 1s 43us/step - loss: 0.0278 - accuracy: 0.9912\n",
      "Epoch 27/50\n",
      "13158/13158 [==============================] - 1s 43us/step - loss: 0.0263 - accuracy: 0.9915\n",
      "Epoch 28/50\n",
      "13158/13158 [==============================] - 1s 43us/step - loss: 0.0261 - accuracy: 0.9913\n",
      "Epoch 29/50\n",
      "13158/13158 [==============================] - 1s 44us/step - loss: 0.0267 - accuracy: 0.9911\n",
      "Epoch 30/50\n",
      "13158/13158 [==============================] - 1s 42us/step - loss: 0.0256 - accuracy: 0.9919\n",
      "Epoch 31/50\n",
      "13158/13158 [==============================] - 1s 42us/step - loss: 0.0258 - accuracy: 0.9915\n",
      "Epoch 32/50\n",
      "13158/13158 [==============================] - 1s 44us/step - loss: 0.0255 - accuracy: 0.9919\n",
      "Epoch 33/50\n",
      "13158/13158 [==============================] - 1s 44us/step - loss: 0.0261 - accuracy: 0.9916\n",
      "Epoch 34/50\n",
      "13158/13158 [==============================] - 1s 42us/step - loss: 0.0255 - accuracy: 0.9913\n",
      "Epoch 35/50\n",
      "13158/13158 [==============================] - 1s 41us/step - loss: 0.0250 - accuracy: 0.9917\n",
      "Epoch 36/50\n",
      "13158/13158 [==============================] - 1s 45us/step - loss: 0.0250 - accuracy: 0.9915\n",
      "Epoch 37/50\n",
      "13158/13158 [==============================] - 1s 42us/step - loss: 0.0251 - accuracy: 0.9921\n",
      "Epoch 38/50\n",
      "13158/13158 [==============================] - 1s 44us/step - loss: 0.0246 - accuracy: 0.9921\n",
      "Epoch 39/50\n",
      "13158/13158 [==============================] - 1s 41us/step - loss: 0.0250 - accuracy: 0.9918\n",
      "Epoch 40/50\n",
      "13158/13158 [==============================] - 1s 41us/step - loss: 0.0244 - accuracy: 0.9926\n",
      "Epoch 41/50\n",
      "13158/13158 [==============================] - 1s 41us/step - loss: 0.0245 - accuracy: 0.9913\n",
      "Epoch 42/50\n",
      "13158/13158 [==============================] - 1s 40us/step - loss: 0.0248 - accuracy: 0.9914\n",
      "Epoch 43/50\n",
      "13158/13158 [==============================] - 1s 41us/step - loss: 0.0240 - accuracy: 0.9925\n",
      "Epoch 44/50\n",
      "13158/13158 [==============================] - 1s 44us/step - loss: 0.0238 - accuracy: 0.9923\n",
      "Epoch 45/50\n",
      "13158/13158 [==============================] - 1s 42us/step - loss: 0.0242 - accuracy: 0.9920 0s - loss: 0.0247 - \n",
      "Epoch 46/50\n",
      "13158/13158 [==============================] - 1s 42us/step - loss: 0.0243 - accuracy: 0.9918\n",
      "Epoch 47/50\n",
      "13158/13158 [==============================] - 1s 48us/step - loss: 0.0246 - accuracy: 0.9921\n",
      "Epoch 48/50\n",
      "13158/13158 [==============================] - 1s 41us/step - loss: 0.0244 - accuracy: 0.9915\n",
      "Epoch 49/50\n",
      "13158/13158 [==============================] - 1s 43us/step - loss: 0.0242 - accuracy: 0.9913\n",
      "Epoch 50/50\n",
      "13158/13158 [==============================] - 1s 41us/step - loss: 0.0245 - accuracy: 0.9915\n"
     ]
    }
   ],
   "source": [
    "model2 = build_model()\n",
    "\n",
    "history2 = model2.fit(X_train, y_train, epochs=50, batch_size=50).history"
   ]
  },
  {
   "cell_type": "code",
   "execution_count": 42,
   "metadata": {},
   "outputs": [
    {
     "data": {
      "image/png": "[encoded data removed]",
      "text/plain": [
       "<Figure size 432x288 with 1 Axes>"
      ]
     },
     "metadata": {
      "needs_background": "light"
     },
     "output_type": "display_data"
    }
   ],
   "source": [
    "plt.plot(history1['loss'], label='Loss 10')\n",
    "plt.plot(history2['loss'], label='Loss 50')\n",
    "plt.xlabel('Epochs')\n",
    "plt.ylabel('Cross-Entropy')\n",
    "plt.legend()\n",
    "plt.show()"
   ]
  },
  {
   "cell_type": "code",
   "execution_count": 43,
   "metadata": {},
   "outputs": [
    {
     "name": "stdout",
     "output_type": "stream",
     "text": [
      "3290/3290 [==============================] - 0s 24us/step\n",
      "3290/3290 [==============================] - 0s 23us/step\n",
      "Loss 0.028791, Accuracy 0.991489\n",
      "Loss 0.023984, Accuracy 0.993313\n"
     ]
    }
   ],
   "source": [
    "test_loss_1, test_acc_1 = model1.evaluate(X_test, y_test)\n",
    "test_loss_2, test_acc_2 = model2.evaluate(X_test, y_test)\n",
    "\n",
    "print('Loss %f, Accuracy %f' % (test_loss_1, test_acc_1))\n",
    "print('Loss %f, Accuracy %f' % (test_loss_2, test_acc_2))"
   ]
  },
  {
   "cell_type": "code",
   "execution_count": 44,
   "metadata": {},
   "outputs": [
    {
     "name": "stdout",
     "output_type": "stream",
     "text": [
      "Accuracy 0.7735562310030395\n",
      "F1-score [0.87148525 0.04853129]\n",
      "              precision    recall  f1-score   support\n",
      "\n",
      "           0       0.77      1.00      0.87      2526\n",
      "           1       1.00      0.02      0.05       764\n",
      "\n",
      "    accuracy                           0.77      3290\n",
      "   macro avg       0.89      0.51      0.46      3290\n",
      "weighted avg       0.83      0.77      0.68      3290\n",
      "\n"
     ]
    }
   ],
   "source": [
    "y_pred = model1.predict(X_test).astype(int)\n",
    "\n",
    "print('Accuracy %s' % accuracy_score(y_test, y_pred))\n",
    "print('F1-score %s' % f1_score(y_test, y_pred, average=None))\n",
    "print(classification_report(y_test, y_pred))"
   ]
  },
  {
   "cell_type": "code",
   "execution_count": 46,
   "metadata": {},
   "outputs": [
    {
     "name": "stdout",
     "output_type": "stream",
     "text": [
      "Train on 13158 samples, validate on 3290 samples\n",
      "Epoch 1/100\n",
      "13158/13158 [==============================] - 2s 124us/step - loss: 0.0616 - accuracy: 0.9825 - val_loss: 0.0391 - val_accuracy: 0.9894\n",
      "Epoch 2/100\n",
      "13158/13158 [==============================] - 1s 96us/step - loss: 0.0423 - accuracy: 0.9886 - val_loss: 0.0350 - val_accuracy: 0.9903\n",
      "Epoch 3/100\n",
      "13158/13158 [==============================] - 1s 97us/step - loss: 0.0388 - accuracy: 0.9893 - val_loss: 0.0337 - val_accuracy: 0.9915\n",
      "Epoch 4/100\n",
      "13158/13158 [==============================] - 1s 103us/step - loss: 0.0367 - accuracy: 0.9889 - val_loss: 0.0307 - val_accuracy: 0.9921\n",
      "Epoch 5/100\n",
      "13158/13158 [==============================] - 1s 108us/step - loss: 0.0358 - accuracy: 0.9891 - val_loss: 0.0313 - val_accuracy: 0.9918\n",
      "Epoch 6/100\n",
      "13158/13158 [==============================] - 1s 100us/step - loss: 0.0349 - accuracy: 0.9892 - val_loss: 0.0314 - val_accuracy: 0.9918\n",
      "Epoch 7/100\n",
      "13158/13158 [==============================] - 1s 99us/step - loss: 0.0335 - accuracy: 0.9904 - val_loss: 0.0286 - val_accuracy: 0.9921\n",
      "Epoch 8/100\n",
      "13158/13158 [==============================] - 1s 102us/step - loss: 0.0319 - accuracy: 0.9902 - val_loss: 0.0345 - val_accuracy: 0.9918\n",
      "Epoch 9/100\n",
      "13158/13158 [==============================] - 1s 97us/step - loss: 0.0320 - accuracy: 0.9906 - val_loss: 0.0284 - val_accuracy: 0.9918\n",
      "Epoch 10/100\n",
      "13158/13158 [==============================] - 1s 106us/step - loss: 0.0301 - accuracy: 0.9910 - val_loss: 0.0318 - val_accuracy: 0.9921\n",
      "Epoch 11/100\n",
      "13158/13158 [==============================] - 1s 104us/step - loss: 0.0305 - accuracy: 0.9903 - val_loss: 0.0289 - val_accuracy: 0.9918\n",
      "Epoch 12/100\n",
      "13158/13158 [==============================] - 1s 97us/step - loss: 0.0304 - accuracy: 0.9905 - val_loss: 0.0306 - val_accuracy: 0.9903\n",
      "Epoch 13/100\n",
      "13158/13158 [==============================] - 1s 95us/step - loss: 0.0302 - accuracy: 0.9903 - val_loss: 0.0293 - val_accuracy: 0.9924\n",
      "Epoch 14/100\n",
      "13158/13158 [==============================] - 1s 99us/step - loss: 0.0295 - accuracy: 0.9912 - val_loss: 0.0272 - val_accuracy: 0.9918\n",
      "Epoch 15/100\n",
      "13158/13158 [==============================] - 1s 108us/step - loss: 0.0285 - accuracy: 0.9907 - val_loss: 0.0259 - val_accuracy: 0.9927\n",
      "Epoch 16/100\n",
      "13158/13158 [==============================] - 1s 106us/step - loss: 0.0286 - accuracy: 0.9911 - val_loss: 0.0263 - val_accuracy: 0.9927\n",
      "Epoch 17/100\n",
      "13158/13158 [==============================] - 1s 108us/step - loss: 0.0278 - accuracy: 0.9914 - val_loss: 0.0277 - val_accuracy: 0.9924\n",
      "Epoch 18/100\n",
      "13158/13158 [==============================] - 1s 104us/step - loss: 0.0279 - accuracy: 0.9912 - val_loss: 0.0265 - val_accuracy: 0.9921\n",
      "Epoch 19/100\n",
      "13158/13158 [==============================] - 1s 102us/step - loss: 0.0272 - accuracy: 0.9911 - val_loss: 0.0278 - val_accuracy: 0.9918\n",
      "Epoch 20/100\n",
      "13158/13158 [==============================] - 1s 98us/step - loss: 0.0279 - accuracy: 0.9913 - val_loss: 0.0288 - val_accuracy: 0.9921\n",
      "Epoch 21/100\n",
      "13158/13158 [==============================] - 1s 100us/step - loss: 0.0268 - accuracy: 0.9910 - val_loss: 0.0283 - val_accuracy: 0.9918\n",
      "Epoch 22/100\n",
      "13158/13158 [==============================] - 1s 96us/step - loss: 0.0272 - accuracy: 0.9915 - val_loss: 0.0252 - val_accuracy: 0.9933\n",
      "Epoch 23/100\n",
      "13158/13158 [==============================] - 1s 100us/step - loss: 0.0268 - accuracy: 0.9911 - val_loss: 0.0255 - val_accuracy: 0.9930\n",
      "Epoch 24/100\n",
      "13158/13158 [==============================] - 1s 99us/step - loss: 0.0265 - accuracy: 0.9916 - val_loss: 0.0283 - val_accuracy: 0.9921\n",
      "Epoch 25/100\n",
      "13158/13158 [==============================] - 1s 100us/step - loss: 0.0265 - accuracy: 0.9913 - val_loss: 0.0280 - val_accuracy: 0.9927\n",
      "Epoch 26/100\n",
      "13158/13158 [==============================] - 1s 98us/step - loss: 0.0265 - accuracy: 0.9914 - val_loss: 0.0246 - val_accuracy: 0.9942\n",
      "Epoch 27/100\n",
      "13158/13158 [==============================] - 1s 103us/step - loss: 0.0256 - accuracy: 0.9913 - val_loss: 0.0276 - val_accuracy: 0.9921\n",
      "Epoch 28/100\n",
      "13158/13158 [==============================] - 1s 99us/step - loss: 0.0254 - accuracy: 0.9921 - val_loss: 0.0259 - val_accuracy: 0.9930\n",
      "Epoch 29/100\n",
      "13158/13158 [==============================] - 1s 103us/step - loss: 0.0258 - accuracy: 0.9916 - val_loss: 0.0311 - val_accuracy: 0.9903\n",
      "Epoch 30/100\n",
      "13158/13158 [==============================] - 1s 106us/step - loss: 0.0256 - accuracy: 0.9915 - val_loss: 0.0275 - val_accuracy: 0.9918\n",
      "Epoch 31/100\n",
      "13158/13158 [==============================] - 1s 100us/step - loss: 0.0258 - accuracy: 0.9919 - val_loss: 0.0284 - val_accuracy: 0.9924\n",
      "Epoch 32/100\n",
      "13158/13158 [==============================] - 1s 105us/step - loss: 0.0253 - accuracy: 0.9918 - val_loss: 0.0255 - val_accuracy: 0.9927\n",
      "Epoch 33/100\n",
      "13158/13158 [==============================] - 1s 110us/step - loss: 0.0255 - accuracy: 0.9915 - val_loss: 0.0309 - val_accuracy: 0.9927\n",
      "Epoch 34/100\n",
      "13158/13158 [==============================] - 1s 103us/step - loss: 0.0257 - accuracy: 0.9916 - val_loss: 0.0258 - val_accuracy: 0.9918\n",
      "Epoch 35/100\n",
      "13158/13158 [==============================] - 1s 98us/step - loss: 0.0253 - accuracy: 0.9920 - val_loss: 0.0251 - val_accuracy: 0.9927\n",
      "Epoch 36/100\n",
      "13158/13158 [==============================] - 1s 105us/step - loss: 0.0248 - accuracy: 0.9912 - val_loss: 0.0259 - val_accuracy: 0.9924\n",
      "Epoch 37/100\n",
      "13158/13158 [==============================] - 1s 104us/step - loss: 0.0250 - accuracy: 0.9916 - val_loss: 0.0296 - val_accuracy: 0.9903\n",
      "Epoch 38/100\n",
      "13158/13158 [==============================] - 1s 107us/step - loss: 0.0243 - accuracy: 0.9919 - val_loss: 0.0247 - val_accuracy: 0.9939\n",
      "Epoch 39/100\n",
      "13158/13158 [==============================] - 1s 95us/step - loss: 0.0242 - accuracy: 0.9919 - val_loss: 0.0292 - val_accuracy: 0.9906\n",
      "Epoch 40/100\n",
      "13158/13158 [==============================] - 1s 102us/step - loss: 0.0248 - accuracy: 0.9911 - val_loss: 0.0274 - val_accuracy: 0.9918\n",
      "Epoch 41/100\n",
      "13158/13158 [==============================] - 1s 103us/step - loss: 0.0241 - accuracy: 0.9920 - val_loss: 0.0271 - val_accuracy: 0.9924\n",
      "Epoch 42/100\n",
      "13158/13158 [==============================] - 1s 105us/step - loss: 0.0245 - accuracy: 0.9910 - val_loss: 0.0276 - val_accuracy: 0.9924\n",
      "Epoch 43/100\n",
      "13158/13158 [==============================] - 1s 111us/step - loss: 0.0241 - accuracy: 0.9919 - val_loss: 0.0312 - val_accuracy: 0.9903\n",
      "Epoch 44/100\n",
      "13158/13158 [==============================] - 1s 106us/step - loss: 0.0241 - accuracy: 0.9918 - val_loss: 0.0264 - val_accuracy: 0.9927\n",
      "Epoch 45/100\n",
      "13158/13158 [==============================] - 1s 106us/step - loss: 0.0241 - accuracy: 0.9913 - val_loss: 0.0258 - val_accuracy: 0.9933\n",
      "Epoch 46/100\n",
      "13158/13158 [==============================] - 1s 100us/step - loss: 0.0240 - accuracy: 0.9920 - val_loss: 0.0271 - val_accuracy: 0.9900\n",
      "Epoch 47/100\n",
      "13158/13158 [==============================] - 2s 114us/step - loss: 0.0235 - accuracy: 0.9918 - val_loss: 0.0265 - val_accuracy: 0.9918\n",
      "Epoch 48/100\n",
      "13158/13158 [==============================] - 1s 100us/step - loss: 0.0233 - accuracy: 0.9912 - val_loss: 0.0307 - val_accuracy: 0.9927\n",
      "Epoch 49/100\n",
      "13158/13158 [==============================] - 1s 100us/step - loss: 0.0244 - accuracy: 0.9915 - val_loss: 0.0239 - val_accuracy: 0.9939\n",
      "Epoch 50/100\n",
      "13158/13158 [==============================] - ETA: 0s - loss: 0.0237 - accuracy: 0.99 - 1s 96us/step - loss: 0.0236 - accuracy: 0.9914 - val_loss: 0.0258 - val_accuracy: 0.9930\n",
      "Epoch 51/100\n",
      "13158/13158 [==============================] - 1s 97us/step - loss: 0.0231 - accuracy: 0.9921 - val_loss: 0.0257 - val_accuracy: 0.9915\n",
      "Epoch 52/100\n",
      "13158/13158 [==============================] - 1s 103us/step - loss: 0.0231 - accuracy: 0.9919 - val_loss: 0.0246 - val_accuracy: 0.9930\n",
      "Epoch 53/100\n",
      "13158/13158 [==============================] - 1s 102us/step - loss: 0.0236 - accuracy: 0.9914 - val_loss: 0.0263 - val_accuracy: 0.9921\n",
      "Epoch 54/100\n",
      "13158/13158 [==============================] - 1s 107us/step - loss: 0.0232 - accuracy: 0.9921 - val_loss: 0.0258 - val_accuracy: 0.9918\n",
      "Epoch 55/100\n",
      "13158/13158 [==============================] - 1s 97us/step - loss: 0.0224 - accuracy: 0.9917 - val_loss: 0.0286 - val_accuracy: 0.9906\n",
      "Epoch 56/100\n",
      "13158/13158 [==============================] - 1s 100us/step - loss: 0.0232 - accuracy: 0.9919 - val_loss: 0.0250 - val_accuracy: 0.9927\n",
      "Epoch 57/100\n",
      "13158/13158 [==============================] - 1s 101us/step - loss: 0.0230 - accuracy: 0.9922 - val_loss: 0.0310 - val_accuracy: 0.9894\n",
      "Epoch 58/100\n",
      "13158/13158 [==============================] - 1s 106us/step - loss: 0.0230 - accuracy: 0.9919 - val_loss: 0.0265 - val_accuracy: 0.9930\n",
      "Epoch 59/100\n",
      "13158/13158 [==============================] - 1s 100us/step - loss: 0.0230 - accuracy: 0.9922 - val_loss: 0.0254 - val_accuracy: 0.9930\n",
      "Epoch 60/100\n",
      "13158/13158 [==============================] - 1s 97us/step - loss: 0.0228 - accuracy: 0.9919 - val_loss: 0.0275 - val_accuracy: 0.9921\n",
      "Epoch 61/100\n",
      "13158/13158 [==============================] - 1s 92us/step - loss: 0.0227 - accuracy: 0.9918 - val_loss: 0.0291 - val_accuracy: 0.9921\n",
      "Epoch 62/100\n",
      "13158/13158 [==============================] - 1s 97us/step - loss: 0.0226 - accuracy: 0.9921 - val_loss: 0.0257 - val_accuracy: 0.9927\n",
      "Epoch 63/100\n",
      "13158/13158 [==============================] - 1s 97us/step - loss: 0.0227 - accuracy: 0.9923 - val_loss: 0.0271 - val_accuracy: 0.9924\n",
      "Epoch 64/100\n",
      "13158/13158 [==============================] - 1s 102us/step - loss: 0.0222 - accuracy: 0.9925 - val_loss: 0.0280 - val_accuracy: 0.9930\n",
      "Epoch 65/100\n",
      "13158/13158 [==============================] - 1s 99us/step - loss: 0.0227 - accuracy: 0.9919 - val_loss: 0.0287 - val_accuracy: 0.9924\n",
      "Epoch 66/100\n",
      "13158/13158 [==============================] - 1s 109us/step - loss: 0.0225 - accuracy: 0.9918 - val_loss: 0.0264 - val_accuracy: 0.9939\n",
      "Epoch 67/100\n",
      "13158/13158 [==============================] - 1s 106us/step - loss: 0.0221 - accuracy: 0.9928 - val_loss: 0.0253 - val_accuracy: 0.9927\n",
      "Epoch 68/100\n",
      "13158/13158 [==============================] - 1s 97us/step - loss: 0.0226 - accuracy: 0.9919 - val_loss: 0.0268 - val_accuracy: 0.9921\n",
      "Epoch 69/100\n",
      "13158/13158 [==============================] - 1s 99us/step - loss: 0.0216 - accuracy: 0.9923 - val_loss: 0.0253 - val_accuracy: 0.9948\n",
      "Epoch 70/100\n",
      "13158/13158 [==============================] - 1s 95us/step - loss: 0.0222 - accuracy: 0.9920 - val_loss: 0.0258 - val_accuracy: 0.9924\n",
      "Epoch 71/100\n",
      "13158/13158 [==============================] - 1s 99us/step - loss: 0.0217 - accuracy: 0.9919 - val_loss: 0.0268 - val_accuracy: 0.9927\n",
      "Epoch 72/100\n",
      "13158/13158 [==============================] - 1s 101us/step - loss: 0.0224 - accuracy: 0.9921 - val_loss: 0.0268 - val_accuracy: 0.9924\n",
      "Epoch 73/100\n",
      "13158/13158 [==============================] - 1s 104us/step - loss: 0.0219 - accuracy: 0.9917 - val_loss: 0.0254 - val_accuracy: 0.9930\n",
      "Epoch 74/100\n",
      "13158/13158 [==============================] - 1s 97us/step - loss: 0.0223 - accuracy: 0.9925 - val_loss: 0.0287 - val_accuracy: 0.9924\n",
      "Epoch 75/100\n",
      "13158/13158 [==============================] - 1s 99us/step - loss: 0.0221 - accuracy: 0.9920 - val_loss: 0.0276 - val_accuracy: 0.9918\n",
      "Epoch 76/100\n",
      "13158/13158 [==============================] - 1s 102us/step - loss: 0.0221 - accuracy: 0.9923 - val_loss: 0.0252 - val_accuracy: 0.9933\n",
      "Epoch 77/100\n",
      "13158/13158 [==============================] - 1s 108us/step - loss: 0.0222 - accuracy: 0.9919 - val_loss: 0.0270 - val_accuracy: 0.9930\n",
      "Epoch 78/100\n",
      "13158/13158 [==============================] - 1s 108us/step - loss: 0.0217 - accuracy: 0.9922 - val_loss: 0.0274 - val_accuracy: 0.9918\n",
      "Epoch 79/100\n",
      "13158/13158 [==============================] - 1s 101us/step - loss: 0.0212 - accuracy: 0.9923 - val_loss: 0.0245 - val_accuracy: 0.9933\n",
      "Epoch 80/100\n",
      "13158/13158 [==============================] - 1s 98us/step - loss: 0.0216 - accuracy: 0.9922 - val_loss: 0.0263 - val_accuracy: 0.9930\n",
      "Epoch 81/100\n",
      "13158/13158 [==============================] - 1s 95us/step - loss: 0.0213 - accuracy: 0.9922 - val_loss: 0.0271 - val_accuracy: 0.9924\n",
      "Epoch 82/100\n",
      "13158/13158 [==============================] - 1s 93us/step - loss: 0.0210 - accuracy: 0.9930 - val_loss: 0.0252 - val_accuracy: 0.9933\n",
      "Epoch 83/100\n",
      "13158/13158 [==============================] - 1s 98us/step - loss: 0.0213 - accuracy: 0.9918 - val_loss: 0.0281 - val_accuracy: 0.9930\n",
      "Epoch 84/100\n",
      "13158/13158 [==============================] - 1s 105us/step - loss: 0.0210 - accuracy: 0.9919 - val_loss: 0.0261 - val_accuracy: 0.9924\n",
      "Epoch 85/100\n",
      "13158/13158 [==============================] - 1s 99us/step - loss: 0.0212 - accuracy: 0.9921 - val_loss: 0.0250 - val_accuracy: 0.9933\n",
      "Epoch 86/100\n",
      "13158/13158 [==============================] - 1s 104us/step - loss: 0.0210 - accuracy: 0.9917 - val_loss: 0.0245 - val_accuracy: 0.9936\n",
      "Epoch 87/100\n",
      "13158/13158 [==============================] - 1s 100us/step - loss: 0.0212 - accuracy: 0.9927 - val_loss: 0.0274 - val_accuracy: 0.9918\n",
      "Epoch 88/100\n",
      "13158/13158 [==============================] - 1s 101us/step - loss: 0.0206 - accuracy: 0.9924 - val_loss: 0.0276 - val_accuracy: 0.9906\n",
      "Epoch 89/100\n",
      "13158/13158 [==============================] - 1s 111us/step - loss: 0.0212 - accuracy: 0.9919 - val_loss: 0.0282 - val_accuracy: 0.9909\n",
      "Epoch 90/100\n",
      "13158/13158 [==============================] - 1s 99us/step - loss: 0.0214 - accuracy: 0.9921 - val_loss: 0.0278 - val_accuracy: 0.9933\n",
      "Epoch 91/100\n",
      "13158/13158 [==============================] - 1s 102us/step - loss: 0.0214 - accuracy: 0.9916 - val_loss: 0.0281 - val_accuracy: 0.9915\n",
      "Epoch 92/100\n",
      "13158/13158 [==============================] - 1s 101us/step - loss: 0.0205 - accuracy: 0.9920 - val_loss: 0.0259 - val_accuracy: 0.9933\n",
      "Epoch 93/100\n",
      "13158/13158 [==============================] - 1s 98us/step - loss: 0.0212 - accuracy: 0.9918 - val_loss: 0.0271 - val_accuracy: 0.9921\n",
      "Epoch 94/100\n",
      "13158/13158 [==============================] - 1s 96us/step - loss: 0.0205 - accuracy: 0.9919 - val_loss: 0.0318 - val_accuracy: 0.9924\n",
      "Epoch 95/100\n",
      "13158/13158 [==============================] - 1s 102us/step - loss: 0.0207 - accuracy: 0.9922 - val_loss: 0.0272 - val_accuracy: 0.9942\n",
      "Epoch 96/100\n",
      "13158/13158 [==============================] - 1s 97us/step - loss: 0.0203 - accuracy: 0.9918 - val_loss: 0.0269 - val_accuracy: 0.9930\n",
      "Epoch 97/100\n",
      "13158/13158 [==============================] - 1s 104us/step - loss: 0.0206 - accuracy: 0.9918 - val_loss: 0.0253 - val_accuracy: 0.9927\n",
      "Epoch 98/100\n",
      "13158/13158 [==============================] - 1s 111us/step - loss: 0.0209 - accuracy: 0.9926 - val_loss: 0.0267 - val_accuracy: 0.9933\n",
      "Epoch 99/100\n",
      "13158/13158 [==============================] - 1s 107us/step - loss: 0.0208 - accuracy: 0.9924 - val_loss: 0.0280 - val_accuracy: 0.9918\n",
      "Epoch 100/100\n",
      "13158/13158 [==============================] - 1s 101us/step - loss: 0.0201 - accuracy: 0.9922 - val_loss: 0.0247 - val_accuracy: 0.9930\n"
     ]
    }
   ],
   "source": [
    "model3 = build_model()\n",
    "\n",
    "history3 = model3.fit(X_train, y_train, validation_data=(X_test, y_test), epochs=100, batch_size=10).history"
   ]
  },
  {
   "cell_type": "code",
   "execution_count": 47,
   "metadata": {},
   "outputs": [
    {
     "name": "stdout",
     "output_type": "stream",
     "text": [
      "3290/3290 [==============================] - 0s 11us/step\n",
      "Loss 0.028791, Accuracy 0.991489\n",
      "Loss 0.023984, Accuracy 0.993313\n",
      "Loss 0.024656, Accuracy 0.993009\n"
     ]
    }
   ],
   "source": [
    "test_loss_3, test_acc_3 = model3.evaluate(X_test, y_test)\n",
    "\n",
    "print('Loss %f, Accuracy %f' % (test_loss_1, test_acc_1))\n",
    "print('Loss %f, Accuracy %f' % (test_loss_2, test_acc_2))\n",
    "print('Loss %f, Accuracy %f' % (test_loss_3, test_acc_3))"
   ]
  },
  {
   "cell_type": "code",
   "execution_count": 48,
   "metadata": {},
   "outputs": [
    {
     "data": {
      "image/png": "[encoded data removed]",
      "text/plain": [
       "<Figure size 432x288 with 1 Axes>"
      ]
     },
     "metadata": {
      "needs_background": "light"
     },
     "output_type": "display_data"
    }
   ],
   "source": [
    "plt.plot(history3['loss'], label='Train')\n",
    "plt.plot(history3['val_loss'], label='Val')\n",
    "plt.xlabel('Epochs')\n",
    "plt.ylabel('Cross-Entropy')\n",
    "plt.legend()\n",
    "plt.show()"
   ]
  },
  {
   "cell_type": "code",
   "execution_count": 49,
   "metadata": {},
   "outputs": [],
   "source": [
    "X_train, X_val, y_train, y_val = train_test_split(X_train, y_train, test_size=0.2)"
   ]
  },
  {
   "cell_type": "markdown",
   "metadata": {},
   "source": [
    "## Early Stopping"
   ]
  },
  {
   "cell_type": "code",
   "execution_count": 50,
   "metadata": {},
   "outputs": [],
   "source": [
    "from keras.callbacks import EarlyStopping, ModelCheckpoint"
   ]
  },
  {
   "cell_type": "code",
   "execution_count": 51,
   "metadata": {},
   "outputs": [
    {
     "name": "stdout",
     "output_type": "stream",
     "text": [
      "Train on 10526 samples, validate on 2632 samples\n",
      "Epoch 1/100\n",
      "10526/10526 [==============================] - 1s 137us/step - loss: 0.0621 - accuracy: 0.9855 - val_loss: 0.0417 - val_accuracy: 0.9886\n",
      "Epoch 2/100\n",
      "10526/10526 [==============================] - 1s 111us/step - loss: 0.0438 - accuracy: 0.9885 - val_loss: 0.0390 - val_accuracy: 0.9894\n",
      "Epoch 3/100\n",
      "10526/10526 [==============================] - 1s 106us/step - loss: 0.0394 - accuracy: 0.9885 - val_loss: 0.0399 - val_accuracy: 0.9901\n",
      "Epoch 4/100\n",
      "10526/10526 [==============================] - 1s 102us/step - loss: 0.0384 - accuracy: 0.9890 - val_loss: 0.0347 - val_accuracy: 0.9894\n",
      "Epoch 5/100\n",
      "10526/10526 [==============================] - 1s 111us/step - loss: 0.0355 - accuracy: 0.9893 - val_loss: 0.0372 - val_accuracy: 0.9890\n",
      "Epoch 6/100\n",
      "10526/10526 [==============================] - 1s 99us/step - loss: 0.0348 - accuracy: 0.9890 - val_loss: 0.0377 - val_accuracy: 0.9875\n",
      "Epoch 7/100\n",
      "10526/10526 [==============================] - 1s 102us/step - loss: 0.0338 - accuracy: 0.9901 - val_loss: 0.0352 - val_accuracy: 0.9894\n",
      "Epoch 8/100\n",
      "10526/10526 [==============================] - 1s 100us/step - loss: 0.0324 - accuracy: 0.9900 - val_loss: 0.0411 - val_accuracy: 0.9856\n",
      "Epoch 9/100\n",
      "10526/10526 [==============================] - 1s 98us/step - loss: 0.0318 - accuracy: 0.9894 - val_loss: 0.0382 - val_accuracy: 0.9875\n",
      "Epoch 10/100\n",
      "10526/10526 [==============================] - 1s 99us/step - loss: 0.0316 - accuracy: 0.9898 - val_loss: 0.0310 - val_accuracy: 0.9920\n",
      "Epoch 11/100\n",
      "10526/10526 [==============================] - 1s 101us/step - loss: 0.0304 - accuracy: 0.9898 - val_loss: 0.0326 - val_accuracy: 0.9897\n",
      "Epoch 12/100\n",
      "10526/10526 [==============================] - 1s 101us/step - loss: 0.0301 - accuracy: 0.9904 - val_loss: 0.0319 - val_accuracy: 0.9897\n",
      "Epoch 13/100\n",
      "10526/10526 [==============================] - 1s 95us/step - loss: 0.0299 - accuracy: 0.9902 - val_loss: 0.0348 - val_accuracy: 0.9909\n",
      "Epoch 14/100\n",
      "10526/10526 [==============================] - 1s 99us/step - loss: 0.0290 - accuracy: 0.9911 - val_loss: 0.0321 - val_accuracy: 0.9905\n",
      "Epoch 15/100\n",
      "10526/10526 [==============================] - 1s 102us/step - loss: 0.0287 - accuracy: 0.9913 - val_loss: 0.0313 - val_accuracy: 0.9905\n",
      "Epoch 16/100\n",
      "10526/10526 [==============================] - 1s 97us/step - loss: 0.0290 - accuracy: 0.9908 - val_loss: 0.0349 - val_accuracy: 0.9897\n",
      "Epoch 17/100\n",
      "10526/10526 [==============================] - 1s 102us/step - loss: 0.0280 - accuracy: 0.9906 - val_loss: 0.0359 - val_accuracy: 0.9897\n",
      "Epoch 18/100\n",
      "10526/10526 [==============================] - 1s 94us/step - loss: 0.0279 - accuracy: 0.9910 - val_loss: 0.0331 - val_accuracy: 0.9894\n",
      "Epoch 19/100\n",
      "10526/10526 [==============================] - 1s 99us/step - loss: 0.0277 - accuracy: 0.9905 - val_loss: 0.0337 - val_accuracy: 0.9905\n",
      "Epoch 20/100\n",
      "10526/10526 [==============================] - 1s 107us/step - loss: 0.0277 - accuracy: 0.9904 - val_loss: 0.0374 - val_accuracy: 0.9905\n"
     ]
    }
   ],
   "source": [
    "es = EarlyStopping(monitor='val_loss', patience=10)\n",
    "mc = ModelCheckpoint('best_model_NOREG.h5', monitor='val_loss', save_best_only=True)\n",
    "\n",
    "model4 = build_model()\n",
    "history4 = model4.fit(X_train, y_train, validation_data=(X_val, y_val), epochs=100, \n",
    "                      batch_size=10, callbacks=[es,mc]).history"
   ]
  },
  {
   "cell_type": "code",
   "execution_count": 52,
   "metadata": {},
   "outputs": [
    {
     "name": "stdout",
     "output_type": "stream",
     "text": [
      "3290/3290 [==============================] - 0s 11us/step\n",
      "Loss 0.028791, Accuracy 0.991489\n",
      "Loss 0.023984, Accuracy 0.993313\n",
      "Loss 0.024656, Accuracy 0.993009\n",
      "Loss 0.030356, Accuracy 0.990881\n"
     ]
    }
   ],
   "source": [
    "test_loss_4, test_acc_4 = model4.evaluate(X_test, y_test)\n",
    "\n",
    "print('Loss %f, Accuracy %f' % (test_loss_1, test_acc_1))\n",
    "print('Loss %f, Accuracy %f' % (test_loss_2, test_acc_2))\n",
    "print('Loss %f, Accuracy %f' % (test_loss_3, test_acc_3))\n",
    "print('Loss %f, Accuracy %f' % (test_loss_4, test_acc_4))"
   ]
  },
  {
   "cell_type": "markdown",
   "metadata": {},
   "source": [
    "## L2 Regularization"
   ]
  },
  {
   "cell_type": "code",
   "execution_count": 53,
   "metadata": {},
   "outputs": [],
   "source": [
    "from keras.regularizers import l2\n",
    "\n",
    "def build_L2_model():\n",
    "    # define the model\n",
    "    model = Sequential()\n",
    "\n",
    "    n_feature = X_train.shape[1]\n",
    "    h_dim=100\n",
    "    model.add(Dense(h_dim, activation='relu', input_shape=(n_feature,), kernel_regularizer=l2(0.01)))\n",
    "    model.add(Dense(h_dim, activation='relu', kernel_regularizer=l2(0.01)))\n",
    "    model.add(Dense(h_dim, activation='relu', kernel_regularizer=l2(0.01)))\n",
    "    model.add(Dense(h_dim, activation='relu', kernel_regularizer=l2(0.01)))\n",
    "    #linear activation\n",
    "    model.add(Dense(1))\n",
    "\n",
    "    #compile the model\n",
    "    model.compile(loss='binary_crossentropy', optimizer='adam', metrics=['accuracy'])\n",
    "    \n",
    "    return model"
   ]
  },
  {
   "cell_type": "code",
   "execution_count": 54,
   "metadata": {},
   "outputs": [
    {
     "name": "stdout",
     "output_type": "stream",
     "text": [
      "Train on 10526 samples, validate on 2632 samples\n",
      "Epoch 1/100\n",
      "10526/10526 [==============================] - 2s 190us/step - loss: 0.5281 - accuracy: 0.9232 - val_loss: 0.1604 - val_accuracy: 0.9521\n",
      "Epoch 2/100\n",
      "10526/10526 [==============================] - 1s 140us/step - loss: 0.1851 - accuracy: 0.9433 - val_loss: 0.1497 - val_accuracy: 0.9536\n",
      "Epoch 3/100\n",
      "10526/10526 [==============================] - 2s 151us/step - loss: 0.2110 - accuracy: 0.9331 - val_loss: 0.1545 - val_accuracy: 0.9574\n",
      "Epoch 4/100\n",
      "10526/10526 [==============================] - 2s 146us/step - loss: 0.1819 - accuracy: 0.9575 - val_loss: 0.1276 - val_accuracy: 0.9791\n",
      "Epoch 5/100\n",
      "10526/10526 [==============================] - 1s 139us/step - loss: 0.1519 - accuracy: 0.9724 - val_loss: 0.1530 - val_accuracy: 0.9639\n",
      "Epoch 6/100\n",
      "10526/10526 [==============================] - 2s 150us/step - loss: 0.1705 - accuracy: 0.9717 - val_loss: 0.1546 - val_accuracy: 0.9639\n",
      "Epoch 7/100\n",
      "10526/10526 [==============================] - 2s 144us/step - loss: 0.1696 - accuracy: 0.9771 - val_loss: 0.1391 - val_accuracy: 0.9878\n",
      "Epoch 8/100\n",
      "10526/10526 [==============================] - 2s 148us/step - loss: 0.1549 - accuracy: 0.9651 - val_loss: 0.1374 - val_accuracy: 0.9882\n",
      "Epoch 9/100\n",
      "10526/10526 [==============================] - 1s 131us/step - loss: 0.1655 - accuracy: 0.9876 - val_loss: 0.1525 - val_accuracy: 0.9878\n",
      "Epoch 10/100\n",
      "10526/10526 [==============================] - 1s 132us/step - loss: 0.1753 - accuracy: 0.9799 - val_loss: 0.1445 - val_accuracy: 0.9882\n",
      "Epoch 11/100\n",
      "10526/10526 [==============================] - 2s 145us/step - loss: 0.1682 - accuracy: 0.9884 - val_loss: 0.1411 - val_accuracy: 0.9878\n",
      "Epoch 12/100\n",
      "10526/10526 [==============================] - 1s 140us/step - loss: 0.2882 - accuracy: 0.9458 - val_loss: 0.1457 - val_accuracy: 0.9859\n",
      "Epoch 13/100\n",
      "10526/10526 [==============================] - 1s 140us/step - loss: 0.1762 - accuracy: 0.9835 - val_loss: 0.1452 - val_accuracy: 0.9886\n",
      "Epoch 14/100\n",
      "10526/10526 [==============================] - 1s 139us/step - loss: 0.1530 - accuracy: 0.9885 - val_loss: 0.0892 - val_accuracy: 0.9886\n",
      "Epoch 15/100\n",
      "10526/10526 [==============================] - 2s 146us/step - loss: 0.1443 - accuracy: 0.9846 - val_loss: 0.2086 - val_accuracy: 0.9658\n",
      "Epoch 16/100\n",
      "10526/10526 [==============================] - 1s 140us/step - loss: 0.1376 - accuracy: 0.9847 - val_loss: 0.1447 - val_accuracy: 0.9875\n",
      "Epoch 17/100\n",
      "10526/10526 [==============================] - 2s 168us/step - loss: 0.1635 - accuracy: 0.9886 - val_loss: 0.1402 - val_accuracy: 0.9875\n",
      "Epoch 18/100\n",
      "10526/10526 [==============================] - 2s 145us/step - loss: 0.7186 - accuracy: 0.6569 - val_loss: 0.3217 - val_accuracy: 0.2629\n",
      "Epoch 19/100\n",
      "10526/10526 [==============================] - 2s 152us/step - loss: 0.1428 - accuracy: 0.3178 - val_loss: 0.1420 - val_accuracy: 0.3017\n",
      "Epoch 20/100\n",
      "10526/10526 [==============================] - 1s 140us/step - loss: 0.1228 - accuracy: 0.3088 - val_loss: 0.1111 - val_accuracy: 0.3081\n",
      "Epoch 21/100\n",
      "10526/10526 [==============================] - 1s 136us/step - loss: 0.1144 - accuracy: 0.3051 - val_loss: 0.1028 - val_accuracy: 0.3207\n",
      "Epoch 22/100\n",
      "10526/10526 [==============================] - 2s 145us/step - loss: 0.1901 - accuracy: 0.6423 - val_loss: 0.1578 - val_accuracy: 0.9878\n",
      "Epoch 23/100\n",
      "10526/10526 [==============================] - 2s 147us/step - loss: 0.1151 - accuracy: 0.9876 - val_loss: 0.0983 - val_accuracy: 0.9886\n",
      "Epoch 24/100\n",
      "10526/10526 [==============================] - 2s 150us/step - loss: 0.0987 - accuracy: 0.7245 - val_loss: 0.0965 - val_accuracy: 0.3435\n"
     ]
    }
   ],
   "source": [
    "mc = ModelCheckpoint('best_model_L2.h5', monitor='val_loss', save_best_only=True)\n",
    "\n",
    "L2_model = build_L2_model()\n",
    "h_L2 = L2_model.fit(X_train, y_train, validation_data=(X_val, y_val), epochs=100, \n",
    "                    batch_size=10, callbacks=[es,mc]).history"
   ]
  },
  {
   "cell_type": "code",
   "execution_count": 55,
   "metadata": {},
   "outputs": [],
   "source": [
    "from keras.layers import Dropout\n",
    "\n",
    "def build_DROPOUT_model():\n",
    "    # define the model\n",
    "    model = Sequential()\n",
    "\n",
    "    n_feature = X_train.shape[1]\n",
    "    h_dim=100\n",
    "    model.add(Dense(h_dim, activation='relu', input_shape=(n_feature,)))\n",
    "    model.add(Dropout(0.2))\n",
    "    model.add(Dense(h_dim, activation='relu'))\n",
    "    model.add(Dropout(0.2))\n",
    "    model.add(Dense(h_dim, activation='relu'))\n",
    "    model.add(Dropout(0.2))\n",
    "    model.add(Dense(h_dim, activation='relu'))\n",
    "    #linear activation\n",
    "    model.add(Dense(1))\n",
    "\n",
    "    #compile the model\n",
    "    model.compile(loss='binary_crossentropy', optimizer='adam', metrics=['accuracy'])\n",
    "    \n",
    "    return model"
   ]
  },
  {
   "cell_type": "code",
   "execution_count": 56,
   "metadata": {},
   "outputs": [
    {
     "name": "stdout",
     "output_type": "stream",
     "text": [
      "Train on 10526 samples, validate on 2632 samples\n",
      "Epoch 1/100\n",
      "10526/10526 [==============================] - 2s 209us/step - loss: 0.1811 - accuracy: 0.1230 - val_loss: 0.1590 - val_accuracy: 0.0019\n",
      "Epoch 2/100\n",
      "10526/10526 [==============================] - 2s 143us/step - loss: 0.1765 - accuracy: 0.0158 - val_loss: 0.1694 - val_accuracy: 7.5988e-04\n",
      "Epoch 3/100\n",
      "10526/10526 [==============================] - 2s 153us/step - loss: 0.1729 - accuracy: 0.0044 - val_loss: 0.1699 - val_accuracy: 7.5988e-04\n",
      "Epoch 4/100\n",
      "10526/10526 [==============================] - 1s 141us/step - loss: 0.1642 - accuracy: 0.0041 - val_loss: 0.1627 - val_accuracy: 0.0011\n",
      "Epoch 5/100\n",
      "10526/10526 [==============================] - 2s 149us/step - loss: 0.1727 - accuracy: 0.0023 - val_loss: 0.1744 - val_accuracy: 0.0000e+00\n",
      "Epoch 6/100\n",
      "10526/10526 [==============================] - 2s 147us/step - loss: 0.1829 - accuracy: 0.0026 - val_loss: 0.1802 - val_accuracy: 0.0019\n",
      "Epoch 7/100\n",
      "10526/10526 [==============================] - 2s 148us/step - loss: 0.1855 - accuracy: 0.0014 - val_loss: 0.1569 - val_accuracy: 7.5988e-04\n",
      "Epoch 8/100\n",
      "10526/10526 [==============================] - 2s 151us/step - loss: 0.2002 - accuracy: 8.5503e-04 - val_loss: 0.1568 - val_accuracy: 0.0000e+00\n",
      "Epoch 9/100\n",
      "10526/10526 [==============================] - 2s 146us/step - loss: 0.1959 - accuracy: 3.8001e-04 - val_loss: 0.1801 - val_accuracy: 3.7994e-04\n",
      "Epoch 10/100\n",
      "10526/10526 [==============================] - 2s 153us/step - loss: 0.1984 - accuracy: 5.7002e-04 - val_loss: 0.2048 - val_accuracy: 3.7994e-04\n",
      "Epoch 11/100\n",
      "10526/10526 [==============================] - 2s 161us/step - loss: 0.1881 - accuracy: 2.8501e-04 - val_loss: 0.1689 - val_accuracy: 3.7994e-04\n",
      "Epoch 12/100\n",
      "10526/10526 [==============================] - 2s 146us/step - loss: 0.1734 - accuracy: 1.9001e-04 - val_loss: 0.1627 - val_accuracy: 0.0000e+00\n",
      "Epoch 13/100\n",
      "10526/10526 [==============================] - 2s 144us/step - loss: 0.1808 - accuracy: 1.9001e-04 - val_loss: 0.1690 - val_accuracy: 0.0000e+00\n",
      "Epoch 14/100\n",
      "10526/10526 [==============================] - 2s 144us/step - loss: 0.1793 - accuracy: 1.9001e-04 - val_loss: 0.1744 - val_accuracy: 0.0000e+00\n",
      "Epoch 15/100\n",
      "10526/10526 [==============================] - 2s 147us/step - loss: 0.1969 - accuracy: 9.5003e-05 - val_loss: 0.1744 - val_accuracy: 3.7994e-04\n",
      "Epoch 16/100\n",
      "10526/10526 [==============================] - 2s 148us/step - loss: 0.1852 - accuracy: 4.7501e-04 - val_loss: 0.1684 - val_accuracy: 0.0000e+00\n",
      "Epoch 17/100\n",
      "10526/10526 [==============================] - 2s 145us/step - loss: 0.1836 - accuracy: 1.9001e-04 - val_loss: 0.1684 - val_accuracy: 0.0000e+00\n",
      "Epoch 18/100\n",
      "10526/10526 [==============================] - 2s 145us/step - loss: 0.1825 - accuracy: 1.9001e-04 - val_loss: 0.2263 - val_accuracy: 0.0000e+00\n"
     ]
    }
   ],
   "source": [
    "mc = ModelCheckpoint('best_model_DROPOUT.h5', monitor='val_loss', save_best_only=True)\n",
    "\n",
    "DROPOUT_model = build_DROPOUT_model()\n",
    "h_DROPOUT = DROPOUT_model.fit(X_train, y_train, validation_data=(X_val, y_val), \n",
    "                              epochs=100, batch_size=10, callbacks=[es,mc]).history"
   ]
  },
  {
   "cell_type": "code",
   "execution_count": 57,
   "metadata": {},
   "outputs": [
    {
     "name": "stdout",
     "output_type": "stream",
     "text": [
      "3290/3290 [==============================] - 0s 24us/step\n",
      "3290/3290 [==============================] - 0s 36us/step\n",
      "3290/3290 [==============================] - 0s 45us/step\n"
     ]
    }
   ],
   "source": [
    "# laod best models and test them\n",
    "from keras.models import load_model\n",
    "\n",
    "best_NOREG_model = load_model('best_model_NOREG.h5')\n",
    "best_L2_model = load_model('best_model_L2.h5')\n",
    "best_DROPOUT_model = load_model('best_model_DROPOUT.h5')\n",
    "\n",
    "loss_NOREG, acc_NOREG = best_NOREG_model.evaluate(X_test, y_test)\n",
    "loss_L2, acc_L2 = best_L2_model.evaluate(X_test, y_test)\n",
    "loss_DROPOUT, acc_DROPOUT = best_DROPOUT_model.evaluate(X_test, y_test)"
   ]
  },
  {
   "cell_type": "code",
   "execution_count": 58,
   "metadata": {},
   "outputs": [
    {
     "name": "stdout",
     "output_type": "stream",
     "text": [
      "Loss 0.028131, Accuracy 0.992705\n",
      "Loss 0.070167, Accuracy 0.990881\n",
      "Loss 0.125146, Accuracy 0.000000\n"
     ]
    }
   ],
   "source": [
    "print('Loss %f, Accuracy %f' % (loss_NOREG, acc_NOREG))\n",
    "print('Loss %f, Accuracy %f' % (loss_L2, acc_L2))\n",
    "print('Loss %f, Accuracy %f' % (loss_DROPOUT, acc_DROPOUT))"
   ]
  },
  {
   "cell_type": "markdown",
   "metadata": {},
   "source": [
    "## Hyper-Parameter Tuning"
   ]
  },
  {
   "cell_type": "code",
   "execution_count": 59,
   "metadata": {},
   "outputs": [],
   "source": [
    "from keras.wrappers.scikit_learn import KerasRegressor\n",
    "from sklearn.model_selection import RandomizedSearchCV"
   ]
  },
  {
   "cell_type": "code",
   "execution_count": 60,
   "metadata": {},
   "outputs": [],
   "source": [
    "def build_model(n_layers=2, h_dim=64, activation='relu', optimizer='adam'):\n",
    "    # define the model\n",
    "    model = Sequential()\n",
    "\n",
    "    n_feature = X_train.shape[1]\n",
    "    \n",
    "    model.add(Dense(h_dim, activation=activation, input_shape=(n_feature,)))\n",
    "    for i in range(n_layers-1):\n",
    "        model.add(Dense(h_dim, activation=activation))\n",
    "    #linear activation\n",
    "    model.add(Dense(1))\n",
    "\n",
    "    #compile the model\n",
    "    model.compile(loss='binary_crossentropy', optimizer=optimizer, metrics=['accuracy'])\n",
    "    \n",
    "    return model"
   ]
  },
  {
   "cell_type": "code",
   "execution_count": 61,
   "metadata": {},
   "outputs": [],
   "source": [
    "n_layers = [1, 2, 3]\n",
    "h_dim = [32, 64, 128]\n",
    "activation = ['relu', 'tanh']\n",
    "optimizer = ['adagrad', 'adam']\n",
    "params = dict(optimizer=optimizer, n_layers=n_layers, h_dim=h_dim, activation=activation)"
   ]
  },
  {
   "cell_type": "code",
   "execution_count": 62,
   "metadata": {},
   "outputs": [
    {
     "name": "stdout",
     "output_type": "stream",
     "text": [
      "3509/3509 [==============================] - 0s 20us/step\n",
      "3509/3509 [==============================] - 0s 20us/step\n",
      "3508/3508 [==============================] - 0s 20us/step\n",
      "3509/3509 [==============================] - 0s 27us/step\n",
      "3509/3509 [==============================] - 0s 24us/step\n",
      "3508/3508 [==============================] - 0s 25us/step\n",
      "3509/3509 [==============================] - 0s 23us/step\n",
      "3509/3509 [==============================] - 0s 22us/step\n",
      "3508/3508 [==============================] - 0s 25us/step\n",
      "3509/3509 [==============================] - 0s 36us/step\n",
      "3509/3509 [==============================] - 0s 36us/step\n",
      "3508/3508 [==============================] - 0s 35us/step\n",
      "3509/3509 [==============================] - 0s 22us/step\n",
      "3509/3509 [==============================] - 0s 21us/step\n",
      "3508/3508 [==============================] - 0s 22us/step\n"
     ]
    }
   ],
   "source": [
    "model = KerasRegressor(build_fn=build_model)\n",
    "\n",
    "rnd = RandomizedSearchCV(estimator=model, param_distributions=params, n_iter=5, cv=3)\n",
    "rnd_result = rnd.fit(X_train, y_train, epochs=100, batch_size=10, verbose=0)"
   ]
  },
  {
   "cell_type": "code",
   "execution_count": 63,
   "metadata": {},
   "outputs": [
    {
     "name": "stdout",
     "output_type": "stream",
     "text": [
      "Best: 0.109877 using {'optimizer': 'adam', 'n_layers': 1, 'h_dim': 32, 'activation': 'relu'}\n",
      "0.109877 (0.029848) with: {'optimizer': 'adam', 'n_layers': 1, 'h_dim': 32, 'activation': 'relu'}\n",
      "0.162558 (0.004247) with: {'optimizer': 'adam', 'n_layers': 3, 'h_dim': 64, 'activation': 'relu'}\n",
      "1.316386 (1.702062) with: {'optimizer': 'adagrad', 'n_layers': 2, 'h_dim': 64, 'activation': 'relu'}\n",
      "0.149146 (0.012597) with: {'optimizer': 'adagrad', 'n_layers': 3, 'h_dim': 64, 'activation': 'tanh'}\n",
      "0.155275 (0.008403) with: {'optimizer': 'adam', 'n_layers': 1, 'h_dim': 128, 'activation': 'tanh'}\n"
     ]
    }
   ],
   "source": [
    "print(\"Best: %f using %s\" % (-rnd_result.best_score_, rnd_result.best_params_))\n",
    "means = rnd_result.cv_results_['mean_test_score']\n",
    "stds = rnd_result.cv_results_['std_test_score']\n",
    "params = rnd_result.cv_results_['params']\n",
    "for mean, stdev, param in zip(means, stds, params):\n",
    "    print(\"%f (%f) with: %r\" % (-mean, stdev, param))"
   ]
  },
  {
   "cell_type": "code",
   "execution_count": 64,
   "metadata": {},
   "outputs": [
    {
     "name": "stdout",
     "output_type": "stream",
     "text": [
      "3290/3290 [==============================] - 0s 22us/step\n",
      "Loss 0.111200, Accuracy 0.013070\n"
     ]
    }
   ],
   "source": [
    "clf = rnd_result.best_estimator_.model\n",
    "\n",
    "loss, acc = clf.evaluate(X_test, y_test)\n",
    "print('Loss %f, Accuracy %f' % (loss, acc))"
   ]
  },
  {
   "cell_type": "code",
   "execution_count": null,
   "metadata": {},
   "outputs": [],
   "source": []
  }
 ],
 "metadata": {
  "kernelspec": {
   "display_name": "Python 3",
   "language": "python",
   "name": "python3"
  },
  "language_info": {
   "codemirror_mode": {
    "name": "ipython",
    "version": 3
   },
   "file_extension": ".py",
   "mimetype": "text/x-python",
   "name": "python",
   "nbconvert_exporter": "python",
   "pygments_lexer": "ipython3",
   "version": "3.7.4"
  }
 },
 "nbformat": 4,
 "nbformat_minor": 2
}
