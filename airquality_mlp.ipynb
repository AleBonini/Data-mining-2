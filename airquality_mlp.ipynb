{
  "nbformat": 4,
  "nbformat_minor": 0,
  "metadata": {
    "colab": {
      "name": "airquality_mlp",
      "provenance": [],
      "collapsed_sections": []
    },
    "kernelspec": {
      "name": "python3",
      "display_name": "Python 3"
    }
  },
  "cells": [
    {
      "cell_type": "code",
      "metadata": {
        "id": "gZepZv01s_eY",
        "outputId": "7b5c184d-51ac-4046-c276-912518845c9d",
        "colab": {
          "base_uri": "https://localhost:8080/"
        }
      },
      "source": [
        "!pip install scikit-plot\n",
        "%matplotlib inline\n",
        "\n",
        "import numpy as np\n",
        "import pandas as pd\n",
        "import matplotlib.pyplot as plt\n",
        "\n",
        "from collections import defaultdict\n",
        "from sklearn.metrics import confusion_matrix\n",
        "import scikitplot as skplt"
      ],
      "execution_count": null,
      "outputs": [
        {
          "output_type": "stream",
          "text": [
            "Collecting scikit-plot\n",
            "  Downloading https://files.pythonhosted.org/packages/7c/47/32520e259340c140a4ad27c1b97050dd3254fdc517b1d59974d47037510e/scikit_plot-0.3.7-py3-none-any.whl\n",
            "Requirement already satisfied: joblib>=0.10 in /usr/local/lib/python3.6/dist-packages (from scikit-plot) (0.17.0)\n",
            "Requirement already satisfied: scipy>=0.9 in /usr/local/lib/python3.6/dist-packages (from scikit-plot) (1.4.1)\n",
            "Requirement already satisfied: scikit-learn>=0.18 in /usr/local/lib/python3.6/dist-packages (from scikit-plot) (0.22.2.post1)\n",
            "Requirement already satisfied: matplotlib>=1.4.0 in /usr/local/lib/python3.6/dist-packages (from scikit-plot) (3.2.2)\n",
            "Requirement already satisfied: numpy>=1.13.3 in /usr/local/lib/python3.6/dist-packages (from scipy>=0.9->scikit-plot) (1.18.5)\n",
            "Requirement already satisfied: pyparsing!=2.0.4,!=2.1.2,!=2.1.6,>=2.0.1 in /usr/local/lib/python3.6/dist-packages (from matplotlib>=1.4.0->scikit-plot) (2.4.7)\n",
            "Requirement already satisfied: kiwisolver>=1.0.1 in /usr/local/lib/python3.6/dist-packages (from matplotlib>=1.4.0->scikit-plot) (1.2.0)\n",
            "Requirement already satisfied: python-dateutil>=2.1 in /usr/local/lib/python3.6/dist-packages (from matplotlib>=1.4.0->scikit-plot) (2.8.1)\n",
            "Requirement already satisfied: cycler>=0.10 in /usr/local/lib/python3.6/dist-packages (from matplotlib>=1.4.0->scikit-plot) (0.10.0)\n",
            "Requirement already satisfied: six>=1.5 in /usr/local/lib/python3.6/dist-packages (from python-dateutil>=2.1->matplotlib>=1.4.0->scikit-plot) (1.15.0)\n",
            "Installing collected packages: scikit-plot\n",
            "Successfully installed scikit-plot-0.3.7\n"
          ],
          "name": "stdout"
        }
      ]
    },
    {
      "cell_type": "code",
      "metadata": {
        "id": "m-YBlnCBtEiC",
        "outputId": "efb26064-2c42-41c6-b565-da36a94208a4",
        "colab": {
          "resources": {
            "http://localhost:8080/nbextensions/google.colab/files.js": {
              "data": "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",
              "ok": true,
              "headers": [
                [
                  "content-type",
                  "application/javascript"
                ]
              ],
              "status": 200,
              "status_text": ""
            }
          },
          "base_uri": "https://localhost:8080/",
          "height": 259
        }
      },
      "source": [
        "from google.colab import files\n",
        "uploaded = files.upload()\n",
        "df = uploaded\n",
        "df = pd.read_csv('air_dataset.csv')\n",
        "df.drop(columns='Unnamed: 0',inplace=True)\n",
        "class_name = 'weekend'\n",
        "df.head()"
      ],
      "execution_count": null,
      "outputs": [
        {
          "output_type": "display_data",
          "data": {
            "text/html": [
              "\n",
              "     <input type=\"file\" id=\"files-1b60c1a2-c0d9-4f48-88ed-cd70adb2385c\" name=\"files[]\" multiple disabled\n",
              "        style=\"border:none\" />\n",
              "     <output id=\"result-1b60c1a2-c0d9-4f48-88ed-cd70adb2385c\">\n",
              "      Upload widget is only available when the cell has been executed in the\n",
              "      current browser session. Please rerun this cell to enable.\n",
              "      </output>\n",
              "      <script src=\"/nbextensions/google.colab/files.js\"></script> "
            ],
            "text/plain": [
              "<IPython.core.display.HTML object>"
            ]
          },
          "metadata": {
            "tags": []
          }
        },
        {
          "output_type": "stream",
          "text": [
            "Saving air_dataset.csv to air_dataset.csv\n"
          ],
          "name": "stdout"
        },
        {
          "output_type": "execute_result",
          "data": {
            "text/html": [
              "<div>\n",
              "<style scoped>\n",
              "    .dataframe tbody tr th:only-of-type {\n",
              "        vertical-align: middle;\n",
              "    }\n",
              "\n",
              "    .dataframe tbody tr th {\n",
              "        vertical-align: top;\n",
              "    }\n",
              "\n",
              "    .dataframe thead th {\n",
              "        text-align: right;\n",
              "    }\n",
              "</style>\n",
              "<table border=\"1\" class=\"dataframe\">\n",
              "  <thead>\n",
              "    <tr style=\"text-align: right;\">\n",
              "      <th></th>\n",
              "      <th>CO(GT)</th>\n",
              "      <th>C6H6(GT)</th>\n",
              "      <th>NOx(GT)</th>\n",
              "      <th>PT08.S3(NOx)</th>\n",
              "      <th>NO2(GT)</th>\n",
              "      <th>T</th>\n",
              "      <th>RH</th>\n",
              "      <th>weekend</th>\n",
              "      <th>PT08_feat</th>\n",
              "    </tr>\n",
              "  </thead>\n",
              "  <tbody>\n",
              "    <tr>\n",
              "      <th>0</th>\n",
              "      <td>1.5</td>\n",
              "      <td>11.3</td>\n",
              "      <td>180.0</td>\n",
              "      <td>831.0</td>\n",
              "      <td>111.0</td>\n",
              "      <td>27.4</td>\n",
              "      <td>31.5</td>\n",
              "      <td>0</td>\n",
              "      <td>1186.50</td>\n",
              "    </tr>\n",
              "    <tr>\n",
              "      <th>1</th>\n",
              "      <td>2.0</td>\n",
              "      <td>13.0</td>\n",
              "      <td>310.0</td>\n",
              "      <td>971.0</td>\n",
              "      <td>129.0</td>\n",
              "      <td>35.0</td>\n",
              "      <td>17.3</td>\n",
              "      <td>0</td>\n",
              "      <td>1148.75</td>\n",
              "    </tr>\n",
              "    <tr>\n",
              "      <th>2</th>\n",
              "      <td>1.4</td>\n",
              "      <td>7.5</td>\n",
              "      <td>180.0</td>\n",
              "      <td>1114.0</td>\n",
              "      <td>119.0</td>\n",
              "      <td>24.9</td>\n",
              "      <td>28.3</td>\n",
              "      <td>0</td>\n",
              "      <td>1024.50</td>\n",
              "    </tr>\n",
              "    <tr>\n",
              "      <th>3</th>\n",
              "      <td>1.2</td>\n",
              "      <td>7.4</td>\n",
              "      <td>141.0</td>\n",
              "      <td>1088.0</td>\n",
              "      <td>98.0</td>\n",
              "      <td>23.2</td>\n",
              "      <td>30.5</td>\n",
              "      <td>0</td>\n",
              "      <td>1015.00</td>\n",
              "    </tr>\n",
              "    <tr>\n",
              "      <th>4</th>\n",
              "      <td>0.6</td>\n",
              "      <td>3.8</td>\n",
              "      <td>105.0</td>\n",
              "      <td>1254.0</td>\n",
              "      <td>89.0</td>\n",
              "      <td>22.3</td>\n",
              "      <td>33.6</td>\n",
              "      <td>0</td>\n",
              "      <td>883.25</td>\n",
              "    </tr>\n",
              "  </tbody>\n",
              "</table>\n",
              "</div>"
            ],
            "text/plain": [
              "   CO(GT)  C6H6(GT)  NOx(GT)  PT08.S3(NOx)  ...     T    RH  weekend  PT08_feat\n",
              "0     1.5      11.3    180.0         831.0  ...  27.4  31.5        0    1186.50\n",
              "1     2.0      13.0    310.0         971.0  ...  35.0  17.3        0    1148.75\n",
              "2     1.4       7.5    180.0        1114.0  ...  24.9  28.3        0    1024.50\n",
              "3     1.2       7.4    141.0        1088.0  ...  23.2  30.5        0    1015.00\n",
              "4     0.6       3.8    105.0        1254.0  ...  22.3  33.6        0     883.25\n",
              "\n",
              "[5 rows x 9 columns]"
            ]
          },
          "metadata": {
            "tags": []
          },
          "execution_count": 2
        }
      ]
    },
    {
      "cell_type": "code",
      "metadata": {
        "id": "NQmZj-eUtL2g"
      },
      "source": [
        "def prepare_dataset(df, class_name):\n",
        "    df = remove_missing_values(df)\n",
        "    numeric_columns = get_numeric_columns(df)\n",
        "    rdf = df.copy(deep=True)\n",
        "    df, feature_names, class_values = one_hot_encoding(df, class_name)\n",
        "    real_feature_names = get_real_feature_names(rdf, numeric_columns, class_name)\n",
        "    rdf = rdf[real_feature_names + (class_values if isinstance(class_name, list) else [class_name])]\n",
        "    features_map = get_features_map(feature_names, real_feature_names)\n",
        "\n",
        "    return df, feature_names, class_values, numeric_columns, rdf, real_feature_names, features_map\n",
        "\n",
        "def remove_missing_values(df):\n",
        "    for column_name, nbr_missing in df.isna().sum().to_dict().items():\n",
        "        if nbr_missing > 0:\n",
        "            if column_name in df._get_numeric_data().columns:\n",
        "                mean = df[column_name].mean()\n",
        "                df[column_name].fillna(mean, inplace=True)\n",
        "            else:\n",
        "                mode = df[column_name].mode().values[0]\n",
        "                df[column_name].fillna(mode, inplace=True)\n",
        "    return df\n",
        "\n",
        "def get_numeric_columns(df):\n",
        "    numeric_columns = list(df._get_numeric_data().columns)\n",
        "    return numeric_columns\n",
        "\n",
        "def get_real_feature_names(rdf, numeric_columns, class_name):\n",
        "    real_feature_names = [c for c in rdf.columns if c in numeric_columns and c != class_name]\n",
        "    real_feature_names += [c for c in rdf.columns if c not in numeric_columns and c != class_name]\n",
        "    return real_feature_names\n",
        "\n",
        "def one_hot_encoding(df, class_name):\n",
        "    dfX = pd.get_dummies(df[[c for c in df.columns if c != class_name]], prefix_sep='=')\n",
        "    class_name_map = {v: k for k, v in enumerate(sorted(df[class_name].unique()))}\n",
        "    dfY = df[class_name].map(class_name_map)\n",
        "    df = pd.concat([dfX, dfY], axis=1)\n",
        "    df = df.reindex(dfX.index)\n",
        "    feature_names = list(dfX.columns)\n",
        "    class_values = sorted(class_name_map)\n",
        "    return df, feature_names, class_values\n",
        "\n",
        "def get_features_map(feature_names, real_feature_names):\n",
        "    features_map = defaultdict(dict)\n",
        "    i = 0\n",
        "    j = 0\n",
        "\n",
        "    while i < len(feature_names) and j < len(real_feature_names):\n",
        "        if feature_names[i] == real_feature_names[j]:\n",
        "            features_map[j][feature_names[i]] = j\n",
        "            i += 1\n",
        "            j += 1\n",
        "        elif feature_names[i].startswith(real_feature_names[j]):\n",
        "            features_map[j][feature_names[i]] = j\n",
        "            i += 1\n",
        "        else:\n",
        "            j += 1\n",
        "    return features_map"
      ],
      "execution_count": null,
      "outputs": []
    },
    {
      "cell_type": "code",
      "metadata": {
        "id": "2fYtpkjQtZcg"
      },
      "source": [
        "def report(results, n_top=3):\n",
        "    for i in range(1, n_top + 1):\n",
        "        candidates = np.flatnonzero(results['rank_test_score'] == i)\n",
        "        for candidate in candidates:\n",
        "            print(\"Model with rank: {0}\".format(i))\n",
        "            print(\"Mean validation score: {0:.3f} (std: {1:.3f})\".format(\n",
        "                  results['mean_test_score'][candidate],\n",
        "                  results['std_test_score'][candidate]))\n",
        "            print(\"Parameters: {0}\".format(results['params'][candidate]))\n",
        "            print(\"\")"
      ],
      "execution_count": null,
      "outputs": []
    },
    {
      "cell_type": "code",
      "metadata": {
        "id": "1c0yM--gtbO3",
        "outputId": "886a2555-b63d-4929-a6cf-149c99868ba4",
        "colab": {
          "base_uri": "https://localhost:8080/",
          "height": 204
        }
      },
      "source": [
        "res = prepare_dataset(df, class_name)\n",
        "df.head()"
      ],
      "execution_count": null,
      "outputs": [
        {
          "output_type": "execute_result",
          "data": {
            "text/html": [
              "<div>\n",
              "<style scoped>\n",
              "    .dataframe tbody tr th:only-of-type {\n",
              "        vertical-align: middle;\n",
              "    }\n",
              "\n",
              "    .dataframe tbody tr th {\n",
              "        vertical-align: top;\n",
              "    }\n",
              "\n",
              "    .dataframe thead th {\n",
              "        text-align: right;\n",
              "    }\n",
              "</style>\n",
              "<table border=\"1\" class=\"dataframe\">\n",
              "  <thead>\n",
              "    <tr style=\"text-align: right;\">\n",
              "      <th></th>\n",
              "      <th>CO(GT)</th>\n",
              "      <th>C6H6(GT)</th>\n",
              "      <th>NOx(GT)</th>\n",
              "      <th>PT08.S3(NOx)</th>\n",
              "      <th>NO2(GT)</th>\n",
              "      <th>T</th>\n",
              "      <th>RH</th>\n",
              "      <th>weekend</th>\n",
              "      <th>PT08_feat</th>\n",
              "    </tr>\n",
              "  </thead>\n",
              "  <tbody>\n",
              "    <tr>\n",
              "      <th>0</th>\n",
              "      <td>1.5</td>\n",
              "      <td>11.3</td>\n",
              "      <td>180.0</td>\n",
              "      <td>831.0</td>\n",
              "      <td>111.0</td>\n",
              "      <td>27.4</td>\n",
              "      <td>31.5</td>\n",
              "      <td>0</td>\n",
              "      <td>1186.50</td>\n",
              "    </tr>\n",
              "    <tr>\n",
              "      <th>1</th>\n",
              "      <td>2.0</td>\n",
              "      <td>13.0</td>\n",
              "      <td>310.0</td>\n",
              "      <td>971.0</td>\n",
              "      <td>129.0</td>\n",
              "      <td>35.0</td>\n",
              "      <td>17.3</td>\n",
              "      <td>0</td>\n",
              "      <td>1148.75</td>\n",
              "    </tr>\n",
              "    <tr>\n",
              "      <th>2</th>\n",
              "      <td>1.4</td>\n",
              "      <td>7.5</td>\n",
              "      <td>180.0</td>\n",
              "      <td>1114.0</td>\n",
              "      <td>119.0</td>\n",
              "      <td>24.9</td>\n",
              "      <td>28.3</td>\n",
              "      <td>0</td>\n",
              "      <td>1024.50</td>\n",
              "    </tr>\n",
              "    <tr>\n",
              "      <th>3</th>\n",
              "      <td>1.2</td>\n",
              "      <td>7.4</td>\n",
              "      <td>141.0</td>\n",
              "      <td>1088.0</td>\n",
              "      <td>98.0</td>\n",
              "      <td>23.2</td>\n",
              "      <td>30.5</td>\n",
              "      <td>0</td>\n",
              "      <td>1015.00</td>\n",
              "    </tr>\n",
              "    <tr>\n",
              "      <th>4</th>\n",
              "      <td>0.6</td>\n",
              "      <td>3.8</td>\n",
              "      <td>105.0</td>\n",
              "      <td>1254.0</td>\n",
              "      <td>89.0</td>\n",
              "      <td>22.3</td>\n",
              "      <td>33.6</td>\n",
              "      <td>0</td>\n",
              "      <td>883.25</td>\n",
              "    </tr>\n",
              "  </tbody>\n",
              "</table>\n",
              "</div>"
            ],
            "text/plain": [
              "   CO(GT)  C6H6(GT)  NOx(GT)  PT08.S3(NOx)  ...     T    RH  weekend  PT08_feat\n",
              "0     1.5      11.3    180.0         831.0  ...  27.4  31.5        0    1186.50\n",
              "1     2.0      13.0    310.0         971.0  ...  35.0  17.3        0    1148.75\n",
              "2     1.4       7.5    180.0        1114.0  ...  24.9  28.3        0    1024.50\n",
              "3     1.2       7.4    141.0        1088.0  ...  23.2  30.5        0    1015.00\n",
              "4     0.6       3.8    105.0        1254.0  ...  22.3  33.6        0     883.25\n",
              "\n",
              "[5 rows x 9 columns]"
            ]
          },
          "metadata": {
            "tags": []
          },
          "execution_count": 8
        }
      ]
    },
    {
      "cell_type": "code",
      "metadata": {
        "id": "yJKtu-QjtdAR"
      },
      "source": [
        "from sklearn.model_selection import train_test_split, cross_val_score \n",
        "\n",
        "from sklearn.metrics import accuracy_score, f1_score, classification_report\n",
        "from sklearn.metrics import roc_curve, auc, roc_auc_score, recall_score, precision_score"
      ],
      "execution_count": null,
      "outputs": []
    },
    {
      "cell_type": "code",
      "metadata": {
        "id": "Ffgvl4CKtkUc"
      },
      "source": [
        "attributes = [col for col in df.columns if col != class_name]\n",
        "X = df[attributes].values\n",
        "y = df[class_name]\n",
        "\n",
        "from sklearn.preprocessing import StandardScaler, MinMaxScaler\n",
        "scaler = StandardScaler()\n",
        "scaler.fit(X)\n",
        "X = scaler.transform(X)\n",
        "\n",
        "\n",
        "X_train, X_test, y_train, y_test = train_test_split(X, y, test_size=0.2, random_state=100, stratify=y)"
      ],
      "execution_count": null,
      "outputs": []
    },
    {
      "cell_type": "markdown",
      "metadata": {
        "id": "GVm4Vyndtolc"
      },
      "source": [
        "# Sklearn Multilayer Perceptron"
      ]
    },
    {
      "cell_type": "markdown",
      "metadata": {
        "id": "b2nbVkctttsc"
      },
      "source": [
        "### Parameters\n",
        "\n",
        "hidden_layer_sizes tuple, length = n_layers - 2, default=(100,)\n",
        "The ith element represents the number of neurons in the ith hidden layer.\n",
        "\n",
        "activation {'identity', 'logistic', 'tanh', 'relu'}, default='relu'\n",
        "Activation function for the hidden layer.\n",
        "* 'identity', no-op activation, useful to implement linear bottleneck, returns f(x) = x\n",
        "* 'logistic', the logistic sigmoid function, returns f(x) = 1 / (1 + exp(-x)).\n",
        "* 'tanh', the hyperbolic tan function, returns f(x) = tanh(x).\n",
        "* 'relu', the rectified linear unit function, returns f(x) = max(0, x)\n",
        "\n",
        "solver {'lbfgs', 'sgd', 'adam'}, default='adam'\n",
        "The solver for weight optimization.\n",
        "* 'lbfgs' is an optimizer in the family of quasi-Newton methods.\n",
        "* 'sgd' refers to stochastic gradient descent.\n",
        "* 'adam' refers to a stochastic gradient-based optimizer proposed by Kingma, Diederik, and Jimmy Ba\n",
        "The default solver 'adam' works pretty well on relatively large datasets (>= 1000 training samples) in terms of both training time and validation score. For small datasets, 'lbfgs' can converge faster and perform better.\n",
        "\n",
        "alpha float, default=0.0001\n",
        "L2 penalty (regularization term) parameter.\n",
        "\n",
        "batch_size int, default='auto'\n",
        "Size of minibatches for stochastic optimizers. If the solver is 'lbfgs', the classifier will not use minibatch. When set to “auto”, batch_size=min(200, n_samples)\n",
        "\n",
        "learning_rate {'constant', 'invscaling', 'adaptive'}, default='constant'\n",
        "Learning rate schedule for weight updates.\n",
        "*'constant' is a constant learning rate given by 'learning_rate_init'.\n",
        "*'invscaling' gradually decreases the learning rate at each time step 't' using an inverse scaling exponent of *'power_t'. effective_learning_rate = learning_rate_init / pow(t, power_t)\n",
        "*'adaptive' keeps the learning rate constant to 'learning_rate_init' as long as training loss keeps decreasing. Each time two consecutive epochs fail to decrease training loss by at least tol, or fail to increase validation score by at least tol if 'early_stopping' is on, the current learning rate is divided by 5.\n",
        "Only used when solver='sgd'.\n",
        "\n",
        "learning_rate_init double, default=0.001\n",
        "The initial learning rate used. It controls the step-size in updating the weights. Only used when solver='sgd' or 'adam'.\n",
        "\n",
        "power_t double, default=0.5\n",
        "The exponent for inverse scaling learning rate. It is used in updating effective learning rate when the learning_rate is set to 'invscaling'. Only used when solver='sgd'.\n",
        "\n",
        "max_iter int, default=200\n",
        "Maximum number of iterations. The solver iterates until convergence (determined by 'tol') or this number of iterations. For stochastic solvers ('sgd', 'adam'), note that this determines the number of epochs (how many times each data point will be used), not the number of gradient steps.\n",
        "\n",
        "shuffle bool, default=True\n",
        "Whether to shuffle samples in each iteration. Only used when solver='sgd' or 'adam'.\n",
        "\n",
        "random_state int, RandomState instance or None, default=None\n",
        "If int, random_state is the seed used by the random number generator; If RandomState instance, random_state is the random number generator; If None, the random number generator is the RandomState instance used by np.random.\n",
        "\n",
        "tol float, default=1e-4\n",
        "Tolerance for the optimization. When the loss or score is not improving by at least tol for n_iter_no_change consecutive iterations, unless learning_rate is set to 'adaptive', convergence is considered to be reached and training stops.\n",
        "\n",
        "verbose bool, default=False\n",
        "Whether to print progress messages to stdout.\n",
        "\n",
        "warm_start bool, default=False\n",
        "When set to True, reuse the solution of the previous call to fit as initialization, otherwise, just erase the previous solution. See the Glossary.\n",
        "\n",
        "momentum float, default=0.9\n",
        "Momentum for gradient descent update. Should be between 0 and 1. Only used when solver='sgd'.\n",
        "\n",
        "early_stopping bool, default=False\n",
        "Whether to use early stopping to terminate training when validation score is not improving. If set to true, it will automatically set aside 10% of training data as validation and terminate training when validation score is not improving by at least tol for n_iter_no_change consecutive epochs. The split is stratified, except in a multilabel setting. Only effective when solver='sgd' or 'adam'\n",
        "\n",
        "validation_fraction float, default=0.1\n",
        "The proportion of training data to set aside as validation set for early stopping. Must be between 0 and 1. Only used if early_stopping is True\n",
        "\n",
        "beta_1 float, default=0.9\n",
        "Exponential decay rate for estimates of first moment vector in adam, should be in [0, 1). Only used when solver='adam'\n",
        "\n",
        "beta_2 float, default=0.999\n",
        "Exponential decay rate for estimates of second moment vector in adam, should be in [0, 1). Only used when solver='adam'\n",
        "\n",
        "epsilon float, default=1e-8\n",
        "Value for numerical stability in adam. Only used when solver='adam'\n",
        "\n",
        "n_iter_no_change int, default=10\n",
        "Maximum number of epochs to not meet tol improvement. Only effective when solver='sgd' or 'adam'\n",
        "\n",
        "\n",
        "### Attributes\n",
        "loss_ float\n",
        "The current loss computed with the loss function.\n",
        "\n",
        "coefs_ list, length n_layers - 1\n",
        "The ith element in the list represents the weight matrix corresponding to layer i.\n",
        "\n",
        "intercepts_ list, length n_layers - 1\n",
        "The ith element in the list represents the bias vector corresponding to layer i + 1.\n",
        "\n",
        "n_iter_ int,\n",
        "The number of iterations the solver has ran.\n",
        "\n",
        "n_layers_ int\n",
        "Number of layers.\n",
        "\n",
        "n_outputs_ int\n",
        "Number of outputs.\n",
        "\n",
        "out_activation_ string\n",
        "Name of the output activation function."
      ]
    },
    {
      "cell_type": "code",
      "metadata": {
        "id": "OOVlGSEkt0tz"
      },
      "source": [
        "from sklearn.neural_network import MLPClassifier"
      ],
      "execution_count": null,
      "outputs": []
    },
    {
      "cell_type": "code",
      "metadata": {
        "id": "8GHDU0q_tmnd",
        "outputId": "57fc3c8c-c180-4966-e00e-1f3fe1d60620",
        "colab": {
          "base_uri": "https://localhost:8080/"
        }
      },
      "source": [
        "clf = MLPClassifier(hidden_layer_sizes=(128, 64, 32,), alpha=0.1, learning_rate='adaptive',  #2\n",
        "                    activation='tanh', early_stopping=False, momentum=0.9, random_state=0)\n",
        "\n",
        "clf.fit(X_train, y_train)\n",
        "\n",
        "y_pred = clf.predict(X_test)\n",
        "\n",
        "print('Accuracy %s' % accuracy_score(y_test, y_pred))\n",
        "print('Precision %s' % precision_score(y_test,y_pred))\n",
        "print('Recall %s' % recall_score(y_test,y_pred))\n",
        "print('F1-score %s' % f1_score(y_test, y_pred, average=None))\n",
        "print(classification_report(y_test, y_pred))\n",
        "cm=confusion_matrix(y_test, y_pred)\n",
        "cm"
      ],
      "execution_count": null,
      "outputs": [
        {
          "output_type": "stream",
          "text": [
            "Accuracy 0.7735042735042735\n",
            "Precision 0.6469072164948454\n",
            "Recall 0.46654275092936803\n",
            "F1-score [0.84953868 0.54211663]\n",
            "              precision    recall  f1-score   support\n",
            "\n",
            "           0       0.81      0.90      0.85      1334\n",
            "           1       0.65      0.47      0.54       538\n",
            "\n",
            "    accuracy                           0.77      1872\n",
            "   macro avg       0.73      0.68      0.70      1872\n",
            "weighted avg       0.76      0.77      0.76      1872\n",
            "\n"
          ],
          "name": "stdout"
        },
        {
          "output_type": "stream",
          "text": [
            "/usr/local/lib/python3.6/dist-packages/sklearn/neural_network/_multilayer_perceptron.py:571: ConvergenceWarning: Stochastic Optimizer: Maximum iterations (200) reached and the optimization hasn't converged yet.\n",
            "  % self.max_iter, ConvergenceWarning)\n"
          ],
          "name": "stderr"
        },
        {
          "output_type": "execute_result",
          "data": {
            "text/plain": [
              "array([[1197,  137],\n",
              "       [ 287,  251]])"
            ]
          },
          "metadata": {
            "tags": []
          },
          "execution_count": 12
        }
      ]
    },
    {
      "cell_type": "code",
      "metadata": {
        "id": "5VYJeTCztw1z",
        "outputId": "c28d0ba5-c734-43db-bcfc-b906cb9a6744",
        "colab": {
          "base_uri": "https://localhost:8080/"
        }
      },
      "source": [
        "clf = MLPClassifier(hidden_layer_sizes=(128, 64, 32,), alpha=0.1, learning_rate='adaptive', \n",
        "                    activation='logistic', early_stopping=False, momentum=0.9, random_state=0)\n",
        "\n",
        "clf.fit(X_train, y_train)\n",
        "\n",
        "y_pred = clf.predict(X_test)\n",
        "\n",
        "print('Accuracy %s' % accuracy_score(y_test, y_pred))\n",
        "print('Precision %s' % precision_score(y_test,y_pred))\n",
        "print('Recall %s' % recall_score(y_test,y_pred))\n",
        "print('F1-score %s' % f1_score(y_test, y_pred, average=None))\n",
        "print(classification_report(y_test, y_pred))\n",
        "cm=confusion_matrix(y_test, y_pred)\n",
        "cm\n",
        "\n",
        "#merda"
      ],
      "execution_count": null,
      "outputs": [
        {
          "output_type": "stream",
          "text": [
            "Accuracy 0.7126068376068376\n",
            "Precision 0.0\n",
            "Recall 0.0\n",
            "F1-score [0.83218964 0.        ]\n",
            "              precision    recall  f1-score   support\n",
            "\n",
            "           0       0.71      1.00      0.83      1334\n",
            "           1       0.00      0.00      0.00       538\n",
            "\n",
            "    accuracy                           0.71      1872\n",
            "   macro avg       0.36      0.50      0.42      1872\n",
            "weighted avg       0.51      0.71      0.59      1872\n",
            "\n"
          ],
          "name": "stdout"
        },
        {
          "output_type": "stream",
          "text": [
            "/usr/local/lib/python3.6/dist-packages/sklearn/metrics/_classification.py:1272: UndefinedMetricWarning: Precision is ill-defined and being set to 0.0 due to no predicted samples. Use `zero_division` parameter to control this behavior.\n",
            "  _warn_prf(average, modifier, msg_start, len(result))\n",
            "/usr/local/lib/python3.6/dist-packages/sklearn/metrics/_classification.py:1272: UndefinedMetricWarning: Precision and F-score are ill-defined and being set to 0.0 in labels with no predicted samples. Use `zero_division` parameter to control this behavior.\n",
            "  _warn_prf(average, modifier, msg_start, len(result))\n"
          ],
          "name": "stderr"
        },
        {
          "output_type": "execute_result",
          "data": {
            "text/plain": [
              "array([[1334,    0],\n",
              "       [ 538,    0]])"
            ]
          },
          "metadata": {
            "tags": []
          },
          "execution_count": 19
        }
      ]
    },
    {
      "cell_type": "code",
      "metadata": {
        "id": "S54mMYgHuLoO",
        "outputId": "fc302c0d-29f5-4a81-c334-9b411717b16d",
        "colab": {
          "base_uri": "https://localhost:8080/"
        }
      },
      "source": [
        "clf = MLPClassifier(hidden_layer_sizes=(128, 64, 32,), alpha=0.1, learning_rate='adaptive', \n",
        "                    activation='relu', early_stopping=False, momentum=0.9, random_state=0)\n",
        "\n",
        "clf.fit(X_train, y_train)\n",
        "\n",
        "y_pred = clf.predict(X_test)\n",
        "\n",
        "print('Accuracy %s' % accuracy_score(y_test, y_pred))\n",
        "print('Precision %s' % precision_score(y_test,y_pred))\n",
        "print('Recall %s' % recall_score(y_test,y_pred))\n",
        "print('F1-score %s' % f1_score(y_test, y_pred, average=None))\n",
        "print(classification_report(y_test, y_pred))\n",
        "cm=confusion_matrix(y_test, y_pred)\n",
        "cm"
      ],
      "execution_count": null,
      "outputs": [
        {
          "output_type": "stream",
          "text": [
            "Accuracy 0.7735042735042735\n",
            "Precision 0.6122047244094488\n",
            "Recall 0.5780669144981413\n",
            "F1-score [0.84284655 0.59464627]\n",
            "              precision    recall  f1-score   support\n",
            "\n",
            "           0       0.83      0.85      0.84      1334\n",
            "           1       0.61      0.58      0.59       538\n",
            "\n",
            "    accuracy                           0.77      1872\n",
            "   macro avg       0.72      0.72      0.72      1872\n",
            "weighted avg       0.77      0.77      0.77      1872\n",
            "\n"
          ],
          "name": "stdout"
        },
        {
          "output_type": "stream",
          "text": [
            "/usr/local/lib/python3.6/dist-packages/sklearn/neural_network/_multilayer_perceptron.py:571: ConvergenceWarning: Stochastic Optimizer: Maximum iterations (200) reached and the optimization hasn't converged yet.\n",
            "  % self.max_iter, ConvergenceWarning)\n"
          ],
          "name": "stderr"
        },
        {
          "output_type": "execute_result",
          "data": {
            "text/plain": [
              "array([[1137,  197],\n",
              "       [ 227,  311]])"
            ]
          },
          "metadata": {
            "tags": []
          },
          "execution_count": 26
        }
      ]
    },
    {
      "cell_type": "code",
      "metadata": {
        "id": "mR7E0mJAuLq5",
        "outputId": "71d9cdb2-7780-4443-dc43-bbfca392298e",
        "colab": {
          "base_uri": "https://localhost:8080/"
        }
      },
      "source": [
        "clf = MLPClassifier(hidden_layer_sizes=(200, 128, 64, 32), alpha=0.1, learning_rate='adaptive', \n",
        "                    activation='relu', early_stopping=False, momentum=0.9, random_state=0)\n",
        "\n",
        "clf.fit(X_train, y_train)\n",
        "\n",
        "y_pred = clf.predict(X_test)\n",
        "\n",
        "print('Accuracy %s' % accuracy_score(y_test, y_pred))\n",
        "print('Precision %s' % precision_score(y_test,y_pred))\n",
        "print('Recall %s' % recall_score(y_test,y_pred))\n",
        "print('F1-score %s' % f1_score(y_test, y_pred, average='macro'))\n",
        "print(classification_report(y_test, y_pred))\n",
        "cm=confusion_matrix(y_test, y_pred)\n",
        "cm"
      ],
      "execution_count": null,
      "outputs": [
        {
          "output_type": "stream",
          "text": [
            "Accuracy 0.7831196581196581\n",
            "Precision 0.6103678929765887\n",
            "Recall 0.6784386617100372\n",
            "F1-score 0.7434653935885251\n",
            "              precision    recall  f1-score   support\n",
            "\n",
            "           0       0.86      0.83      0.84      1334\n",
            "           1       0.61      0.68      0.64       538\n",
            "\n",
            "    accuracy                           0.78      1872\n",
            "   macro avg       0.74      0.75      0.74      1872\n",
            "weighted avg       0.79      0.78      0.79      1872\n",
            "\n"
          ],
          "name": "stdout"
        },
        {
          "output_type": "execute_result",
          "data": {
            "text/plain": [
              "array([[1101,  233],\n",
              "       [ 173,  365]])"
            ]
          },
          "metadata": {
            "tags": []
          },
          "execution_count": 28
        }
      ]
    },
    {
      "cell_type": "code",
      "metadata": {
        "id": "Z9JXBmh0BdSO",
        "outputId": "789f7aca-121e-4c6b-c833-73c8694b6f27",
        "colab": {
          "base_uri": "https://localhost:8080/"
        }
      },
      "source": [
        "clf = MLPClassifier()\n",
        "\n",
        "clf.fit(X_train, y_train)\n",
        "\n",
        "y_pred = clf.predict(X_test)\n",
        "\n",
        "print('Accuracy %s' % accuracy_score(y_test, y_pred))\n",
        "print('Precision %s' % precision_score(y_test,y_pred))\n",
        "print('Recall %s' % recall_score(y_test,y_pred))\n",
        "print('F1-score %s' % f1_score(y_test, y_pred, average='macro'))\n",
        "print(classification_report(y_test, y_pred))\n",
        "cm=confusion_matrix(y_test, y_pred)\n",
        "cm\n",
        "\n",
        "#sempre problema recall basso"
      ],
      "execution_count": null,
      "outputs": [
        {
          "output_type": "stream",
          "text": [
            "Accuracy 0.7435897435897436\n",
            "Precision 0.5993150684931506\n",
            "Recall 0.3252788104089219\n",
            "F1-score 0.6284823577081146\n",
            "              precision    recall  f1-score   support\n",
            "\n",
            "           0       0.77      0.91      0.84      1334\n",
            "           1       0.60      0.33      0.42       538\n",
            "\n",
            "    accuracy                           0.74      1872\n",
            "   macro avg       0.68      0.62      0.63      1872\n",
            "weighted avg       0.72      0.74      0.72      1872\n",
            "\n"
          ],
          "name": "stdout"
        },
        {
          "output_type": "stream",
          "text": [
            "/usr/local/lib/python3.6/dist-packages/sklearn/neural_network/_multilayer_perceptron.py:571: ConvergenceWarning: Stochastic Optimizer: Maximum iterations (200) reached and the optimization hasn't converged yet.\n",
            "  % self.max_iter, ConvergenceWarning)\n"
          ],
          "name": "stderr"
        },
        {
          "output_type": "execute_result",
          "data": {
            "text/plain": [
              "array([[1217,  117],\n",
              "       [ 363,  175]])"
            ]
          },
          "metadata": {
            "tags": []
          },
          "execution_count": 18
        }
      ]
    },
    {
      "cell_type": "code",
      "metadata": {
        "id": "qiiRqI0kAMov",
        "outputId": "156ea721-c8d4-4e56-8d79-8c2e2bb05b90",
        "colab": {
          "base_uri": "https://localhost:8080/"
        }
      },
      "source": [
        "clf = MLPClassifier(hidden_layer_sizes=(128, 64, 32), alpha=0.1, learning_rate='adaptive', \n",
        "                    activation='relu', early_stopping=False, momentum=0.9, random_state=0)\n",
        "\n",
        "clf.fit(X_train, y_train)\n",
        "\n",
        "y_pred = clf.predict(X_test)\n",
        "\n",
        "print('Accuracy %s' % accuracy_score(y_test, y_pred))\n",
        "print('Precision %s' % precision_score(y_test,y_pred))\n",
        "print('Recall %s' % recall_score(y_test,y_pred))\n",
        "print('F1-score %s' % f1_score(y_test, y_pred, average=None))\n",
        "print(classification_report(y_test, y_pred))\n",
        "cm=confusion_matrix(y_test, y_pred)\n",
        "cm"
      ],
      "execution_count": null,
      "outputs": [
        {
          "output_type": "stream",
          "text": [
            "Accuracy 0.7735042735042735\n",
            "Precision 0.6122047244094488\n",
            "Recall 0.5780669144981413\n",
            "F1-score [0.84284655 0.59464627]\n",
            "              precision    recall  f1-score   support\n",
            "\n",
            "           0       0.83      0.85      0.84      1334\n",
            "           1       0.61      0.58      0.59       538\n",
            "\n",
            "    accuracy                           0.77      1872\n",
            "   macro avg       0.72      0.72      0.72      1872\n",
            "weighted avg       0.77      0.77      0.77      1872\n",
            "\n"
          ],
          "name": "stdout"
        },
        {
          "output_type": "stream",
          "text": [
            "/usr/local/lib/python3.6/dist-packages/sklearn/neural_network/_multilayer_perceptron.py:571: ConvergenceWarning: Stochastic Optimizer: Maximum iterations (200) reached and the optimization hasn't converged yet.\n",
            "  % self.max_iter, ConvergenceWarning)\n"
          ],
          "name": "stderr"
        },
        {
          "output_type": "execute_result",
          "data": {
            "text/plain": [
              "array([[1137,  197],\n",
              "       [ 227,  311]])"
            ]
          },
          "metadata": {
            "tags": []
          },
          "execution_count": 25
        }
      ]
    },
    {
      "cell_type": "code",
      "metadata": {
        "id": "lD3ITeekCzcG",
        "outputId": "4066c8c4-a016-42bf-a285-2b1225d02ad1",
        "colab": {
          "base_uri": "https://localhost:8080/"
        }
      },
      "source": [
        "clf = MLPClassifier(hidden_layer_sizes=(128, 64, 32), alpha=0.1, learning_rate='adaptive', \n",
        "                    activation='relu', early_stopping=False, momentum=0.9, random_state=0)\n",
        "\n",
        "clf.fit(X_train, y_train)\n",
        "\n",
        "y_pred = clf.predict(X_test)\n",
        "\n",
        "print('Accuracy %s' % accuracy_score(y_test, y_pred))\n",
        "print('Precision %s' % precision_score(y_test,y_pred))\n",
        "print('Recall %s' % recall_score(y_test,y_pred))\n",
        "print('F1-score %s' % f1_score(y_test, y_pred, average='macro'))\n",
        "print(classification_report(y_test, y_pred))\n",
        "cm=confusion_matrix(y_test, y_pred)\n",
        "cm"
      ],
      "execution_count": null,
      "outputs": [
        {
          "output_type": "stream",
          "text": [
            "Accuracy 0.7735042735042735\n",
            "Precision 0.6122047244094488\n",
            "Recall 0.5780669144981413\n",
            "F1-score 0.7187464122563701\n",
            "              precision    recall  f1-score   support\n",
            "\n",
            "           0       0.83      0.85      0.84      1334\n",
            "           1       0.61      0.58      0.59       538\n",
            "\n",
            "    accuracy                           0.77      1872\n",
            "   macro avg       0.72      0.72      0.72      1872\n",
            "weighted avg       0.77      0.77      0.77      1872\n",
            "\n"
          ],
          "name": "stdout"
        },
        {
          "output_type": "stream",
          "text": [
            "/usr/local/lib/python3.6/dist-packages/sklearn/neural_network/_multilayer_perceptron.py:571: ConvergenceWarning: Stochastic Optimizer: Maximum iterations (200) reached and the optimization hasn't converged yet.\n",
            "  % self.max_iter, ConvergenceWarning)\n"
          ],
          "name": "stderr"
        },
        {
          "output_type": "execute_result",
          "data": {
            "text/plain": [
              "array([[1137,  197],\n",
              "       [ 227,  311]])"
            ]
          },
          "metadata": {
            "tags": []
          },
          "execution_count": 30
        }
      ]
    },
    {
      "cell_type": "code",
      "metadata": {
        "id": "vuM2YMQ3C6Pu",
        "outputId": "38180c5d-e908-4e8f-9d67-45686e64d12b",
        "colab": {
          "base_uri": "https://localhost:8080/"
        }
      },
      "source": [
        "clf = MLPClassifier(hidden_layer_sizes=(128, 64, 32), alpha=0.1, learning_rate='adaptive', \n",
        "                    activation='relu', early_stopping=True, momentum=0.9, random_state=0)\n",
        "\n",
        "clf.fit(X_train, y_train)\n",
        "\n",
        "y_pred = clf.predict(X_test)\n",
        "\n",
        "print('Accuracy %s' % accuracy_score(y_test, y_pred))\n",
        "print('Precision %s' % precision_score(y_test,y_pred))\n",
        "print('Recall %s' % recall_score(y_test,y_pred))\n",
        "print('F1-score %s' % f1_score(y_test, y_pred, average='macro'))\n",
        "print(classification_report(y_test, y_pred))\n",
        "cm=confusion_matrix(y_test, y_pred)\n",
        "cm"
      ],
      "execution_count": null,
      "outputs": [
        {
          "output_type": "stream",
          "text": [
            "Accuracy 0.7377136752136753\n",
            "Precision 0.5472837022132797\n",
            "Recall 0.5055762081784386\n",
            "F1-score 0.6721780859293498\n",
            "              precision    recall  f1-score   support\n",
            "\n",
            "           0       0.81      0.83      0.82      1334\n",
            "           1       0.55      0.51      0.53       538\n",
            "\n",
            "    accuracy                           0.74      1872\n",
            "   macro avg       0.68      0.67      0.67      1872\n",
            "weighted avg       0.73      0.74      0.73      1872\n",
            "\n"
          ],
          "name": "stdout"
        },
        {
          "output_type": "execute_result",
          "data": {
            "text/plain": [
              "array([[1109,  225],\n",
              "       [ 266,  272]])"
            ]
          },
          "metadata": {
            "tags": []
          },
          "execution_count": 32
        }
      ]
    },
    {
      "cell_type": "code",
      "metadata": {
        "id": "9szCaEdLDLuU",
        "outputId": "bf70e1b8-6cf4-4a75-9aa4-da2a0053e007",
        "colab": {
          "base_uri": "https://localhost:8080/"
        }
      },
      "source": [
        "clf = MLPClassifier(hidden_layer_sizes=(128, 64, 32), alpha=0.001, learning_rate='adaptive', \n",
        "                    activation='relu', early_stopping=False, momentum=0.9, random_state=0)\n",
        "\n",
        "clf.fit(X_train, y_train)\n",
        "\n",
        "y_pred = clf.predict(X_test)\n",
        "\n",
        "print('Accuracy %s' % accuracy_score(y_test, y_pred))\n",
        "print('Precision %s' % precision_score(y_test,y_pred))\n",
        "print('Recall %s' % recall_score(y_test,y_pred))\n",
        "print('F1-score %s' % f1_score(y_test, y_pred, average='macro'))\n",
        "print(classification_report(y_test, y_pred))\n",
        "cm=confusion_matrix(y_test, y_pred)\n",
        "cm\n",
        "\n",
        "# alpha è: l2 penalty(regularization term) parameter"
      ],
      "execution_count": null,
      "outputs": [
        {
          "output_type": "stream",
          "text": [
            "Accuracy 0.7879273504273504\n",
            "Precision 0.6447638603696099\n",
            "Recall 0.5836431226765799\n",
            "F1-score 0.7333366822450864\n",
            "              precision    recall  f1-score   support\n",
            "\n",
            "           0       0.84      0.87      0.85      1334\n",
            "           1       0.64      0.58      0.61       538\n",
            "\n",
            "    accuracy                           0.79      1872\n",
            "   macro avg       0.74      0.73      0.73      1872\n",
            "weighted avg       0.78      0.79      0.78      1872\n",
            "\n"
          ],
          "name": "stdout"
        },
        {
          "output_type": "stream",
          "text": [
            "/usr/local/lib/python3.6/dist-packages/sklearn/neural_network/_multilayer_perceptron.py:571: ConvergenceWarning: Stochastic Optimizer: Maximum iterations (200) reached and the optimization hasn't converged yet.\n",
            "  % self.max_iter, ConvergenceWarning)\n"
          ],
          "name": "stderr"
        },
        {
          "output_type": "execute_result",
          "data": {
            "text/plain": [
              "array([[1161,  173],\n",
              "       [ 224,  314]])"
            ]
          },
          "metadata": {
            "tags": []
          },
          "execution_count": 34
        }
      ]
    },
    {
      "cell_type": "code",
      "metadata": {
        "id": "DNgV-AC6Jrv-",
        "outputId": "52d1645f-2ef1-47bb-8926-1e84fea7349b",
        "colab": {
          "base_uri": "https://localhost:8080/"
        }
      },
      "source": [
        "clf = MLPClassifier(hidden_layer_sizes=(128, 64, 32), alpha=0.01, learning_rate='adaptive', \n",
        "                    activation='relu', early_stopping=False, momentum=0.9, random_state=0)\n",
        "\n",
        "clf.fit(X_train, y_train)\n",
        "\n",
        "y_pred = clf.predict(X_test)\n",
        "\n",
        "print('Accuracy %s' % accuracy_score(y_test, y_pred))\n",
        "print('Precision %s' % precision_score(y_test,y_pred))\n",
        "print('Recall %s' % recall_score(y_test,y_pred))\n",
        "print('F1-score %s' % f1_score(y_test, y_pred, average='macro'))\n",
        "print(classification_report(y_test, y_pred))\n",
        "cm=confusion_matrix(y_test, y_pred)\n",
        "cm\n",
        "\n",
        "# migliore"
      ],
      "execution_count": null,
      "outputs": [
        {
          "output_type": "stream",
          "text": [
            "Accuracy 0.7948717948717948\n",
            "Precision 0.6604166666666667\n",
            "Recall 0.5892193308550185\n",
            "F1-score 0.7409620232729432\n",
            "              precision    recall  f1-score   support\n",
            "\n",
            "           0       0.84      0.88      0.86      1334\n",
            "           1       0.66      0.59      0.62       538\n",
            "\n",
            "    accuracy                           0.79      1872\n",
            "   macro avg       0.75      0.73      0.74      1872\n",
            "weighted avg       0.79      0.79      0.79      1872\n",
            "\n"
          ],
          "name": "stdout"
        },
        {
          "output_type": "stream",
          "text": [
            "/usr/local/lib/python3.6/dist-packages/sklearn/neural_network/_multilayer_perceptron.py:571: ConvergenceWarning: Stochastic Optimizer: Maximum iterations (200) reached and the optimization hasn't converged yet.\n",
            "  % self.max_iter, ConvergenceWarning)\n"
          ],
          "name": "stderr"
        },
        {
          "output_type": "execute_result",
          "data": {
            "text/plain": [
              "array([[1171,  163],\n",
              "       [ 221,  317]])"
            ]
          },
          "metadata": {
            "tags": []
          },
          "execution_count": 49
        }
      ]
    },
    {
      "cell_type": "code",
      "metadata": {
        "id": "f8GmO7rHdCJ-",
        "outputId": "5300df41-c84d-4a1f-8be3-feb97a104a72",
        "colab": {
          "base_uri": "https://localhost:8080/"
        }
      },
      "source": [
        "clf = MLPClassifier(hidden_layer_sizes=(128, 64, 32), alpha=0.01, learning_rate='adaptive', \n",
        "                    activation='relu', early_stopping=False, momentum=0.1, random_state=0)\n",
        "\n",
        "clf.fit(X_train, y_train)\n",
        "\n",
        "y_pred = clf.predict(X_test)\n",
        "\n",
        "print('Accuracy %s' % accuracy_score(y_test, y_pred))\n",
        "print('Precision %s' % precision_score(y_test,y_pred))\n",
        "print('Recall %s' % recall_score(y_test,y_pred))\n",
        "print('F1-score %s' % f1_score(y_test, y_pred, average='macro'))\n",
        "print(classification_report(y_test, y_pred))\n",
        "cm=confusion_matrix(y_test, y_pred)\n",
        "cm\n"
      ],
      "execution_count": null,
      "outputs": [
        {
          "output_type": "stream",
          "text": [
            "Accuracy 0.7948717948717948\n",
            "Precision 0.6604166666666667\n",
            "Recall 0.5892193308550185\n",
            "F1-score 0.7409620232729432\n",
            "              precision    recall  f1-score   support\n",
            "\n",
            "           0       0.84      0.88      0.86      1334\n",
            "           1       0.66      0.59      0.62       538\n",
            "\n",
            "    accuracy                           0.79      1872\n",
            "   macro avg       0.75      0.73      0.74      1872\n",
            "weighted avg       0.79      0.79      0.79      1872\n",
            "\n"
          ],
          "name": "stdout"
        },
        {
          "output_type": "stream",
          "text": [
            "/usr/local/lib/python3.6/dist-packages/sklearn/neural_network/_multilayer_perceptron.py:571: ConvergenceWarning: Stochastic Optimizer: Maximum iterations (200) reached and the optimization hasn't converged yet.\n",
            "  % self.max_iter, ConvergenceWarning)\n"
          ],
          "name": "stderr"
        },
        {
          "output_type": "execute_result",
          "data": {
            "text/plain": [
              "array([[1171,  163],\n",
              "       [ 221,  317]])"
            ]
          },
          "metadata": {
            "tags": []
          },
          "execution_count": 56
        }
      ]
    },
    {
      "cell_type": "code",
      "metadata": {
        "id": "7KbCGA6UMovb"
      },
      "source": [
        "from sklearn.metrics import roc_curve, auc, roc_auc_score\n",
        "from scikitplot.metrics import plot_roc"
      ],
      "execution_count": null,
      "outputs": []
    },
    {
      "cell_type": "code",
      "metadata": {
        "id": "rGiLMLhCMo0q",
        "outputId": "6e912e53-4d0f-4fcd-93a8-f93c267a495a",
        "colab": {
          "base_uri": "https://localhost:8080/",
          "height": 307
        }
      },
      "source": [
        "y_score = clf.predict_proba(X_test)\n",
        "fpr0, tpr0, _ = roc_curve(y_test, y_score[:, 1])\n",
        "roc_auc0 = auc(fpr0, tpr0)\n",
        "\n",
        "plt.plot(fpr0, tpr0, color='darkorange', lw=3, label='$AUC_0$ = %.3f' % (roc_auc0))\n",
        "\n",
        "plt.plot([0, 1], [0, 1], color='navy', lw=2, linestyle='--')\n",
        "plt.xlim([0.0, 1.0])\n",
        "plt.ylim([0.0, 1.05])\n",
        "plt.xlabel('False Positive Rate', fontsize=16)\n",
        "plt.ylabel('True Positive Rate', fontsize=16)\n",
        "plt.title('ROC curve', fontsize=16)\n",
        "plt.legend(loc=\"lower right\", fontsize=14, frameon=False)\n",
        "plt.tick_params(axis='both', which='major', labelsize=16)\n",
        "plt.show()"
      ],
      "execution_count": null,
      "outputs": [
        {
          "output_type": "display_data",
          "data": {
            "image/png": "[encoded data removed]",
            "text/plain": [
              "<Figure size 432x288 with 1 Axes>"
            ]
          },
          "metadata": {
            "tags": [],
            "needs_background": "light"
          }
        }
      ]
    },
    {
      "cell_type": "code",
      "metadata": {
        "id": "Y6lVZClZMsjg"
      },
      "source": [
        "from scikitplot.metrics import plot_lift_curve"
      ],
      "execution_count": null,
      "outputs": []
    },
    {
      "cell_type": "code",
      "metadata": {
        "id": "cc-K7yP0Msmt",
        "outputId": "86058b22-2d4e-41f0-d63a-a1d93c391895",
        "colab": {
          "base_uri": "https://localhost:8080/",
          "height": 295
        }
      },
      "source": [
        "plot_lift_curve(y_test, y_score)\n",
        "plt.show()"
      ],
      "execution_count": null,
      "outputs": [
        {
          "output_type": "display_data",
          "data": {
            "image/png": "[encoded data removed]",
            "text/plain": [
              "<Figure size 432x288 with 1 Axes>"
            ]
          },
          "metadata": {
            "tags": [],
            "needs_background": "light"
          }
        }
      ]
    },
    {
      "cell_type": "code",
      "metadata": {
        "id": "PQLQgS2vMoyw"
      },
      "source": [
        ""
      ],
      "execution_count": null,
      "outputs": []
    },
    {
      "cell_type": "code",
      "metadata": {
        "id": "UEV5pkJKJXBu",
        "outputId": "e7cd93ee-359d-46e8-df20-dd3b8070e9c7",
        "colab": {
          "base_uri": "https://localhost:8080/"
        }
      },
      "source": [
        "clf = MLPClassifier(hidden_layer_sizes=(128, 64, 32), alpha=0.00000001, learning_rate='adaptive', \n",
        "                    activation='relu', early_stopping=False, momentum=0.9, random_state=0)\n",
        "\n",
        "clf.fit(X_train, y_train)\n",
        "\n",
        "y_pred = clf.predict(X_test)\n",
        "\n",
        "print('Accuracy %s' % accuracy_score(y_test, y_pred))\n",
        "print('Precision %s' % precision_score(y_test,y_pred))\n",
        "print('Recall %s' % recall_score(y_test,y_pred))\n",
        "print('F1-score %s' % f1_score(y_test, y_pred, average='macro'))\n",
        "print(classification_report(y_test, y_pred))\n",
        "cm=confusion_matrix(y_test, y_pred)\n",
        "cm\n"
      ],
      "execution_count": null,
      "outputs": [
        {
          "output_type": "stream",
          "text": [
            "Accuracy 0.7889957264957265\n",
            "Precision 0.6492693110647182\n",
            "Recall 0.5780669144981413\n",
            "F1-score 0.7333774675402644\n",
            "              precision    recall  f1-score   support\n",
            "\n",
            "           0       0.84      0.87      0.86      1334\n",
            "           1       0.65      0.58      0.61       538\n",
            "\n",
            "    accuracy                           0.79      1872\n",
            "   macro avg       0.74      0.73      0.73      1872\n",
            "weighted avg       0.78      0.79      0.79      1872\n",
            "\n"
          ],
          "name": "stdout"
        },
        {
          "output_type": "stream",
          "text": [
            "/usr/local/lib/python3.6/dist-packages/sklearn/neural_network/_multilayer_perceptron.py:571: ConvergenceWarning: Stochastic Optimizer: Maximum iterations (200) reached and the optimization hasn't converged yet.\n",
            "  % self.max_iter, ConvergenceWarning)\n"
          ],
          "name": "stderr"
        },
        {
          "output_type": "execute_result",
          "data": {
            "text/plain": [
              "array([[1166,  168],\n",
              "       [ 227,  311]])"
            ]
          },
          "metadata": {
            "tags": []
          },
          "execution_count": 39
        }
      ]
    },
    {
      "cell_type": "code",
      "metadata": {
        "id": "an1ahf4YJTj-",
        "outputId": "877c2aca-e478-47a1-9aff-ee113e861b5d",
        "colab": {
          "base_uri": "https://localhost:8080/"
        }
      },
      "source": [
        "clf = MLPClassifier(hidden_layer_sizes=(128, 64, 32), alpha=0.1, learning_rate='adaptive', \n",
        "                    activation='relu', early_stopping=False, momentum=0.9, random_state=0)\n",
        "\n",
        "clf.fit(X_train, y_train)\n",
        "\n",
        "y_pred = clf.predict(X_test)\n",
        "\n",
        "print('Accuracy %s' % accuracy_score(y_test, y_pred))\n",
        "print('Precision %s' % precision_score(y_test,y_pred))\n",
        "print('Recall %s' % recall_score(y_test,y_pred))\n",
        "print('F1-score %s' % f1_score(y_test, y_pred, average='macro'))\n",
        "print(classification_report(y_test, y_pred))\n",
        "cm=confusion_matrix(y_test, y_pred)\n",
        "cm\n"
      ],
      "execution_count": null,
      "outputs": [
        {
          "output_type": "stream",
          "text": [
            "Accuracy 0.7735042735042735\n",
            "Precision 0.6122047244094488\n",
            "Recall 0.5780669144981413\n",
            "F1-score 0.7187464122563701\n",
            "              precision    recall  f1-score   support\n",
            "\n",
            "           0       0.83      0.85      0.84      1334\n",
            "           1       0.61      0.58      0.59       538\n",
            "\n",
            "    accuracy                           0.77      1872\n",
            "   macro avg       0.72      0.72      0.72      1872\n",
            "weighted avg       0.77      0.77      0.77      1872\n",
            "\n"
          ],
          "name": "stdout"
        },
        {
          "output_type": "stream",
          "text": [
            "/usr/local/lib/python3.6/dist-packages/sklearn/neural_network/_multilayer_perceptron.py:571: ConvergenceWarning: Stochastic Optimizer: Maximum iterations (200) reached and the optimization hasn't converged yet.\n",
            "  % self.max_iter, ConvergenceWarning)\n"
          ],
          "name": "stderr"
        },
        {
          "output_type": "execute_result",
          "data": {
            "text/plain": [
              "array([[1137,  197],\n",
              "       [ 227,  311]])"
            ]
          },
          "metadata": {
            "tags": []
          },
          "execution_count": 38
        }
      ]
    },
    {
      "cell_type": "code",
      "metadata": {
        "id": "0MQIDiXBJK2H",
        "outputId": "c1d65b65-3d8d-425d-dff4-430884ceff43",
        "colab": {
          "base_uri": "https://localhost:8080/"
        }
      },
      "source": [
        "clf = MLPClassifier(hidden_layer_sizes=(128, 64, 32), alpha=1, learning_rate='adaptive', \n",
        "                    activation='relu', early_stopping=False, momentum=0.9, random_state=0)\n",
        "\n",
        "clf.fit(X_train, y_train)\n",
        "\n",
        "y_pred = clf.predict(X_test)\n",
        "\n",
        "print('Accuracy %s' % accuracy_score(y_test, y_pred))\n",
        "print('Precision %s' % precision_score(y_test,y_pred))\n",
        "print('Recall %s' % recall_score(y_test,y_pred))\n",
        "print('F1-score %s' % f1_score(y_test, y_pred, average='macro'))\n",
        "print(classification_report(y_test, y_pred))\n",
        "cm=confusion_matrix(y_test, y_pred)\n",
        "cm\n"
      ],
      "execution_count": null,
      "outputs": [
        {
          "output_type": "stream",
          "text": [
            "Accuracy 0.7334401709401709\n",
            "Precision 0.5802469135802469\n",
            "Recall 0.2620817843866171\n",
            "F1-score 0.5963325746520358\n",
            "              precision    recall  f1-score   support\n",
            "\n",
            "           0       0.76      0.92      0.83      1334\n",
            "           1       0.58      0.26      0.36       538\n",
            "\n",
            "    accuracy                           0.73      1872\n",
            "   macro avg       0.67      0.59      0.60      1872\n",
            "weighted avg       0.71      0.73      0.70      1872\n",
            "\n"
          ],
          "name": "stdout"
        },
        {
          "output_type": "execute_result",
          "data": {
            "text/plain": [
              "array([[1232,  102],\n",
              "       [ 397,  141]])"
            ]
          },
          "metadata": {
            "tags": []
          },
          "execution_count": 37
        }
      ]
    },
    {
      "cell_type": "code",
      "metadata": {
        "id": "lHQz0qwZJF88",
        "outputId": "7d828f38-44fd-4d56-8341-9af240eb3ee6",
        "colab": {
          "base_uri": "https://localhost:8080/"
        }
      },
      "source": [
        "clf = MLPClassifier(hidden_layer_sizes=(128, 64, 32), alpha=10, learning_rate='adaptive', \n",
        "                    activation='relu', early_stopping=False, momentum=0.9, random_state=0)\n",
        "\n",
        "clf.fit(X_train, y_train)\n",
        "\n",
        "y_pred = clf.predict(X_test)\n",
        "\n",
        "print('Accuracy %s' % accuracy_score(y_test, y_pred))\n",
        "print('Precision %s' % precision_score(y_test,y_pred))\n",
        "print('Recall %s' % recall_score(y_test,y_pred))\n",
        "print('F1-score %s' % f1_score(y_test, y_pred, average='macro'))\n",
        "print(classification_report(y_test, y_pred))\n",
        "cm=confusion_matrix(y_test, y_pred)\n",
        "cm\n"
      ],
      "execution_count": null,
      "outputs": [
        {
          "output_type": "stream",
          "text": [
            "Accuracy 0.7126068376068376\n",
            "Precision 0.0\n",
            "Recall 0.0\n",
            "F1-score 0.4160948222083593\n",
            "              precision    recall  f1-score   support\n",
            "\n",
            "           0       0.71      1.00      0.83      1334\n",
            "           1       0.00      0.00      0.00       538\n",
            "\n",
            "    accuracy                           0.71      1872\n",
            "   macro avg       0.36      0.50      0.42      1872\n",
            "weighted avg       0.51      0.71      0.59      1872\n",
            "\n"
          ],
          "name": "stdout"
        },
        {
          "output_type": "stream",
          "text": [
            "/usr/local/lib/python3.6/dist-packages/sklearn/metrics/_classification.py:1272: UndefinedMetricWarning: Precision is ill-defined and being set to 0.0 due to no predicted samples. Use `zero_division` parameter to control this behavior.\n",
            "  _warn_prf(average, modifier, msg_start, len(result))\n",
            "/usr/local/lib/python3.6/dist-packages/sklearn/metrics/_classification.py:1272: UndefinedMetricWarning: Precision and F-score are ill-defined and being set to 0.0 in labels with no predicted samples. Use `zero_division` parameter to control this behavior.\n",
            "  _warn_prf(average, modifier, msg_start, len(result))\n"
          ],
          "name": "stderr"
        },
        {
          "output_type": "execute_result",
          "data": {
            "text/plain": [
              "array([[1334,    0],\n",
              "       [ 538,    0]])"
            ]
          },
          "metadata": {
            "tags": []
          },
          "execution_count": 36
        }
      ]
    },
    {
      "cell_type": "code",
      "metadata": {
        "id": "-IqSV_CkI60V",
        "outputId": "c175487c-e144-47aa-fe13-a28d9153a00e",
        "colab": {
          "base_uri": "https://localhost:8080/"
        }
      },
      "source": [
        "clf = MLPClassifier(hidden_layer_sizes=(128, 64, 32), alpha=100, learning_rate='adaptive', \n",
        "                    activation='relu', early_stopping=False, momentum=0.9, random_state=0)\n",
        "\n",
        "clf.fit(X_train, y_train)\n",
        "\n",
        "y_pred = clf.predict(X_test)\n",
        "\n",
        "print('Accuracy %s' % accuracy_score(y_test, y_pred))\n",
        "print('Precision %s' % precision_score(y_test,y_pred))\n",
        "print('Recall %s' % recall_score(y_test,y_pred))\n",
        "print('F1-score %s' % f1_score(y_test, y_pred, average='macro'))\n",
        "print(classification_report(y_test, y_pred))\n",
        "cm=confusion_matrix(y_test, y_pred)\n",
        "cm\n",
        "\n",
        "# merda"
      ],
      "execution_count": null,
      "outputs": [
        {
          "output_type": "stream",
          "text": [
            "Accuracy 0.7126068376068376\n",
            "Precision 0.0\n",
            "Recall 0.0\n",
            "F1-score 0.4160948222083593\n",
            "              precision    recall  f1-score   support\n",
            "\n",
            "           0       0.71      1.00      0.83      1334\n",
            "           1       0.00      0.00      0.00       538\n",
            "\n",
            "    accuracy                           0.71      1872\n",
            "   macro avg       0.36      0.50      0.42      1872\n",
            "weighted avg       0.51      0.71      0.59      1872\n",
            "\n"
          ],
          "name": "stdout"
        },
        {
          "output_type": "stream",
          "text": [
            "/usr/local/lib/python3.6/dist-packages/sklearn/metrics/_classification.py:1272: UndefinedMetricWarning: Precision is ill-defined and being set to 0.0 due to no predicted samples. Use `zero_division` parameter to control this behavior.\n",
            "  _warn_prf(average, modifier, msg_start, len(result))\n",
            "/usr/local/lib/python3.6/dist-packages/sklearn/metrics/_classification.py:1272: UndefinedMetricWarning: Precision and F-score are ill-defined and being set to 0.0 in labels with no predicted samples. Use `zero_division` parameter to control this behavior.\n",
            "  _warn_prf(average, modifier, msg_start, len(result))\n"
          ],
          "name": "stderr"
        },
        {
          "output_type": "execute_result",
          "data": {
            "text/plain": [
              "array([[1334,    0],\n",
              "       [ 538,    0]])"
            ]
          },
          "metadata": {
            "tags": []
          },
          "execution_count": 35
        }
      ]
    },
    {
      "cell_type": "code",
      "metadata": {
        "id": "a_WrNotSuLtO",
        "outputId": "0c3cd8c4-af26-4cbf-de8a-5ecaecfc545a",
        "colab": {
          "base_uri": "https://localhost:8080/"
        }
      },
      "source": [
        "clf = MLPClassifier(hidden_layer_sizes=(128, 64, 32,), alpha=0.1, learning_rate='adaptive', \n",
        "                    activation='identity', early_stopping=False, momentum=0.9, random_state=0)\n",
        "\n",
        "clf.fit(X_train, y_train)\n",
        "\n",
        "y_pred = clf.predict(X_test)\n",
        "\n",
        "print('Accuracy %s' % accuracy_score(y_test, y_pred))\n",
        "print('Precision %s' % precision_score(y_test,y_pred))\n",
        "print('Recall %s' % recall_score(y_test,y_pred))\n",
        "print('F1-score %s' % f1_score(y_test, y_pred, average=None))\n",
        "print(classification_report(y_test, y_pred))\n",
        "cm=confusion_matrix(y_test, y_pred)\n",
        "cm\n",
        "\n",
        "# identity è lineare infatti i risultati fanno schifo"
      ],
      "execution_count": null,
      "outputs": [
        {
          "output_type": "stream",
          "text": [
            "Accuracy 0.7104700854700855\n",
            "Precision 0.3888888888888889\n",
            "Recall 0.013011152416356878\n",
            "F1-score [0.82998745 0.02517986]\n",
            "              precision    recall  f1-score   support\n",
            "\n",
            "           0       0.71      0.99      0.83      1334\n",
            "           1       0.39      0.01      0.03       538\n",
            "\n",
            "    accuracy                           0.71      1872\n",
            "   macro avg       0.55      0.50      0.43      1872\n",
            "weighted avg       0.62      0.71      0.60      1872\n",
            "\n"
          ],
          "name": "stdout"
        },
        {
          "output_type": "execute_result",
          "data": {
            "text/plain": [
              "array([[1323,   11],\n",
              "       [ 531,    7]])"
            ]
          },
          "metadata": {
            "tags": []
          },
          "execution_count": 23
        }
      ]
    },
    {
      "cell_type": "code",
      "metadata": {
        "id": "08xGIlvHuL5q",
        "outputId": "de984691-c9ac-487f-d87b-05c10a0e5e66",
        "colab": {
          "base_uri": "https://localhost:8080/"
        }
      },
      "source": [
        ""
      ],
      "execution_count": null,
      "outputs": [
        {
          "output_type": "stream",
          "text": [
            "Accuracy 0.7104700854700855\n",
            "Precision 0.3888888888888889\n",
            "Recall 0.013011152416356878\n",
            "F1-score [0.82998745 0.02517986]\n",
            "              precision    recall  f1-score   support\n",
            "\n",
            "           0       0.71      0.99      0.83      1334\n",
            "           1       0.39      0.01      0.03       538\n",
            "\n",
            "    accuracy                           0.71      1872\n",
            "   macro avg       0.55      0.50      0.43      1872\n",
            "weighted avg       0.62      0.71      0.60      1872\n",
            "\n"
          ],
          "name": "stdout"
        },
        {
          "output_type": "execute_result",
          "data": {
            "text/plain": [
              "array([[1323,   11],\n",
              "       [ 531,    7]])"
            ]
          },
          "metadata": {
            "tags": []
          },
          "execution_count": 24
        }
      ]
    },
    {
      "cell_type": "code",
      "metadata": {
        "id": "ExBMgeUQuL93"
      },
      "source": [
        ""
      ],
      "execution_count": null,
      "outputs": []
    },
    {
      "cell_type": "markdown",
      "metadata": {
        "id": "_in8mca3t-gb"
      },
      "source": [
        "## Gridsearch"
      ]
    },
    {
      "cell_type": "code",
      "metadata": {
        "id": "1t6PguBit8EN"
      },
      "source": [
        "from sklearn import svm, datasets\n",
        "from sklearn.model_selection import GridSearchCV"
      ],
      "execution_count": null,
      "outputs": []
    },
    {
      "cell_type": "code",
      "metadata": {
        "id": "qIAbL8jPuCJM"
      },
      "source": [
        "# ci mette troppo tempo. non rifare\n",
        "parameters = {'learning_rate': [\"constant\", \"invscaling\", \"adaptive\"],\n",
        "'hidden_layer_sizes': [(100,1), (100,2), (100,3)],\n",
        "'activation': [\"logistic\", \"relu\", \"Tanh\",\"adam\"], 'alpha': 10.0 ** -np.arange(1, 10),}\n",
        "\n",
        "mlpc = MLPClassifier()\n",
        "search = GridSearchCV(mlpc, parameters,cv = 4)\n",
        "search.fit(X_train, y_train)\n",
        "report(search.cv_results_, n_top=3)"
      ],
      "execution_count": null,
      "outputs": []
    },
    {
      "cell_type": "code",
      "metadata": {
        "id": "R8F2BHgtuhTc"
      },
      "source": [
        "clf = search.best_estimator_\n",
        "clf"
      ],
      "execution_count": null,
      "outputs": []
    },
    {
      "cell_type": "code",
      "metadata": {
        "id": "Ze-38a00uhV8"
      },
      "source": [
        "clf.fit(X_train, y_train)\n",
        "\n",
        "y_pred = clf.predict(X_test)\n",
        "\n",
        "print('Accuracy %s' % accuracy_score(y_test, y_pred))\n",
        "print('Precision %s' % precision_score(y_test,y_pred))\n",
        "print('Recall %s' % recall_score(y_test,y_pred))\n",
        "print('F1-score %s' % f1_score(y_test, y_pred, average=None))\n",
        "print(classification_report(y_test, y_pred))\n",
        "cm=confusion_matrix(y_test, y_pred)\n",
        "cm"
      ],
      "execution_count": null,
      "outputs": []
    },
    {
      "cell_type": "code",
      "metadata": {
        "id": "D3ueR2dAuhaF"
      },
      "source": [
        "plt.matshow(cm)\n",
        "plt.title('Confusion matrix\\n')\n",
        "plt.colorbar()\n",
        "plt.ylabel('True label')\n",
        "plt.xlabel('Predicted label')\n",
        "plt.show()"
      ],
      "execution_count": null,
      "outputs": []
    },
    {
      "cell_type": "code",
      "metadata": {
        "id": "E36TwYEquhYn"
      },
      "source": [
        "fpr, tpr, _ = roc_curve(y_test, y_pred, pos_label=1)\n",
        "roc_auc = auc(fpr, tpr)\n",
        "print(roc_auc)\n",
        "\n",
        "roc_auc = roc_auc_score(y_test, y_pred, average=None)"
      ],
      "execution_count": null,
      "outputs": []
    },
    {
      "cell_type": "code",
      "metadata": {
        "id": "D1kvOocnuqee"
      },
      "source": [
        "plt.figure(figsize=(8, 5))\n",
        "plt.plot(fpr, tpr, label='ROC curve (area = %0.2f)' % (roc_auc))\n",
        "    \n",
        "plt.plot([0, 1], [0, 1], 'k--')\n",
        "plt.xlim([0.0, 1.0])\n",
        "plt.ylim([0.0, 1.05])\n",
        "plt.xlabel('False Positive Rate', fontsize=20)\n",
        "plt.ylabel('True Positive Rate', fontsize=20) \n",
        "plt.tick_params(axis='both', which='major', labelsize=22)\n",
        "plt.legend(loc=\"lower right\", fontsize=14, frameon=False)\n",
        "plt.show()"
      ],
      "execution_count": null,
      "outputs": []
    },
    {
      "cell_type": "code",
      "metadata": {
        "id": "LcEceO5puqhQ"
      },
      "source": [
        "plt.plot(clf.loss_curve_)\n",
        "plt.show()"
      ],
      "execution_count": null,
      "outputs": []
    },
    {
      "cell_type": "code",
      "metadata": {
        "id": "qTgjMf1Euqog"
      },
      "source": [
        "params = [{'solver': 'sgd', 'learning_rate': 'constant', 'momentum': 0,'learning_rate_init': 0.2},\n",
        "          {'solver': 'sgd', 'learning_rate': 'constant', 'momentum': .9,\n",
        "           'nesterovs_momentum': False, 'learning_rate_init': 0.2},\n",
        "          {'solver': 'sgd', 'learning_rate': 'invscaling', 'momentum': 0,\n",
        "           'learning_rate_init': 0.2},\n",
        "          {'solver': 'sgd', 'learning_rate': 'invscaling', 'momentum': .9,\n",
        "           'nesterovs_momentum': False, 'learning_rate_init': 0.2},\n",
        "          {'solver': 'adam', 'learning_rate_init': 0.01}]\n",
        "\n",
        "labels = [\"constant learning-rate\", \"constant with momentum\",\n",
        "          \"inv-scaling learning-rate\", \"inv-scaling with momentum\", \"adam\"]"
      ],
      "execution_count": null,
      "outputs": []
    },
    {
      "cell_type": "code",
      "metadata": {
        "id": "ozCCOtH3uqtO"
      },
      "source": [
        "import warnings\n",
        "from sklearn.exceptions import ConvergenceWarning"
      ],
      "execution_count": null,
      "outputs": []
    },
    {
      "cell_type": "code",
      "metadata": {
        "id": "Fn79w63Huqv_"
      },
      "source": [
        "for label, param in zip(labels, params):\n",
        "    print(label)\n",
        "    clf = MLPClassifier(random_state=0, max_iter=200, **param)\n",
        "\n",
        "    # some parameter combinations will not converge as can be seen on the\n",
        "    # plots so they are ignored here\n",
        "    with warnings.catch_warnings():\n",
        "        warnings.filterwarnings(\"ignore\", category=ConvergenceWarning, module=\"sklearn\")\n",
        "        clf.fit(X, y)\n",
        "\n",
        "    print(\"training set score and loss: %.3f, %f\" % (clf.score(X, y), clf.loss_))\n",
        "    plt.plot(clf.loss_curve_, label=label)\n",
        "    plt.legend(loc=\"upper center\")\n",
        "    plt.show()"
      ],
      "execution_count": null,
      "outputs": []
    },
    {
      "cell_type": "code",
      "metadata": {
        "id": "RdxvmAQzuqmH"
      },
      "source": [
        ""
      ],
      "execution_count": null,
      "outputs": []
    },
    {
      "cell_type": "code",
      "metadata": {
        "id": "_ufj0YK4uqkX"
      },
      "source": [
        ""
      ],
      "execution_count": null,
      "outputs": []
    }
  ]
}